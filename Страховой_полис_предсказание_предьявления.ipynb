{
  "nbformat": 4,
  "nbformat_minor": 0,
  "metadata": {
    "colab": {
      "name": "Страховой полис предсказание предьявления",
      "provenance": [],
      "collapsed_sections": [],
      "authorship_tag": "ABX9TyNukYlP9s4yP//NpTO1pc8G",
      "include_colab_link": true
    },
    "kernelspec": {
      "name": "python3",
      "display_name": "Python 3"
    },
    "language_info": {
      "name": "python"
    },
    "accelerator": "GPU"
  },
  "cells": [
    {
      "cell_type": "markdown",
      "metadata": {
        "id": "view-in-github",
        "colab_type": "text"
      },
      "source": [
        "<a href=\"https://colab.research.google.com/github/vadim-privalov/Sorevnovania/blob/main/%D0%A1%D1%82%D1%80%D0%B0%D1%85%D0%BE%D0%B2%D0%BE%D0%B9_%D0%BF%D0%BE%D0%BB%D0%B8%D1%81_%D0%BF%D1%80%D0%B5%D0%B4%D1%81%D0%BA%D0%B0%D0%B7%D0%B0%D0%BD%D0%B8%D0%B5_%D0%BF%D1%80%D0%B5%D0%B4%D1%8C%D1%8F%D0%B2%D0%BB%D0%B5%D0%BD%D0%B8%D1%8F.ipynb\" target=\"_parent\"><img src=\"https://colab.research.google.com/assets/colab-badge.svg\" alt=\"Open In Colab\"/></a>"
      ]
    },
    {
      "cell_type": "markdown",
      "source": [
        "** \n",
        "Цель этих соревнований — предоставить забавный и доступный для всех набор табличных данных. Эти соревнования отлично подойдут тем, кто ищет что-то среднее между соревнованием Titanic Getting Started и избранным соревнованием. Если вы признанный мастер соревнований или гроссмейстер, это, вероятно, не будет для вас большой проблемой. Мы рекомендуем вам избегать перенасыщения таблицы лидеров.\n",
        "\n",
        "Для каждого ежемесячного соревнования мы будем предлагать товары Kaggle для трех лучших команд. И, наконец, поскольку мы хотим, чтобы эти соревнования были больше связаны с обучением, мы ограничиваем размер команды до 3 человек.\n",
        "\n",
        "Набор данных, используемый для этого конкурса, является синтетическим, но основан на реальном наборе данных и сгенерирован с использованием CTGAN . Исходный набор данных предназначен для прогнозирования того, будет ли предъявлена ​​претензия по страховому полису. Хотя функции анонимны, они имеют свойства, относящиеся к реальным функциям.\n",
        "\n",
        "Удачи и приятного времяпровождения! "
      ],
      "metadata": {
        "id": "LXShwjMciBR1"
      }
    },
    {
      "cell_type": "code",
      "execution_count": 1,
      "metadata": {
        "colab": {
          "base_uri": "https://localhost:8080/"
        },
        "id": "LS6zfV4gh4j_",
        "outputId": "672f74fe-8558-4bc2-df9d-eb897ee45bad"
      },
      "outputs": [
        {
          "output_type": "stream",
          "name": "stdout",
          "text": [
            "Collecting kaggle\n",
            "  Downloading kaggle-1.5.12.tar.gz (58 kB)\n",
            "\u001b[?25l\r\u001b[K     |█████▋                          | 10 kB 28.4 MB/s eta 0:00:01\r\u001b[K     |███████████▏                    | 20 kB 33.6 MB/s eta 0:00:01\r\u001b[K     |████████████████▊               | 30 kB 22.8 MB/s eta 0:00:01\r\u001b[K     |██████████████████████▎         | 40 kB 11.1 MB/s eta 0:00:01\r\u001b[K     |███████████████████████████▉    | 51 kB 12.6 MB/s eta 0:00:01\r\u001b[K     |████████████████████████████████| 58 kB 4.9 MB/s \n",
            "\u001b[?25hBuilding wheels for collected packages: kaggle\n",
            "  Building wheel for kaggle (setup.py) ... \u001b[?25l\u001b[?25hdone\n",
            "  Created wheel for kaggle: filename=kaggle-1.5.12-py3-none-any.whl size=73051 sha256=6f094f6575b5ff114122f7d0b112d19762f217d982fc2ae472533d66ecdc96ca\n",
            "  Stored in directory: /root/.cache/pip/wheels/62/d6/58/5853130f941e75b2177d281eb7e44b4a98ed46dd155f556dc5\n",
            "Successfully built kaggle\n",
            "Installing collected packages: kaggle\n",
            "  Attempting uninstall: kaggle\n",
            "    Found existing installation: kaggle 1.5.12\n",
            "    Uninstalling kaggle-1.5.12:\n",
            "      Successfully uninstalled kaggle-1.5.12\n",
            "Successfully installed kaggle-1.5.12\n"
          ]
        }
      ],
      "source": [
        "import numpy as np\n",
        "import pandas as pd\n",
        "import seaborn as sns\n",
        "from pprint import pprint\n",
        "from google.colab import files\n",
        "\n",
        "from sklearn.preprocessing import OneHotEncoder\n",
        "from sklearn.model_selection import train_test_split\n",
        "import tensorflow as tf # импортируем tensorflow\n",
        "from tensorflow.keras.preprocessing.text import Tokenizer,tokenizer_from_json\n",
        "from tensorflow.keras.preprocessing.sequence import pad_sequences\n",
        "from tensorflow.keras.models import Sequential, load_model\n",
        "from tensorflow.keras.layers import Input, Dense, Dropout, BatchNormalization, Embedding, SpatialDropout1D, Flatten\n",
        "from tensorflow.keras.optimizers import Adam\n",
        "from tensorflow.keras.metrics import Accuracy\n",
        "import zipfile # для работы с архивами zip\n",
        "\n",
        "import os\n",
        "#Отрисовывать изображения в ноутбуке, а не в консоль или файл\n",
        "%matplotlib inline\n",
        "# устанавливаем свежий Kaggle API\n",
        "!pip install --upgrade --force-reinstall --no-deps kaggle"
      ]
    },
    {
      "cell_type": "code",
      "source": [
        "from google.colab import drive\n",
        "drive.mount('/content/drive')"
      ],
      "metadata": {
        "colab": {
          "base_uri": "https://localhost:8080/"
        },
        "id": "6qbBS6G4knv9",
        "outputId": "eec3db36-d7a7-4644-d4a1-e23ef1184a5f"
      },
      "execution_count": 2,
      "outputs": [
        {
          "output_type": "stream",
          "name": "stdout",
          "text": [
            "Mounted at /content/drive\n"
          ]
        }
      ]
    },
    {
      "cell_type": "code",
      "source": [
        "train = pd.read_csv(filepath_or_buffer = \"/content/drive/MyDrive/my_databases/tabular-playground-series-sep-2021/train.csv\",\n",
        "                           sep = ',')\n",
        "train"
      ],
      "metadata": {
        "colab": {
          "base_uri": "https://localhost:8080/",
          "height": 488
        },
        "id": "9NtP-5eppDe4",
        "outputId": "42f46b22-8450-49ee-c900-c810ac3825d6"
      },
      "execution_count": 3,
      "outputs": [
        {
          "output_type": "execute_result",
          "data": {
            "text/plain": [
              "            id        f1        f2         f3        f4        f5        f6  \\\n",
              "0            0  0.108590  0.004314    -37.566  0.017364  0.289150 -10.25100   \n",
              "1            1  0.100900  0.299610  11822.000  0.276500  0.459700  -0.83733   \n",
              "2            2  0.178030 -0.006980    907.270  0.272140  0.459480   0.17327   \n",
              "3            3  0.152360  0.007259    780.100  0.025179  0.519470   7.49140   \n",
              "4            4  0.116230  0.502900   -109.150  0.297910  0.344900  -0.40932   \n",
              "...        ...       ...       ...        ...       ...       ...       ...   \n",
              "957914  957914  0.098979  0.202530   2192.100  0.348010  0.276430  -0.84065   \n",
              "957915  957915  0.134930  0.413600   1050.100  0.000521 -0.001246   1.76990   \n",
              "957916  957916  0.104660  0.473510   2415.400  0.252230  0.196970  -0.82323   \n",
              "957917  957917  0.118190  0.320870    657.860  0.237290  0.260250  -0.71237   \n",
              "957918  957918  0.088832  0.472230   4309.400  0.017016  0.376880   4.81520   \n",
              "\n",
              "             f7        f8            f9  ...     f110    f111       f112  \\\n",
              "0        135.12  168900.0  3.992400e+14  ... -12.2280  1.7482    1.90960   \n",
              "1       1721.90  119810.0  3.874100e+15  ... -56.7580  4.1684    0.34808   \n",
              "2       2298.00  360650.0  1.224500e+13  ...  -5.7688  1.2042    0.26290   \n",
              "3        112.51  259490.0  7.781400e+13  ... -34.8580  2.0694    0.79631   \n",
              "4       2538.90   65332.0  1.907200e+15  ... -13.6410  1.5298    1.14640   \n",
              "...         ...       ...           ...  ...      ...     ...        ...   \n",
              "957914  2214.20   26246.0  1.061600e+15  ... -51.2970  1.7323   20.76300   \n",
              "957915  3519.90  862290.0  7.321400e+13  ... -41.4180  2.6986   -1.09760   \n",
              "957916  3044.90   13832.0  2.693300e+12  ... -15.9670  1.6843    1.07590   \n",
              "957917   173.20   20811.0  9.711000e+14  ...  -2.8375  1.3006  132.50000   \n",
              "957918   458.20   42183.0  1.805500e+13  ... -24.2290  2.4189    0.67939   \n",
              "\n",
              "            f113      f114    f115          f116     f117     f118  claim  \n",
              "0       -7.11570   4378.80  1.2096  8.613400e+14   140.10  1.01770      1  \n",
              "1        4.14200    913.23  1.2464  7.575100e+15  1861.00  0.28359      0  \n",
              "2        8.13120  45119.00  1.1764  3.218100e+14  3838.20  0.40690      1  \n",
              "3      -16.33600   4952.40  1.1784  4.533000e+12  4889.10  0.51486      1  \n",
              "4       -0.43124   3856.50  1.4830 -8.991300e+12      NaN  0.23049      1  \n",
              "...          ...       ...     ...           ...      ...      ...    ...  \n",
              "957914  14.74400  27415.00  1.2160  2.139400e+13  2612.00  0.42597      0  \n",
              "957915  -1.09980  13826.00  1.3320  1.829400e+17  3300.50  0.92974      1  \n",
              "957916  16.64600   8655.10  1.1113  1.925800e+16   297.61  0.91446      0  \n",
              "957917   8.53050   3842.10  1.1941  1.248300e+16  5212.10  0.20942      1  \n",
              "957918       NaN   5901.40  1.0907  1.213800e+16  2132.30  0.38069      0  \n",
              "\n",
              "[957919 rows x 120 columns]"
            ],
            "text/html": [
              "\n",
              "  <div id=\"df-e5e74247-2229-4be5-aa19-7207471a452f\">\n",
              "    <div class=\"colab-df-container\">\n",
              "      <div>\n",
              "<style scoped>\n",
              "    .dataframe tbody tr th:only-of-type {\n",
              "        vertical-align: middle;\n",
              "    }\n",
              "\n",
              "    .dataframe tbody tr th {\n",
              "        vertical-align: top;\n",
              "    }\n",
              "\n",
              "    .dataframe thead th {\n",
              "        text-align: right;\n",
              "    }\n",
              "</style>\n",
              "<table border=\"1\" class=\"dataframe\">\n",
              "  <thead>\n",
              "    <tr style=\"text-align: right;\">\n",
              "      <th></th>\n",
              "      <th>id</th>\n",
              "      <th>f1</th>\n",
              "      <th>f2</th>\n",
              "      <th>f3</th>\n",
              "      <th>f4</th>\n",
              "      <th>f5</th>\n",
              "      <th>f6</th>\n",
              "      <th>f7</th>\n",
              "      <th>f8</th>\n",
              "      <th>f9</th>\n",
              "      <th>...</th>\n",
              "      <th>f110</th>\n",
              "      <th>f111</th>\n",
              "      <th>f112</th>\n",
              "      <th>f113</th>\n",
              "      <th>f114</th>\n",
              "      <th>f115</th>\n",
              "      <th>f116</th>\n",
              "      <th>f117</th>\n",
              "      <th>f118</th>\n",
              "      <th>claim</th>\n",
              "    </tr>\n",
              "  </thead>\n",
              "  <tbody>\n",
              "    <tr>\n",
              "      <th>0</th>\n",
              "      <td>0</td>\n",
              "      <td>0.108590</td>\n",
              "      <td>0.004314</td>\n",
              "      <td>-37.566</td>\n",
              "      <td>0.017364</td>\n",
              "      <td>0.289150</td>\n",
              "      <td>-10.25100</td>\n",
              "      <td>135.12</td>\n",
              "      <td>168900.0</td>\n",
              "      <td>3.992400e+14</td>\n",
              "      <td>...</td>\n",
              "      <td>-12.2280</td>\n",
              "      <td>1.7482</td>\n",
              "      <td>1.90960</td>\n",
              "      <td>-7.11570</td>\n",
              "      <td>4378.80</td>\n",
              "      <td>1.2096</td>\n",
              "      <td>8.613400e+14</td>\n",
              "      <td>140.10</td>\n",
              "      <td>1.01770</td>\n",
              "      <td>1</td>\n",
              "    </tr>\n",
              "    <tr>\n",
              "      <th>1</th>\n",
              "      <td>1</td>\n",
              "      <td>0.100900</td>\n",
              "      <td>0.299610</td>\n",
              "      <td>11822.000</td>\n",
              "      <td>0.276500</td>\n",
              "      <td>0.459700</td>\n",
              "      <td>-0.83733</td>\n",
              "      <td>1721.90</td>\n",
              "      <td>119810.0</td>\n",
              "      <td>3.874100e+15</td>\n",
              "      <td>...</td>\n",
              "      <td>-56.7580</td>\n",
              "      <td>4.1684</td>\n",
              "      <td>0.34808</td>\n",
              "      <td>4.14200</td>\n",
              "      <td>913.23</td>\n",
              "      <td>1.2464</td>\n",
              "      <td>7.575100e+15</td>\n",
              "      <td>1861.00</td>\n",
              "      <td>0.28359</td>\n",
              "      <td>0</td>\n",
              "    </tr>\n",
              "    <tr>\n",
              "      <th>2</th>\n",
              "      <td>2</td>\n",
              "      <td>0.178030</td>\n",
              "      <td>-0.006980</td>\n",
              "      <td>907.270</td>\n",
              "      <td>0.272140</td>\n",
              "      <td>0.459480</td>\n",
              "      <td>0.17327</td>\n",
              "      <td>2298.00</td>\n",
              "      <td>360650.0</td>\n",
              "      <td>1.224500e+13</td>\n",
              "      <td>...</td>\n",
              "      <td>-5.7688</td>\n",
              "      <td>1.2042</td>\n",
              "      <td>0.26290</td>\n",
              "      <td>8.13120</td>\n",
              "      <td>45119.00</td>\n",
              "      <td>1.1764</td>\n",
              "      <td>3.218100e+14</td>\n",
              "      <td>3838.20</td>\n",
              "      <td>0.40690</td>\n",
              "      <td>1</td>\n",
              "    </tr>\n",
              "    <tr>\n",
              "      <th>3</th>\n",
              "      <td>3</td>\n",
              "      <td>0.152360</td>\n",
              "      <td>0.007259</td>\n",
              "      <td>780.100</td>\n",
              "      <td>0.025179</td>\n",
              "      <td>0.519470</td>\n",
              "      <td>7.49140</td>\n",
              "      <td>112.51</td>\n",
              "      <td>259490.0</td>\n",
              "      <td>7.781400e+13</td>\n",
              "      <td>...</td>\n",
              "      <td>-34.8580</td>\n",
              "      <td>2.0694</td>\n",
              "      <td>0.79631</td>\n",
              "      <td>-16.33600</td>\n",
              "      <td>4952.40</td>\n",
              "      <td>1.1784</td>\n",
              "      <td>4.533000e+12</td>\n",
              "      <td>4889.10</td>\n",
              "      <td>0.51486</td>\n",
              "      <td>1</td>\n",
              "    </tr>\n",
              "    <tr>\n",
              "      <th>4</th>\n",
              "      <td>4</td>\n",
              "      <td>0.116230</td>\n",
              "      <td>0.502900</td>\n",
              "      <td>-109.150</td>\n",
              "      <td>0.297910</td>\n",
              "      <td>0.344900</td>\n",
              "      <td>-0.40932</td>\n",
              "      <td>2538.90</td>\n",
              "      <td>65332.0</td>\n",
              "      <td>1.907200e+15</td>\n",
              "      <td>...</td>\n",
              "      <td>-13.6410</td>\n",
              "      <td>1.5298</td>\n",
              "      <td>1.14640</td>\n",
              "      <td>-0.43124</td>\n",
              "      <td>3856.50</td>\n",
              "      <td>1.4830</td>\n",
              "      <td>-8.991300e+12</td>\n",
              "      <td>NaN</td>\n",
              "      <td>0.23049</td>\n",
              "      <td>1</td>\n",
              "    </tr>\n",
              "    <tr>\n",
              "      <th>...</th>\n",
              "      <td>...</td>\n",
              "      <td>...</td>\n",
              "      <td>...</td>\n",
              "      <td>...</td>\n",
              "      <td>...</td>\n",
              "      <td>...</td>\n",
              "      <td>...</td>\n",
              "      <td>...</td>\n",
              "      <td>...</td>\n",
              "      <td>...</td>\n",
              "      <td>...</td>\n",
              "      <td>...</td>\n",
              "      <td>...</td>\n",
              "      <td>...</td>\n",
              "      <td>...</td>\n",
              "      <td>...</td>\n",
              "      <td>...</td>\n",
              "      <td>...</td>\n",
              "      <td>...</td>\n",
              "      <td>...</td>\n",
              "      <td>...</td>\n",
              "    </tr>\n",
              "    <tr>\n",
              "      <th>957914</th>\n",
              "      <td>957914</td>\n",
              "      <td>0.098979</td>\n",
              "      <td>0.202530</td>\n",
              "      <td>2192.100</td>\n",
              "      <td>0.348010</td>\n",
              "      <td>0.276430</td>\n",
              "      <td>-0.84065</td>\n",
              "      <td>2214.20</td>\n",
              "      <td>26246.0</td>\n",
              "      <td>1.061600e+15</td>\n",
              "      <td>...</td>\n",
              "      <td>-51.2970</td>\n",
              "      <td>1.7323</td>\n",
              "      <td>20.76300</td>\n",
              "      <td>14.74400</td>\n",
              "      <td>27415.00</td>\n",
              "      <td>1.2160</td>\n",
              "      <td>2.139400e+13</td>\n",
              "      <td>2612.00</td>\n",
              "      <td>0.42597</td>\n",
              "      <td>0</td>\n",
              "    </tr>\n",
              "    <tr>\n",
              "      <th>957915</th>\n",
              "      <td>957915</td>\n",
              "      <td>0.134930</td>\n",
              "      <td>0.413600</td>\n",
              "      <td>1050.100</td>\n",
              "      <td>0.000521</td>\n",
              "      <td>-0.001246</td>\n",
              "      <td>1.76990</td>\n",
              "      <td>3519.90</td>\n",
              "      <td>862290.0</td>\n",
              "      <td>7.321400e+13</td>\n",
              "      <td>...</td>\n",
              "      <td>-41.4180</td>\n",
              "      <td>2.6986</td>\n",
              "      <td>-1.09760</td>\n",
              "      <td>-1.09980</td>\n",
              "      <td>13826.00</td>\n",
              "      <td>1.3320</td>\n",
              "      <td>1.829400e+17</td>\n",
              "      <td>3300.50</td>\n",
              "      <td>0.92974</td>\n",
              "      <td>1</td>\n",
              "    </tr>\n",
              "    <tr>\n",
              "      <th>957916</th>\n",
              "      <td>957916</td>\n",
              "      <td>0.104660</td>\n",
              "      <td>0.473510</td>\n",
              "      <td>2415.400</td>\n",
              "      <td>0.252230</td>\n",
              "      <td>0.196970</td>\n",
              "      <td>-0.82323</td>\n",
              "      <td>3044.90</td>\n",
              "      <td>13832.0</td>\n",
              "      <td>2.693300e+12</td>\n",
              "      <td>...</td>\n",
              "      <td>-15.9670</td>\n",
              "      <td>1.6843</td>\n",
              "      <td>1.07590</td>\n",
              "      <td>16.64600</td>\n",
              "      <td>8655.10</td>\n",
              "      <td>1.1113</td>\n",
              "      <td>1.925800e+16</td>\n",
              "      <td>297.61</td>\n",
              "      <td>0.91446</td>\n",
              "      <td>0</td>\n",
              "    </tr>\n",
              "    <tr>\n",
              "      <th>957917</th>\n",
              "      <td>957917</td>\n",
              "      <td>0.118190</td>\n",
              "      <td>0.320870</td>\n",
              "      <td>657.860</td>\n",
              "      <td>0.237290</td>\n",
              "      <td>0.260250</td>\n",
              "      <td>-0.71237</td>\n",
              "      <td>173.20</td>\n",
              "      <td>20811.0</td>\n",
              "      <td>9.711000e+14</td>\n",
              "      <td>...</td>\n",
              "      <td>-2.8375</td>\n",
              "      <td>1.3006</td>\n",
              "      <td>132.50000</td>\n",
              "      <td>8.53050</td>\n",
              "      <td>3842.10</td>\n",
              "      <td>1.1941</td>\n",
              "      <td>1.248300e+16</td>\n",
              "      <td>5212.10</td>\n",
              "      <td>0.20942</td>\n",
              "      <td>1</td>\n",
              "    </tr>\n",
              "    <tr>\n",
              "      <th>957918</th>\n",
              "      <td>957918</td>\n",
              "      <td>0.088832</td>\n",
              "      <td>0.472230</td>\n",
              "      <td>4309.400</td>\n",
              "      <td>0.017016</td>\n",
              "      <td>0.376880</td>\n",
              "      <td>4.81520</td>\n",
              "      <td>458.20</td>\n",
              "      <td>42183.0</td>\n",
              "      <td>1.805500e+13</td>\n",
              "      <td>...</td>\n",
              "      <td>-24.2290</td>\n",
              "      <td>2.4189</td>\n",
              "      <td>0.67939</td>\n",
              "      <td>NaN</td>\n",
              "      <td>5901.40</td>\n",
              "      <td>1.0907</td>\n",
              "      <td>1.213800e+16</td>\n",
              "      <td>2132.30</td>\n",
              "      <td>0.38069</td>\n",
              "      <td>0</td>\n",
              "    </tr>\n",
              "  </tbody>\n",
              "</table>\n",
              "<p>957919 rows × 120 columns</p>\n",
              "</div>\n",
              "      <button class=\"colab-df-convert\" onclick=\"convertToInteractive('df-e5e74247-2229-4be5-aa19-7207471a452f')\"\n",
              "              title=\"Convert this dataframe to an interactive table.\"\n",
              "              style=\"display:none;\">\n",
              "        \n",
              "  <svg xmlns=\"http://www.w3.org/2000/svg\" height=\"24px\"viewBox=\"0 0 24 24\"\n",
              "       width=\"24px\">\n",
              "    <path d=\"M0 0h24v24H0V0z\" fill=\"none\"/>\n",
              "    <path d=\"M18.56 5.44l.94 2.06.94-2.06 2.06-.94-2.06-.94-.94-2.06-.94 2.06-2.06.94zm-11 1L8.5 8.5l.94-2.06 2.06-.94-2.06-.94L8.5 2.5l-.94 2.06-2.06.94zm10 10l.94 2.06.94-2.06 2.06-.94-2.06-.94-.94-2.06-.94 2.06-2.06.94z\"/><path d=\"M17.41 7.96l-1.37-1.37c-.4-.4-.92-.59-1.43-.59-.52 0-1.04.2-1.43.59L10.3 9.45l-7.72 7.72c-.78.78-.78 2.05 0 2.83L4 21.41c.39.39.9.59 1.41.59.51 0 1.02-.2 1.41-.59l7.78-7.78 2.81-2.81c.8-.78.8-2.07 0-2.86zM5.41 20L4 18.59l7.72-7.72 1.47 1.35L5.41 20z\"/>\n",
              "  </svg>\n",
              "      </button>\n",
              "      \n",
              "  <style>\n",
              "    .colab-df-container {\n",
              "      display:flex;\n",
              "      flex-wrap:wrap;\n",
              "      gap: 12px;\n",
              "    }\n",
              "\n",
              "    .colab-df-convert {\n",
              "      background-color: #E8F0FE;\n",
              "      border: none;\n",
              "      border-radius: 50%;\n",
              "      cursor: pointer;\n",
              "      display: none;\n",
              "      fill: #1967D2;\n",
              "      height: 32px;\n",
              "      padding: 0 0 0 0;\n",
              "      width: 32px;\n",
              "    }\n",
              "\n",
              "    .colab-df-convert:hover {\n",
              "      background-color: #E2EBFA;\n",
              "      box-shadow: 0px 1px 2px rgba(60, 64, 67, 0.3), 0px 1px 3px 1px rgba(60, 64, 67, 0.15);\n",
              "      fill: #174EA6;\n",
              "    }\n",
              "\n",
              "    [theme=dark] .colab-df-convert {\n",
              "      background-color: #3B4455;\n",
              "      fill: #D2E3FC;\n",
              "    }\n",
              "\n",
              "    [theme=dark] .colab-df-convert:hover {\n",
              "      background-color: #434B5C;\n",
              "      box-shadow: 0px 1px 3px 1px rgba(0, 0, 0, 0.15);\n",
              "      filter: drop-shadow(0px 1px 2px rgba(0, 0, 0, 0.3));\n",
              "      fill: #FFFFFF;\n",
              "    }\n",
              "  </style>\n",
              "\n",
              "      <script>\n",
              "        const buttonEl =\n",
              "          document.querySelector('#df-e5e74247-2229-4be5-aa19-7207471a452f button.colab-df-convert');\n",
              "        buttonEl.style.display =\n",
              "          google.colab.kernel.accessAllowed ? 'block' : 'none';\n",
              "\n",
              "        async function convertToInteractive(key) {\n",
              "          const element = document.querySelector('#df-e5e74247-2229-4be5-aa19-7207471a452f');\n",
              "          const dataTable =\n",
              "            await google.colab.kernel.invokeFunction('convertToInteractive',\n",
              "                                                     [key], {});\n",
              "          if (!dataTable) return;\n",
              "\n",
              "          const docLinkHtml = 'Like what you see? Visit the ' +\n",
              "            '<a target=\"_blank\" href=https://colab.research.google.com/notebooks/data_table.ipynb>data table notebook</a>'\n",
              "            + ' to learn more about interactive tables.';\n",
              "          element.innerHTML = '';\n",
              "          dataTable['output_type'] = 'display_data';\n",
              "          await google.colab.output.renderOutput(dataTable, element);\n",
              "          const docLink = document.createElement('div');\n",
              "          docLink.innerHTML = docLinkHtml;\n",
              "          element.appendChild(docLink);\n",
              "        }\n",
              "      </script>\n",
              "    </div>\n",
              "  </div>\n",
              "  "
            ]
          },
          "metadata": {},
          "execution_count": 3
        }
      ]
    },
    {
      "cell_type": "code",
      "source": [
        "test = pd.read_csv(filepath_or_buffer = \"/content/drive/MyDrive/my_databases/tabular-playground-series-sep-2021/test.csv\",\n",
        "                           sep = ',')\n",
        "test"
      ],
      "metadata": {
        "colab": {
          "base_uri": "https://localhost:8080/",
          "height": 488
        },
        "id": "I4G4i-t5pZQA",
        "outputId": "808206e1-30bc-4e99-d535-d9407233ad1f"
      },
      "execution_count": 4,
      "outputs": [
        {
          "output_type": "execute_result",
          "data": {
            "text/plain": [
              "             id        f1        f2        f3        f4       f5        f6  \\\n",
              "0        957919  0.165850  0.487050   1295.00  0.023100  0.31900  0.901880   \n",
              "1        957920  0.129650  0.373480   1763.00  0.728840  0.33247 -1.263100   \n",
              "2        957921  0.120190  0.445210    736.26  0.046150  0.29605  0.316650   \n",
              "3        957922  0.054008  0.395960    996.14  0.859340  0.36678 -0.170600   \n",
              "4        957923  0.079947 -0.006919  10574.00  0.348450  0.45008 -1.842000   \n",
              "...         ...       ...       ...       ...       ...      ...       ...   \n",
              "493469  1451388 -0.009112  0.308190    637.64  0.778200  0.41415 -1.068500   \n",
              "493470  1451389  0.088922  0.482650   6924.10  0.025963  0.35540 -0.870200   \n",
              "493471  1451390  0.140620  0.484750   1797.10  0.147020  0.28803 -1.407100   \n",
              "493472  1451391  0.168000  0.351760    454.79  0.164580  0.16983  0.323850   \n",
              "493473  1451392  0.093079  0.501860   3322.40       NaN  0.33269  0.056827   \n",
              "\n",
              "             f7        f8            f9  ...      f109     f110    f111  \\\n",
              "0        573.29    3743.7  2.705700e+12  ...  0.162530 -22.1890  2.0655   \n",
              "1        875.55  554370.0  5.955700e+14  ...  0.815280  -1.6342  1.5736   \n",
              "2       2659.50  317140.0  3.977800e+14  ...  0.818310 -32.7800  2.1364   \n",
              "3        386.56  325680.0 -3.432200e+13  ...  0.865590  -2.4162  1.5199   \n",
              "4       3027.00  428150.0  9.291500e+11  ...  0.251900 -18.6300  3.7387   \n",
              "...         ...       ...           ...  ...       ...      ...     ...   \n",
              "493469   651.22  985000.0  6.079700e+15  ...  0.249550 -17.5100  2.3325   \n",
              "493470  2514.20   18004.0  6.073500e+14  ...  0.017970  -7.8690  1.7005   \n",
              "493471   434.03  333050.0  2.351000e+15  ...  0.013841  -5.3824  1.6827   \n",
              "493472  2331.20  223980.0 -2.795300e+12  ...  0.858730  -4.2416  1.3531   \n",
              "493473  2568.70   39185.0  1.489300e+14  ...  0.889390 -13.9390  1.4480   \n",
              "\n",
              "              f112     f113      f114    f115          f116     f117     f118  \n",
              "0         0.430880 -10.7410  81606.00  1.1940  1.980400e+14  2017.10  0.46357  \n",
              "1        -1.071200  11.8320  90114.00  1.1507  4.388000e+16  6638.90  0.28125  \n",
              "2        -1.931200  -3.2804  37739.00  1.1548  1.718100e+14  5844.00  0.13797  \n",
              "3        -0.011633   1.3840  26849.00  1.1490  2.138800e+17  6173.30  0.32910  \n",
              "4         0.757080  -4.9405  50336.00  1.2488  2.151300e+17  2250.10  0.33796  \n",
              "...            ...      ...       ...     ...           ...      ...      ...  \n",
              "493469    0.112260  -5.9238       NaN  1.1559  8.163900e+16   857.09  1.56330  \n",
              "493470   97.813000   4.3793  -2432.00  1.0707  4.691800e+16  7497.10  0.67075  \n",
              "493471         NaN   8.0633   2471.40  1.1725  7.900900e+16  2904.60  0.18005  \n",
              "493472  155.210000  13.9630    -11.44  1.1946 -1.770600e+14  6763.10  0.33223  \n",
              "493473   -1.512900 -15.4360    662.46  1.1778  2.459300e+15  8770.00  0.95503  \n",
              "\n",
              "[493474 rows x 119 columns]"
            ],
            "text/html": [
              "\n",
              "  <div id=\"df-b709b762-165f-4de8-a72e-968b02757fe9\">\n",
              "    <div class=\"colab-df-container\">\n",
              "      <div>\n",
              "<style scoped>\n",
              "    .dataframe tbody tr th:only-of-type {\n",
              "        vertical-align: middle;\n",
              "    }\n",
              "\n",
              "    .dataframe tbody tr th {\n",
              "        vertical-align: top;\n",
              "    }\n",
              "\n",
              "    .dataframe thead th {\n",
              "        text-align: right;\n",
              "    }\n",
              "</style>\n",
              "<table border=\"1\" class=\"dataframe\">\n",
              "  <thead>\n",
              "    <tr style=\"text-align: right;\">\n",
              "      <th></th>\n",
              "      <th>id</th>\n",
              "      <th>f1</th>\n",
              "      <th>f2</th>\n",
              "      <th>f3</th>\n",
              "      <th>f4</th>\n",
              "      <th>f5</th>\n",
              "      <th>f6</th>\n",
              "      <th>f7</th>\n",
              "      <th>f8</th>\n",
              "      <th>f9</th>\n",
              "      <th>...</th>\n",
              "      <th>f109</th>\n",
              "      <th>f110</th>\n",
              "      <th>f111</th>\n",
              "      <th>f112</th>\n",
              "      <th>f113</th>\n",
              "      <th>f114</th>\n",
              "      <th>f115</th>\n",
              "      <th>f116</th>\n",
              "      <th>f117</th>\n",
              "      <th>f118</th>\n",
              "    </tr>\n",
              "  </thead>\n",
              "  <tbody>\n",
              "    <tr>\n",
              "      <th>0</th>\n",
              "      <td>957919</td>\n",
              "      <td>0.165850</td>\n",
              "      <td>0.487050</td>\n",
              "      <td>1295.00</td>\n",
              "      <td>0.023100</td>\n",
              "      <td>0.31900</td>\n",
              "      <td>0.901880</td>\n",
              "      <td>573.29</td>\n",
              "      <td>3743.7</td>\n",
              "      <td>2.705700e+12</td>\n",
              "      <td>...</td>\n",
              "      <td>0.162530</td>\n",
              "      <td>-22.1890</td>\n",
              "      <td>2.0655</td>\n",
              "      <td>0.430880</td>\n",
              "      <td>-10.7410</td>\n",
              "      <td>81606.00</td>\n",
              "      <td>1.1940</td>\n",
              "      <td>1.980400e+14</td>\n",
              "      <td>2017.10</td>\n",
              "      <td>0.46357</td>\n",
              "    </tr>\n",
              "    <tr>\n",
              "      <th>1</th>\n",
              "      <td>957920</td>\n",
              "      <td>0.129650</td>\n",
              "      <td>0.373480</td>\n",
              "      <td>1763.00</td>\n",
              "      <td>0.728840</td>\n",
              "      <td>0.33247</td>\n",
              "      <td>-1.263100</td>\n",
              "      <td>875.55</td>\n",
              "      <td>554370.0</td>\n",
              "      <td>5.955700e+14</td>\n",
              "      <td>...</td>\n",
              "      <td>0.815280</td>\n",
              "      <td>-1.6342</td>\n",
              "      <td>1.5736</td>\n",
              "      <td>-1.071200</td>\n",
              "      <td>11.8320</td>\n",
              "      <td>90114.00</td>\n",
              "      <td>1.1507</td>\n",
              "      <td>4.388000e+16</td>\n",
              "      <td>6638.90</td>\n",
              "      <td>0.28125</td>\n",
              "    </tr>\n",
              "    <tr>\n",
              "      <th>2</th>\n",
              "      <td>957921</td>\n",
              "      <td>0.120190</td>\n",
              "      <td>0.445210</td>\n",
              "      <td>736.26</td>\n",
              "      <td>0.046150</td>\n",
              "      <td>0.29605</td>\n",
              "      <td>0.316650</td>\n",
              "      <td>2659.50</td>\n",
              "      <td>317140.0</td>\n",
              "      <td>3.977800e+14</td>\n",
              "      <td>...</td>\n",
              "      <td>0.818310</td>\n",
              "      <td>-32.7800</td>\n",
              "      <td>2.1364</td>\n",
              "      <td>-1.931200</td>\n",
              "      <td>-3.2804</td>\n",
              "      <td>37739.00</td>\n",
              "      <td>1.1548</td>\n",
              "      <td>1.718100e+14</td>\n",
              "      <td>5844.00</td>\n",
              "      <td>0.13797</td>\n",
              "    </tr>\n",
              "    <tr>\n",
              "      <th>3</th>\n",
              "      <td>957922</td>\n",
              "      <td>0.054008</td>\n",
              "      <td>0.395960</td>\n",
              "      <td>996.14</td>\n",
              "      <td>0.859340</td>\n",
              "      <td>0.36678</td>\n",
              "      <td>-0.170600</td>\n",
              "      <td>386.56</td>\n",
              "      <td>325680.0</td>\n",
              "      <td>-3.432200e+13</td>\n",
              "      <td>...</td>\n",
              "      <td>0.865590</td>\n",
              "      <td>-2.4162</td>\n",
              "      <td>1.5199</td>\n",
              "      <td>-0.011633</td>\n",
              "      <td>1.3840</td>\n",
              "      <td>26849.00</td>\n",
              "      <td>1.1490</td>\n",
              "      <td>2.138800e+17</td>\n",
              "      <td>6173.30</td>\n",
              "      <td>0.32910</td>\n",
              "    </tr>\n",
              "    <tr>\n",
              "      <th>4</th>\n",
              "      <td>957923</td>\n",
              "      <td>0.079947</td>\n",
              "      <td>-0.006919</td>\n",
              "      <td>10574.00</td>\n",
              "      <td>0.348450</td>\n",
              "      <td>0.45008</td>\n",
              "      <td>-1.842000</td>\n",
              "      <td>3027.00</td>\n",
              "      <td>428150.0</td>\n",
              "      <td>9.291500e+11</td>\n",
              "      <td>...</td>\n",
              "      <td>0.251900</td>\n",
              "      <td>-18.6300</td>\n",
              "      <td>3.7387</td>\n",
              "      <td>0.757080</td>\n",
              "      <td>-4.9405</td>\n",
              "      <td>50336.00</td>\n",
              "      <td>1.2488</td>\n",
              "      <td>2.151300e+17</td>\n",
              "      <td>2250.10</td>\n",
              "      <td>0.33796</td>\n",
              "    </tr>\n",
              "    <tr>\n",
              "      <th>...</th>\n",
              "      <td>...</td>\n",
              "      <td>...</td>\n",
              "      <td>...</td>\n",
              "      <td>...</td>\n",
              "      <td>...</td>\n",
              "      <td>...</td>\n",
              "      <td>...</td>\n",
              "      <td>...</td>\n",
              "      <td>...</td>\n",
              "      <td>...</td>\n",
              "      <td>...</td>\n",
              "      <td>...</td>\n",
              "      <td>...</td>\n",
              "      <td>...</td>\n",
              "      <td>...</td>\n",
              "      <td>...</td>\n",
              "      <td>...</td>\n",
              "      <td>...</td>\n",
              "      <td>...</td>\n",
              "      <td>...</td>\n",
              "      <td>...</td>\n",
              "    </tr>\n",
              "    <tr>\n",
              "      <th>493469</th>\n",
              "      <td>1451388</td>\n",
              "      <td>-0.009112</td>\n",
              "      <td>0.308190</td>\n",
              "      <td>637.64</td>\n",
              "      <td>0.778200</td>\n",
              "      <td>0.41415</td>\n",
              "      <td>-1.068500</td>\n",
              "      <td>651.22</td>\n",
              "      <td>985000.0</td>\n",
              "      <td>6.079700e+15</td>\n",
              "      <td>...</td>\n",
              "      <td>0.249550</td>\n",
              "      <td>-17.5100</td>\n",
              "      <td>2.3325</td>\n",
              "      <td>0.112260</td>\n",
              "      <td>-5.9238</td>\n",
              "      <td>NaN</td>\n",
              "      <td>1.1559</td>\n",
              "      <td>8.163900e+16</td>\n",
              "      <td>857.09</td>\n",
              "      <td>1.56330</td>\n",
              "    </tr>\n",
              "    <tr>\n",
              "      <th>493470</th>\n",
              "      <td>1451389</td>\n",
              "      <td>0.088922</td>\n",
              "      <td>0.482650</td>\n",
              "      <td>6924.10</td>\n",
              "      <td>0.025963</td>\n",
              "      <td>0.35540</td>\n",
              "      <td>-0.870200</td>\n",
              "      <td>2514.20</td>\n",
              "      <td>18004.0</td>\n",
              "      <td>6.073500e+14</td>\n",
              "      <td>...</td>\n",
              "      <td>0.017970</td>\n",
              "      <td>-7.8690</td>\n",
              "      <td>1.7005</td>\n",
              "      <td>97.813000</td>\n",
              "      <td>4.3793</td>\n",
              "      <td>-2432.00</td>\n",
              "      <td>1.0707</td>\n",
              "      <td>4.691800e+16</td>\n",
              "      <td>7497.10</td>\n",
              "      <td>0.67075</td>\n",
              "    </tr>\n",
              "    <tr>\n",
              "      <th>493471</th>\n",
              "      <td>1451390</td>\n",
              "      <td>0.140620</td>\n",
              "      <td>0.484750</td>\n",
              "      <td>1797.10</td>\n",
              "      <td>0.147020</td>\n",
              "      <td>0.28803</td>\n",
              "      <td>-1.407100</td>\n",
              "      <td>434.03</td>\n",
              "      <td>333050.0</td>\n",
              "      <td>2.351000e+15</td>\n",
              "      <td>...</td>\n",
              "      <td>0.013841</td>\n",
              "      <td>-5.3824</td>\n",
              "      <td>1.6827</td>\n",
              "      <td>NaN</td>\n",
              "      <td>8.0633</td>\n",
              "      <td>2471.40</td>\n",
              "      <td>1.1725</td>\n",
              "      <td>7.900900e+16</td>\n",
              "      <td>2904.60</td>\n",
              "      <td>0.18005</td>\n",
              "    </tr>\n",
              "    <tr>\n",
              "      <th>493472</th>\n",
              "      <td>1451391</td>\n",
              "      <td>0.168000</td>\n",
              "      <td>0.351760</td>\n",
              "      <td>454.79</td>\n",
              "      <td>0.164580</td>\n",
              "      <td>0.16983</td>\n",
              "      <td>0.323850</td>\n",
              "      <td>2331.20</td>\n",
              "      <td>223980.0</td>\n",
              "      <td>-2.795300e+12</td>\n",
              "      <td>...</td>\n",
              "      <td>0.858730</td>\n",
              "      <td>-4.2416</td>\n",
              "      <td>1.3531</td>\n",
              "      <td>155.210000</td>\n",
              "      <td>13.9630</td>\n",
              "      <td>-11.44</td>\n",
              "      <td>1.1946</td>\n",
              "      <td>-1.770600e+14</td>\n",
              "      <td>6763.10</td>\n",
              "      <td>0.33223</td>\n",
              "    </tr>\n",
              "    <tr>\n",
              "      <th>493473</th>\n",
              "      <td>1451392</td>\n",
              "      <td>0.093079</td>\n",
              "      <td>0.501860</td>\n",
              "      <td>3322.40</td>\n",
              "      <td>NaN</td>\n",
              "      <td>0.33269</td>\n",
              "      <td>0.056827</td>\n",
              "      <td>2568.70</td>\n",
              "      <td>39185.0</td>\n",
              "      <td>1.489300e+14</td>\n",
              "      <td>...</td>\n",
              "      <td>0.889390</td>\n",
              "      <td>-13.9390</td>\n",
              "      <td>1.4480</td>\n",
              "      <td>-1.512900</td>\n",
              "      <td>-15.4360</td>\n",
              "      <td>662.46</td>\n",
              "      <td>1.1778</td>\n",
              "      <td>2.459300e+15</td>\n",
              "      <td>8770.00</td>\n",
              "      <td>0.95503</td>\n",
              "    </tr>\n",
              "  </tbody>\n",
              "</table>\n",
              "<p>493474 rows × 119 columns</p>\n",
              "</div>\n",
              "      <button class=\"colab-df-convert\" onclick=\"convertToInteractive('df-b709b762-165f-4de8-a72e-968b02757fe9')\"\n",
              "              title=\"Convert this dataframe to an interactive table.\"\n",
              "              style=\"display:none;\">\n",
              "        \n",
              "  <svg xmlns=\"http://www.w3.org/2000/svg\" height=\"24px\"viewBox=\"0 0 24 24\"\n",
              "       width=\"24px\">\n",
              "    <path d=\"M0 0h24v24H0V0z\" fill=\"none\"/>\n",
              "    <path d=\"M18.56 5.44l.94 2.06.94-2.06 2.06-.94-2.06-.94-.94-2.06-.94 2.06-2.06.94zm-11 1L8.5 8.5l.94-2.06 2.06-.94-2.06-.94L8.5 2.5l-.94 2.06-2.06.94zm10 10l.94 2.06.94-2.06 2.06-.94-2.06-.94-.94-2.06-.94 2.06-2.06.94z\"/><path d=\"M17.41 7.96l-1.37-1.37c-.4-.4-.92-.59-1.43-.59-.52 0-1.04.2-1.43.59L10.3 9.45l-7.72 7.72c-.78.78-.78 2.05 0 2.83L4 21.41c.39.39.9.59 1.41.59.51 0 1.02-.2 1.41-.59l7.78-7.78 2.81-2.81c.8-.78.8-2.07 0-2.86zM5.41 20L4 18.59l7.72-7.72 1.47 1.35L5.41 20z\"/>\n",
              "  </svg>\n",
              "      </button>\n",
              "      \n",
              "  <style>\n",
              "    .colab-df-container {\n",
              "      display:flex;\n",
              "      flex-wrap:wrap;\n",
              "      gap: 12px;\n",
              "    }\n",
              "\n",
              "    .colab-df-convert {\n",
              "      background-color: #E8F0FE;\n",
              "      border: none;\n",
              "      border-radius: 50%;\n",
              "      cursor: pointer;\n",
              "      display: none;\n",
              "      fill: #1967D2;\n",
              "      height: 32px;\n",
              "      padding: 0 0 0 0;\n",
              "      width: 32px;\n",
              "    }\n",
              "\n",
              "    .colab-df-convert:hover {\n",
              "      background-color: #E2EBFA;\n",
              "      box-shadow: 0px 1px 2px rgba(60, 64, 67, 0.3), 0px 1px 3px 1px rgba(60, 64, 67, 0.15);\n",
              "      fill: #174EA6;\n",
              "    }\n",
              "\n",
              "    [theme=dark] .colab-df-convert {\n",
              "      background-color: #3B4455;\n",
              "      fill: #D2E3FC;\n",
              "    }\n",
              "\n",
              "    [theme=dark] .colab-df-convert:hover {\n",
              "      background-color: #434B5C;\n",
              "      box-shadow: 0px 1px 3px 1px rgba(0, 0, 0, 0.15);\n",
              "      filter: drop-shadow(0px 1px 2px rgba(0, 0, 0, 0.3));\n",
              "      fill: #FFFFFF;\n",
              "    }\n",
              "  </style>\n",
              "\n",
              "      <script>\n",
              "        const buttonEl =\n",
              "          document.querySelector('#df-b709b762-165f-4de8-a72e-968b02757fe9 button.colab-df-convert');\n",
              "        buttonEl.style.display =\n",
              "          google.colab.kernel.accessAllowed ? 'block' : 'none';\n",
              "\n",
              "        async function convertToInteractive(key) {\n",
              "          const element = document.querySelector('#df-b709b762-165f-4de8-a72e-968b02757fe9');\n",
              "          const dataTable =\n",
              "            await google.colab.kernel.invokeFunction('convertToInteractive',\n",
              "                                                     [key], {});\n",
              "          if (!dataTable) return;\n",
              "\n",
              "          const docLinkHtml = 'Like what you see? Visit the ' +\n",
              "            '<a target=\"_blank\" href=https://colab.research.google.com/notebooks/data_table.ipynb>data table notebook</a>'\n",
              "            + ' to learn more about interactive tables.';\n",
              "          element.innerHTML = '';\n",
              "          dataTable['output_type'] = 'display_data';\n",
              "          await google.colab.output.renderOutput(dataTable, element);\n",
              "          const docLink = document.createElement('div');\n",
              "          docLink.innerHTML = docLinkHtml;\n",
              "          element.appendChild(docLink);\n",
              "        }\n",
              "      </script>\n",
              "    </div>\n",
              "  </div>\n",
              "  "
            ]
          },
          "metadata": {},
          "execution_count": 4
        }
      ]
    },
    {
      "cell_type": "markdown",
      "source": [
        "**Первое, что мы должны сделать – посмотреть на нашу целевую переменную claim.**"
      ],
      "metadata": {
        "id": "wWFjGn5TqBTa"
      }
    },
    {
      "cell_type": "code",
      "source": [
        "train['claim'].describe()"
      ],
      "metadata": {
        "colab": {
          "base_uri": "https://localhost:8080/"
        },
        "id": "01EDNK3hqMrQ",
        "outputId": "c9cb9ae1-78b6-4575-8048-7794bdc7fcda"
      },
      "execution_count": null,
      "outputs": [
        {
          "output_type": "execute_result",
          "data": {
            "text/plain": [
              "count    957919.000000\n",
              "mean          0.498492\n",
              "std           0.499998\n",
              "min           0.000000\n",
              "25%           0.000000\n",
              "50%           0.000000\n",
              "75%           1.000000\n",
              "max           1.000000\n",
              "Name: claim, dtype: float64"
            ]
          },
          "metadata": {},
          "execution_count": 5
        }
      ]
    },
    {
      "cell_type": "code",
      "source": [
        "# Импортируем необходимые библиотеки для визуализации\n",
        "import matplotlib.pyplot as plt\n",
        "import seaborn as sns\n",
        "\n",
        "# гистограмма\n",
        "f, ax = plt.subplots(figsize=(8, 6))\n",
        "sns.distplot(train['claim'])"
      ],
      "metadata": {
        "colab": {
          "base_uri": "https://localhost:8080/",
          "height": 460
        },
        "id": "bRxHnf_Fqwh_",
        "outputId": "628cebd5-90ab-4cc6-e336-60f6617a6bfa"
      },
      "execution_count": null,
      "outputs": [
        {
          "output_type": "stream",
          "name": "stderr",
          "text": [
            "/usr/local/lib/python3.7/dist-packages/seaborn/distributions.py:2619: FutureWarning: `distplot` is a deprecated function and will be removed in a future version. Please adapt your code to use either `displot` (a figure-level function with similar flexibility) or `histplot` (an axes-level function for histograms).\n",
            "  warnings.warn(msg, FutureWarning)\n"
          ]
        },
        {
          "output_type": "execute_result",
          "data": {
            "text/plain": [
              "<matplotlib.axes._subplots.AxesSubplot at 0x7f3cde4ea890>"
            ]
          },
          "metadata": {},
          "execution_count": 5
        },
        {
          "output_type": "display_data",
          "data": {
            "text/plain": [
              "<Figure size 576x432 with 1 Axes>"
            ],
            "image/png": "[encoded data removed]"
          },
          "metadata": {
            "needs_background": "light"
          }
        }
      ]
    },
    {
      "cell_type": "markdown",
      "source": [
        "Как мы и полагали, распределение далеко от идеального. "
      ],
      "metadata": {
        "id": "ypzMG5HwrTmk"
      }
    },
    {
      "cell_type": "code",
      "source": [
        "from scipy import stats \n",
        "\n",
        "fig = plt.figure(figsize = (14,8))\n",
        "\n",
        "# Распределение на необработанных данных\n",
        "fig.add_subplot(1,2,1)\n",
        "res = stats.probplot(train['claim'], plot=plt)\n",
        "\n",
        "# Распределение при условии, что мы прологарифмировали 'SalePrice'\n",
        "fig.add_subplot(1,2,2)\n",
        "res = stats.probplot(np.log1p(train['claim']), plot=plt)"
      ],
      "metadata": {
        "colab": {
          "base_uri": "https://localhost:8080/",
          "height": 513
        },
        "id": "WWAt8q24q_0Q",
        "outputId": "34abc15c-04b4-4ec0-a2cb-57224c9db755"
      },
      "execution_count": null,
      "outputs": [
        {
          "output_type": "display_data",
          "data": {
            "text/plain": [
              "<Figure size 1008x576 with 2 Axes>"
            ],
            "image/png": "[encoded data removed]"
          },
          "metadata": {
            "needs_background": "light"
          }
        }
      ]
    },
    {
      "cell_type": "markdown",
      "source": [
        "Этот метод построения признаков исправил ситуацию. Теперь наша задача – совершить логарифмирование не просто испытательным путем на графике, а применить данный метод ко всей тренировочной выборке:"
      ],
      "metadata": {
        "id": "pdmp14nRrtBw"
      }
    },
    {
      "cell_type": "code",
      "source": [
        "train['claim'] = np.log1p(train['claim'])"
      ],
      "metadata": {
        "id": "KVrJB6MRrnbp"
      },
      "execution_count": null,
      "outputs": []
    },
    {
      "cell_type": "markdown",
      "source": [
        "Обзор данных – корреляция\n",
        "Теперь посмотрим, с какими признаками коррелирует целевая переменная claim:"
      ],
      "metadata": {
        "id": "NQdhQJUXsZAi"
      }
    },
    {
      "cell_type": "code",
      "source": [
        "# Матрица корреляции\n",
        "corrmat = train.corr()\n",
        "f, ax = plt.subplots(figsize=(12, 9))\n",
        "sns.heatmap(corrmat, vmax=1, square=True);"
      ],
      "metadata": {
        "colab": {
          "base_uri": "https://localhost:8080/",
          "height": 554
        },
        "id": "4mRUm56NsbO7",
        "outputId": "954cdc49-297a-4e6b-fa59-a7bd28b4e0ec"
      },
      "execution_count": null,
      "outputs": [
        {
          "output_type": "display_data",
          "data": {
            "text/plain": [
              "<Figure size 864x648 with 2 Axes>"
            ],
            "image/png": "[encoded data removed]"
          },
          "metadata": {
            "needs_background": "light"
          }
        }
      ]
    },
    {
      "cell_type": "markdown",
      "source": [
        "Попробуем усеченный вариант и сократим количество коррелирующих признаков до 10:"
      ],
      "metadata": {
        "id": "UUmDfCO3tNZ7"
      }
    },
    {
      "cell_type": "code",
      "source": [
        "k = 10 # количество коррелирующих признаков, которое мы хотим увидеть\n",
        "cols = corrmat.nlargest(k, 'claim')['claim'].index\n",
        "cm = np.corrcoef(train[cols].values.T)\n",
        "sns.set(font_scale=1.25)\n",
        "hm = sns.heatmap(cm, cbar=True, annot=True, square=True, \n",
        "                 fmt='.2f', annot_kws={'size': 10}, \n",
        "                 yticklabels=cols.values, xticklabels=cols.values)\n",
        "plt.show()"
      ],
      "metadata": {
        "colab": {
          "base_uri": "https://localhost:8080/",
          "height": 300
        },
        "id": "hqKFl8hctOux",
        "outputId": "e510da3a-c519-4bb4-99be-774e3d948a85"
      },
      "execution_count": null,
      "outputs": [
        {
          "output_type": "display_data",
          "data": {
            "text/plain": [
              "<Figure size 432x288 with 2 Axes>"
            ],
            "image/png": "[encoded data removed]"
          },
          "metadata": {}
        }
      ]
    },
    {
      "cell_type": "markdown",
      "source": [
        "Теперь мы видим, что лучше всего claim коррелирует с f95 и f8. Проверим эти два признака на наличие выбросов:"
      ],
      "metadata": {
        "id": "oJVPuJH8t46T"
      }
    },
    {
      "cell_type": "code",
      "source": [
        "fig, ax = plt.subplots()\n",
        "ax.scatter(x = train['f95'], y = train['claim'])\n",
        "plt.ylabel('claim', fontsize=13)\n",
        "plt.xlabel('f95', fontsize=13)\n",
        "plt.show()"
      ],
      "metadata": {
        "colab": {
          "base_uri": "https://localhost:8080/",
          "height": 289
        },
        "id": "TeoTPDhVuChx",
        "outputId": "370acd01-6915-41b9-fe14-f01753800811"
      },
      "execution_count": null,
      "outputs": [
        {
          "output_type": "display_data",
          "data": {
            "text/plain": [
              "<Figure size 432x288 with 1 Axes>"
            ],
            "image/png": "[encoded data removed]"
          },
          "metadata": {}
        }
      ]
    },
    {
      "cell_type": "code",
      "source": [
        "fig, ax = plt.subplots()\n",
        "ax.scatter(x = train['f8'], y = train['claim'])\n",
        "plt.ylabel('claim', fontsize=13)\n",
        "plt.xlabel('f8', fontsize=13)\n",
        "plt.show()"
      ],
      "metadata": {
        "colab": {
          "base_uri": "https://localhost:8080/",
          "height": 289
        },
        "id": "h9aekp3Nudo5",
        "outputId": "9db13d22-f2f9-404b-8443-3de49dfe694f"
      },
      "execution_count": null,
      "outputs": [
        {
          "output_type": "display_data",
          "data": {
            "text/plain": [
              "<Figure size 432x288 with 1 Axes>"
            ],
            "image/png": "[encoded data removed]"
          },
          "metadata": {}
        }
      ]
    },
    {
      "cell_type": "markdown",
      "source": [
        "Явных выбросов нет"
      ],
      "metadata": {
        "id": "D-3dbbM-uyWa"
      }
    },
    {
      "cell_type": "markdown",
      "source": [
        "Очистка данных и отбор признаков\n",
        "Далее стоит провести исследование данных на наличие пропущенных данных и других моментов, которые могут испортить score (а значит и нашу позицию в таблице лидеров соревнования).\n",
        "Эта строчка кода выведет топ-20 пропущенных значений:"
      ],
      "metadata": {
        "id": "cM23zmmeu6ay"
      }
    },
    {
      "cell_type": "code",
      "source": [
        "train.isnull().sum().sort_values(ascending=False).head(20)"
      ],
      "metadata": {
        "colab": {
          "base_uri": "https://localhost:8080/"
        },
        "id": "VKLeinCFu4Wy",
        "outputId": "4adbaff1-e672-4e78-c5be-c5c259787b2e"
      },
      "execution_count": null,
      "outputs": [
        {
          "output_type": "execute_result",
          "data": {
            "text/plain": [
              "f31     15678\n",
              "f46     15633\n",
              "f24     15630\n",
              "f83     15627\n",
              "f68     15619\n",
              "f103    15600\n",
              "f95     15599\n",
              "f12     15593\n",
              "f116    15589\n",
              "f64     15578\n",
              "f57     15573\n",
              "f74     15570\n",
              "f76     15569\n",
              "f50     15562\n",
              "f60     15560\n",
              "f4      15560\n",
              "f115    15559\n",
              "f39     15559\n",
              "f69     15552\n",
              "f88     15548\n",
              "dtype: int64"
            ]
          },
          "metadata": {},
          "execution_count": 8
        }
      ]
    },
    {
      "cell_type": "code",
      "source": [
        "# Визуализируем\n",
        "total = train.isnull().sum().sort_values(ascending=False)\n",
        "percent = (train.isnull().sum() / train.isnull().count()).sort_values(ascending=False)\n",
        "missing_data = pd.concat([total, percent], axis=1, keys=['Total', 'Percent'])\n",
        "\n",
        "# Гистограмма\n",
        "percent_data = percent.head(20)\n",
        "percent_data.plot(kind=\"bar\", figsize = (8,6), fontsize = 10)\n",
        "plt.xlabel(\"Столбцы\", fontsize = 20)\n",
        "plt.ylabel(\"Count\", fontsize = 20)\n",
        "plt.title(\"Общее количество недостающих значений  (%)\", fontsize = 20)"
      ],
      "metadata": {
        "colab": {
          "base_uri": "https://localhost:8080/",
          "height": 448
        },
        "id": "OzaCpC2yv25c",
        "outputId": "603dd5d0-84eb-4747-cec5-e6d57d39b226"
      },
      "execution_count": null,
      "outputs": [
        {
          "output_type": "execute_result",
          "data": {
            "text/plain": [
              "Text(0.5, 1.0, 'Общее количество недостающих значений  (%)')"
            ]
          },
          "metadata": {},
          "execution_count": 9
        },
        {
          "output_type": "display_data",
          "data": {
            "text/plain": [
              "<Figure size 576x432 with 1 Axes>"
            ],
            "image/png": "[encoded data removed]"
          },
          "metadata": {
            "needs_background": "light"
          }
        }
      ]
    },
    {
      "cell_type": "markdown",
      "source": [
        "С этим необходимо разобраться. Большой количество пропущенных данных как в тренировочном, так и в тестовом датасете очень сильно ударит по качеству модели, а это прямая дорога на дно таблицы лидеров в соревновании.\n",
        "\n"
      ],
      "metadata": {
        "id": "aM5x9pGjwUHK"
      }
    },
    {
      "cell_type": "code",
      "source": [
        "train.mean()"
      ],
      "metadata": {
        "colab": {
          "base_uri": "https://localhost:8080/"
        },
        "id": "LgLYW56f3sP-",
        "outputId": "7b8308a6-5441-4fd4-84fe-30e0a6437ecd"
      },
      "execution_count": null,
      "outputs": [
        {
          "output_type": "execute_result",
          "data": {
            "text/plain": [
              "id       4.789590e+05\n",
              "f1       9.020086e-02\n",
              "f2       3.459637e-01\n",
              "f3       4.068744e+03\n",
              "f4       2.012140e-01\n",
              "             ...     \n",
              "f115     1.208876e+00\n",
              "f116     4.276905e+16\n",
              "f117     3.959205e+03\n",
              "f118     5.592672e-01\n",
              "claim    3.455284e-01\n",
              "Length: 120, dtype: float64"
            ]
          },
          "metadata": {},
          "execution_count": 10
        }
      ]
    },
    {
      "cell_type": "code",
      "source": [
        "# Пропущенные значения меняем на средние по столбцу\n",
        "train.fillna(train.mean(), inplace=True)"
      ],
      "metadata": {
        "id": "ZWFgjSGgxcYn"
      },
      "execution_count": 5,
      "outputs": []
    },
    {
      "cell_type": "code",
      "source": [
        "#train = train.fillna(0)\n"
      ],
      "metadata": {
        "id": "9SwHR4oM5cCQ"
      },
      "execution_count": null,
      "outputs": []
    },
    {
      "cell_type": "code",
      "source": [
        "train[train.isnull().any(1)]"
      ],
      "metadata": {
        "colab": {
          "base_uri": "https://localhost:8080/",
          "height": 79
        },
        "id": "w9BVAgzy5_4u",
        "outputId": "72257f2a-cc29-4705-8943-7762e34f6a99"
      },
      "execution_count": 6,
      "outputs": [
        {
          "output_type": "execute_result",
          "data": {
            "text/plain": [
              "Empty DataFrame\n",
              "Columns: [id, f1, f2, f3, f4, f5, f6, f7, f8, f9, f10, f11, f12, f13, f14, f15, f16, f17, f18, f19, f20, f21, f22, f23, f24, f25, f26, f27, f28, f29, f30, f31, f32, f33, f34, f35, f36, f37, f38, f39, f40, f41, f42, f43, f44, f45, f46, f47, f48, f49, f50, f51, f52, f53, f54, f55, f56, f57, f58, f59, f60, f61, f62, f63, f64, f65, f66, f67, f68, f69, f70, f71, f72, f73, f74, f75, f76, f77, f78, f79, f80, f81, f82, f83, f84, f85, f86, f87, f88, f89, f90, f91, f92, f93, f94, f95, f96, f97, f98, f99, ...]\n",
              "Index: []\n",
              "\n",
              "[0 rows x 120 columns]"
            ],
            "text/html": [
              "\n",
              "  <div id=\"df-739d3cc5-9dbb-479c-bd63-f34924daac94\">\n",
              "    <div class=\"colab-df-container\">\n",
              "      <div>\n",
              "<style scoped>\n",
              "    .dataframe tbody tr th:only-of-type {\n",
              "        vertical-align: middle;\n",
              "    }\n",
              "\n",
              "    .dataframe tbody tr th {\n",
              "        vertical-align: top;\n",
              "    }\n",
              "\n",
              "    .dataframe thead th {\n",
              "        text-align: right;\n",
              "    }\n",
              "</style>\n",
              "<table border=\"1\" class=\"dataframe\">\n",
              "  <thead>\n",
              "    <tr style=\"text-align: right;\">\n",
              "      <th></th>\n",
              "      <th>id</th>\n",
              "      <th>f1</th>\n",
              "      <th>f2</th>\n",
              "      <th>f3</th>\n",
              "      <th>f4</th>\n",
              "      <th>f5</th>\n",
              "      <th>f6</th>\n",
              "      <th>f7</th>\n",
              "      <th>f8</th>\n",
              "      <th>f9</th>\n",
              "      <th>...</th>\n",
              "      <th>f110</th>\n",
              "      <th>f111</th>\n",
              "      <th>f112</th>\n",
              "      <th>f113</th>\n",
              "      <th>f114</th>\n",
              "      <th>f115</th>\n",
              "      <th>f116</th>\n",
              "      <th>f117</th>\n",
              "      <th>f118</th>\n",
              "      <th>claim</th>\n",
              "    </tr>\n",
              "  </thead>\n",
              "  <tbody>\n",
              "  </tbody>\n",
              "</table>\n",
              "<p>0 rows × 120 columns</p>\n",
              "</div>\n",
              "      <button class=\"colab-df-convert\" onclick=\"convertToInteractive('df-739d3cc5-9dbb-479c-bd63-f34924daac94')\"\n",
              "              title=\"Convert this dataframe to an interactive table.\"\n",
              "              style=\"display:none;\">\n",
              "        \n",
              "  <svg xmlns=\"http://www.w3.org/2000/svg\" height=\"24px\"viewBox=\"0 0 24 24\"\n",
              "       width=\"24px\">\n",
              "    <path d=\"M0 0h24v24H0V0z\" fill=\"none\"/>\n",
              "    <path d=\"M18.56 5.44l.94 2.06.94-2.06 2.06-.94-2.06-.94-.94-2.06-.94 2.06-2.06.94zm-11 1L8.5 8.5l.94-2.06 2.06-.94-2.06-.94L8.5 2.5l-.94 2.06-2.06.94zm10 10l.94 2.06.94-2.06 2.06-.94-2.06-.94-.94-2.06-.94 2.06-2.06.94z\"/><path d=\"M17.41 7.96l-1.37-1.37c-.4-.4-.92-.59-1.43-.59-.52 0-1.04.2-1.43.59L10.3 9.45l-7.72 7.72c-.78.78-.78 2.05 0 2.83L4 21.41c.39.39.9.59 1.41.59.51 0 1.02-.2 1.41-.59l7.78-7.78 2.81-2.81c.8-.78.8-2.07 0-2.86zM5.41 20L4 18.59l7.72-7.72 1.47 1.35L5.41 20z\"/>\n",
              "  </svg>\n",
              "      </button>\n",
              "      \n",
              "  <style>\n",
              "    .colab-df-container {\n",
              "      display:flex;\n",
              "      flex-wrap:wrap;\n",
              "      gap: 12px;\n",
              "    }\n",
              "\n",
              "    .colab-df-convert {\n",
              "      background-color: #E8F0FE;\n",
              "      border: none;\n",
              "      border-radius: 50%;\n",
              "      cursor: pointer;\n",
              "      display: none;\n",
              "      fill: #1967D2;\n",
              "      height: 32px;\n",
              "      padding: 0 0 0 0;\n",
              "      width: 32px;\n",
              "    }\n",
              "\n",
              "    .colab-df-convert:hover {\n",
              "      background-color: #E2EBFA;\n",
              "      box-shadow: 0px 1px 2px rgba(60, 64, 67, 0.3), 0px 1px 3px 1px rgba(60, 64, 67, 0.15);\n",
              "      fill: #174EA6;\n",
              "    }\n",
              "\n",
              "    [theme=dark] .colab-df-convert {\n",
              "      background-color: #3B4455;\n",
              "      fill: #D2E3FC;\n",
              "    }\n",
              "\n",
              "    [theme=dark] .colab-df-convert:hover {\n",
              "      background-color: #434B5C;\n",
              "      box-shadow: 0px 1px 3px 1px rgba(0, 0, 0, 0.15);\n",
              "      filter: drop-shadow(0px 1px 2px rgba(0, 0, 0, 0.3));\n",
              "      fill: #FFFFFF;\n",
              "    }\n",
              "  </style>\n",
              "\n",
              "      <script>\n",
              "        const buttonEl =\n",
              "          document.querySelector('#df-739d3cc5-9dbb-479c-bd63-f34924daac94 button.colab-df-convert');\n",
              "        buttonEl.style.display =\n",
              "          google.colab.kernel.accessAllowed ? 'block' : 'none';\n",
              "\n",
              "        async function convertToInteractive(key) {\n",
              "          const element = document.querySelector('#df-739d3cc5-9dbb-479c-bd63-f34924daac94');\n",
              "          const dataTable =\n",
              "            await google.colab.kernel.invokeFunction('convertToInteractive',\n",
              "                                                     [key], {});\n",
              "          if (!dataTable) return;\n",
              "\n",
              "          const docLinkHtml = 'Like what you see? Visit the ' +\n",
              "            '<a target=\"_blank\" href=https://colab.research.google.com/notebooks/data_table.ipynb>data table notebook</a>'\n",
              "            + ' to learn more about interactive tables.';\n",
              "          element.innerHTML = '';\n",
              "          dataTable['output_type'] = 'display_data';\n",
              "          await google.colab.output.renderOutput(dataTable, element);\n",
              "          const docLink = document.createElement('div');\n",
              "          docLink.innerHTML = docLinkHtml;\n",
              "          element.appendChild(docLink);\n",
              "        }\n",
              "      </script>\n",
              "    </div>\n",
              "  </div>\n",
              "  "
            ]
          },
          "metadata": {},
          "execution_count": 6
        }
      ]
    },
    {
      "cell_type": "code",
      "source": [
        "print(train.isnull().sum())"
      ],
      "metadata": {
        "colab": {
          "base_uri": "https://localhost:8080/"
        },
        "id": "ey2buuKk4ZKp",
        "outputId": "daf323ec-d6da-4db2-e9b3-d5805a46c597"
      },
      "execution_count": 7,
      "outputs": [
        {
          "output_type": "stream",
          "name": "stdout",
          "text": [
            "id       0\n",
            "f1       0\n",
            "f2       0\n",
            "f3       0\n",
            "f4       0\n",
            "        ..\n",
            "f115     0\n",
            "f116     0\n",
            "f117     0\n",
            "f118     0\n",
            "claim    0\n",
            "Length: 120, dtype: int64\n"
          ]
        }
      ]
    },
    {
      "cell_type": "code",
      "source": [
        "test.fillna(test.mean(), inplace=True)"
      ],
      "metadata": {
        "id": "FjpArB2Cx15P"
      },
      "execution_count": 8,
      "outputs": []
    },
    {
      "cell_type": "code",
      "source": [
        "print(test.isnull().sum())"
      ],
      "metadata": {
        "colab": {
          "base_uri": "https://localhost:8080/"
        },
        "id": "B_9HjmJryBYD",
        "outputId": "11a841aa-aba3-4210-df6e-330a58c43476"
      },
      "execution_count": 9,
      "outputs": [
        {
          "output_type": "stream",
          "name": "stdout",
          "text": [
            "id      0\n",
            "f1      0\n",
            "f2      0\n",
            "f3      0\n",
            "f4      0\n",
            "       ..\n",
            "f114    0\n",
            "f115    0\n",
            "f116    0\n",
            "f117    0\n",
            "f118    0\n",
            "Length: 119, dtype: int64\n"
          ]
        }
      ]
    },
    {
      "cell_type": "markdown",
      "source": [
        "Выделим целевую переменную в отдельный формат и удалим ее из обучающей выборки."
      ],
      "metadata": {
        "id": "waotQ2KPyn8Z"
      }
    },
    {
      "cell_type": "code",
      "source": [
        "y = np.array(train['claim'])\n",
        "X = train.drop(['claim'], axis = 1)\n",
        "X"
      ],
      "metadata": {
        "colab": {
          "base_uri": "https://localhost:8080/",
          "height": 488
        },
        "id": "YX2eT8sryEzT",
        "outputId": "6e5c6ded-fc69-4036-ef53-bef9d832e59b"
      },
      "execution_count": 10,
      "outputs": [
        {
          "output_type": "execute_result",
          "data": {
            "text/plain": [
              "            id        f1        f2         f3        f4        f5        f6  \\\n",
              "0            0  0.108590  0.004314    -37.566  0.017364  0.289150 -10.25100   \n",
              "1            1  0.100900  0.299610  11822.000  0.276500  0.459700  -0.83733   \n",
              "2            2  0.178030 -0.006980    907.270  0.272140  0.459480   0.17327   \n",
              "3            3  0.152360  0.007259    780.100  0.025179  0.519470   7.49140   \n",
              "4            4  0.116230  0.502900   -109.150  0.297910  0.344900  -0.40932   \n",
              "...        ...       ...       ...        ...       ...       ...       ...   \n",
              "957914  957914  0.098979  0.202530   2192.100  0.348010  0.276430  -0.84065   \n",
              "957915  957915  0.134930  0.413600   1050.100  0.000521 -0.001246   1.76990   \n",
              "957916  957916  0.104660  0.473510   2415.400  0.252230  0.196970  -0.82323   \n",
              "957917  957917  0.118190  0.320870    657.860  0.237290  0.260250  -0.71237   \n",
              "957918  957918  0.088832  0.472230   4309.400  0.017016  0.376880   4.81520   \n",
              "\n",
              "             f7        f8            f9  ...      f109     f110    f111  \\\n",
              "0        135.12  168900.0  3.992400e+14  ...  0.110930 -12.2280  1.7482   \n",
              "1       1721.90  119810.0  3.874100e+15  ...  0.976730 -56.7580  4.1684   \n",
              "2       2298.00  360650.0  1.224500e+13  ...  0.201020  -5.7688  1.2042   \n",
              "3        112.51  259490.0  7.781400e+13  ... -0.011820 -34.8580  2.0694   \n",
              "4       2538.90   65332.0  1.907200e+15  ...  0.927390 -13.6410  1.5298   \n",
              "...         ...       ...           ...  ...       ...      ...     ...   \n",
              "957914  2214.20   26246.0  1.061600e+15  ...  0.527470 -51.2970  1.7323   \n",
              "957915  3519.90  862290.0  7.321400e+13  ...  0.099876 -41.4180  2.6986   \n",
              "957916  3044.90   13832.0  2.693300e+12  ...  0.303780 -15.9670  1.6843   \n",
              "957917   173.20   20811.0  9.711000e+14  ...  0.001222  -2.8375  1.3006   \n",
              "957918   458.20   42183.0  1.805500e+13  ...  0.225230 -24.2290  2.4189   \n",
              "\n",
              "             f112       f113      f114    f115          f116         f117  \\\n",
              "0         1.90960  -7.115700   4378.80  1.2096  8.613400e+14   140.100000   \n",
              "1         0.34808   4.142000    913.23  1.2464  7.575100e+15  1861.000000   \n",
              "2         0.26290   8.131200  45119.00  1.1764  3.218100e+14  3838.200000   \n",
              "3         0.79631 -16.336000   4952.40  1.1784  4.533000e+12  4889.100000   \n",
              "4         1.14640  -0.431240   3856.50  1.4830 -8.991300e+12  3959.204669   \n",
              "...           ...        ...       ...     ...           ...          ...   \n",
              "957914   20.76300  14.744000  27415.00  1.2160  2.139400e+13  2612.000000   \n",
              "957915   -1.09760  -1.099800  13826.00  1.3320  1.829400e+17  3300.500000   \n",
              "957916    1.07590  16.646000   8655.10  1.1113  1.925800e+16   297.610000   \n",
              "957917  132.50000   8.530500   3842.10  1.1941  1.248300e+16  5212.100000   \n",
              "957918    0.67939   1.748777   5901.40  1.0907  1.213800e+16  2132.300000   \n",
              "\n",
              "           f118  \n",
              "0       1.01770  \n",
              "1       0.28359  \n",
              "2       0.40690  \n",
              "3       0.51486  \n",
              "4       0.23049  \n",
              "...         ...  \n",
              "957914  0.42597  \n",
              "957915  0.92974  \n",
              "957916  0.91446  \n",
              "957917  0.20942  \n",
              "957918  0.38069  \n",
              "\n",
              "[957919 rows x 119 columns]"
            ],
            "text/html": [
              "\n",
              "  <div id=\"df-a525ad39-9372-4d50-9e85-32f5c159d9cc\">\n",
              "    <div class=\"colab-df-container\">\n",
              "      <div>\n",
              "<style scoped>\n",
              "    .dataframe tbody tr th:only-of-type {\n",
              "        vertical-align: middle;\n",
              "    }\n",
              "\n",
              "    .dataframe tbody tr th {\n",
              "        vertical-align: top;\n",
              "    }\n",
              "\n",
              "    .dataframe thead th {\n",
              "        text-align: right;\n",
              "    }\n",
              "</style>\n",
              "<table border=\"1\" class=\"dataframe\">\n",
              "  <thead>\n",
              "    <tr style=\"text-align: right;\">\n",
              "      <th></th>\n",
              "      <th>id</th>\n",
              "      <th>f1</th>\n",
              "      <th>f2</th>\n",
              "      <th>f3</th>\n",
              "      <th>f4</th>\n",
              "      <th>f5</th>\n",
              "      <th>f6</th>\n",
              "      <th>f7</th>\n",
              "      <th>f8</th>\n",
              "      <th>f9</th>\n",
              "      <th>...</th>\n",
              "      <th>f109</th>\n",
              "      <th>f110</th>\n",
              "      <th>f111</th>\n",
              "      <th>f112</th>\n",
              "      <th>f113</th>\n",
              "      <th>f114</th>\n",
              "      <th>f115</th>\n",
              "      <th>f116</th>\n",
              "      <th>f117</th>\n",
              "      <th>f118</th>\n",
              "    </tr>\n",
              "  </thead>\n",
              "  <tbody>\n",
              "    <tr>\n",
              "      <th>0</th>\n",
              "      <td>0</td>\n",
              "      <td>0.108590</td>\n",
              "      <td>0.004314</td>\n",
              "      <td>-37.566</td>\n",
              "      <td>0.017364</td>\n",
              "      <td>0.289150</td>\n",
              "      <td>-10.25100</td>\n",
              "      <td>135.12</td>\n",
              "      <td>168900.0</td>\n",
              "      <td>3.992400e+14</td>\n",
              "      <td>...</td>\n",
              "      <td>0.110930</td>\n",
              "      <td>-12.2280</td>\n",
              "      <td>1.7482</td>\n",
              "      <td>1.90960</td>\n",
              "      <td>-7.115700</td>\n",
              "      <td>4378.80</td>\n",
              "      <td>1.2096</td>\n",
              "      <td>8.613400e+14</td>\n",
              "      <td>140.100000</td>\n",
              "      <td>1.01770</td>\n",
              "    </tr>\n",
              "    <tr>\n",
              "      <th>1</th>\n",
              "      <td>1</td>\n",
              "      <td>0.100900</td>\n",
              "      <td>0.299610</td>\n",
              "      <td>11822.000</td>\n",
              "      <td>0.276500</td>\n",
              "      <td>0.459700</td>\n",
              "      <td>-0.83733</td>\n",
              "      <td>1721.90</td>\n",
              "      <td>119810.0</td>\n",
              "      <td>3.874100e+15</td>\n",
              "      <td>...</td>\n",
              "      <td>0.976730</td>\n",
              "      <td>-56.7580</td>\n",
              "      <td>4.1684</td>\n",
              "      <td>0.34808</td>\n",
              "      <td>4.142000</td>\n",
              "      <td>913.23</td>\n",
              "      <td>1.2464</td>\n",
              "      <td>7.575100e+15</td>\n",
              "      <td>1861.000000</td>\n",
              "      <td>0.28359</td>\n",
              "    </tr>\n",
              "    <tr>\n",
              "      <th>2</th>\n",
              "      <td>2</td>\n",
              "      <td>0.178030</td>\n",
              "      <td>-0.006980</td>\n",
              "      <td>907.270</td>\n",
              "      <td>0.272140</td>\n",
              "      <td>0.459480</td>\n",
              "      <td>0.17327</td>\n",
              "      <td>2298.00</td>\n",
              "      <td>360650.0</td>\n",
              "      <td>1.224500e+13</td>\n",
              "      <td>...</td>\n",
              "      <td>0.201020</td>\n",
              "      <td>-5.7688</td>\n",
              "      <td>1.2042</td>\n",
              "      <td>0.26290</td>\n",
              "      <td>8.131200</td>\n",
              "      <td>45119.00</td>\n",
              "      <td>1.1764</td>\n",
              "      <td>3.218100e+14</td>\n",
              "      <td>3838.200000</td>\n",
              "      <td>0.40690</td>\n",
              "    </tr>\n",
              "    <tr>\n",
              "      <th>3</th>\n",
              "      <td>3</td>\n",
              "      <td>0.152360</td>\n",
              "      <td>0.007259</td>\n",
              "      <td>780.100</td>\n",
              "      <td>0.025179</td>\n",
              "      <td>0.519470</td>\n",
              "      <td>7.49140</td>\n",
              "      <td>112.51</td>\n",
              "      <td>259490.0</td>\n",
              "      <td>7.781400e+13</td>\n",
              "      <td>...</td>\n",
              "      <td>-0.011820</td>\n",
              "      <td>-34.8580</td>\n",
              "      <td>2.0694</td>\n",
              "      <td>0.79631</td>\n",
              "      <td>-16.336000</td>\n",
              "      <td>4952.40</td>\n",
              "      <td>1.1784</td>\n",
              "      <td>4.533000e+12</td>\n",
              "      <td>4889.100000</td>\n",
              "      <td>0.51486</td>\n",
              "    </tr>\n",
              "    <tr>\n",
              "      <th>4</th>\n",
              "      <td>4</td>\n",
              "      <td>0.116230</td>\n",
              "      <td>0.502900</td>\n",
              "      <td>-109.150</td>\n",
              "      <td>0.297910</td>\n",
              "      <td>0.344900</td>\n",
              "      <td>-0.40932</td>\n",
              "      <td>2538.90</td>\n",
              "      <td>65332.0</td>\n",
              "      <td>1.907200e+15</td>\n",
              "      <td>...</td>\n",
              "      <td>0.927390</td>\n",
              "      <td>-13.6410</td>\n",
              "      <td>1.5298</td>\n",
              "      <td>1.14640</td>\n",
              "      <td>-0.431240</td>\n",
              "      <td>3856.50</td>\n",
              "      <td>1.4830</td>\n",
              "      <td>-8.991300e+12</td>\n",
              "      <td>3959.204669</td>\n",
              "      <td>0.23049</td>\n",
              "    </tr>\n",
              "    <tr>\n",
              "      <th>...</th>\n",
              "      <td>...</td>\n",
              "      <td>...</td>\n",
              "      <td>...</td>\n",
              "      <td>...</td>\n",
              "      <td>...</td>\n",
              "      <td>...</td>\n",
              "      <td>...</td>\n",
              "      <td>...</td>\n",
              "      <td>...</td>\n",
              "      <td>...</td>\n",
              "      <td>...</td>\n",
              "      <td>...</td>\n",
              "      <td>...</td>\n",
              "      <td>...</td>\n",
              "      <td>...</td>\n",
              "      <td>...</td>\n",
              "      <td>...</td>\n",
              "      <td>...</td>\n",
              "      <td>...</td>\n",
              "      <td>...</td>\n",
              "      <td>...</td>\n",
              "    </tr>\n",
              "    <tr>\n",
              "      <th>957914</th>\n",
              "      <td>957914</td>\n",
              "      <td>0.098979</td>\n",
              "      <td>0.202530</td>\n",
              "      <td>2192.100</td>\n",
              "      <td>0.348010</td>\n",
              "      <td>0.276430</td>\n",
              "      <td>-0.84065</td>\n",
              "      <td>2214.20</td>\n",
              "      <td>26246.0</td>\n",
              "      <td>1.061600e+15</td>\n",
              "      <td>...</td>\n",
              "      <td>0.527470</td>\n",
              "      <td>-51.2970</td>\n",
              "      <td>1.7323</td>\n",
              "      <td>20.76300</td>\n",
              "      <td>14.744000</td>\n",
              "      <td>27415.00</td>\n",
              "      <td>1.2160</td>\n",
              "      <td>2.139400e+13</td>\n",
              "      <td>2612.000000</td>\n",
              "      <td>0.42597</td>\n",
              "    </tr>\n",
              "    <tr>\n",
              "      <th>957915</th>\n",
              "      <td>957915</td>\n",
              "      <td>0.134930</td>\n",
              "      <td>0.413600</td>\n",
              "      <td>1050.100</td>\n",
              "      <td>0.000521</td>\n",
              "      <td>-0.001246</td>\n",
              "      <td>1.76990</td>\n",
              "      <td>3519.90</td>\n",
              "      <td>862290.0</td>\n",
              "      <td>7.321400e+13</td>\n",
              "      <td>...</td>\n",
              "      <td>0.099876</td>\n",
              "      <td>-41.4180</td>\n",
              "      <td>2.6986</td>\n",
              "      <td>-1.09760</td>\n",
              "      <td>-1.099800</td>\n",
              "      <td>13826.00</td>\n",
              "      <td>1.3320</td>\n",
              "      <td>1.829400e+17</td>\n",
              "      <td>3300.500000</td>\n",
              "      <td>0.92974</td>\n",
              "    </tr>\n",
              "    <tr>\n",
              "      <th>957916</th>\n",
              "      <td>957916</td>\n",
              "      <td>0.104660</td>\n",
              "      <td>0.473510</td>\n",
              "      <td>2415.400</td>\n",
              "      <td>0.252230</td>\n",
              "      <td>0.196970</td>\n",
              "      <td>-0.82323</td>\n",
              "      <td>3044.90</td>\n",
              "      <td>13832.0</td>\n",
              "      <td>2.693300e+12</td>\n",
              "      <td>...</td>\n",
              "      <td>0.303780</td>\n",
              "      <td>-15.9670</td>\n",
              "      <td>1.6843</td>\n",
              "      <td>1.07590</td>\n",
              "      <td>16.646000</td>\n",
              "      <td>8655.10</td>\n",
              "      <td>1.1113</td>\n",
              "      <td>1.925800e+16</td>\n",
              "      <td>297.610000</td>\n",
              "      <td>0.91446</td>\n",
              "    </tr>\n",
              "    <tr>\n",
              "      <th>957917</th>\n",
              "      <td>957917</td>\n",
              "      <td>0.118190</td>\n",
              "      <td>0.320870</td>\n",
              "      <td>657.860</td>\n",
              "      <td>0.237290</td>\n",
              "      <td>0.260250</td>\n",
              "      <td>-0.71237</td>\n",
              "      <td>173.20</td>\n",
              "      <td>20811.0</td>\n",
              "      <td>9.711000e+14</td>\n",
              "      <td>...</td>\n",
              "      <td>0.001222</td>\n",
              "      <td>-2.8375</td>\n",
              "      <td>1.3006</td>\n",
              "      <td>132.50000</td>\n",
              "      <td>8.530500</td>\n",
              "      <td>3842.10</td>\n",
              "      <td>1.1941</td>\n",
              "      <td>1.248300e+16</td>\n",
              "      <td>5212.100000</td>\n",
              "      <td>0.20942</td>\n",
              "    </tr>\n",
              "    <tr>\n",
              "      <th>957918</th>\n",
              "      <td>957918</td>\n",
              "      <td>0.088832</td>\n",
              "      <td>0.472230</td>\n",
              "      <td>4309.400</td>\n",
              "      <td>0.017016</td>\n",
              "      <td>0.376880</td>\n",
              "      <td>4.81520</td>\n",
              "      <td>458.20</td>\n",
              "      <td>42183.0</td>\n",
              "      <td>1.805500e+13</td>\n",
              "      <td>...</td>\n",
              "      <td>0.225230</td>\n",
              "      <td>-24.2290</td>\n",
              "      <td>2.4189</td>\n",
              "      <td>0.67939</td>\n",
              "      <td>1.748777</td>\n",
              "      <td>5901.40</td>\n",
              "      <td>1.0907</td>\n",
              "      <td>1.213800e+16</td>\n",
              "      <td>2132.300000</td>\n",
              "      <td>0.38069</td>\n",
              "    </tr>\n",
              "  </tbody>\n",
              "</table>\n",
              "<p>957919 rows × 119 columns</p>\n",
              "</div>\n",
              "      <button class=\"colab-df-convert\" onclick=\"convertToInteractive('df-a525ad39-9372-4d50-9e85-32f5c159d9cc')\"\n",
              "              title=\"Convert this dataframe to an interactive table.\"\n",
              "              style=\"display:none;\">\n",
              "        \n",
              "  <svg xmlns=\"http://www.w3.org/2000/svg\" height=\"24px\"viewBox=\"0 0 24 24\"\n",
              "       width=\"24px\">\n",
              "    <path d=\"M0 0h24v24H0V0z\" fill=\"none\"/>\n",
              "    <path d=\"M18.56 5.44l.94 2.06.94-2.06 2.06-.94-2.06-.94-.94-2.06-.94 2.06-2.06.94zm-11 1L8.5 8.5l.94-2.06 2.06-.94-2.06-.94L8.5 2.5l-.94 2.06-2.06.94zm10 10l.94 2.06.94-2.06 2.06-.94-2.06-.94-.94-2.06-.94 2.06-2.06.94z\"/><path d=\"M17.41 7.96l-1.37-1.37c-.4-.4-.92-.59-1.43-.59-.52 0-1.04.2-1.43.59L10.3 9.45l-7.72 7.72c-.78.78-.78 2.05 0 2.83L4 21.41c.39.39.9.59 1.41.59.51 0 1.02-.2 1.41-.59l7.78-7.78 2.81-2.81c.8-.78.8-2.07 0-2.86zM5.41 20L4 18.59l7.72-7.72 1.47 1.35L5.41 20z\"/>\n",
              "  </svg>\n",
              "      </button>\n",
              "      \n",
              "  <style>\n",
              "    .colab-df-container {\n",
              "      display:flex;\n",
              "      flex-wrap:wrap;\n",
              "      gap: 12px;\n",
              "    }\n",
              "\n",
              "    .colab-df-convert {\n",
              "      background-color: #E8F0FE;\n",
              "      border: none;\n",
              "      border-radius: 50%;\n",
              "      cursor: pointer;\n",
              "      display: none;\n",
              "      fill: #1967D2;\n",
              "      height: 32px;\n",
              "      padding: 0 0 0 0;\n",
              "      width: 32px;\n",
              "    }\n",
              "\n",
              "    .colab-df-convert:hover {\n",
              "      background-color: #E2EBFA;\n",
              "      box-shadow: 0px 1px 2px rgba(60, 64, 67, 0.3), 0px 1px 3px 1px rgba(60, 64, 67, 0.15);\n",
              "      fill: #174EA6;\n",
              "    }\n",
              "\n",
              "    [theme=dark] .colab-df-convert {\n",
              "      background-color: #3B4455;\n",
              "      fill: #D2E3FC;\n",
              "    }\n",
              "\n",
              "    [theme=dark] .colab-df-convert:hover {\n",
              "      background-color: #434B5C;\n",
              "      box-shadow: 0px 1px 3px 1px rgba(0, 0, 0, 0.15);\n",
              "      filter: drop-shadow(0px 1px 2px rgba(0, 0, 0, 0.3));\n",
              "      fill: #FFFFFF;\n",
              "    }\n",
              "  </style>\n",
              "\n",
              "      <script>\n",
              "        const buttonEl =\n",
              "          document.querySelector('#df-a525ad39-9372-4d50-9e85-32f5c159d9cc button.colab-df-convert');\n",
              "        buttonEl.style.display =\n",
              "          google.colab.kernel.accessAllowed ? 'block' : 'none';\n",
              "\n",
              "        async function convertToInteractive(key) {\n",
              "          const element = document.querySelector('#df-a525ad39-9372-4d50-9e85-32f5c159d9cc');\n",
              "          const dataTable =\n",
              "            await google.colab.kernel.invokeFunction('convertToInteractive',\n",
              "                                                     [key], {});\n",
              "          if (!dataTable) return;\n",
              "\n",
              "          const docLinkHtml = 'Like what you see? Visit the ' +\n",
              "            '<a target=\"_blank\" href=https://colab.research.google.com/notebooks/data_table.ipynb>data table notebook</a>'\n",
              "            + ' to learn more about interactive tables.';\n",
              "          element.innerHTML = '';\n",
              "          dataTable['output_type'] = 'display_data';\n",
              "          await google.colab.output.renderOutput(dataTable, element);\n",
              "          const docLink = document.createElement('div');\n",
              "          docLink.innerHTML = docLinkHtml;\n",
              "          element.appendChild(docLink);\n",
              "        }\n",
              "      </script>\n",
              "    </div>\n",
              "  </div>\n",
              "  "
            ]
          },
          "metadata": {},
          "execution_count": 10
        }
      ]
    },
    {
      "cell_type": "markdown",
      "source": [
        "Создадим обучающую выборку Х, переведем получанные цифровые данные в np.array"
      ],
      "metadata": {
        "id": "8rAHUPbSzG0P"
      }
    },
    {
      "cell_type": "code",
      "source": [
        "X = np.array(X[X.columns])\n",
        "X"
      ],
      "metadata": {
        "colab": {
          "base_uri": "https://localhost:8080/"
        },
        "id": "KYfc9668y8c4",
        "outputId": "e063104d-95ba-4849-e9eb-88ec7b105bd1"
      },
      "execution_count": 11,
      "outputs": [
        {
          "output_type": "execute_result",
          "data": {
            "text/plain": [
              "array([[ 0.00000e+00,  1.08590e-01,  4.31390e-03, ...,  8.61340e+14,\n",
              "         1.40100e+02,  1.01770e+00],\n",
              "       [ 1.00000e+00,  1.00900e-01,  2.99610e-01, ...,  7.57510e+15,\n",
              "         1.86100e+03,  2.83590e-01],\n",
              "       [ 2.00000e+00,  1.78030e-01, -6.98000e-03, ...,  3.21810e+14,\n",
              "         3.83820e+03,  4.06900e-01],\n",
              "       ...,\n",
              "       [ 9.57916e+05,  1.04660e-01,  4.73510e-01, ...,  1.92580e+16,\n",
              "         2.97610e+02,  9.14460e-01],\n",
              "       [ 9.57917e+05,  1.18190e-01,  3.20870e-01, ...,  1.24830e+16,\n",
              "         5.21210e+03,  2.09420e-01],\n",
              "       [ 9.57918e+05,  8.88320e-02,  4.72230e-01, ...,  1.21380e+16,\n",
              "         2.13230e+03,  3.80690e-01]])"
            ]
          },
          "metadata": {},
          "execution_count": 11
        }
      ]
    },
    {
      "cell_type": "code",
      "source": [
        "from sklearn.preprocessing import scale\n",
        "X_scaled = scale(np.array(X, dtype='float'), with_std=True, with_mean=True)\n",
        "X_scaled"
      ],
      "metadata": {
        "colab": {
          "base_uri": "https://localhost:8080/"
        },
        "id": "mRfqzwDHzNL3",
        "outputId": "2b491d5a-f4c4-4ac2-bcd5-03d878472341"
      },
      "execution_count": 12,
      "outputs": [
        {
          "output_type": "stream",
          "name": "stderr",
          "text": [
            "/usr/local/lib/python3.7/dist-packages/sklearn/preprocessing/_data.py:236: UserWarning: Numerical issues were encountered when centering the data and might not be solved. Dataset may contain too large values. You may need to prescale your features.\n",
            "  \"Numerical issues were encountered \"\n"
          ]
        },
        {
          "output_type": "execute_result",
          "data": {
            "text/plain": [
              "array([[-1.732049  ,  0.42552055, -2.35480204, ..., -0.62760228,\n",
              "        -1.21996361,  1.13145817],\n",
              "       [-1.73204538,  0.24757566, -0.31949037, ..., -0.52705823,\n",
              "        -0.67024436, -0.68039886],\n",
              "       [-1.73204177,  2.03234674, -2.4326446 , ..., -0.63568218,\n",
              "        -0.03865338, -0.37605743],\n",
              "       ...,\n",
              "       [ 1.73204177,  0.33458123,  0.87910555, ..., -0.35209725,\n",
              "        -1.16964908,  0.87665151],\n",
              "       [ 1.73204538,  0.64766242, -0.17295702, ..., -0.45355841,\n",
              "         0.40022122, -0.86345785],\n",
              "       [ 1.732049  , -0.03167518,  0.87028322, ..., -0.45872507,\n",
              "        -0.58358108, -0.44074633]])"
            ]
          },
          "metadata": {},
          "execution_count": 12
        }
      ]
    },
    {
      "cell_type": "code",
      "source": [
        "X.shape, y.shape"
      ],
      "metadata": {
        "colab": {
          "base_uri": "https://localhost:8080/"
        },
        "id": "vwOexFgxzURO",
        "outputId": "9ee8e646-8ccb-4407-a3a5-8305e36ce273"
      },
      "execution_count": 13,
      "outputs": [
        {
          "output_type": "execute_result",
          "data": {
            "text/plain": [
              "((957919, 119), (957919,))"
            ]
          },
          "metadata": {},
          "execution_count": 13
        }
      ]
    },
    {
      "cell_type": "code",
      "source": [
        "from sklearn.model_selection import train_test_split\n",
        "\n",
        "X_train, X_test, y_train, y_test = train_test_split(X, y, test_size=0.1)"
      ],
      "metadata": {
        "id": "IzTwUSNgzcRv"
      },
      "execution_count": 14,
      "outputs": []
    },
    {
      "cell_type": "code",
      "source": [
        "import warnings\n",
        "from imblearn.under_sampling import TomekLinks\n",
        "from sklearn.neighbors import KNeighborsClassifier\n",
        "from sklearn.linear_model import LogisticRegression\n",
        "from sklearn import tree\n",
        "from sklearn.ensemble import RandomForestClassifier\n",
        "from random import sample\n",
        "from sklearn.model_selection import cross_val_score, train_test_split\n",
        "from  sklearn.feature_extraction.text import CountVectorizer\n",
        "warnings.filterwarnings(\"ignore\")"
      ],
      "metadata": {
        "id": "aty0oV5N0dDh"
      },
      "execution_count": 15,
      "outputs": []
    },
    {
      "cell_type": "code",
      "source": [
        "params = {\n",
        "        \"random_state\": 42,\n",
        "        \"eval_metric\": \"auc\",\n",
        "        \"n_estimators\" : 8000,\n",
        "        \"use_label_encoder\" : \"False\",\n",
        "        \"max_depth\" : 3,\n",
        "        \"learning_rate\" : 0.027297134107723935,\n",
        "        \"colsample_bytree\" : 0.7843918860573006,\n",
        "        \"objective\" : \"binary:logistic\", \n",
        "        \"subsample\" : 0.7459596984766819,\n",
        "        \"gamma\" : 0.05008218776821978,\n",
        "        \"reg_alpha\" : 0.861755644724069,\n",
        "        \"reg_lambda\" : 0.11499104081826494,\n",
        "        \"min_child_weight\" : 227, \n",
        "        \"booster\" : \"gbtree\",\n",
        "        # cpu\n",
        "        #\"n_jobs\": -1,\n",
        "        # gpu\n",
        "        \"predictor\": \"gpu_predictor\",\n",
        "        \"tree_method\": \"gpu_hist\"\n",
        "    }"
      ],
      "metadata": {
        "id": "p1tCB2uxzmlI"
      },
      "execution_count": 16,
      "outputs": []
    },
    {
      "cell_type": "code",
      "source": [
        "import xgboost as xgbm"
      ],
      "metadata": {
        "id": "lWtKi72S6E6c"
      },
      "execution_count": 17,
      "outputs": []
    },
    {
      "cell_type": "code",
      "source": [
        "model = xgbm.XGBClassifier(**params)\n",
        "model.fit(X_train, y_train,\n",
        "          eval_set=[(X_test, y_test)],\n",
        "          early_stopping_rounds=300, verbose=1000)"
      ],
      "metadata": {
        "colab": {
          "base_uri": "https://localhost:8080/"
        },
        "id": "eJpkfs1S5RLL",
        "outputId": "385a9aaa-e8d5-4d37-ffa5-2644d9ae126d"
      },
      "execution_count": 18,
      "outputs": [
        {
          "output_type": "stream",
          "name": "stdout",
          "text": [
            "[0]\tvalidation_0-auc:0.520952\n",
            "Will train until validation_0-auc hasn't improved in 300 rounds.\n",
            "[1000]\tvalidation_0-auc:0.75828\n",
            "[2000]\tvalidation_0-auc:0.779119\n",
            "[3000]\tvalidation_0-auc:0.783774\n",
            "[4000]\tvalidation_0-auc:0.785572\n",
            "[5000]\tvalidation_0-auc:0.786485\n",
            "[6000]\tvalidation_0-auc:0.786857\n",
            "[7000]\tvalidation_0-auc:0.787017\n",
            "[7999]\tvalidation_0-auc:0.78716\n"
          ]
        },
        {
          "output_type": "execute_result",
          "data": {
            "text/plain": [
              "XGBClassifier(colsample_bytree=0.7843918860573006, eval_metric='auc',\n",
              "              gamma=0.05008218776821978, learning_rate=0.027297134107723935,\n",
              "              min_child_weight=227, n_estimators=8000,\n",
              "              predictor='gpu_predictor', random_state=42,\n",
              "              reg_alpha=0.861755644724069, reg_lambda=0.11499104081826494,\n",
              "              subsample=0.7459596984766819, tree_method='gpu_hist',\n",
              "              use_label_encoder='False')"
            ]
          },
          "metadata": {},
          "execution_count": 18
        }
      ]
    },
    {
      "cell_type": "code",
      "source": [
        "from sklearn.metrics import roc_auc_score"
      ],
      "metadata": {
        "id": "xJWpIMJU-ClF"
      },
      "execution_count": 19,
      "outputs": []
    },
    {
      "cell_type": "code",
      "source": [
        "test_norm = np.array(test[test.columns])\n",
        "test_norm"
      ],
      "metadata": {
        "colab": {
          "base_uri": "https://localhost:8080/"
        },
        "id": "1i1MY9i78-00",
        "outputId": "aa35766e-dccf-45ea-d83d-0f8dc175d811"
      },
      "execution_count": 20,
      "outputs": [
        {
          "output_type": "execute_result",
          "data": {
            "text/plain": [
              "array([[ 9.579190e+05,  1.658500e-01,  4.870500e-01, ...,  1.980400e+14,\n",
              "         2.017100e+03,  4.635700e-01],\n",
              "       [ 9.579200e+05,  1.296500e-01,  3.734800e-01, ...,  4.388000e+16,\n",
              "         6.638900e+03,  2.812500e-01],\n",
              "       [ 9.579210e+05,  1.201900e-01,  4.452100e-01, ...,  1.718100e+14,\n",
              "         5.844000e+03,  1.379700e-01],\n",
              "       ...,\n",
              "       [ 1.451390e+06,  1.406200e-01,  4.847500e-01, ...,  7.900900e+16,\n",
              "         2.904600e+03,  1.800500e-01],\n",
              "       [ 1.451391e+06,  1.680000e-01,  3.517600e-01, ..., -1.770600e+14,\n",
              "         6.763100e+03,  3.322300e-01],\n",
              "       [ 1.451392e+06,  9.307900e-02,  5.018600e-01, ...,  2.459300e+15,\n",
              "         8.770000e+03,  9.550300e-01]])"
            ]
          },
          "metadata": {},
          "execution_count": 20
        }
      ]
    },
    {
      "cell_type": "code",
      "source": [
        "#test_norm = scale(np.array(test_norm, dtype='float'), with_std=True, with_mean=True)\n",
        "#test_norm"
      ],
      "metadata": {
        "colab": {
          "base_uri": "https://localhost:8080/"
        },
        "id": "lqEkwQqOAF8c",
        "outputId": "d92637f4-8576-4cff-be71-014d930a48f3"
      },
      "execution_count": null,
      "outputs": [
        {
          "output_type": "execute_result",
          "data": {
            "text/plain": [
              "array([[-1.7320473 ,  1.7516978 ,  0.97367281, ..., -0.63758013,\n",
              "        -0.62222421, -0.23485895],\n",
              "       [-1.73204028,  0.91357442,  0.18890239, ...,  0.01551056,\n",
              "         0.85142028, -0.68481465],\n",
              "       [-1.73203326,  0.69455102,  0.68455778, ..., -0.63797229,\n",
              "         0.59796924, -1.03842178],\n",
              "       ...,\n",
              "       [ 1.73203326,  1.16755822,  0.95777978, ...,  0.5407256 ,\n",
              "        -0.339248  , -0.93457066],\n",
              "       [ 1.73204028,  1.80147585,  0.03881686, ..., -0.64318826,\n",
              "         0.891021  , -0.55899882],\n",
              "       [ 1.7320473 ,  0.06686143,  1.07601014, ..., -0.60377194,\n",
              "         1.53091393,  0.9780372 ]])"
            ]
          },
          "metadata": {},
          "execution_count": 29
        }
      ]
    },
    {
      "cell_type": "code",
      "source": [
        "predict = model.predict(test_norm)"
      ],
      "metadata": {
        "id": "kISlHM_1Ado9"
      },
      "execution_count": 21,
      "outputs": []
    },
    {
      "cell_type": "code",
      "source": [
        "predict"
      ],
      "metadata": {
        "colab": {
          "base_uri": "https://localhost:8080/"
        },
        "id": "Wnclc_4dAtal",
        "outputId": "5fa8bdb8-7c08-4bfb-ad33-839f3ed17ffd"
      },
      "execution_count": 22,
      "outputs": [
        {
          "output_type": "execute_result",
          "data": {
            "text/plain": [
              "array([0, 0, 0, ..., 1, 0, 1])"
            ]
          },
          "metadata": {},
          "execution_count": 22
        }
      ]
    },
    {
      "cell_type": "code",
      "source": [
        "sample =pd.read_csv('/content/drive/MyDrive/my_databases/tabular-playground-series-sep-2021/sample_solution.csv')"
      ],
      "metadata": {
        "id": "Z_8-ehgABebH"
      },
      "execution_count": 23,
      "outputs": []
    },
    {
      "cell_type": "code",
      "source": [
        "submission =pd.read_csv('/content/drive/MyDrive/my_databases/tabular-playground-series-sep-2021/sample_solution.csv')\n",
        "submission.claim = predict\n",
        "submission.to_csv('submission.csv', index=False)"
      ],
      "metadata": {
        "id": "a6faaCmeB7-v"
      },
      "execution_count": 24,
      "outputs": []
    }
  ]
}