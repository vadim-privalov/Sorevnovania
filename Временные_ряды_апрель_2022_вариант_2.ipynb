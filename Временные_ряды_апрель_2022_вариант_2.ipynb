{
  "cells": [
    {
      "cell_type": "markdown",
      "metadata": {
        "id": "view-in-github",
        "colab_type": "text"
      },
      "source": [
        "<a href=\"https://colab.research.google.com/github/vadim-privalov/Sorevnovania/blob/main/%D0%92%D1%80%D0%B5%D0%BC%D0%B5%D0%BD%D0%BD%D1%8B%D0%B5_%D1%80%D1%8F%D0%B4%D1%8B_%D0%B0%D0%BF%D1%80%D0%B5%D0%BB%D1%8C_2022_%D0%B2%D0%B0%D1%80%D0%B8%D0%B0%D0%BD%D1%82_2.ipynb\" target=\"_parent\"><img src=\"https://colab.research.google.com/assets/colab-badge.svg\" alt=\"Open In Colab\"/></a>"
      ]
    },
    {
      "cell_type": "code",
      "execution_count": null,
      "metadata": {
        "colab": {
          "base_uri": "https://localhost:8080/"
        },
        "id": "e6n0wgCx2iVm",
        "outputId": "4fa2c8c2-3f2a-4d63-a3ee-4ffe6d710a95"
      },
      "outputs": [
        {
          "name": "stdout",
          "output_type": "stream",
          "text": [
            "Drive already mounted at /content/drive; to attempt to forcibly remount, call drive.mount(\"/content/drive\", force_remount=True).\n"
          ]
        }
      ],
      "source": [
        "from google.colab import drive\n",
        "drive.mount('/content/drive')"
      ]
    },
    {
      "cell_type": "code",
      "execution_count": null,
      "metadata": {
        "id": "gt6GU51M-zK1"
      },
      "outputs": [],
      "source": [
        "import matplotlib as mpl\n",
        "import matplotlib.pyplot as plt #Отрисовка изображений\n",
        "#Отрисовывать изображения в ноутбуке, а не в консоль или файл\n",
        "%matplotlib inline"
      ]
    },
    {
      "cell_type": "code",
      "execution_count": null,
      "metadata": {
        "colab": {
          "base_uri": "https://localhost:8080/"
        },
        "id": "s810KeH63Cm3",
        "outputId": "b9d7bba5-3896-41cf-b4e4-062e8098a044"
      },
      "outputs": [
        {
          "name": "stdout",
          "output_type": "stream",
          "text": [
            "Collecting category_encoders\n",
            "  Downloading category_encoders-2.4.0-py2.py3-none-any.whl (86 kB)\n",
            "\u001b[?25l\r\u001b[K     |███▉                            | 10 kB 18.1 MB/s eta 0:00:01\r\u001b[K     |███████▋                        | 20 kB 11.8 MB/s eta 0:00:01\r\u001b[K     |███████████▍                    | 30 kB 9.3 MB/s eta 0:00:01\r\u001b[K     |███████████████▏                | 40 kB 4.5 MB/s eta 0:00:01\r\u001b[K     |███████████████████             | 51 kB 4.4 MB/s eta 0:00:01\r\u001b[K     |██████████████████████▊         | 61 kB 5.2 MB/s eta 0:00:01\r\u001b[K     |██████████████████████████▌     | 71 kB 5.3 MB/s eta 0:00:01\r\u001b[K     |██████████████████████████████▎ | 81 kB 5.9 MB/s eta 0:00:01\r\u001b[K     |████████████████████████████████| 86 kB 3.0 MB/s \n",
            "\u001b[?25hRequirement already satisfied: scipy>=1.0.0 in /usr/local/lib/python3.7/dist-packages (from category_encoders) (1.4.1)\n",
            "Requirement already satisfied: pandas>=0.21.1 in /usr/local/lib/python3.7/dist-packages (from category_encoders) (1.3.5)\n",
            "Requirement already satisfied: scikit-learn>=0.20.0 in /usr/local/lib/python3.7/dist-packages (from category_encoders) (1.0.2)\n",
            "Requirement already satisfied: statsmodels>=0.9.0 in /usr/local/lib/python3.7/dist-packages (from category_encoders) (0.10.2)\n",
            "Requirement already satisfied: patsy>=0.5.1 in /usr/local/lib/python3.7/dist-packages (from category_encoders) (0.5.2)\n",
            "Requirement already satisfied: numpy>=1.14.0 in /usr/local/lib/python3.7/dist-packages (from category_encoders) (1.21.6)\n",
            "Requirement already satisfied: pytz>=2017.3 in /usr/local/lib/python3.7/dist-packages (from pandas>=0.21.1->category_encoders) (2022.1)\n",
            "Requirement already satisfied: python-dateutil>=2.7.3 in /usr/local/lib/python3.7/dist-packages (from pandas>=0.21.1->category_encoders) (2.8.2)\n",
            "Requirement already satisfied: six in /usr/local/lib/python3.7/dist-packages (from patsy>=0.5.1->category_encoders) (1.15.0)\n",
            "Requirement already satisfied: threadpoolctl>=2.0.0 in /usr/local/lib/python3.7/dist-packages (from scikit-learn>=0.20.0->category_encoders) (3.1.0)\n",
            "Requirement already satisfied: joblib>=0.11 in /usr/local/lib/python3.7/dist-packages (from scikit-learn>=0.20.0->category_encoders) (1.1.0)\n",
            "Installing collected packages: category-encoders\n",
            "Successfully installed category-encoders-2.4.0\n"
          ]
        }
      ],
      "source": [
        "pip install --upgrade category_encoders"
      ]
    },
    {
      "cell_type": "code",
      "execution_count": null,
      "metadata": {
        "colab": {
          "base_uri": "https://localhost:8080/"
        },
        "id": "HLZyrkem3b2m",
        "outputId": "139bf05c-1e54-44ce-d8c9-4dadd1ae5446"
      },
      "outputs": [
        {
          "name": "stdout",
          "output_type": "stream",
          "text": [
            "Collecting catboost\n",
            "  Downloading catboost-1.0.5-cp37-none-manylinux1_x86_64.whl (76.6 MB)\n",
            "\u001b[K     |████████████████████████████████| 76.6 MB 1.6 MB/s \n",
            "\u001b[?25hRequirement already satisfied: graphviz in /usr/local/lib/python3.7/dist-packages (from catboost) (0.10.1)\n",
            "Requirement already satisfied: numpy>=1.16.0 in /usr/local/lib/python3.7/dist-packages (from catboost) (1.21.6)\n",
            "Requirement already satisfied: plotly in /usr/local/lib/python3.7/dist-packages (from catboost) (5.5.0)\n",
            "Requirement already satisfied: matplotlib in /usr/local/lib/python3.7/dist-packages (from catboost) (3.2.2)\n",
            "Requirement already satisfied: scipy in /usr/local/lib/python3.7/dist-packages (from catboost) (1.4.1)\n",
            "Requirement already satisfied: pandas>=0.24.0 in /usr/local/lib/python3.7/dist-packages (from catboost) (1.3.5)\n",
            "Requirement already satisfied: six in /usr/local/lib/python3.7/dist-packages (from catboost) (1.15.0)\n",
            "Requirement already satisfied: pytz>=2017.3 in /usr/local/lib/python3.7/dist-packages (from pandas>=0.24.0->catboost) (2022.1)\n",
            "Requirement already satisfied: python-dateutil>=2.7.3 in /usr/local/lib/python3.7/dist-packages (from pandas>=0.24.0->catboost) (2.8.2)\n",
            "Requirement already satisfied: cycler>=0.10 in /usr/local/lib/python3.7/dist-packages (from matplotlib->catboost) (0.11.0)\n",
            "Requirement already satisfied: pyparsing!=2.0.4,!=2.1.2,!=2.1.6,>=2.0.1 in /usr/local/lib/python3.7/dist-packages (from matplotlib->catboost) (3.0.8)\n",
            "Requirement already satisfied: kiwisolver>=1.0.1 in /usr/local/lib/python3.7/dist-packages (from matplotlib->catboost) (1.4.2)\n",
            "Requirement already satisfied: typing-extensions in /usr/local/lib/python3.7/dist-packages (from kiwisolver>=1.0.1->matplotlib->catboost) (4.1.1)\n",
            "Requirement already satisfied: tenacity>=6.2.0 in /usr/local/lib/python3.7/dist-packages (from plotly->catboost) (8.0.1)\n",
            "Installing collected packages: catboost\n",
            "Successfully installed catboost-1.0.5\n"
          ]
        }
      ],
      "source": [
        "pip install catboost"
      ]
    },
    {
      "cell_type": "code",
      "execution_count": null,
      "metadata": {
        "id": "MJFklRv4zeSf"
      },
      "outputs": [],
      "source": [
        "# Basic Libraries\n",
        "from IPython.display import clear_output\n",
        "import os\n",
        "import warnings\n",
        "from pathlib import Path\n",
        "\n",
        "import matplotlib.pyplot as plt\n",
        "import numpy as np\n",
        "import pandas as pd\n",
        "import pandas_profiling as pp\n",
        "import seaborn as sns\n",
        "from IPython.display import display\n",
        "\n",
        "# Encoders\n",
        "from pandas.api.types import CategoricalDtype\n",
        "from category_encoders import MEstimateEncoder\n",
        "from sklearn.preprocessing import LabelEncoder, OrdinalEncoder, StandardScaler\n",
        "from category_encoders import MEstimateEncoder\n",
        "\n",
        "# Scikit Learn\n",
        "from sklearn.cluster import KMeans\n",
        "from sklearn.decomposition import PCA\n",
        "from sklearn.feature_selection import mutual_info_regression\n",
        "from sklearn.model_selection import KFold, cross_val_score, StratifiedKFold, learning_curve, train_test_split, GroupKFold\n",
        "\n",
        "# Algorithms\n",
        "from xgboost import XGBClassifier\n",
        "from lightgbm import LGBMClassifier\n",
        "from catboost import CatBoostClassifier\n",
        "\n",
        "# Optuna - Bayesian Optimization \n",
        "#import optuna\n",
        "#from optuna.samplers import TPESampler\n",
        "\n",
        "# Plotly\n",
        "import plotly.express as px\n",
        "from plotly.subplots import make_subplots\n",
        "import plotly.figure_factory as ff\n",
        "import plotly.offline as offline\n",
        "import plotly.graph_objs as go\n",
        "\n",
        "# TPS April22 Metric\n",
        "from sklearn.metrics import roc_auc_score\n",
        "\n",
        "# Permutation Importance\n",
        "#import eli5\n",
        "#from eli5.sklearn import PermutationImportance\n",
        "\n",
        "# TensorFlow\n",
        "import tensorflow as tf\n",
        "from tensorflow.keras.utils import plot_model\n",
        "from tensorflow.keras.models import Model, load_model\n",
        "from tensorflow.keras.callbacks import EarlyStopping\n",
        "from tensorflow.keras.callbacks import ModelCheckpoint\n",
        "from tensorflow.keras.callbacks import ReduceLROnPlateau\n",
        "from tensorflow.keras.layers import GlobalMaxPooling1D\n",
        "from tensorflow.keras.layers import BatchNormalization\n",
        "from tensorflow.keras.layers import Dense, Dropout, Input\n",
        "from tensorflow.keras.layers import Concatenate, LSTM, GRU\n",
        "from tensorflow.keras.layers import Bidirectional, Multiply\n",
        "\n",
        "warnings.filterwarnings('ignore')\n",
        "\n",
        "def load_data():\n",
        "    df_train = pd.read_csv(filepath_or_buffer = \"/content/drive/MyDrive/my_databases/tabular-playground-series-apr-2022/train.csv\",\n",
        "                           sep = ',')\n",
        "    df_test = pd.read_csv(filepath_or_buffer = \"/content/drive/MyDrive/my_databases/tabular-playground-series-apr-2022/test.csv\",\n",
        "                           sep = ',')\n",
        "    train_labels = pd.read_csv(filepath_or_buffer = \"/content/drive/MyDrive/my_databases/tabular-playground-series-apr-2022/train_labels.csv\",\n",
        "                           sep = ',')\n",
        "    # Merge the splits so we can process them together\n",
        "    df_train = df_train.merge(train_labels, on='sequence', how='outer')\n",
        "    df = pd.concat([df_train, df_test])\n",
        "    return df\n",
        "\n",
        "def plot_feature_importance(importance,names,model_type):\n",
        "    \n",
        "    #Create arrays from feature importance and feature names\n",
        "    feature_importance = np.array(importance)\n",
        "    feature_names = np.array(names)\n",
        "    \n",
        "    #Create a DataFrame using a Dictionary\n",
        "    data={'feature_names':feature_names,'feature_importance':feature_importance}\n",
        "    fi_df = pd.DataFrame(data)\n",
        "    \n",
        "    #Sort the DataFrame in order decreasing feature importance\n",
        "    fi_df.sort_values(by=['feature_importance'], ascending=False,inplace=True)\n",
        "    fi_df = fi_df[fi_df.feature_importance > 0]\n",
        "    fig = px.bar(fi_df, x='feature_names', y='feature_importance', color=\"feature_importance\",\n",
        "             color_continuous_scale='Blugrn')\n",
        "    \n",
        "    # General Styling\n",
        "    fig.update_layout(height=750, bargap=0.2,\n",
        "                  margin=dict(b=50,r=30,l=100,t=100),\n",
        "                  title = \"<span style='font-size:36px; font-family:Times New Roman'>Feature Importance Analysis</span>\",                  \n",
        "                  plot_bgcolor='rgb(242,242,242)',\n",
        "                  paper_bgcolor = 'rgb(242,242,242)',\n",
        "                  font=dict(family=\"Times New Roman\", size= 14),\n",
        "                  hoverlabel=dict(font_color=\"floralwhite\"),\n",
        "                  showlegend=False)\n",
        "    fig.show()\n",
        "\n",
        "df_data = load_data()\n",
        "clear_output()\n",
        "#pp.ProfileReport(df_data)"
      ]
    },
    {
      "cell_type": "markdown",
      "metadata": {
        "id": "NR55Zd4g5B99"
      },
      "source": [
        "Анализируя предыдущий отчет о профилировании, мы смогли заметить следующее в отношении предоставленного набора данных:\n",
        "\n",
        "2.3M приведенных примеров\n",
        "Все переменные являются числовыми.\n",
        "Никаких пропущенных значений.\n",
        "Высокая корреляция между некоторыми парами характеристик датчиков.\n",
        "Ни одна из функций датчика не распределена равномерно.\n",
        "Мы собираемся провести более исчерпывающий анализ в следующем разделе."
      ]
    },
    {
      "cell_type": "markdown",
      "metadata": {
        "id": "WP6Z7uI94_Ul"
      },
      "source": [
        "Как мы можем наблюдать в предыдущем отчете из набора данных, у нас есть объем более 2,3 миллионов строк. В связи с этим, чтобы не возникало проблем с памятью в ядре, мы собираемся уменьшить его использование памяти с помощью следующей функции. Ниже мы можем оценить, что сокращение было успешным, поскольку нам удалось добиться сокращения на 50,7%."
      ]
    },
    {
      "cell_type": "code",
      "execution_count": null,
      "metadata": {
        "colab": {
          "base_uri": "https://localhost:8080/"
        },
        "id": "FELgj0Af40he",
        "outputId": "1cb03891-5b70-4c17-e2b3-3b1743dee5c0"
      },
      "outputs": [
        {
          "name": "stdout",
          "output_type": "stream",
          "text": [
            "Mem. usage decreased to 155.14 Mb (50.7% reduction)\n"
          ]
        }
      ],
      "source": [
        "def reduce_mem_usage(df, verbose=True):\n",
        "    numerics = ['int8','int16', 'int32', 'int64', 'float16', 'float32', 'float64']\n",
        "    start_mem = df.memory_usage().sum() / 1024**2\n",
        "\n",
        "    for col in df.columns:\n",
        "        col_type = df[col].dtypes\n",
        "\n",
        "        if col_type in numerics:\n",
        "            c_min = df[col].min()\n",
        "            c_max = df[col].max()\n",
        "\n",
        "            if str(col_type)[:3] == 'int':\n",
        "                if c_min > np.iinfo(np.int8).min and c_max < np.iinfo(np.int8).max:\n",
        "                    df[col] = df[col].astype(np.int8)\n",
        "                elif c_min > np.iinfo(np.int16).min and c_max < np.iinfo(np.int16).max:\n",
        "                    df[col] = df[col].astype(np.int16)\n",
        "                elif c_min > np.iinfo(np.int32).min and c_max < np.iinfo(np.int32).max:\n",
        "                    df[col] = df[col].astype(np.int32)\n",
        "                elif c_min > np.iinfo(np.int64).min and c_max < np.iinfo(np.int64).max:\n",
        "                    df[col] = df[col].astype(np.int64)  \n",
        "            else:\n",
        "                if c_min > np.finfo(np.float32).min and c_max < np.finfo(np.float32).max:\n",
        "                    df[col] = df[col].astype(np.float32)\n",
        "                else:\n",
        "                    df[col] = df[col].astype(np.float64)\n",
        "\n",
        "    end_mem = df.memory_usage().sum() / 1024**2\n",
        "\n",
        "    if verbose:\n",
        "        print('Mem. usage decreased to {:5.2f} Mb ({:.1f}% reduction)'.format(end_mem, 100 * (start_mem - end_mem) / start_mem))\n",
        " \n",
        "    return df\n",
        "\n",
        "df_data = reduce_mem_usage(df_data)"
      ]
    },
    {
      "cell_type": "markdown",
      "metadata": {
        "id": "YL8w2vz65eP1"
      },
      "source": [
        "Хотя у нас был один в верхнем отчете, мы собираемся построить другой, чтобы проанализировать и изучить лучшие корреляции между нашими функциями. Для тех, кто заинтересован, мои визуализации будут сделаны с помощью библиотеки Plotly. Надеюсь, они вам понравятся! Не стесняйтесь писать мне в комментариях с любыми советами, чтобы улучшить их."
      ]
    },
    {
      "cell_type": "code",
      "execution_count": null,
      "metadata": {
        "colab": {
          "base_uri": "https://localhost:8080/",
          "height": 767
        },
        "id": "Wv1mQ-ce5f2V",
        "outputId": "7a557a33-9069-4f25-93c5-e7473a5e9d95"
      },
      "outputs": [
        {
          "data": {
            "text/html": [
              "<html>\n",
              "<head><meta charset=\"utf-8\" /></head>\n",
              "<body>\n",
              "    <div>            <script src=\"https://cdnjs.cloudflare.com/ajax/libs/mathjax/2.7.5/MathJax.js?config=TeX-AMS-MML_SVG\"></script><script type=\"text/javascript\">if (window.MathJax) {MathJax.Hub.Config({SVG: {font: \"STIX-Web\"}});}</script>                <script type=\"text/javascript\">window.PlotlyConfig = {MathJaxConfig: 'local'};</script>\n",
              "        <script src=\"https://cdn.plot.ly/plotly-2.8.3.min.js\"></script>                <div id=\"88b4bdf1-4544-4dd5-8339-7f6d1cbf06f3\" class=\"plotly-graph-div\" style=\"height:750px; width:100%;\"></div>            <script type=\"text/javascript\">                                    window.PLOTLYENV=window.PLOTLYENV || {};                                    if (document.getElementById(\"88b4bdf1-4544-4dd5-8339-7f6d1cbf06f3\")) {                    Plotly.newPlot(                        \"88b4bdf1-4544-4dd5-8339-7f6d1cbf06f3\",                        [{\"coloraxis\":\"coloraxis\",\"name\":\"0\",\"x\":[\"sequence\",\"subject\",\"step\",\"sensor_00\",\"sensor_01\",\"sensor_02\",\"sensor_03\",\"sensor_04\",\"sensor_05\",\"sensor_06\",\"sensor_07\",\"sensor_08\",\"sensor_09\",\"sensor_10\",\"sensor_11\",\"sensor_12\",\"state\"],\"y\":[\"sequence\",\"subject\",\"step\",\"sensor_00\",\"sensor_01\",\"sensor_02\",\"sensor_03\",\"sensor_04\",\"sensor_05\",\"sensor_06\",\"sensor_07\",\"sensor_08\",\"sensor_09\",\"sensor_10\",\"sensor_11\",\"sensor_12\",\"state\"],\"z\":[[1.0,-0.0032477741895559483,5.821928163307497e-15,-8.500062728808884e-05,-0.00010096152998284934,0.0054701644732879345,0.00031529806070190795,0.0004156162458481043,0.0002654309785000436,-5.9757784573135644e-05,0.0001884623868576158,0.00037712104154685803,-0.000250665112788676,-0.00018649207409058194,0.0001706945524823414,-3.6999570507791144e-05,-0.0072507878573536315],[-0.0032477741895559483,1.0,-1.0408969224501739e-16,0.00017004948846387427,-3.086203350597983e-05,0.007329859065633768,-3.570894272988445e-05,-0.0006074459400627041,-0.00015014256099822574,-0.00013167326569510533,9.211330533382003e-05,-0.00026916460665717183,8.025409187233604e-05,-0.0008524828483816498,0.0001091757556481059,0.0004693421416926688,-0.0257587429830661],[5.821928163307497e-15,-1.0408969224501739e-16,1.0,-0.00024580905037825044,3.7126796372794576e-05,6.542711617120743e-05,0.0005639744142961877,-4.7127315411859945e-05,-7.17723873412741e-05,-8.559687023045428e-05,0.00018472945288534594,0.00020287071364561714,-9.11399189282954e-05,-0.0004660837940051903,5.444917381867821e-07,0.0002494245324136463,6.992822779537204e-17],[-8.500062728808884e-05,0.00017004948846387427,-0.00024580905037825044,1.0,0.27041553391282497,0.00013449344491253876,-0.04543829787285768,-0.0012795210763161102,0.0014526571792694905,0.5318122248667762,0.04980682011042172,-0.004507295833961842,0.47897182625802115,-0.00023318057867240268,-0.08952495980523667,-0.00012015261384490183,-0.0002728575814549742],[-0.00010096152998284934,-3.086203350597983e-05,3.7126796372794576e-05,0.27041553391282497,1.0,0.00025299718355294376,0.007056257692991613,0.004169039682353428,-0.004362587350846956,0.32869139729840696,-0.05574031097153693,-0.005967451477121059,0.22208243986997112,8.772246077019785e-05,0.24508323637697954,-0.001768515372572808,-0.00034939572017879644],[0.0054701644732879345,0.007329859065633768,6.542711617120743e-05,0.00013449344491253876,0.00025299718355294376,1.0,-0.0006456460471106957,0.0002897729340828145,0.0013854187373977327,0.00014330841618597783,-0.000402104074667374,-0.00040254622102979434,0.0002022998405207948,0.0034686952967500416,-8.829586195366176e-05,-0.00034280983250322555,0.07990805059777963],[0.00031529806070190795,-3.570894272988445e-05,0.0005639744142961877,-0.04543829787285768,0.007056257692991613,-0.0006456460471106957,1.0,-0.0012258174593632058,0.0029564617281321484,0.03161658719905001,0.5655414049821276,0.012267256290955856,-0.023650437568636447,-0.0054999108072784405,0.501528054581527,-0.0006577492931138802,-5.687694651524297e-05],[0.0004156162458481043,-0.0006074459400627041,-4.7127315411859945e-05,-0.0012795210763161102,0.004169039682353428,0.0002897729340828145,-0.0012258174593632058,1.0,0.0014690716669147335,-0.0010091435048930493,-0.002382511889067081,-0.0001504231698300841,0.002781935982560264,0.22780190702945283,-0.0015585592214167954,-0.01633513907460001,0.003799226714516896],[0.0002654309785000436,-0.00015014256099822574,-7.17723873412741e-05,0.0014526571792694905,-0.004362587350846956,0.0013854187373977327,0.0029564617281321484,0.0014690716669147335,1.0,-0.002843234806956571,0.004495414453325081,0.0050554774893546974,0.0014177031742392955,0.0017712658346532974,-0.0002790757169841939,0.0008169755442538338,-0.0002672548239996256],[-5.9757784573135644e-05,-0.00013167326569510533,-8.559687023045428e-05,0.5318122248667762,0.32869139729840696,0.00014330841618597783,0.03161658719905001,-0.0010091435048930493,-0.002843234806956571,1.0,-0.005467850855414983,0.0033075326345907226,0.4071893363345513,0.0006403990869847354,-0.010231503111519397,-0.0007485671850899522,-0.0006545808282110037],[0.0001884623868576158,9.211330533382003e-05,0.00018472945288534594,0.04980682011042172,-0.05574031097153693,-0.000402104074667374,0.5655414049821276,-0.002382511889067081,0.004495414453325081,-0.005467850855414983,1.0,0.009365395063270337,-0.01016762517115178,1.0889457863899383e-05,0.45161345256841845,-0.0018526137338658827,0.00010567614362893878],[0.00037712104154685803,-0.00026916460665717183,0.00020287071364561714,-0.004507295833961842,-0.005967451477121059,-0.00040254622102979434,0.012267256290955856,-0.0001504231698300841,0.0050554774893546974,0.0033075326345907226,0.009365395063270337,1.0,-0.009789068669757307,-0.00020324472356132942,0.009355738986766341,-0.0006457123681782126,0.00045949416435844186],[-0.000250665112788676,8.025409187233604e-05,-9.11399189282954e-05,0.47897182625802115,0.22208243986997112,0.0002022998405207948,-0.023650437568636447,0.002781935982560264,0.0014177031742392955,0.4071893363345513,-0.01016762517115178,-0.009789068669757307,1.0,0.0029875375635543258,-0.0742168291292179,-0.00040040517011039105,-0.0002348631965440114],[-0.00018649207409058194,-0.0008524828483816498,-0.0004660837940051903,-0.00023318057867240268,8.772246077019785e-05,0.0034686952967500416,-0.0054999108072784405,0.22780190702945283,0.0017712658346532974,0.0006403990869847354,1.0889457863899383e-05,-0.00020324472356132942,0.0029875375635543258,1.0,-0.005242566138672277,-0.05465063370744289,0.0023693652608876297],[0.0001706945524823414,0.0001091757556481059,5.444917381867821e-07,-0.08952495980523667,0.24508323637697954,-8.829586195366176e-05,0.501528054581527,-0.0015585592214167954,-0.0002790757169841939,-0.010231503111519397,0.45161345256841845,0.009355738986766341,-0.0742168291292179,-0.005242566138672277,1.0,-0.0012310158843669343,-0.00018360884990483898],[-3.6999570507791144e-05,0.0004693421416926688,0.0002494245324136463,-0.00012015261384490183,-0.001768515372572808,-0.00034280983250322555,-0.0006577492931138802,-0.01633513907460001,0.0008169755442538338,-0.0007485671850899522,-0.0018526137338658827,-0.0006457123681782126,-0.00040040517011039105,-0.05465063370744289,-0.0012310158843669343,1.0,0.0005994680080069206],[-0.0072507878573536315,-0.0257587429830661,6.992822779537204e-17,-0.0002728575814549742,-0.00034939572017879644,0.07990805059777963,-5.687694651524297e-05,0.003799226714516896,-0.0002672548239996256,-0.0006545808282110037,0.00010567614362893878,0.00045949416435844186,-0.0002348631965440114,0.0023693652608876297,-0.00018360884990483898,0.0005994680080069206,1.0]],\"type\":\"heatmap\",\"xaxis\":\"x\",\"yaxis\":\"y\",\"hovertemplate\":\"x: %{x}<br>y: %{y}<br>color: %{z}<extra></extra>\"}],                        {\"template\":{\"data\":{\"bar\":[{\"error_x\":{\"color\":\"#2a3f5f\"},\"error_y\":{\"color\":\"#2a3f5f\"},\"marker\":{\"line\":{\"color\":\"#E5ECF6\",\"width\":0.5},\"pattern\":{\"fillmode\":\"overlay\",\"size\":10,\"solidity\":0.2}},\"type\":\"bar\"}],\"barpolar\":[{\"marker\":{\"line\":{\"color\":\"#E5ECF6\",\"width\":0.5},\"pattern\":{\"fillmode\":\"overlay\",\"size\":10,\"solidity\":0.2}},\"type\":\"barpolar\"}],\"carpet\":[{\"aaxis\":{\"endlinecolor\":\"#2a3f5f\",\"gridcolor\":\"white\",\"linecolor\":\"white\",\"minorgridcolor\":\"white\",\"startlinecolor\":\"#2a3f5f\"},\"baxis\":{\"endlinecolor\":\"#2a3f5f\",\"gridcolor\":\"white\",\"linecolor\":\"white\",\"minorgridcolor\":\"white\",\"startlinecolor\":\"#2a3f5f\"},\"type\":\"carpet\"}],\"choropleth\":[{\"colorbar\":{\"outlinewidth\":0,\"ticks\":\"\"},\"type\":\"choropleth\"}],\"contour\":[{\"colorbar\":{\"outlinewidth\":0,\"ticks\":\"\"},\"colorscale\":[[0.0,\"#0d0887\"],[0.1111111111111111,\"#46039f\"],[0.2222222222222222,\"#7201a8\"],[0.3333333333333333,\"#9c179e\"],[0.4444444444444444,\"#bd3786\"],[0.5555555555555556,\"#d8576b\"],[0.6666666666666666,\"#ed7953\"],[0.7777777777777778,\"#fb9f3a\"],[0.8888888888888888,\"#fdca26\"],[1.0,\"#f0f921\"]],\"type\":\"contour\"}],\"contourcarpet\":[{\"colorbar\":{\"outlinewidth\":0,\"ticks\":\"\"},\"type\":\"contourcarpet\"}],\"heatmap\":[{\"colorbar\":{\"outlinewidth\":0,\"ticks\":\"\"},\"colorscale\":[[0.0,\"#0d0887\"],[0.1111111111111111,\"#46039f\"],[0.2222222222222222,\"#7201a8\"],[0.3333333333333333,\"#9c179e\"],[0.4444444444444444,\"#bd3786\"],[0.5555555555555556,\"#d8576b\"],[0.6666666666666666,\"#ed7953\"],[0.7777777777777778,\"#fb9f3a\"],[0.8888888888888888,\"#fdca26\"],[1.0,\"#f0f921\"]],\"type\":\"heatmap\"}],\"heatmapgl\":[{\"colorbar\":{\"outlinewidth\":0,\"ticks\":\"\"},\"colorscale\":[[0.0,\"#0d0887\"],[0.1111111111111111,\"#46039f\"],[0.2222222222222222,\"#7201a8\"],[0.3333333333333333,\"#9c179e\"],[0.4444444444444444,\"#bd3786\"],[0.5555555555555556,\"#d8576b\"],[0.6666666666666666,\"#ed7953\"],[0.7777777777777778,\"#fb9f3a\"],[0.8888888888888888,\"#fdca26\"],[1.0,\"#f0f921\"]],\"type\":\"heatmapgl\"}],\"histogram\":[{\"marker\":{\"pattern\":{\"fillmode\":\"overlay\",\"size\":10,\"solidity\":0.2}},\"type\":\"histogram\"}],\"histogram2d\":[{\"colorbar\":{\"outlinewidth\":0,\"ticks\":\"\"},\"colorscale\":[[0.0,\"#0d0887\"],[0.1111111111111111,\"#46039f\"],[0.2222222222222222,\"#7201a8\"],[0.3333333333333333,\"#9c179e\"],[0.4444444444444444,\"#bd3786\"],[0.5555555555555556,\"#d8576b\"],[0.6666666666666666,\"#ed7953\"],[0.7777777777777778,\"#fb9f3a\"],[0.8888888888888888,\"#fdca26\"],[1.0,\"#f0f921\"]],\"type\":\"histogram2d\"}],\"histogram2dcontour\":[{\"colorbar\":{\"outlinewidth\":0,\"ticks\":\"\"},\"colorscale\":[[0.0,\"#0d0887\"],[0.1111111111111111,\"#46039f\"],[0.2222222222222222,\"#7201a8\"],[0.3333333333333333,\"#9c179e\"],[0.4444444444444444,\"#bd3786\"],[0.5555555555555556,\"#d8576b\"],[0.6666666666666666,\"#ed7953\"],[0.7777777777777778,\"#fb9f3a\"],[0.8888888888888888,\"#fdca26\"],[1.0,\"#f0f921\"]],\"type\":\"histogram2dcontour\"}],\"mesh3d\":[{\"colorbar\":{\"outlinewidth\":0,\"ticks\":\"\"},\"type\":\"mesh3d\"}],\"parcoords\":[{\"line\":{\"colorbar\":{\"outlinewidth\":0,\"ticks\":\"\"}},\"type\":\"parcoords\"}],\"pie\":[{\"automargin\":true,\"type\":\"pie\"}],\"scatter\":[{\"marker\":{\"colorbar\":{\"outlinewidth\":0,\"ticks\":\"\"}},\"type\":\"scatter\"}],\"scatter3d\":[{\"line\":{\"colorbar\":{\"outlinewidth\":0,\"ticks\":\"\"}},\"marker\":{\"colorbar\":{\"outlinewidth\":0,\"ticks\":\"\"}},\"type\":\"scatter3d\"}],\"scattercarpet\":[{\"marker\":{\"colorbar\":{\"outlinewidth\":0,\"ticks\":\"\"}},\"type\":\"scattercarpet\"}],\"scattergeo\":[{\"marker\":{\"colorbar\":{\"outlinewidth\":0,\"ticks\":\"\"}},\"type\":\"scattergeo\"}],\"scattergl\":[{\"marker\":{\"colorbar\":{\"outlinewidth\":0,\"ticks\":\"\"}},\"type\":\"scattergl\"}],\"scattermapbox\":[{\"marker\":{\"colorbar\":{\"outlinewidth\":0,\"ticks\":\"\"}},\"type\":\"scattermapbox\"}],\"scatterpolar\":[{\"marker\":{\"colorbar\":{\"outlinewidth\":0,\"ticks\":\"\"}},\"type\":\"scatterpolar\"}],\"scatterpolargl\":[{\"marker\":{\"colorbar\":{\"outlinewidth\":0,\"ticks\":\"\"}},\"type\":\"scatterpolargl\"}],\"scatterternary\":[{\"marker\":{\"colorbar\":{\"outlinewidth\":0,\"ticks\":\"\"}},\"type\":\"scatterternary\"}],\"surface\":[{\"colorbar\":{\"outlinewidth\":0,\"ticks\":\"\"},\"colorscale\":[[0.0,\"#0d0887\"],[0.1111111111111111,\"#46039f\"],[0.2222222222222222,\"#7201a8\"],[0.3333333333333333,\"#9c179e\"],[0.4444444444444444,\"#bd3786\"],[0.5555555555555556,\"#d8576b\"],[0.6666666666666666,\"#ed7953\"],[0.7777777777777778,\"#fb9f3a\"],[0.8888888888888888,\"#fdca26\"],[1.0,\"#f0f921\"]],\"type\":\"surface\"}],\"table\":[{\"cells\":{\"fill\":{\"color\":\"#EBF0F8\"},\"line\":{\"color\":\"white\"}},\"header\":{\"fill\":{\"color\":\"#C8D4E3\"},\"line\":{\"color\":\"white\"}},\"type\":\"table\"}]},\"layout\":{\"annotationdefaults\":{\"arrowcolor\":\"#2a3f5f\",\"arrowhead\":0,\"arrowwidth\":1},\"autotypenumbers\":\"strict\",\"coloraxis\":{\"colorbar\":{\"outlinewidth\":0,\"ticks\":\"\"}},\"colorscale\":{\"diverging\":[[0,\"#8e0152\"],[0.1,\"#c51b7d\"],[0.2,\"#de77ae\"],[0.3,\"#f1b6da\"],[0.4,\"#fde0ef\"],[0.5,\"#f7f7f7\"],[0.6,\"#e6f5d0\"],[0.7,\"#b8e186\"],[0.8,\"#7fbc41\"],[0.9,\"#4d9221\"],[1,\"#276419\"]],\"sequential\":[[0.0,\"#0d0887\"],[0.1111111111111111,\"#46039f\"],[0.2222222222222222,\"#7201a8\"],[0.3333333333333333,\"#9c179e\"],[0.4444444444444444,\"#bd3786\"],[0.5555555555555556,\"#d8576b\"],[0.6666666666666666,\"#ed7953\"],[0.7777777777777778,\"#fb9f3a\"],[0.8888888888888888,\"#fdca26\"],[1.0,\"#f0f921\"]],\"sequentialminus\":[[0.0,\"#0d0887\"],[0.1111111111111111,\"#46039f\"],[0.2222222222222222,\"#7201a8\"],[0.3333333333333333,\"#9c179e\"],[0.4444444444444444,\"#bd3786\"],[0.5555555555555556,\"#d8576b\"],[0.6666666666666666,\"#ed7953\"],[0.7777777777777778,\"#fb9f3a\"],[0.8888888888888888,\"#fdca26\"],[1.0,\"#f0f921\"]]},\"colorway\":[\"#636efa\",\"#EF553B\",\"#00cc96\",\"#ab63fa\",\"#FFA15A\",\"#19d3f3\",\"#FF6692\",\"#B6E880\",\"#FF97FF\",\"#FECB52\"],\"font\":{\"color\":\"#2a3f5f\"},\"geo\":{\"bgcolor\":\"white\",\"lakecolor\":\"white\",\"landcolor\":\"#E5ECF6\",\"showlakes\":true,\"showland\":true,\"subunitcolor\":\"white\"},\"hoverlabel\":{\"align\":\"left\"},\"hovermode\":\"closest\",\"mapbox\":{\"style\":\"light\"},\"paper_bgcolor\":\"white\",\"plot_bgcolor\":\"#E5ECF6\",\"polar\":{\"angularaxis\":{\"gridcolor\":\"white\",\"linecolor\":\"white\",\"ticks\":\"\"},\"bgcolor\":\"#E5ECF6\",\"radialaxis\":{\"gridcolor\":\"white\",\"linecolor\":\"white\",\"ticks\":\"\"}},\"scene\":{\"xaxis\":{\"backgroundcolor\":\"#E5ECF6\",\"gridcolor\":\"white\",\"gridwidth\":2,\"linecolor\":\"white\",\"showbackground\":true,\"ticks\":\"\",\"zerolinecolor\":\"white\"},\"yaxis\":{\"backgroundcolor\":\"#E5ECF6\",\"gridcolor\":\"white\",\"gridwidth\":2,\"linecolor\":\"white\",\"showbackground\":true,\"ticks\":\"\",\"zerolinecolor\":\"white\"},\"zaxis\":{\"backgroundcolor\":\"#E5ECF6\",\"gridcolor\":\"white\",\"gridwidth\":2,\"linecolor\":\"white\",\"showbackground\":true,\"ticks\":\"\",\"zerolinecolor\":\"white\"}},\"shapedefaults\":{\"line\":{\"color\":\"#2a3f5f\"}},\"ternary\":{\"aaxis\":{\"gridcolor\":\"white\",\"linecolor\":\"white\",\"ticks\":\"\"},\"baxis\":{\"gridcolor\":\"white\",\"linecolor\":\"white\",\"ticks\":\"\"},\"bgcolor\":\"#E5ECF6\",\"caxis\":{\"gridcolor\":\"white\",\"linecolor\":\"white\",\"ticks\":\"\"}},\"title\":{\"x\":0.05},\"xaxis\":{\"automargin\":true,\"gridcolor\":\"white\",\"linecolor\":\"white\",\"ticks\":\"\",\"title\":{\"standoff\":15},\"zerolinecolor\":\"white\",\"zerolinewidth\":2},\"yaxis\":{\"automargin\":true,\"gridcolor\":\"white\",\"linecolor\":\"white\",\"ticks\":\"\",\"title\":{\"standoff\":15},\"zerolinecolor\":\"white\",\"zerolinewidth\":2}}},\"xaxis\":{\"anchor\":\"y\",\"domain\":[0.0,1.0],\"showgrid\":false,\"linecolor\":\"gray\",\"linewidth\":2,\"zeroline\":false},\"yaxis\":{\"anchor\":\"x\",\"domain\":[0.0,1.0],\"autorange\":true,\"showgrid\":true,\"gridcolor\":\"gray\",\"gridwidth\":0.5,\"linecolor\":\"gray\",\"linewidth\":2,\"zeroline\":false},\"coloraxis\":{\"colorscale\":[[0.0,\"rgb(5,48,97)\"],[0.1,\"rgb(33,102,172)\"],[0.2,\"rgb(67,147,195)\"],[0.3,\"rgb(146,197,222)\"],[0.4,\"rgb(209,229,240)\"],[0.5,\"rgb(247,247,247)\"],[0.6,\"rgb(253,219,199)\"],[0.7,\"rgb(244,165,130)\"],[0.8,\"rgb(214,96,77)\"],[0.9,\"rgb(178,24,43)\"],[1.0,\"rgb(103,0,31)\"]],\"cmid\":0},\"margin\":{\"t\":100,\"b\":50,\"r\":30,\"l\":100},\"font\":{\"family\":\"Times New Roman\",\"size\":14},\"hoverlabel\":{\"font\":{\"color\":\"floralwhite\"}},\"height\":750,\"bargap\":0.2,\"title\":{\"text\":\"<span style='font-size:36px; font-family:Times New Roman'>Heatmap</span>\"},\"plot_bgcolor\":\"rgb(242,242,242)\",\"paper_bgcolor\":\"rgb(242,242,242)\",\"showlegend\":false},                        {\"responsive\": true}                    ).then(function(){\n",
              "                            \n",
              "var gd = document.getElementById('88b4bdf1-4544-4dd5-8339-7f6d1cbf06f3');\n",
              "var x = new MutationObserver(function (mutations, observer) {{\n",
              "        var display = window.getComputedStyle(gd).display;\n",
              "        if (!display || display === 'none') {{\n",
              "            console.log([gd, 'removed!']);\n",
              "            Plotly.purge(gd);\n",
              "            observer.disconnect();\n",
              "        }}\n",
              "}});\n",
              "\n",
              "// Listen for the removal of the full notebook cells\n",
              "var notebookContainer = gd.closest('#notebook-container');\n",
              "if (notebookContainer) {{\n",
              "    x.observe(notebookContainer, {childList: true});\n",
              "}}\n",
              "\n",
              "// Listen for the clearing of the current output cell\n",
              "var outputEl = gd.closest('.output');\n",
              "if (outputEl) {{\n",
              "    x.observe(outputEl, {childList: true});\n",
              "}}\n",
              "\n",
              "                        })                };                            </script>        </div>\n",
              "</body>\n",
              "</html>"
            ]
          },
          "metadata": {},
          "output_type": "display_data"
        }
      ],
      "source": [
        "fig = px.imshow(df_data[df_data.state.isnull() == False].corr(), color_continuous_scale='RdBu_r', color_continuous_midpoint=0, origin='lower', aspect='auto')\n",
        "fig.update_xaxes(showgrid = False, linecolor='gray', linewidth = 2, zeroline = False)\n",
        "fig.update_yaxes(showgrid = True, gridcolor='gray',gridwidth=0.5, linecolor='gray',linewidth=2, zeroline = False)\n",
        "\n",
        "# General Styling\n",
        "fig.update_layout(height=750, bargap=0.2,\n",
        "                  margin=dict(b=50,r=30,l=100, t=100),\n",
        "                  title = \"<span style='font-size:36px; font-family:Times New Roman'>Heatmap</span>\",                  \n",
        "                  plot_bgcolor='rgb(242,242,242)',\n",
        "                  paper_bgcolor = 'rgb(242,242,242)',\n",
        "                  font=dict(family=\"Times New Roman\", size= 14),\n",
        "                  hoverlabel=dict(font_color=\"floralwhite\"),\n",
        "                  showlegend=False)\n",
        "fig.show()"
      ]
    },
    {
      "cell_type": "markdown",
      "metadata": {
        "id": "gh9egUFM54El"
      },
      "source": [
        "Интерпретация: мы можем сделать следующие выводы после анализа тепловой карты, построенной:\n",
        "\n",
        "Функция состояния значительно слабо коррелирует практически с каждой функцией датчика. Датчик 2 - это тот, который наиболее коррелирует с целью.\n",
        "Все корреляции положительны, за исключением нескольких из них.\n",
        "Следующие характеристики датчиков коррелируют друг с другом: Датчик 0, Датчик 6, Датчик 9, Датчик 3, Датчик 7 и Датчик 11"
      ]
    },
    {
      "cell_type": "markdown",
      "metadata": {
        "id": "vq1YJAcb6IUd"
      },
      "source": [
        "У нас есть 38186 различных последовательностей (также с учетом тестовых последовательностей). Каждая последовательность состоит из 60 временных шагов. Поскольку обучаемые и испытуемые разные, мы не можем использовать объект в качестве функции. Наоборот: мы должны убедиться, что наш классификатор обобщается на ранее невидимые предметы. В следующей ячейке записной книжки мы проверяем, как часто каждый предмет встречается в обучающих данных. Самая редкая тема встречается только дважды; самая частая тема встречается в сто раз чаще; она встречается 199 раз. Картина для тестовых данных аналогична."
      ]
    },
    {
      "cell_type": "code",
      "execution_count": null,
      "metadata": {
        "colab": {
          "base_uri": "https://localhost:8080/",
          "height": 417
        },
        "id": "4lWWs0tA56Ud",
        "outputId": "a278b6a1-f8de-4ef7-b120-4b355f7a4248"
      },
      "outputs": [
        {
          "data": {
            "text/html": [
              "<html>\n",
              "<head><meta charset=\"utf-8\" /></head>\n",
              "<body>\n",
              "    <div>            <script src=\"https://cdnjs.cloudflare.com/ajax/libs/mathjax/2.7.5/MathJax.js?config=TeX-AMS-MML_SVG\"></script><script type=\"text/javascript\">if (window.MathJax) {MathJax.Hub.Config({SVG: {font: \"STIX-Web\"}});}</script>                <script type=\"text/javascript\">window.PlotlyConfig = {MathJaxConfig: 'local'};</script>\n",
              "        <script src=\"https://cdn.plot.ly/plotly-2.8.3.min.js\"></script>                <div id=\"72029183-329d-4c21-89aa-c8a188a677eb\" class=\"plotly-graph-div\" style=\"height:400px; width:100%;\"></div>            <script type=\"text/javascript\">                                    window.PLOTLYENV=window.PLOTLYENV || {};                                    if (document.getElementById(\"72029183-329d-4c21-89aa-c8a188a677eb\")) {                    Plotly.newPlot(                        \"72029183-329d-4c21-89aa-c8a188a677eb\",                        [{\"marker\":{\"color\":\"#1f9e89\"},\"x\":[1,2,3,4,5,6,7,8,9,10,11,12,13,14,15,16,17,18,19,20,21,22,23,24,25,26,27,28,29,30,31,32,33,34,35,36,37,38,39,40,41,42,43,44,45,46,47,48,49,50,51,52,53,54,55,56,57,58,59,60,61,62,63,64,65,66,67,68,69,70,71,72,73,74,75,76,77,78,79,80,81,82,83,84,85,86,87,88,89,90,91,92,93,94,95,96,97,98,99,100,101,102,103,104,105,106,107,108,109,110,111,112,113,114,115,116,117,118,119,120,121,122,123,124,125,126,127,128,129,130,131,132,133,134,135,136,137,138,139,140,141,142,143,144,145,146,147,148,149,150,151,152,153,154,155,156,157,158,159,160,161,162,163,164,165,166,167,168,169,170,171,172,173,174,175,176,177,178,179,180,181,182,183,184,185,186,187,188,189,190,191,192,193,194,195,196,197,198,199,200,201,202,203,204,205,206,207,208,209,210,211,212,213,214,215,216,217,218,219,220,221,222,223,224,225,226,227,228,229,230,231,232,233,234,235,236,237,238,239,240,241,242,243,244,245,246,247,248,249,250,251,252,253,254,255,256,257,258,259,260,261,262,263,264,265,266,267,268,269,270,271,272,273,274,275,276,277,278,279,280,281,282,283,284,285,286,287,288,289,290,291,292,293,294,295,296,297,298,299,300,301,302,303,304,305,306,307,308,309,310,311,312,313,314,315,316,317,318,319,320,321,322,323,324,325,326,327,328,329,330,331,332,333,334,335,336,337,338,339,340,341,342,343,344,345,346,347,348,349,350,351,352,353,354,355,356,357,358,359,360,361,362,363,364,365,366,367,368,369,370,371,372,373,374,375,376,377,378,379,380,381,382,383,384,385,386,387,388,389,390,391,392,393,394,395,396,397,398,399,400,401,402,403,404,405,406,407,408,409,410,411,412,413,414,415,416,417,418,419,420,421,422,423,424,425,426,427,428,429,430,431,432,433,434,435,436,437,438,439,440,441,442,443,444,445,446,447,448,449,450,451,452,453,454,455,456,457,458,459,460,461,462,463,464,465,466,467,468,469,470,471,472,473,474,475,476,477,478,479,480,481,482,483,484,485,486,487,488,489,490,491,492,493,494,495,496,497,498,499,500,501,502,503,504,505,506,507,508,509,510,511,512,513,514,515,516,517,518,519,520,521,522,523,524,525,526,527,528,529,530,531,532,533,534,535,536,537,538,539,540,541,542,543,544,545,546,547,548,549,550,551,552,553,554,555,556,557,558,559,560,561,562,563,564,565,566,567,568,569,570,571,572,573,574,575,576,577,578,579,580,581,582,583,584,585,586,587,588,589,590,591,592,593,594,595,596,597,598,599,600,601,602,603,604,605,606,607,608,609,610,611,612,613,614,615,616,617,618,619,620,621,622,623,624,625,626,627,628,629,630,631,632,633,634,635,636,637,638,639,640,641,642,643,644,645,646,647,648,649,650,651,652,653,654,655,656,657,658,659,660,661,662,663,664,665,666,667,668,669,670,671,672],\"y\":[2,5,6,7,7,7,8,8,9,9,9,9,10,10,10,11,11,12,12,12,12,13,13,13,13,13,14,14,14,15,15,15,15,15,15,15,15,15,15,15,15,16,16,16,16,16,17,17,17,17,17,17,18,18,18,18,18,18,18,18,18,18,18,18,18,18,19,19,19,19,19,19,19,19,19,19,19,19,19,19,19,19,20,20,20,20,20,20,20,20,20,20,20,20,20,20,20,21,21,21,21,21,21,21,21,21,21,21,21,21,21,21,21,21,21,21,21,22,22,22,22,22,22,22,22,22,22,22,22,22,23,23,23,23,23,23,23,23,23,23,23,23,23,23,23,23,23,24,24,24,24,24,24,24,24,24,24,24,24,24,24,24,24,24,24,24,25,25,25,25,25,25,25,25,25,25,25,25,25,25,25,25,25,25,25,25,25,25,26,26,26,26,26,26,26,26,26,26,26,26,26,26,27,27,27,27,27,27,27,27,27,27,27,28,28,28,28,28,28,28,28,28,28,28,28,28,28,28,28,28,28,28,28,28,28,28,28,28,28,28,28,28,28,28,28,28,29,29,29,29,29,29,29,29,29,29,29,29,29,29,30,30,30,30,30,30,30,30,30,30,30,30,30,30,30,30,30,30,30,30,30,30,30,31,31,31,31,31,31,31,31,31,31,31,31,31,31,31,31,31,31,31,31,31,31,31,32,32,32,32,32,32,32,32,32,32,32,32,32,32,32,32,32,32,32,32,32,32,32,32,33,33,33,33,33,33,33,33,33,33,33,33,33,33,34,34,34,34,34,34,34,34,34,34,34,34,34,34,34,34,34,34,34,34,34,34,34,34,35,35,35,35,35,35,35,35,35,35,35,35,36,36,36,36,36,36,36,36,36,36,36,36,36,36,37,37,37,37,37,37,37,37,37,37,37,37,37,38,38,38,38,38,38,38,38,38,38,38,38,38,39,39,39,39,39,39,39,39,40,40,40,40,40,40,41,41,41,41,41,41,41,41,41,41,42,42,42,42,42,42,42,42,42,42,43,43,43,43,43,43,43,43,43,43,43,43,44,44,44,44,44,44,44,44,44,44,44,44,44,45,45,45,45,45,45,45,45,45,46,46,46,46,46,46,46,46,46,46,46,47,47,47,47,47,47,48,48,48,48,48,48,49,49,49,49,49,49,49,49,49,49,49,50,50,50,50,50,50,50,50,51,51,51,51,51,52,52,52,52,52,52,52,53,53,53,53,53,53,53,53,53,54,54,54,54,54,54,54,54,54,55,55,55,55,56,56,56,56,56,56,57,57,57,57,57,57,57,58,58,58,58,59,59,59,60,61,61,61,61,62,62,62,62,62,63,63,63,63,63,64,64,64,65,66,66,66,67,67,67,67,67,67,67,68,68,69,69,69,70,70,71,71,71,71,71,71,73,74,74,74,75,75,75,76,76,77,77,77,78,79,79,79,79,79,80,80,80,81,83,83,85,88,90,90,90,92,97,97,98,104,109,112,113,114,120,125,125,129,144,158,175,199],\"type\":\"bar\",\"xaxis\":\"x\",\"yaxis\":\"y\"},{\"marker\":{\"color\":\"#1f9e89\"},\"x\":[0,1,2,3,4,5,6,7,8,9,10,11,12,13,14,15,16,17,18,19,20,21,22,23,24,25,26,27,28,29,30,31,32,33,34,35,36,37,38,39,40,41,42,43,44,45,46,47,48,49,50,51,52,53,54,55,56,57,58,59,60,61,62,63,64,65,66,67,68,69,70,71,72,73,74,75,76,77,78,79,80,81,82,83,84,85,86,87,88,89,90,91,92,93,94,95,96,97,98,99,100,101,102,103,104,105,106,107,108,109,110,111,112,113,114,115,116,117,118,119,120,121,122,123,124,125,126,127,128,129,130,131,132,133,134,135,136,137,138,139,140,141,142,143,144,145,146,147,148,149,150,151,152,153,154,155,156,157,158,159,160,161,162,163,164,165,166,167,168,169,170,171,172,173,174,175,176,177,178,179,180,181,182,183,184,185,186,187,188,189,190,191,192,193,194,195,196,197,198,199,200,201,202,203,204,205,206,207,208,209,210,211,212,213,214,215,216,217,218,219,220,221,222,223,224,225,226,227,228,229,230,231,232,233,234,235,236,237,238,239,240,241,242,243,244,245,246,247,248,249,250,251,252,253,254,255,256,257,258,259,260,261,262,263,264,265,266,267,268,269,270,271,272,273,274,275,276,277,278,279,280,281,282,283,284,285,286,287,288,289,290,291,292,293,294,295,296,297,298,299,300,301,302,303,304,305,306,307,308,309,310,311,312,313,314,315,316,317,318],\"y\":[8,10,11,11,11,11,11,12,12,12,12,13,13,13,13,14,14,15,15,15,15,15,16,16,16,17,17,17,17,18,18,18,19,19,19,20,20,20,20,20,20,20,20,20,20,21,21,21,21,21,21,21,21,21,21,21,21,22,22,22,22,22,22,23,23,23,23,23,23,23,23,23,23,23,23,23,24,24,24,24,24,24,24,24,24,24,24,25,25,25,25,25,25,25,26,26,26,26,26,27,27,27,27,27,27,27,27,27,27,27,27,28,28,28,28,28,28,28,28,28,28,28,29,29,29,29,29,29,29,29,29,29,29,30,30,30,30,30,30,30,30,31,31,31,31,31,31,31,31,31,31,31,32,32,32,32,32,32,33,33,33,33,33,34,34,34,35,35,35,35,35,35,35,35,35,35,35,36,36,36,36,37,37,37,37,38,38,38,38,38,38,38,39,39,39,39,39,39,39,39,39,40,40,40,40,40,41,41,42,42,42,42,42,42,42,42,43,43,43,43,43,43,43,44,45,45,46,46,46,46,46,46,47,47,47,48,48,48,48,48,49,49,49,50,50,50,50,51,51,51,51,52,52,52,53,53,54,54,54,54,55,55,55,55,56,56,56,56,57,57,57,59,59,59,59,59,61,62,62,63,63,63,63,64,64,64,65,65,65,65,66,67,67,67,67,68,69,70,70,73,73,74,77,81,82,82,84,85,85,88,96,98,98,98,98,99,103,107,148],\"type\":\"bar\",\"xaxis\":\"x2\",\"yaxis\":\"y2\"}],                        {\"template\":{\"data\":{\"bar\":[{\"error_x\":{\"color\":\"#2a3f5f\"},\"error_y\":{\"color\":\"#2a3f5f\"},\"marker\":{\"line\":{\"color\":\"#E5ECF6\",\"width\":0.5},\"pattern\":{\"fillmode\":\"overlay\",\"size\":10,\"solidity\":0.2}},\"type\":\"bar\"}],\"barpolar\":[{\"marker\":{\"line\":{\"color\":\"#E5ECF6\",\"width\":0.5},\"pattern\":{\"fillmode\":\"overlay\",\"size\":10,\"solidity\":0.2}},\"type\":\"barpolar\"}],\"carpet\":[{\"aaxis\":{\"endlinecolor\":\"#2a3f5f\",\"gridcolor\":\"white\",\"linecolor\":\"white\",\"minorgridcolor\":\"white\",\"startlinecolor\":\"#2a3f5f\"},\"baxis\":{\"endlinecolor\":\"#2a3f5f\",\"gridcolor\":\"white\",\"linecolor\":\"white\",\"minorgridcolor\":\"white\",\"startlinecolor\":\"#2a3f5f\"},\"type\":\"carpet\"}],\"choropleth\":[{\"colorbar\":{\"outlinewidth\":0,\"ticks\":\"\"},\"type\":\"choropleth\"}],\"contour\":[{\"colorbar\":{\"outlinewidth\":0,\"ticks\":\"\"},\"colorscale\":[[0.0,\"#0d0887\"],[0.1111111111111111,\"#46039f\"],[0.2222222222222222,\"#7201a8\"],[0.3333333333333333,\"#9c179e\"],[0.4444444444444444,\"#bd3786\"],[0.5555555555555556,\"#d8576b\"],[0.6666666666666666,\"#ed7953\"],[0.7777777777777778,\"#fb9f3a\"],[0.8888888888888888,\"#fdca26\"],[1.0,\"#f0f921\"]],\"type\":\"contour\"}],\"contourcarpet\":[{\"colorbar\":{\"outlinewidth\":0,\"ticks\":\"\"},\"type\":\"contourcarpet\"}],\"heatmap\":[{\"colorbar\":{\"outlinewidth\":0,\"ticks\":\"\"},\"colorscale\":[[0.0,\"#0d0887\"],[0.1111111111111111,\"#46039f\"],[0.2222222222222222,\"#7201a8\"],[0.3333333333333333,\"#9c179e\"],[0.4444444444444444,\"#bd3786\"],[0.5555555555555556,\"#d8576b\"],[0.6666666666666666,\"#ed7953\"],[0.7777777777777778,\"#fb9f3a\"],[0.8888888888888888,\"#fdca26\"],[1.0,\"#f0f921\"]],\"type\":\"heatmap\"}],\"heatmapgl\":[{\"colorbar\":{\"outlinewidth\":0,\"ticks\":\"\"},\"colorscale\":[[0.0,\"#0d0887\"],[0.1111111111111111,\"#46039f\"],[0.2222222222222222,\"#7201a8\"],[0.3333333333333333,\"#9c179e\"],[0.4444444444444444,\"#bd3786\"],[0.5555555555555556,\"#d8576b\"],[0.6666666666666666,\"#ed7953\"],[0.7777777777777778,\"#fb9f3a\"],[0.8888888888888888,\"#fdca26\"],[1.0,\"#f0f921\"]],\"type\":\"heatmapgl\"}],\"histogram\":[{\"marker\":{\"pattern\":{\"fillmode\":\"overlay\",\"size\":10,\"solidity\":0.2}},\"type\":\"histogram\"}],\"histogram2d\":[{\"colorbar\":{\"outlinewidth\":0,\"ticks\":\"\"},\"colorscale\":[[0.0,\"#0d0887\"],[0.1111111111111111,\"#46039f\"],[0.2222222222222222,\"#7201a8\"],[0.3333333333333333,\"#9c179e\"],[0.4444444444444444,\"#bd3786\"],[0.5555555555555556,\"#d8576b\"],[0.6666666666666666,\"#ed7953\"],[0.7777777777777778,\"#fb9f3a\"],[0.8888888888888888,\"#fdca26\"],[1.0,\"#f0f921\"]],\"type\":\"histogram2d\"}],\"histogram2dcontour\":[{\"colorbar\":{\"outlinewidth\":0,\"ticks\":\"\"},\"colorscale\":[[0.0,\"#0d0887\"],[0.1111111111111111,\"#46039f\"],[0.2222222222222222,\"#7201a8\"],[0.3333333333333333,\"#9c179e\"],[0.4444444444444444,\"#bd3786\"],[0.5555555555555556,\"#d8576b\"],[0.6666666666666666,\"#ed7953\"],[0.7777777777777778,\"#fb9f3a\"],[0.8888888888888888,\"#fdca26\"],[1.0,\"#f0f921\"]],\"type\":\"histogram2dcontour\"}],\"mesh3d\":[{\"colorbar\":{\"outlinewidth\":0,\"ticks\":\"\"},\"type\":\"mesh3d\"}],\"parcoords\":[{\"line\":{\"colorbar\":{\"outlinewidth\":0,\"ticks\":\"\"}},\"type\":\"parcoords\"}],\"pie\":[{\"automargin\":true,\"type\":\"pie\"}],\"scatter\":[{\"marker\":{\"colorbar\":{\"outlinewidth\":0,\"ticks\":\"\"}},\"type\":\"scatter\"}],\"scatter3d\":[{\"line\":{\"colorbar\":{\"outlinewidth\":0,\"ticks\":\"\"}},\"marker\":{\"colorbar\":{\"outlinewidth\":0,\"ticks\":\"\"}},\"type\":\"scatter3d\"}],\"scattercarpet\":[{\"marker\":{\"colorbar\":{\"outlinewidth\":0,\"ticks\":\"\"}},\"type\":\"scattercarpet\"}],\"scattergeo\":[{\"marker\":{\"colorbar\":{\"outlinewidth\":0,\"ticks\":\"\"}},\"type\":\"scattergeo\"}],\"scattergl\":[{\"marker\":{\"colorbar\":{\"outlinewidth\":0,\"ticks\":\"\"}},\"type\":\"scattergl\"}],\"scattermapbox\":[{\"marker\":{\"colorbar\":{\"outlinewidth\":0,\"ticks\":\"\"}},\"type\":\"scattermapbox\"}],\"scatterpolar\":[{\"marker\":{\"colorbar\":{\"outlinewidth\":0,\"ticks\":\"\"}},\"type\":\"scatterpolar\"}],\"scatterpolargl\":[{\"marker\":{\"colorbar\":{\"outlinewidth\":0,\"ticks\":\"\"}},\"type\":\"scatterpolargl\"}],\"scatterternary\":[{\"marker\":{\"colorbar\":{\"outlinewidth\":0,\"ticks\":\"\"}},\"type\":\"scatterternary\"}],\"surface\":[{\"colorbar\":{\"outlinewidth\":0,\"ticks\":\"\"},\"colorscale\":[[0.0,\"#0d0887\"],[0.1111111111111111,\"#46039f\"],[0.2222222222222222,\"#7201a8\"],[0.3333333333333333,\"#9c179e\"],[0.4444444444444444,\"#bd3786\"],[0.5555555555555556,\"#d8576b\"],[0.6666666666666666,\"#ed7953\"],[0.7777777777777778,\"#fb9f3a\"],[0.8888888888888888,\"#fdca26\"],[1.0,\"#f0f921\"]],\"type\":\"surface\"}],\"table\":[{\"cells\":{\"fill\":{\"color\":\"#EBF0F8\"},\"line\":{\"color\":\"white\"}},\"header\":{\"fill\":{\"color\":\"#C8D4E3\"},\"line\":{\"color\":\"white\"}},\"type\":\"table\"}]},\"layout\":{\"annotationdefaults\":{\"arrowcolor\":\"#2a3f5f\",\"arrowhead\":0,\"arrowwidth\":1},\"autotypenumbers\":\"strict\",\"coloraxis\":{\"colorbar\":{\"outlinewidth\":0,\"ticks\":\"\"}},\"colorscale\":{\"diverging\":[[0,\"#8e0152\"],[0.1,\"#c51b7d\"],[0.2,\"#de77ae\"],[0.3,\"#f1b6da\"],[0.4,\"#fde0ef\"],[0.5,\"#f7f7f7\"],[0.6,\"#e6f5d0\"],[0.7,\"#b8e186\"],[0.8,\"#7fbc41\"],[0.9,\"#4d9221\"],[1,\"#276419\"]],\"sequential\":[[0.0,\"#0d0887\"],[0.1111111111111111,\"#46039f\"],[0.2222222222222222,\"#7201a8\"],[0.3333333333333333,\"#9c179e\"],[0.4444444444444444,\"#bd3786\"],[0.5555555555555556,\"#d8576b\"],[0.6666666666666666,\"#ed7953\"],[0.7777777777777778,\"#fb9f3a\"],[0.8888888888888888,\"#fdca26\"],[1.0,\"#f0f921\"]],\"sequentialminus\":[[0.0,\"#0d0887\"],[0.1111111111111111,\"#46039f\"],[0.2222222222222222,\"#7201a8\"],[0.3333333333333333,\"#9c179e\"],[0.4444444444444444,\"#bd3786\"],[0.5555555555555556,\"#d8576b\"],[0.6666666666666666,\"#ed7953\"],[0.7777777777777778,\"#fb9f3a\"],[0.8888888888888888,\"#fdca26\"],[1.0,\"#f0f921\"]]},\"colorway\":[\"#636efa\",\"#EF553B\",\"#00cc96\",\"#ab63fa\",\"#FFA15A\",\"#19d3f3\",\"#FF6692\",\"#B6E880\",\"#FF97FF\",\"#FECB52\"],\"font\":{\"color\":\"#2a3f5f\"},\"geo\":{\"bgcolor\":\"white\",\"lakecolor\":\"white\",\"landcolor\":\"#E5ECF6\",\"showlakes\":true,\"showland\":true,\"subunitcolor\":\"white\"},\"hoverlabel\":{\"align\":\"left\"},\"hovermode\":\"closest\",\"mapbox\":{\"style\":\"light\"},\"paper_bgcolor\":\"white\",\"plot_bgcolor\":\"#E5ECF6\",\"polar\":{\"angularaxis\":{\"gridcolor\":\"white\",\"linecolor\":\"white\",\"ticks\":\"\"},\"bgcolor\":\"#E5ECF6\",\"radialaxis\":{\"gridcolor\":\"white\",\"linecolor\":\"white\",\"ticks\":\"\"}},\"scene\":{\"xaxis\":{\"backgroundcolor\":\"#E5ECF6\",\"gridcolor\":\"white\",\"gridwidth\":2,\"linecolor\":\"white\",\"showbackground\":true,\"ticks\":\"\",\"zerolinecolor\":\"white\"},\"yaxis\":{\"backgroundcolor\":\"#E5ECF6\",\"gridcolor\":\"white\",\"gridwidth\":2,\"linecolor\":\"white\",\"showbackground\":true,\"ticks\":\"\",\"zerolinecolor\":\"white\"},\"zaxis\":{\"backgroundcolor\":\"#E5ECF6\",\"gridcolor\":\"white\",\"gridwidth\":2,\"linecolor\":\"white\",\"showbackground\":true,\"ticks\":\"\",\"zerolinecolor\":\"white\"}},\"shapedefaults\":{\"line\":{\"color\":\"#2a3f5f\"}},\"ternary\":{\"aaxis\":{\"gridcolor\":\"white\",\"linecolor\":\"white\",\"ticks\":\"\"},\"baxis\":{\"gridcolor\":\"white\",\"linecolor\":\"white\",\"ticks\":\"\"},\"bgcolor\":\"#E5ECF6\",\"caxis\":{\"gridcolor\":\"white\",\"linecolor\":\"white\",\"ticks\":\"\"}},\"title\":{\"x\":0.05},\"xaxis\":{\"automargin\":true,\"gridcolor\":\"white\",\"linecolor\":\"white\",\"ticks\":\"\",\"title\":{\"standoff\":15},\"zerolinecolor\":\"white\",\"zerolinewidth\":2},\"yaxis\":{\"automargin\":true,\"gridcolor\":\"white\",\"linecolor\":\"white\",\"ticks\":\"\",\"title\":{\"standoff\":15},\"zerolinecolor\":\"white\",\"zerolinewidth\":2}}},\"xaxis\":{\"anchor\":\"y\",\"domain\":[0.0,0.45],\"showgrid\":false,\"linecolor\":\"gray\",\"linewidth\":2,\"zeroline\":false},\"yaxis\":{\"anchor\":\"x\",\"domain\":[0.0,1.0],\"showgrid\":false,\"linecolor\":\"gray\",\"linewidth\":2,\"zeroline\":false},\"xaxis2\":{\"anchor\":\"y2\",\"domain\":[0.55,1.0],\"showgrid\":false,\"linecolor\":\"gray\",\"linewidth\":2,\"zeroline\":false},\"yaxis2\":{\"anchor\":\"x2\",\"domain\":[0.0,1.0],\"showgrid\":false,\"linecolor\":\"gray\",\"linewidth\":2,\"zeroline\":false},\"annotations\":[{\"font\":{\"size\":16},\"showarrow\":false,\"text\":\"Sequence Count Distribution over Training Subjects\",\"x\":0.225,\"xanchor\":\"center\",\"xref\":\"paper\",\"y\":1.0,\"yanchor\":\"bottom\",\"yref\":\"paper\"},{\"font\":{\"size\":16},\"showarrow\":false,\"text\":\"Sequence Count Distribution over Test Subjects\",\"x\":0.775,\"xanchor\":\"center\",\"xref\":\"paper\",\"y\":1.0,\"yanchor\":\"bottom\",\"yref\":\"paper\"}],\"margin\":{\"b\":50,\"r\":30,\"l\":100},\"font\":{\"family\":\"Times New Roman\",\"size\":14},\"hoverlabel\":{\"font\":{\"color\":\"floralwhite\"}},\"height\":400,\"bargap\":0.2,\"title\":{\"text\":\"<span style='font-size:36px; font-family:Times New Roman'>Sequence Count Analysis</span>\"},\"plot_bgcolor\":\"rgb(242,242,242)\",\"paper_bgcolor\":\"rgb(242,242,242)\",\"showlegend\":false},                        {\"responsive\": true}                    ).then(function(){\n",
              "                            \n",
              "var gd = document.getElementById('72029183-329d-4c21-89aa-c8a188a677eb');\n",
              "var x = new MutationObserver(function (mutations, observer) {{\n",
              "        var display = window.getComputedStyle(gd).display;\n",
              "        if (!display || display === 'none') {{\n",
              "            console.log([gd, 'removed!']);\n",
              "            Plotly.purge(gd);\n",
              "            observer.disconnect();\n",
              "        }}\n",
              "}});\n",
              "\n",
              "// Listen for the removal of the full notebook cells\n",
              "var notebookContainer = gd.closest('#notebook-container');\n",
              "if (notebookContainer) {{\n",
              "    x.observe(notebookContainer, {childList: true});\n",
              "}}\n",
              "\n",
              "// Listen for the clearing of the current output cell\n",
              "var outputEl = gd.closest('.output');\n",
              "if (outputEl) {{\n",
              "    x.observe(outputEl, {childList: true});\n",
              "}}\n",
              "\n",
              "                        })                };                            </script>        </div>\n",
              "</body>\n",
              "</html>"
            ]
          },
          "metadata": {},
          "output_type": "display_data"
        }
      ],
      "source": [
        "subject_count = pd.DataFrame(df_data[df_data.state.isnull() == False].subject.value_counts().sort_values() // 60).reset_index()\n",
        "subject_count.columns = ['subject','count']\n",
        "subject_count['subject'] = range(1,673)\n",
        "\n",
        "# chart\n",
        "fig = make_subplots(rows=1, cols=2, column_widths=[0.5, 0.5], vertical_spacing=0.1, horizontal_spacing=0.1,\n",
        "                    subplot_titles=('Sequence Count Distribution over Training Subjects','Sequence Count Distribution over Test Subjects'))\n",
        "\n",
        "fig.add_trace(go.Bar(x=subject_count['subject'], y=subject_count['count'], marker = dict(color=px.colors.sequential.Viridis[5])), row = 1, col = 1)\n",
        "\n",
        "fig.update_xaxes(showgrid = False, linecolor='gray', linewidth = 2, zeroline = False, row=1, col=1)\n",
        "fig.update_yaxes(showgrid = False, linecolor='gray',linewidth=2, zeroline = False, row=1, col=1)\n",
        "\n",
        "subject_count = pd.DataFrame(df_data[df_data.state.isnull() == True].subject.value_counts().sort_values() // 60).reset_index()\n",
        "subject_count.columns = ['subject','count']\n",
        "subject_count['subject'] = range(319)\n",
        "\n",
        "fig.add_trace(go.Bar(x=subject_count['subject'], y=subject_count['count'], marker = dict(color=px.colors.sequential.Viridis[5])), row = 1, col = 2)\n",
        "\n",
        "fig.update_xaxes(showgrid = False, linecolor='gray', linewidth = 2, zeroline = False, row=1, col=2)\n",
        "fig.update_yaxes(showgrid = False, linecolor='gray',linewidth=2, zeroline = False, row=1, col=2)\n",
        "\n",
        "# General Styling\n",
        "fig.update_layout(height=400, bargap=0.2,\n",
        "                  margin=dict(b=50,r=30,l=100),\n",
        "                  title = \"<span style='font-size:36px; font-family:Times New Roman'>Sequence Count Analysis</span>\",                  \n",
        "                  plot_bgcolor='rgb(242,242,242)',\n",
        "                  paper_bgcolor = 'rgb(242,242,242)',\n",
        "                  font=dict(family=\"Times New Roman\", size= 14),\n",
        "                  hoverlabel=dict(font_color=\"floralwhite\"),\n",
        "                  showlegend=False)"
      ]
    },
    {
      "cell_type": "code",
      "execution_count": null,
      "metadata": {
        "colab": {
          "base_uri": "https://localhost:8080/",
          "height": 517
        },
        "id": "ulQ0aVI26dek",
        "outputId": "5be89195-58e1-4a15-ea8d-31737ceda217"
      },
      "outputs": [
        {
          "data": {
            "text/html": [
              "<html>\n",
              "<head><meta charset=\"utf-8\" /></head>\n",
              "<body>\n",
              "    <div>            <script src=\"https://cdnjs.cloudflare.com/ajax/libs/mathjax/2.7.5/MathJax.js?config=TeX-AMS-MML_SVG\"></script><script type=\"text/javascript\">if (window.MathJax) {MathJax.Hub.Config({SVG: {font: \"STIX-Web\"}});}</script>                <script type=\"text/javascript\">window.PlotlyConfig = {MathJaxConfig: 'local'};</script>\n",
              "        <script src=\"https://cdn.plot.ly/plotly-2.8.3.min.js\"></script>                <div id=\"c36c49eb-8e4a-4d55-a3ea-7411c3cc30f1\" class=\"plotly-graph-div\" style=\"height:500px; width:100%;\"></div>            <script type=\"text/javascript\">                                    window.PLOTLYENV=window.PLOTLYENV || {};                                    if (document.getElementById(\"c36c49eb-8e4a-4d55-a3ea-7411c3cc30f1\")) {                    Plotly.newPlot(                        \"c36c49eb-8e4a-4d55-a3ea-7411c3cc30f1\",                        [{\"hovertemplate\":\"subject=%{x}<br>state=%{marker.color}<extra></extra>\",\"legendgroup\":\"\",\"marker\":{\"color\":[0.9841269850730896,0.9683544039726257,0.9444444179534912,0.9257143139839172,0.9166666865348816,0.9147287011146545,0.9104477763175964,0.9083333611488342,0.9019607901573181,0.8970588445663452,0.8960000276565552,0.8894472122192383,0.8870967626571655,0.8819444179534912,0.8775510191917419,0.8771929740905762,0.8771929740905762,0.871999979019165,0.8672566413879395,0.8653846383094788,0.8607594966888428,0.8548387289047241,0.8444444537162781,0.8421052694320679,0.8409090638160706,0.8358209133148193,0.8354430198669434,0.8333333134651184,0.8333333134651184,0.8303571343421936,0.8260869383811951,0.824999988079071,0.8243243098258972,0.8227847814559937,0.8222222328186035,0.8222222328186035,0.8214285969734192,0.8144329786300659,0.8085106611251831,0.807692289352417,0.8032786846160889,0.8028169274330139,0.8026315569877625,0.800000011920929,0.7936508059501648,0.7910447716712952,0.7903226017951965,0.7846153974533081,0.7831325531005859,0.782608687877655,0.7818182110786438,0.779411792755127,0.7755101919174194,0.7727272510528564,0.7714285850524902,0.7710843086242676,0.7692307829856873,0.7692307829856873,0.7666666507720947,0.7628865838050842,0.7627118825912476,0.7627118825912476,0.7614678740501404,0.7611940503120422,0.7605633735656738,0.7536231875419617,0.7534246444702148,0.75,0.75,0.7444444298744202,0.7432432174682617,0.7413793206214905,0.7358490824699402,0.7333333492279053,0.7323943376541138,0.7317073345184326,0.729411780834198,0.7272727489471436,0.7272727489471436,0.7241379022598267,0.7236841917037964,0.7200000286102295,0.7200000286102295,0.7179487347602844,0.7162162065505981,0.7142857313156128,0.7142857313156128,0.7142857313156128,0.7090908885002136,0.707317054271698,0.7068965435028076,0.7045454382896423,0.7042253613471985,0.7042253613471985,0.7037037014961243,0.7021276354789734,0.7017543911933899,0.701298713684082,0.699999988079071,0.699999988079071,0.6962025165557861,0.692307710647583,0.692307710647583,0.6913580298423767,0.6901408433914185,0.6875,0.6875,0.6857143044471741,0.6851851940155029,0.682539701461792,0.6800000071525574,0.6800000071525574,0.6800000071525574,0.6785714030265808,0.6753246784210205,0.6744186282157898,0.6730769276618958,0.6708860993385315,0.6666666865348816,0.6666666865348816,0.6666666865348816,0.6666666865348816,0.6666666865348816,0.6666666865348816,0.6666666865348816,0.6666666865348816,0.6607142686843872,0.6600000262260437,0.6567164063453674,0.6551724076271057,0.6538461446762085,0.6521739363670349,0.6521739363670349,0.6511628031730652,0.6428571343421936,0.6428571343421936,0.6428571343421936,0.641791045665741,0.640625,0.6382978558540344,0.6376811861991882,0.6363636255264282,0.6363636255264282,0.6363636255264282,0.6333333253860474,0.6326530575752258,0.6326530575752258,0.6315789222717285,0.6315789222717285,0.6296296119689941,0.6296296119689941,0.6285714507102966,0.6285714507102966,0.6285714507102966,0.6268656849861145,0.625,0.625,0.625,0.625,0.6229507923126221,0.6226415038108826,0.6226415038108826,0.6181818246841431,0.6176470518112183,0.612500011920929,0.6122449040412903,0.6111111044883728,0.6086956262588501,0.604651153087616,0.6037735939025879,0.6037735939025879,0.6000000238418579,0.6000000238418579,0.6000000238418579,0.6000000238418579,0.6000000238418579,0.6000000238418579,0.6000000238418579,0.59375,0.5925925970077515,0.5925925970077515,0.5925925970077515,0.5918367505073547,0.5901639461517334,0.5869565010070801,0.5833333134651184,0.5833333134651184,0.5806451439857483,0.5789473652839661,0.5777778029441833,0.5769230723381042,0.5762711763381958,0.5757575631141663,0.5714285969734192,0.5714285969734192,0.5714285969734192,0.5714285969734192,0.5652173757553101,0.5625,0.5609756112098694,0.5600000023841858,0.5600000023841858,0.5581395626068115,0.5581395626068115,0.557692289352417,0.5573770403862,0.5555555820465088,0.5555555820465088,0.5555555820465088,0.5555555820465088,0.5483871102333069,0.5483871102333069,0.5454545617103577,0.5454545617103577,0.5428571701049805,0.5416666865348816,0.5357142686843872,0.5333333611488342,0.53125,0.529411792755127,0.5283018946647644,0.5277777910232544,0.5272727012634277,0.5227272510528564,0.52173912525177,0.5199999809265137,0.5161290168762207,0.5161290168762207,0.5161290168762207,0.5151515007019043,0.5151515007019043,0.5142857432365417,0.5135135054588318,0.5135135054588318,0.5116279125213623,0.5102040767669678,0.5094339847564697,0.5087719559669495,0.5087719559669495,0.5087719559669495,0.5079365372657776,0.5,0.5,0.5,0.5,0.5,0.5,0.5,0.5,0.5,0.4920634925365448,0.4901960790157318,0.4901960790157318,0.4883720874786377,0.4871794879436493,0.4864864945411682,0.4848484992980957,0.4838709533214569,0.4838709533214569,0.48275861144065857,0.48148149251937866,0.48148149251937866,0.47999998927116394,0.47826087474823,0.47826087474823,0.47826087474823,0.47727271914482117,0.4761904776096344,0.4761904776096344,0.4749999940395355,0.4736842215061188,0.4716981053352356,0.47058823704719543,0.47058823704719543,0.47058823704719543,0.46875,0.46875,0.46875,0.4677419364452362,0.46666666865348816,0.46666666865348816,0.4642857015132904,0.4642857015132904,0.46341463923454285,0.46341463923454285,0.46341463923454285,0.4583333432674408,0.45652174949645996,0.45652174949645996,0.4545454680919647,0.4523809552192688,0.4516128897666931,0.4482758641242981,0.4482758641242981,0.44736841320991516,0.44736841320991516,0.44680851697921753,0.44186046719551086,0.44117647409439087,0.4399999976158142,0.4375,0.4375,0.4375,0.4375,0.43478259444236755,0.43478259444236755,0.4333333373069763,0.4324324429035187,0.4285714328289032,0.4285714328289032,0.4285714328289032,0.4285714328289032,0.42553192377090454,0.42500001192092896,0.42424243688583374,0.42307692766189575,0.42307692766189575,0.42105263471603394,0.42105263471603394,0.42105263471603394,0.4166666567325592,0.4166666567325592,0.4137931168079376,0.4137931168079376,0.4117647111415863,0.4117647111415863,0.4117647111415863,0.4117647111415863,0.41025641560554504,0.40909090638160706,0.40909090638160706,0.40909090638160706,0.40816327929496765,0.40816327929496765,0.40816327929496765,0.40625,0.40625,0.40625,0.4054054021835327,0.4047619104385376,0.4000000059604645,0.4000000059604645,0.4000000059604645,0.3947368562221527,0.39393940567970276,0.3928571343421936,0.3928571343421936,0.3921568691730499,0.3888888955116272,0.3870967626571655,0.3870967626571655,0.3870967626571655,0.3863636255264282,0.3863636255264282,0.38461539149284363,0.38297873735427856,0.38235294818878174,0.38235294818878174,0.38235294818878174,0.38235294818878174,0.37931033968925476,0.37837839126586914,0.3777777850627899,0.375,0.375,0.375,0.375,0.37037035822868347,0.36666667461395264,0.36666667461395264,0.3636363744735718,0.3636363744735718,0.3611111044883728,0.3571428656578064,0.3571428656578064,0.35483869910240173,0.35483869910240173,0.35483869910240173,0.3529411852359772,0.3499999940395355,0.3499999940395355,0.3488371968269348,0.3478260934352875,0.3461538553237915,0.3448275923728943,0.34375,0.34285715222358704,0.34210526943206787,0.34210526943206787,0.3333333432674408,0.3333333432674408,0.3333333432674408,0.3333333432674408,0.3333333432674408,0.3333333432674408,0.3333333432674408,0.3333333432674408,0.3333333432674408,0.3265306055545807,0.32499998807907104,0.3243243098258972,0.3243243098258972,0.32258063554763794,0.32258063554763794,0.3214285671710968,0.3214285671710968,0.3214285671710968,0.3214285671710968,0.3181818127632141,0.3181818127632141,0.3181818127632141,0.3181818127632141,0.31578946113586426,0.31578946113586426,0.31578946113586426,0.3125,0.3095238208770752,0.3076923191547394,0.30612245202064514,0.3055555522441864,0.30434781312942505,0.30000001192092896,0.30000001192092896,0.29729729890823364,0.29629629850387573,0.29629629850387573,0.29411765933036804,0.29411765933036804,0.2926829159259796,0.2916666567325592,0.29032257199287415,0.29032257199287415,0.29032257199287415,0.28947368264198303,0.2857142984867096,0.2857142984867096,0.2857142984867096,0.2857142984867096,0.2857142984867096,0.2857142984867096,0.2857142984867096,0.28125,0.2800000011920929,0.27906978130340576,0.27906978130340576,0.2777777910232544,0.2777777910232544,0.27272728085517883,0.26923078298568726,0.2666666805744171,0.2666666805744171,0.2666666805744171,0.2647058963775635,0.2647058963775635,0.2631579041481018,0.2631579041481018,0.261904776096344,0.260869562625885,0.25925925374031067,0.25925925374031067,0.25806450843811035,0.25806450843811035,0.25,0.25,0.25,0.25,0.25,0.25,0.25,0.25,0.24444444477558136,0.2432432472705841,0.23999999463558197,0.23999999463558197,0.23999999463558197,0.2380952388048172,0.2380952388048172,0.2380952388048172,0.2380952388048172,0.23529411852359772,0.23529411852359772,0.23333333432674408,0.23076923191547394,0.23076923191547394,0.22727273404598236,0.22580644488334656,0.2222222238779068,0.2222222238779068,0.2222222238779068,0.2222222238779068,0.21739129722118378,0.2142857164144516,0.2142857164144516,0.2142857164144516,0.21212121844291687,0.2083333283662796,0.2083333283662796,0.2075471729040146,0.2068965584039688,0.2068965584039688,0.20588235557079315,0.20512820780277252,0.203125,0.20000000298023224,0.20000000298023224,0.20000000298023224,0.20000000298023224,0.20000000298023224,0.20000000298023224,0.19512194395065308,0.19512194395065308,0.19354838132858276,0.19230769574642181,0.190476194024086,0.1875,0.1875,0.1860465109348297,0.18518517911434174,0.1818181872367859,0.1818181872367859,0.1764705926179886,0.17391304671764374,0.1666666716337204,0.1666666716337204,0.1666666716337204,0.1666666716337204,0.1599999964237213,0.1599999964237213,0.1599999964237213,0.1599999964237213,0.15789473056793213,0.15789473056793213,0.15789473056793213,0.15625,0.15625,0.1538461595773697,0.1515151560306549,0.15000000596046448,0.15000000596046448,0.1428571492433548,0.1428571492433548,0.1428571492433548,0.1428571492433548,0.1428571492433548,0.1388888955116272,0.13793103396892548,0.13636364042758942,0.13333334028720856,0.1315789520740509,0.1304347813129425,0.12820513546466827,0.125,0.11999999731779099,0.11999999731779099,0.11999999731779099,0.11764705926179886,0.11764705926179886,0.11428571492433548,0.1111111119389534,0.1111111119389534,0.1111111119389534,0.1071428582072258,0.10526315867900848,0.10000000149011612,0.09756097197532654,0.095238097012043,0.095238097012043,0.09090909361839294,0.08695652335882187,0.08695652335882187,0.07999999821186066,0.07692307978868484,0.07692307978868484,0.07692307978868484,0.07692307978868484,0.07692307978868484,0.07407407462596893,0.06896551698446274,0.06666667014360428,0.06666667014360428,0.06666667014360428,0.06666667014360428,0.06666667014360428,0.06666667014360428,0.0625,0.0555555559694767,0.0555555559694767,0.054054055362939835,0.05263157933950424,0.05263157933950424,0.05000000074505806,0.0476190485060215,0.0476190485060215,0.0476190485060215,0.04545454680919647,0.04545454680919647,0.04545454680919647,0.043478261679410934,0.043478261679410934,0.043478261679410934,0.0416666679084301,0.0416666679084301,0.0416666679084301,0.0416666679084301,0.03999999910593033,0.03846153989434242,0.03703703731298447,0.03448275849223137,0.03333333507180214,0.03333333507180214,0.029411764815449715,0.027027027681469917,0.027027027681469917,0.0,0.0,0.0,0.0,0.0,0.0,0.0,0.0,0.0,0.0,0.0,0.0,0.0,0.0,0.0,0.0,0.0,0.0,0.0,0.0,0.0,0.0,0.0,0.0,0.0,0.0,0.0,0.0,0.0,0.0,0.0,0.0,0.0,0.0,0.0,0.0,0.0,0.0,0.0,0.0,0.0,0.0,0.0,0.0,0.0,0.0,0.0,0.0,0.0,0.0,0.0,0.0,0.0,0.0,0.0,0.0,0.0,0.0,0.0],\"coloraxis\":\"coloraxis\",\"size\":[0.9841269850730896,0.9683544039726257,0.9444444179534912,0.9257143139839172,0.9166666865348816,0.9147287011146545,0.9104477763175964,0.9083333611488342,0.9019607901573181,0.8970588445663452,0.8960000276565552,0.8894472122192383,0.8870967626571655,0.8819444179534912,0.8775510191917419,0.8771929740905762,0.8771929740905762,0.871999979019165,0.8672566413879395,0.8653846383094788,0.8607594966888428,0.8548387289047241,0.8444444537162781,0.8421052694320679,0.8409090638160706,0.8358209133148193,0.8354430198669434,0.8333333134651184,0.8333333134651184,0.8303571343421936,0.8260869383811951,0.824999988079071,0.8243243098258972,0.8227847814559937,0.8222222328186035,0.8222222328186035,0.8214285969734192,0.8144329786300659,0.8085106611251831,0.807692289352417,0.8032786846160889,0.8028169274330139,0.8026315569877625,0.800000011920929,0.7936508059501648,0.7910447716712952,0.7903226017951965,0.7846153974533081,0.7831325531005859,0.782608687877655,0.7818182110786438,0.779411792755127,0.7755101919174194,0.7727272510528564,0.7714285850524902,0.7710843086242676,0.7692307829856873,0.7692307829856873,0.7666666507720947,0.7628865838050842,0.7627118825912476,0.7627118825912476,0.7614678740501404,0.7611940503120422,0.7605633735656738,0.7536231875419617,0.7534246444702148,0.75,0.75,0.7444444298744202,0.7432432174682617,0.7413793206214905,0.7358490824699402,0.7333333492279053,0.7323943376541138,0.7317073345184326,0.729411780834198,0.7272727489471436,0.7272727489471436,0.7241379022598267,0.7236841917037964,0.7200000286102295,0.7200000286102295,0.7179487347602844,0.7162162065505981,0.7142857313156128,0.7142857313156128,0.7142857313156128,0.7090908885002136,0.707317054271698,0.7068965435028076,0.7045454382896423,0.7042253613471985,0.7042253613471985,0.7037037014961243,0.7021276354789734,0.7017543911933899,0.701298713684082,0.699999988079071,0.699999988079071,0.6962025165557861,0.692307710647583,0.692307710647583,0.6913580298423767,0.6901408433914185,0.6875,0.6875,0.6857143044471741,0.6851851940155029,0.682539701461792,0.6800000071525574,0.6800000071525574,0.6800000071525574,0.6785714030265808,0.6753246784210205,0.6744186282157898,0.6730769276618958,0.6708860993385315,0.6666666865348816,0.6666666865348816,0.6666666865348816,0.6666666865348816,0.6666666865348816,0.6666666865348816,0.6666666865348816,0.6666666865348816,0.6607142686843872,0.6600000262260437,0.6567164063453674,0.6551724076271057,0.6538461446762085,0.6521739363670349,0.6521739363670349,0.6511628031730652,0.6428571343421936,0.6428571343421936,0.6428571343421936,0.641791045665741,0.640625,0.6382978558540344,0.6376811861991882,0.6363636255264282,0.6363636255264282,0.6363636255264282,0.6333333253860474,0.6326530575752258,0.6326530575752258,0.6315789222717285,0.6315789222717285,0.6296296119689941,0.6296296119689941,0.6285714507102966,0.6285714507102966,0.6285714507102966,0.6268656849861145,0.625,0.625,0.625,0.625,0.6229507923126221,0.6226415038108826,0.6226415038108826,0.6181818246841431,0.6176470518112183,0.612500011920929,0.6122449040412903,0.6111111044883728,0.6086956262588501,0.604651153087616,0.6037735939025879,0.6037735939025879,0.6000000238418579,0.6000000238418579,0.6000000238418579,0.6000000238418579,0.6000000238418579,0.6000000238418579,0.6000000238418579,0.59375,0.5925925970077515,0.5925925970077515,0.5925925970077515,0.5918367505073547,0.5901639461517334,0.5869565010070801,0.5833333134651184,0.5833333134651184,0.5806451439857483,0.5789473652839661,0.5777778029441833,0.5769230723381042,0.5762711763381958,0.5757575631141663,0.5714285969734192,0.5714285969734192,0.5714285969734192,0.5714285969734192,0.5652173757553101,0.5625,0.5609756112098694,0.5600000023841858,0.5600000023841858,0.5581395626068115,0.5581395626068115,0.557692289352417,0.5573770403862,0.5555555820465088,0.5555555820465088,0.5555555820465088,0.5555555820465088,0.5483871102333069,0.5483871102333069,0.5454545617103577,0.5454545617103577,0.5428571701049805,0.5416666865348816,0.5357142686843872,0.5333333611488342,0.53125,0.529411792755127,0.5283018946647644,0.5277777910232544,0.5272727012634277,0.5227272510528564,0.52173912525177,0.5199999809265137,0.5161290168762207,0.5161290168762207,0.5161290168762207,0.5151515007019043,0.5151515007019043,0.5142857432365417,0.5135135054588318,0.5135135054588318,0.5116279125213623,0.5102040767669678,0.5094339847564697,0.5087719559669495,0.5087719559669495,0.5087719559669495,0.5079365372657776,0.5,0.5,0.5,0.5,0.5,0.5,0.5,0.5,0.5,0.4920634925365448,0.4901960790157318,0.4901960790157318,0.4883720874786377,0.4871794879436493,0.4864864945411682,0.4848484992980957,0.4838709533214569,0.4838709533214569,0.48275861144065857,0.48148149251937866,0.48148149251937866,0.47999998927116394,0.47826087474823,0.47826087474823,0.47826087474823,0.47727271914482117,0.4761904776096344,0.4761904776096344,0.4749999940395355,0.4736842215061188,0.4716981053352356,0.47058823704719543,0.47058823704719543,0.47058823704719543,0.46875,0.46875,0.46875,0.4677419364452362,0.46666666865348816,0.46666666865348816,0.4642857015132904,0.4642857015132904,0.46341463923454285,0.46341463923454285,0.46341463923454285,0.4583333432674408,0.45652174949645996,0.45652174949645996,0.4545454680919647,0.4523809552192688,0.4516128897666931,0.4482758641242981,0.4482758641242981,0.44736841320991516,0.44736841320991516,0.44680851697921753,0.44186046719551086,0.44117647409439087,0.4399999976158142,0.4375,0.4375,0.4375,0.4375,0.43478259444236755,0.43478259444236755,0.4333333373069763,0.4324324429035187,0.4285714328289032,0.4285714328289032,0.4285714328289032,0.4285714328289032,0.42553192377090454,0.42500001192092896,0.42424243688583374,0.42307692766189575,0.42307692766189575,0.42105263471603394,0.42105263471603394,0.42105263471603394,0.4166666567325592,0.4166666567325592,0.4137931168079376,0.4137931168079376,0.4117647111415863,0.4117647111415863,0.4117647111415863,0.4117647111415863,0.41025641560554504,0.40909090638160706,0.40909090638160706,0.40909090638160706,0.40816327929496765,0.40816327929496765,0.40816327929496765,0.40625,0.40625,0.40625,0.4054054021835327,0.4047619104385376,0.4000000059604645,0.4000000059604645,0.4000000059604645,0.3947368562221527,0.39393940567970276,0.3928571343421936,0.3928571343421936,0.3921568691730499,0.3888888955116272,0.3870967626571655,0.3870967626571655,0.3870967626571655,0.3863636255264282,0.3863636255264282,0.38461539149284363,0.38297873735427856,0.38235294818878174,0.38235294818878174,0.38235294818878174,0.38235294818878174,0.37931033968925476,0.37837839126586914,0.3777777850627899,0.375,0.375,0.375,0.375,0.37037035822868347,0.36666667461395264,0.36666667461395264,0.3636363744735718,0.3636363744735718,0.3611111044883728,0.3571428656578064,0.3571428656578064,0.35483869910240173,0.35483869910240173,0.35483869910240173,0.3529411852359772,0.3499999940395355,0.3499999940395355,0.3488371968269348,0.3478260934352875,0.3461538553237915,0.3448275923728943,0.34375,0.34285715222358704,0.34210526943206787,0.34210526943206787,0.3333333432674408,0.3333333432674408,0.3333333432674408,0.3333333432674408,0.3333333432674408,0.3333333432674408,0.3333333432674408,0.3333333432674408,0.3333333432674408,0.3265306055545807,0.32499998807907104,0.3243243098258972,0.3243243098258972,0.32258063554763794,0.32258063554763794,0.3214285671710968,0.3214285671710968,0.3214285671710968,0.3214285671710968,0.3181818127632141,0.3181818127632141,0.3181818127632141,0.3181818127632141,0.31578946113586426,0.31578946113586426,0.31578946113586426,0.3125,0.3095238208770752,0.3076923191547394,0.30612245202064514,0.3055555522441864,0.30434781312942505,0.30000001192092896,0.30000001192092896,0.29729729890823364,0.29629629850387573,0.29629629850387573,0.29411765933036804,0.29411765933036804,0.2926829159259796,0.2916666567325592,0.29032257199287415,0.29032257199287415,0.29032257199287415,0.28947368264198303,0.2857142984867096,0.2857142984867096,0.2857142984867096,0.2857142984867096,0.2857142984867096,0.2857142984867096,0.2857142984867096,0.28125,0.2800000011920929,0.27906978130340576,0.27906978130340576,0.2777777910232544,0.2777777910232544,0.27272728085517883,0.26923078298568726,0.2666666805744171,0.2666666805744171,0.2666666805744171,0.2647058963775635,0.2647058963775635,0.2631579041481018,0.2631579041481018,0.261904776096344,0.260869562625885,0.25925925374031067,0.25925925374031067,0.25806450843811035,0.25806450843811035,0.25,0.25,0.25,0.25,0.25,0.25,0.25,0.25,0.24444444477558136,0.2432432472705841,0.23999999463558197,0.23999999463558197,0.23999999463558197,0.2380952388048172,0.2380952388048172,0.2380952388048172,0.2380952388048172,0.23529411852359772,0.23529411852359772,0.23333333432674408,0.23076923191547394,0.23076923191547394,0.22727273404598236,0.22580644488334656,0.2222222238779068,0.2222222238779068,0.2222222238779068,0.2222222238779068,0.21739129722118378,0.2142857164144516,0.2142857164144516,0.2142857164144516,0.21212121844291687,0.2083333283662796,0.2083333283662796,0.2075471729040146,0.2068965584039688,0.2068965584039688,0.20588235557079315,0.20512820780277252,0.203125,0.20000000298023224,0.20000000298023224,0.20000000298023224,0.20000000298023224,0.20000000298023224,0.20000000298023224,0.19512194395065308,0.19512194395065308,0.19354838132858276,0.19230769574642181,0.190476194024086,0.1875,0.1875,0.1860465109348297,0.18518517911434174,0.1818181872367859,0.1818181872367859,0.1764705926179886,0.17391304671764374,0.1666666716337204,0.1666666716337204,0.1666666716337204,0.1666666716337204,0.1599999964237213,0.1599999964237213,0.1599999964237213,0.1599999964237213,0.15789473056793213,0.15789473056793213,0.15789473056793213,0.15625,0.15625,0.1538461595773697,0.1515151560306549,0.15000000596046448,0.15000000596046448,0.1428571492433548,0.1428571492433548,0.1428571492433548,0.1428571492433548,0.1428571492433548,0.1388888955116272,0.13793103396892548,0.13636364042758942,0.13333334028720856,0.1315789520740509,0.1304347813129425,0.12820513546466827,0.125,0.11999999731779099,0.11999999731779099,0.11999999731779099,0.11764705926179886,0.11764705926179886,0.11428571492433548,0.1111111119389534,0.1111111119389534,0.1111111119389534,0.1071428582072258,0.10526315867900848,0.10000000149011612,0.09756097197532654,0.095238097012043,0.095238097012043,0.09090909361839294,0.08695652335882187,0.08695652335882187,0.07999999821186066,0.07692307978868484,0.07692307978868484,0.07692307978868484,0.07692307978868484,0.07692307978868484,0.07407407462596893,0.06896551698446274,0.06666667014360428,0.06666667014360428,0.06666667014360428,0.06666667014360428,0.06666667014360428,0.06666667014360428,0.0625,0.0555555559694767,0.0555555559694767,0.054054055362939835,0.05263157933950424,0.05263157933950424,0.05000000074505806,0.0476190485060215,0.0476190485060215,0.0476190485060215,0.04545454680919647,0.04545454680919647,0.04545454680919647,0.043478261679410934,0.043478261679410934,0.043478261679410934,0.0416666679084301,0.0416666679084301,0.0416666679084301,0.0416666679084301,0.03999999910593033,0.03846153989434242,0.03703703731298447,0.03448275849223137,0.03333333507180214,0.03333333507180214,0.029411764815449715,0.027027027681469917,0.027027027681469917,0.0,0.0,0.0,0.0,0.0,0.0,0.0,0.0,0.0,0.0,0.0,0.0,0.0,0.0,0.0,0.0,0.0,0.0,0.0,0.0,0.0,0.0,0.0,0.0,0.0,0.0,0.0,0.0,0.0,0.0,0.0,0.0,0.0,0.0,0.0,0.0,0.0,0.0,0.0,0.0,0.0,0.0,0.0,0.0,0.0,0.0,0.0,0.0,0.0,0.0,0.0,0.0,0.0,0.0,0.0,0.0,0.0,0.0,0.0],\"sizemode\":\"area\",\"sizeref\":0.002460317462682724,\"symbol\":\"circle\"},\"mode\":\"markers\",\"name\":\"\",\"orientation\":\"v\",\"showlegend\":false,\"x\":[90,635,399,1,282,87,81,196,536,75,421,437,489,647,125,310,28,207,352,147,511,42,590,138,170,151,454,481,261,438,402,508,240,159,12,423,388,387,210,343,146,30,514,426,479,357,667,412,542,642,474,209,603,442,380,329,633,221,270,499,351,117,162,236,95,186,593,47,31,510,40,228,5,469,22,372,561,60,148,383,630,52,495,428,607,578,130,182,176,177,644,570,322,258,88,509,465,563,550,76,190,293,609,43,605,124,284,205,200,626,214,251,206,462,294,315,446,596,599,291,492,20,142,582,260,541,658,150,407,443,386,298,330,558,538,583,48,505,93,409,115,269,460,307,84,392,643,375,378,651,139,449,41,58,249,10,74,184,473,397,299,401,35,458,338,659,439,367,592,89,475,277,290,61,515,525,456,430,272,303,78,14,8,552,312,82,374,501,488,562,17,256,91,585,325,364,564,280,27,660,555,7,152,523,216,192,259,133,483,526,369,242,459,477,336,171,657,671,238,547,560,187,568,266,245,118,301,390,257,632,263,231,576,57,371,591,662,218,119,394,365,641,408,265,362,262,419,111,223,225,141,32,15,480,575,274,587,305,622,503,639,108,107,447,464,273,610,56,493,619,144,425,114,637,416,131,64,110,500,491,135,66,129,143,347,424,72,598,418,247,53,586,520,145,638,452,507,467,432,487,623,67,105,128,153,243,49,422,518,524,264,9,195,234,389,648,617,59,448,415,317,39,199,556,197,69,631,470,304,227,606,340,597,384,94,321,478,155,335,51,324,169,450,2,468,366,149,203,353,398,355,395,158,241,494,436,215,634,103,663,451,244,166,6,528,411,543,594,86,337,567,574,175,381,645,313,99,34,345,255,327,33,188,4,191,65,295,19,50,404,109,577,646,3,571,311,233,654,517,267,44,579,413,156,85,46,346,120,132,286,101,581,100,341,557,453,288,309,320,431,302,344,551,427,123,569,457,649,376,620,434,572,198,106,588,546,361,226,68,379,476,204,113,385,502,584,134,211,612,482,548,463,168,239,181,624,96,122,655,217,532,29,504,670,0,276,220,268,332,140,292,359,614,13,11,229,189,37,79,254,621,237,417,471,553,339,97,289,164,319,137,253,77,55,38,163,629,589,433,354,466,300,665,656,613,252,554,666,281,611,161,604,396,455,661,420,224,179,23,534,235,173,533,391,400,600,440,92,669,202,627,208,516,26,116,316,405,360,136,668,18,497,519,331,157,71,271,183,522,98,393,83,70,441,185,154,549,167,285,21,334,652,368,565,194,414,602,212,121,178,219,640,506,250,348,62,377,636,573,490,80,104,664,314,628,461,410,537,540,496,444,287,370,650,308,521,559,230,580,201,615,323,531,24,544,36,306,356,222,180,539,127,373,625,232,213,653,16,246,193,248,275,333,278,545,363,535,530,529,527,382,513,512,73,403,498,406,126,486,485,484,429,435,102,472,112,63,358,279,160,618,616,283,25,608,601,296,297,595,174,45,172,318,326,328,566,165,54,342,349,350,445],\"xaxis\":\"x\",\"y\":[0.9841269850730896,0.9683544039726257,0.9444444179534912,0.9257143139839172,0.9166666865348816,0.9147287011146545,0.9104477763175964,0.9083333611488342,0.9019607901573181,0.8970588445663452,0.8960000276565552,0.8894472122192383,0.8870967626571655,0.8819444179534912,0.8775510191917419,0.8771929740905762,0.8771929740905762,0.871999979019165,0.8672566413879395,0.8653846383094788,0.8607594966888428,0.8548387289047241,0.8444444537162781,0.8421052694320679,0.8409090638160706,0.8358209133148193,0.8354430198669434,0.8333333134651184,0.8333333134651184,0.8303571343421936,0.8260869383811951,0.824999988079071,0.8243243098258972,0.8227847814559937,0.8222222328186035,0.8222222328186035,0.8214285969734192,0.8144329786300659,0.8085106611251831,0.807692289352417,0.8032786846160889,0.8028169274330139,0.8026315569877625,0.800000011920929,0.7936508059501648,0.7910447716712952,0.7903226017951965,0.7846153974533081,0.7831325531005859,0.782608687877655,0.7818182110786438,0.779411792755127,0.7755101919174194,0.7727272510528564,0.7714285850524902,0.7710843086242676,0.7692307829856873,0.7692307829856873,0.7666666507720947,0.7628865838050842,0.7627118825912476,0.7627118825912476,0.7614678740501404,0.7611940503120422,0.7605633735656738,0.7536231875419617,0.7534246444702148,0.75,0.75,0.7444444298744202,0.7432432174682617,0.7413793206214905,0.7358490824699402,0.7333333492279053,0.7323943376541138,0.7317073345184326,0.729411780834198,0.7272727489471436,0.7272727489471436,0.7241379022598267,0.7236841917037964,0.7200000286102295,0.7200000286102295,0.7179487347602844,0.7162162065505981,0.7142857313156128,0.7142857313156128,0.7142857313156128,0.7090908885002136,0.707317054271698,0.7068965435028076,0.7045454382896423,0.7042253613471985,0.7042253613471985,0.7037037014961243,0.7021276354789734,0.7017543911933899,0.701298713684082,0.699999988079071,0.699999988079071,0.6962025165557861,0.692307710647583,0.692307710647583,0.6913580298423767,0.6901408433914185,0.6875,0.6875,0.6857143044471741,0.6851851940155029,0.682539701461792,0.6800000071525574,0.6800000071525574,0.6800000071525574,0.6785714030265808,0.6753246784210205,0.6744186282157898,0.6730769276618958,0.6708860993385315,0.6666666865348816,0.6666666865348816,0.6666666865348816,0.6666666865348816,0.6666666865348816,0.6666666865348816,0.6666666865348816,0.6666666865348816,0.6607142686843872,0.6600000262260437,0.6567164063453674,0.6551724076271057,0.6538461446762085,0.6521739363670349,0.6521739363670349,0.6511628031730652,0.6428571343421936,0.6428571343421936,0.6428571343421936,0.641791045665741,0.640625,0.6382978558540344,0.6376811861991882,0.6363636255264282,0.6363636255264282,0.6363636255264282,0.6333333253860474,0.6326530575752258,0.6326530575752258,0.6315789222717285,0.6315789222717285,0.6296296119689941,0.6296296119689941,0.6285714507102966,0.6285714507102966,0.6285714507102966,0.6268656849861145,0.625,0.625,0.625,0.625,0.6229507923126221,0.6226415038108826,0.6226415038108826,0.6181818246841431,0.6176470518112183,0.612500011920929,0.6122449040412903,0.6111111044883728,0.6086956262588501,0.604651153087616,0.6037735939025879,0.6037735939025879,0.6000000238418579,0.6000000238418579,0.6000000238418579,0.6000000238418579,0.6000000238418579,0.6000000238418579,0.6000000238418579,0.59375,0.5925925970077515,0.5925925970077515,0.5925925970077515,0.5918367505073547,0.5901639461517334,0.5869565010070801,0.5833333134651184,0.5833333134651184,0.5806451439857483,0.5789473652839661,0.5777778029441833,0.5769230723381042,0.5762711763381958,0.5757575631141663,0.5714285969734192,0.5714285969734192,0.5714285969734192,0.5714285969734192,0.5652173757553101,0.5625,0.5609756112098694,0.5600000023841858,0.5600000023841858,0.5581395626068115,0.5581395626068115,0.557692289352417,0.5573770403862,0.5555555820465088,0.5555555820465088,0.5555555820465088,0.5555555820465088,0.5483871102333069,0.5483871102333069,0.5454545617103577,0.5454545617103577,0.5428571701049805,0.5416666865348816,0.5357142686843872,0.5333333611488342,0.53125,0.529411792755127,0.5283018946647644,0.5277777910232544,0.5272727012634277,0.5227272510528564,0.52173912525177,0.5199999809265137,0.5161290168762207,0.5161290168762207,0.5161290168762207,0.5151515007019043,0.5151515007019043,0.5142857432365417,0.5135135054588318,0.5135135054588318,0.5116279125213623,0.5102040767669678,0.5094339847564697,0.5087719559669495,0.5087719559669495,0.5087719559669495,0.5079365372657776,0.5,0.5,0.5,0.5,0.5,0.5,0.5,0.5,0.5,0.4920634925365448,0.4901960790157318,0.4901960790157318,0.4883720874786377,0.4871794879436493,0.4864864945411682,0.4848484992980957,0.4838709533214569,0.4838709533214569,0.48275861144065857,0.48148149251937866,0.48148149251937866,0.47999998927116394,0.47826087474823,0.47826087474823,0.47826087474823,0.47727271914482117,0.4761904776096344,0.4761904776096344,0.4749999940395355,0.4736842215061188,0.4716981053352356,0.47058823704719543,0.47058823704719543,0.47058823704719543,0.46875,0.46875,0.46875,0.4677419364452362,0.46666666865348816,0.46666666865348816,0.4642857015132904,0.4642857015132904,0.46341463923454285,0.46341463923454285,0.46341463923454285,0.4583333432674408,0.45652174949645996,0.45652174949645996,0.4545454680919647,0.4523809552192688,0.4516128897666931,0.4482758641242981,0.4482758641242981,0.44736841320991516,0.44736841320991516,0.44680851697921753,0.44186046719551086,0.44117647409439087,0.4399999976158142,0.4375,0.4375,0.4375,0.4375,0.43478259444236755,0.43478259444236755,0.4333333373069763,0.4324324429035187,0.4285714328289032,0.4285714328289032,0.4285714328289032,0.4285714328289032,0.42553192377090454,0.42500001192092896,0.42424243688583374,0.42307692766189575,0.42307692766189575,0.42105263471603394,0.42105263471603394,0.42105263471603394,0.4166666567325592,0.4166666567325592,0.4137931168079376,0.4137931168079376,0.4117647111415863,0.4117647111415863,0.4117647111415863,0.4117647111415863,0.41025641560554504,0.40909090638160706,0.40909090638160706,0.40909090638160706,0.40816327929496765,0.40816327929496765,0.40816327929496765,0.40625,0.40625,0.40625,0.4054054021835327,0.4047619104385376,0.4000000059604645,0.4000000059604645,0.4000000059604645,0.3947368562221527,0.39393940567970276,0.3928571343421936,0.3928571343421936,0.3921568691730499,0.3888888955116272,0.3870967626571655,0.3870967626571655,0.3870967626571655,0.3863636255264282,0.3863636255264282,0.38461539149284363,0.38297873735427856,0.38235294818878174,0.38235294818878174,0.38235294818878174,0.38235294818878174,0.37931033968925476,0.37837839126586914,0.3777777850627899,0.375,0.375,0.375,0.375,0.37037035822868347,0.36666667461395264,0.36666667461395264,0.3636363744735718,0.3636363744735718,0.3611111044883728,0.3571428656578064,0.3571428656578064,0.35483869910240173,0.35483869910240173,0.35483869910240173,0.3529411852359772,0.3499999940395355,0.3499999940395355,0.3488371968269348,0.3478260934352875,0.3461538553237915,0.3448275923728943,0.34375,0.34285715222358704,0.34210526943206787,0.34210526943206787,0.3333333432674408,0.3333333432674408,0.3333333432674408,0.3333333432674408,0.3333333432674408,0.3333333432674408,0.3333333432674408,0.3333333432674408,0.3333333432674408,0.3265306055545807,0.32499998807907104,0.3243243098258972,0.3243243098258972,0.32258063554763794,0.32258063554763794,0.3214285671710968,0.3214285671710968,0.3214285671710968,0.3214285671710968,0.3181818127632141,0.3181818127632141,0.3181818127632141,0.3181818127632141,0.31578946113586426,0.31578946113586426,0.31578946113586426,0.3125,0.3095238208770752,0.3076923191547394,0.30612245202064514,0.3055555522441864,0.30434781312942505,0.30000001192092896,0.30000001192092896,0.29729729890823364,0.29629629850387573,0.29629629850387573,0.29411765933036804,0.29411765933036804,0.2926829159259796,0.2916666567325592,0.29032257199287415,0.29032257199287415,0.29032257199287415,0.28947368264198303,0.2857142984867096,0.2857142984867096,0.2857142984867096,0.2857142984867096,0.2857142984867096,0.2857142984867096,0.2857142984867096,0.28125,0.2800000011920929,0.27906978130340576,0.27906978130340576,0.2777777910232544,0.2777777910232544,0.27272728085517883,0.26923078298568726,0.2666666805744171,0.2666666805744171,0.2666666805744171,0.2647058963775635,0.2647058963775635,0.2631579041481018,0.2631579041481018,0.261904776096344,0.260869562625885,0.25925925374031067,0.25925925374031067,0.25806450843811035,0.25806450843811035,0.25,0.25,0.25,0.25,0.25,0.25,0.25,0.25,0.24444444477558136,0.2432432472705841,0.23999999463558197,0.23999999463558197,0.23999999463558197,0.2380952388048172,0.2380952388048172,0.2380952388048172,0.2380952388048172,0.23529411852359772,0.23529411852359772,0.23333333432674408,0.23076923191547394,0.23076923191547394,0.22727273404598236,0.22580644488334656,0.2222222238779068,0.2222222238779068,0.2222222238779068,0.2222222238779068,0.21739129722118378,0.2142857164144516,0.2142857164144516,0.2142857164144516,0.21212121844291687,0.2083333283662796,0.2083333283662796,0.2075471729040146,0.2068965584039688,0.2068965584039688,0.20588235557079315,0.20512820780277252,0.203125,0.20000000298023224,0.20000000298023224,0.20000000298023224,0.20000000298023224,0.20000000298023224,0.20000000298023224,0.19512194395065308,0.19512194395065308,0.19354838132858276,0.19230769574642181,0.190476194024086,0.1875,0.1875,0.1860465109348297,0.18518517911434174,0.1818181872367859,0.1818181872367859,0.1764705926179886,0.17391304671764374,0.1666666716337204,0.1666666716337204,0.1666666716337204,0.1666666716337204,0.1599999964237213,0.1599999964237213,0.1599999964237213,0.1599999964237213,0.15789473056793213,0.15789473056793213,0.15789473056793213,0.15625,0.15625,0.1538461595773697,0.1515151560306549,0.15000000596046448,0.15000000596046448,0.1428571492433548,0.1428571492433548,0.1428571492433548,0.1428571492433548,0.1428571492433548,0.1388888955116272,0.13793103396892548,0.13636364042758942,0.13333334028720856,0.1315789520740509,0.1304347813129425,0.12820513546466827,0.125,0.11999999731779099,0.11999999731779099,0.11999999731779099,0.11764705926179886,0.11764705926179886,0.11428571492433548,0.1111111119389534,0.1111111119389534,0.1111111119389534,0.1071428582072258,0.10526315867900848,0.10000000149011612,0.09756097197532654,0.095238097012043,0.095238097012043,0.09090909361839294,0.08695652335882187,0.08695652335882187,0.07999999821186066,0.07692307978868484,0.07692307978868484,0.07692307978868484,0.07692307978868484,0.07692307978868484,0.07407407462596893,0.06896551698446274,0.06666667014360428,0.06666667014360428,0.06666667014360428,0.06666667014360428,0.06666667014360428,0.06666667014360428,0.0625,0.0555555559694767,0.0555555559694767,0.054054055362939835,0.05263157933950424,0.05263157933950424,0.05000000074505806,0.0476190485060215,0.0476190485060215,0.0476190485060215,0.04545454680919647,0.04545454680919647,0.04545454680919647,0.043478261679410934,0.043478261679410934,0.043478261679410934,0.0416666679084301,0.0416666679084301,0.0416666679084301,0.0416666679084301,0.03999999910593033,0.03846153989434242,0.03703703731298447,0.03448275849223137,0.03333333507180214,0.03333333507180214,0.029411764815449715,0.027027027681469917,0.027027027681469917,0.0,0.0,0.0,0.0,0.0,0.0,0.0,0.0,0.0,0.0,0.0,0.0,0.0,0.0,0.0,0.0,0.0,0.0,0.0,0.0,0.0,0.0,0.0,0.0,0.0,0.0,0.0,0.0,0.0,0.0,0.0,0.0,0.0,0.0,0.0,0.0,0.0,0.0,0.0,0.0,0.0,0.0,0.0,0.0,0.0,0.0,0.0,0.0,0.0,0.0,0.0,0.0,0.0,0.0,0.0,0.0,0.0,0.0,0.0],\"yaxis\":\"y\",\"type\":\"scatter\"}],                        {\"template\":{\"data\":{\"bar\":[{\"error_x\":{\"color\":\"#2a3f5f\"},\"error_y\":{\"color\":\"#2a3f5f\"},\"marker\":{\"line\":{\"color\":\"#E5ECF6\",\"width\":0.5},\"pattern\":{\"fillmode\":\"overlay\",\"size\":10,\"solidity\":0.2}},\"type\":\"bar\"}],\"barpolar\":[{\"marker\":{\"line\":{\"color\":\"#E5ECF6\",\"width\":0.5},\"pattern\":{\"fillmode\":\"overlay\",\"size\":10,\"solidity\":0.2}},\"type\":\"barpolar\"}],\"carpet\":[{\"aaxis\":{\"endlinecolor\":\"#2a3f5f\",\"gridcolor\":\"white\",\"linecolor\":\"white\",\"minorgridcolor\":\"white\",\"startlinecolor\":\"#2a3f5f\"},\"baxis\":{\"endlinecolor\":\"#2a3f5f\",\"gridcolor\":\"white\",\"linecolor\":\"white\",\"minorgridcolor\":\"white\",\"startlinecolor\":\"#2a3f5f\"},\"type\":\"carpet\"}],\"choropleth\":[{\"colorbar\":{\"outlinewidth\":0,\"ticks\":\"\"},\"type\":\"choropleth\"}],\"contour\":[{\"colorbar\":{\"outlinewidth\":0,\"ticks\":\"\"},\"colorscale\":[[0.0,\"#0d0887\"],[0.1111111111111111,\"#46039f\"],[0.2222222222222222,\"#7201a8\"],[0.3333333333333333,\"#9c179e\"],[0.4444444444444444,\"#bd3786\"],[0.5555555555555556,\"#d8576b\"],[0.6666666666666666,\"#ed7953\"],[0.7777777777777778,\"#fb9f3a\"],[0.8888888888888888,\"#fdca26\"],[1.0,\"#f0f921\"]],\"type\":\"contour\"}],\"contourcarpet\":[{\"colorbar\":{\"outlinewidth\":0,\"ticks\":\"\"},\"type\":\"contourcarpet\"}],\"heatmap\":[{\"colorbar\":{\"outlinewidth\":0,\"ticks\":\"\"},\"colorscale\":[[0.0,\"#0d0887\"],[0.1111111111111111,\"#46039f\"],[0.2222222222222222,\"#7201a8\"],[0.3333333333333333,\"#9c179e\"],[0.4444444444444444,\"#bd3786\"],[0.5555555555555556,\"#d8576b\"],[0.6666666666666666,\"#ed7953\"],[0.7777777777777778,\"#fb9f3a\"],[0.8888888888888888,\"#fdca26\"],[1.0,\"#f0f921\"]],\"type\":\"heatmap\"}],\"heatmapgl\":[{\"colorbar\":{\"outlinewidth\":0,\"ticks\":\"\"},\"colorscale\":[[0.0,\"#0d0887\"],[0.1111111111111111,\"#46039f\"],[0.2222222222222222,\"#7201a8\"],[0.3333333333333333,\"#9c179e\"],[0.4444444444444444,\"#bd3786\"],[0.5555555555555556,\"#d8576b\"],[0.6666666666666666,\"#ed7953\"],[0.7777777777777778,\"#fb9f3a\"],[0.8888888888888888,\"#fdca26\"],[1.0,\"#f0f921\"]],\"type\":\"heatmapgl\"}],\"histogram\":[{\"marker\":{\"pattern\":{\"fillmode\":\"overlay\",\"size\":10,\"solidity\":0.2}},\"type\":\"histogram\"}],\"histogram2d\":[{\"colorbar\":{\"outlinewidth\":0,\"ticks\":\"\"},\"colorscale\":[[0.0,\"#0d0887\"],[0.1111111111111111,\"#46039f\"],[0.2222222222222222,\"#7201a8\"],[0.3333333333333333,\"#9c179e\"],[0.4444444444444444,\"#bd3786\"],[0.5555555555555556,\"#d8576b\"],[0.6666666666666666,\"#ed7953\"],[0.7777777777777778,\"#fb9f3a\"],[0.8888888888888888,\"#fdca26\"],[1.0,\"#f0f921\"]],\"type\":\"histogram2d\"}],\"histogram2dcontour\":[{\"colorbar\":{\"outlinewidth\":0,\"ticks\":\"\"},\"colorscale\":[[0.0,\"#0d0887\"],[0.1111111111111111,\"#46039f\"],[0.2222222222222222,\"#7201a8\"],[0.3333333333333333,\"#9c179e\"],[0.4444444444444444,\"#bd3786\"],[0.5555555555555556,\"#d8576b\"],[0.6666666666666666,\"#ed7953\"],[0.7777777777777778,\"#fb9f3a\"],[0.8888888888888888,\"#fdca26\"],[1.0,\"#f0f921\"]],\"type\":\"histogram2dcontour\"}],\"mesh3d\":[{\"colorbar\":{\"outlinewidth\":0,\"ticks\":\"\"},\"type\":\"mesh3d\"}],\"parcoords\":[{\"line\":{\"colorbar\":{\"outlinewidth\":0,\"ticks\":\"\"}},\"type\":\"parcoords\"}],\"pie\":[{\"automargin\":true,\"type\":\"pie\"}],\"scatter\":[{\"marker\":{\"colorbar\":{\"outlinewidth\":0,\"ticks\":\"\"}},\"type\":\"scatter\"}],\"scatter3d\":[{\"line\":{\"colorbar\":{\"outlinewidth\":0,\"ticks\":\"\"}},\"marker\":{\"colorbar\":{\"outlinewidth\":0,\"ticks\":\"\"}},\"type\":\"scatter3d\"}],\"scattercarpet\":[{\"marker\":{\"colorbar\":{\"outlinewidth\":0,\"ticks\":\"\"}},\"type\":\"scattercarpet\"}],\"scattergeo\":[{\"marker\":{\"colorbar\":{\"outlinewidth\":0,\"ticks\":\"\"}},\"type\":\"scattergeo\"}],\"scattergl\":[{\"marker\":{\"colorbar\":{\"outlinewidth\":0,\"ticks\":\"\"}},\"type\":\"scattergl\"}],\"scattermapbox\":[{\"marker\":{\"colorbar\":{\"outlinewidth\":0,\"ticks\":\"\"}},\"type\":\"scattermapbox\"}],\"scatterpolar\":[{\"marker\":{\"colorbar\":{\"outlinewidth\":0,\"ticks\":\"\"}},\"type\":\"scatterpolar\"}],\"scatterpolargl\":[{\"marker\":{\"colorbar\":{\"outlinewidth\":0,\"ticks\":\"\"}},\"type\":\"scatterpolargl\"}],\"scatterternary\":[{\"marker\":{\"colorbar\":{\"outlinewidth\":0,\"ticks\":\"\"}},\"type\":\"scatterternary\"}],\"surface\":[{\"colorbar\":{\"outlinewidth\":0,\"ticks\":\"\"},\"colorscale\":[[0.0,\"#0d0887\"],[0.1111111111111111,\"#46039f\"],[0.2222222222222222,\"#7201a8\"],[0.3333333333333333,\"#9c179e\"],[0.4444444444444444,\"#bd3786\"],[0.5555555555555556,\"#d8576b\"],[0.6666666666666666,\"#ed7953\"],[0.7777777777777778,\"#fb9f3a\"],[0.8888888888888888,\"#fdca26\"],[1.0,\"#f0f921\"]],\"type\":\"surface\"}],\"table\":[{\"cells\":{\"fill\":{\"color\":\"#EBF0F8\"},\"line\":{\"color\":\"white\"}},\"header\":{\"fill\":{\"color\":\"#C8D4E3\"},\"line\":{\"color\":\"white\"}},\"type\":\"table\"}]},\"layout\":{\"annotationdefaults\":{\"arrowcolor\":\"#2a3f5f\",\"arrowhead\":0,\"arrowwidth\":1},\"autotypenumbers\":\"strict\",\"coloraxis\":{\"colorbar\":{\"outlinewidth\":0,\"ticks\":\"\"}},\"colorscale\":{\"diverging\":[[0,\"#8e0152\"],[0.1,\"#c51b7d\"],[0.2,\"#de77ae\"],[0.3,\"#f1b6da\"],[0.4,\"#fde0ef\"],[0.5,\"#f7f7f7\"],[0.6,\"#e6f5d0\"],[0.7,\"#b8e186\"],[0.8,\"#7fbc41\"],[0.9,\"#4d9221\"],[1,\"#276419\"]],\"sequential\":[[0.0,\"#0d0887\"],[0.1111111111111111,\"#46039f\"],[0.2222222222222222,\"#7201a8\"],[0.3333333333333333,\"#9c179e\"],[0.4444444444444444,\"#bd3786\"],[0.5555555555555556,\"#d8576b\"],[0.6666666666666666,\"#ed7953\"],[0.7777777777777778,\"#fb9f3a\"],[0.8888888888888888,\"#fdca26\"],[1.0,\"#f0f921\"]],\"sequentialminus\":[[0.0,\"#0d0887\"],[0.1111111111111111,\"#46039f\"],[0.2222222222222222,\"#7201a8\"],[0.3333333333333333,\"#9c179e\"],[0.4444444444444444,\"#bd3786\"],[0.5555555555555556,\"#d8576b\"],[0.6666666666666666,\"#ed7953\"],[0.7777777777777778,\"#fb9f3a\"],[0.8888888888888888,\"#fdca26\"],[1.0,\"#f0f921\"]]},\"colorway\":[\"#636efa\",\"#EF553B\",\"#00cc96\",\"#ab63fa\",\"#FFA15A\",\"#19d3f3\",\"#FF6692\",\"#B6E880\",\"#FF97FF\",\"#FECB52\"],\"font\":{\"color\":\"#2a3f5f\"},\"geo\":{\"bgcolor\":\"white\",\"lakecolor\":\"white\",\"landcolor\":\"#E5ECF6\",\"showlakes\":true,\"showland\":true,\"subunitcolor\":\"white\"},\"hoverlabel\":{\"align\":\"left\"},\"hovermode\":\"closest\",\"mapbox\":{\"style\":\"light\"},\"paper_bgcolor\":\"white\",\"plot_bgcolor\":\"#E5ECF6\",\"polar\":{\"angularaxis\":{\"gridcolor\":\"white\",\"linecolor\":\"white\",\"ticks\":\"\"},\"bgcolor\":\"#E5ECF6\",\"radialaxis\":{\"gridcolor\":\"white\",\"linecolor\":\"white\",\"ticks\":\"\"}},\"scene\":{\"xaxis\":{\"backgroundcolor\":\"#E5ECF6\",\"gridcolor\":\"white\",\"gridwidth\":2,\"linecolor\":\"white\",\"showbackground\":true,\"ticks\":\"\",\"zerolinecolor\":\"white\"},\"yaxis\":{\"backgroundcolor\":\"#E5ECF6\",\"gridcolor\":\"white\",\"gridwidth\":2,\"linecolor\":\"white\",\"showbackground\":true,\"ticks\":\"\",\"zerolinecolor\":\"white\"},\"zaxis\":{\"backgroundcolor\":\"#E5ECF6\",\"gridcolor\":\"white\",\"gridwidth\":2,\"linecolor\":\"white\",\"showbackground\":true,\"ticks\":\"\",\"zerolinecolor\":\"white\"}},\"shapedefaults\":{\"line\":{\"color\":\"#2a3f5f\"}},\"ternary\":{\"aaxis\":{\"gridcolor\":\"white\",\"linecolor\":\"white\",\"ticks\":\"\"},\"baxis\":{\"gridcolor\":\"white\",\"linecolor\":\"white\",\"ticks\":\"\"},\"bgcolor\":\"#E5ECF6\",\"caxis\":{\"gridcolor\":\"white\",\"linecolor\":\"white\",\"ticks\":\"\"}},\"title\":{\"x\":0.05},\"xaxis\":{\"automargin\":true,\"gridcolor\":\"white\",\"linecolor\":\"white\",\"ticks\":\"\",\"title\":{\"standoff\":15},\"zerolinecolor\":\"white\",\"zerolinewidth\":2},\"yaxis\":{\"automargin\":true,\"gridcolor\":\"white\",\"linecolor\":\"white\",\"ticks\":\"\",\"title\":{\"standoff\":15},\"zerolinecolor\":\"white\",\"zerolinewidth\":2}}},\"xaxis\":{\"anchor\":\"y\",\"domain\":[0.0,1.0],\"title\":{\"text\":\"subject\"},\"showgrid\":false,\"showline\":true,\"gridwidth\":0.05,\"linecolor\":\"gray\",\"zeroline\":false,\"linewidth\":2},\"yaxis\":{\"anchor\":\"x\",\"domain\":[0.0,1.0],\"title\":{\"text\":\"state\"},\"showline\":true,\"gridwidth\":0.05,\"linecolor\":\"gray\",\"linewidth\":2,\"zeroline\":false},\"coloraxis\":{\"colorbar\":{\"title\":{\"text\":\"state\"}},\"colorscale\":[[0.0,\"rgb(196, 230, 195)\"],[0.16666666666666666,\"rgb(150, 210, 164)\"],[0.3333333333333333,\"rgb(109, 188, 144)\"],[0.5,\"rgb(77, 162, 132)\"],[0.6666666666666666,\"rgb(54, 135, 122)\"],[0.8333333333333334,\"rgb(38, 107, 110)\"],[1.0,\"rgb(29, 79, 96)\"]]},\"legend\":{\"tracegroupgap\":0,\"itemsizing\":\"constant\"},\"margin\":{\"t\":100,\"b\":50,\"r\":30,\"l\":100},\"font\":{\"family\":\"Times New Roman\",\"size\":14},\"hoverlabel\":{\"font\":{\"color\":\"floralwhite\"}},\"height\":500,\"title\":{\"text\":\"<span style='font-size:36px; font-family:Times New Roman'>Subject Probability State Analysis</span>\"},\"plot_bgcolor\":\"rgb(242,242,242)\",\"paper_bgcolor\":\"rgb(242,242,242)\",\"showlegend\":false},                        {\"responsive\": true}                    ).then(function(){\n",
              "                            \n",
              "var gd = document.getElementById('c36c49eb-8e4a-4d55-a3ea-7411c3cc30f1');\n",
              "var x = new MutationObserver(function (mutations, observer) {{\n",
              "        var display = window.getComputedStyle(gd).display;\n",
              "        if (!display || display === 'none') {{\n",
              "            console.log([gd, 'removed!']);\n",
              "            Plotly.purge(gd);\n",
              "            observer.disconnect();\n",
              "        }}\n",
              "}});\n",
              "\n",
              "// Listen for the removal of the full notebook cells\n",
              "var notebookContainer = gd.closest('#notebook-container');\n",
              "if (notebookContainer) {{\n",
              "    x.observe(notebookContainer, {childList: true});\n",
              "}}\n",
              "\n",
              "// Listen for the clearing of the current output cell\n",
              "var outputEl = gd.closest('.output');\n",
              "if (outputEl) {{\n",
              "    x.observe(outputEl, {childList: true});\n",
              "}}\n",
              "\n",
              "                        })                };                            </script>        </div>\n",
              "</body>\n",
              "</html>"
            ]
          },
          "metadata": {},
          "output_type": "display_data"
        }
      ],
      "source": [
        "mean_state = df_data[df_data.state.isnull() == False].groupby('subject').agg({'state':'mean'}).reset_index().sort_values(by='state',ascending=False)\n",
        "fig = px.scatter(mean_state, x='subject',y='state', color=\"state\", color_continuous_scale='Blugrn', size='state')\n",
        "\n",
        "fig.update_xaxes(showgrid = False, showline = True, gridwidth = 0.05, linecolor = 'gray', zeroline = False, linewidth = 2)\n",
        "fig.update_yaxes(showline = True, gridwidth = 0.05, linecolor = 'gray', linewidth = 2, zeroline = False)\n",
        "\n",
        "# General Styling\n",
        "fig.update_layout(height=500,\n",
        "              margin=dict(b=50,r=30,l=100,t=100),\n",
        "              title = \"<span style='font-size:36px; font-family:Times New Roman'>Subject Probability State Analysis</span>\",                  \n",
        "              plot_bgcolor='rgb(242,242,242)',\n",
        "              paper_bgcolor = 'rgb(242,242,242)',\n",
        "              font=dict(family=\"Times New Roman\", size= 14),\n",
        "              hoverlabel=dict(font_color=\"floralwhite\"),\n",
        "              showlegend=False)\n",
        "fig.show()"
      ]
    },
    {
      "cell_type": "markdown",
      "metadata": {
        "id": "JeEiTNSv6pMk"
      },
      "source": [
        "2.2.3 | Временные шаги\n",
        "Функции временного шага позволяют нам моделировать зависимость от времени. Ряд зависит от времени, если его значения могут быть предсказаны с момента их возникновения. В серии продаж в твердом переплете мы можем предсказать, что продажи в конце месяца, как правило, выше, чем продажи в начале месяца."
      ]
    },
    {
      "cell_type": "code",
      "execution_count": null,
      "metadata": {
        "colab": {
          "base_uri": "https://localhost:8080/",
          "height": 517
        },
        "id": "EU0MxEJA6w1d",
        "outputId": "173f840f-a056-4cc4-a2e4-db4d2a5dd628"
      },
      "outputs": [
        {
          "data": {
            "text/html": [
              "<html>\n",
              "<head><meta charset=\"utf-8\" /></head>\n",
              "<body>\n",
              "    <div>            <script src=\"https://cdnjs.cloudflare.com/ajax/libs/mathjax/2.7.5/MathJax.js?config=TeX-AMS-MML_SVG\"></script><script type=\"text/javascript\">if (window.MathJax) {MathJax.Hub.Config({SVG: {font: \"STIX-Web\"}});}</script>                <script type=\"text/javascript\">window.PlotlyConfig = {MathJaxConfig: 'local'};</script>\n",
              "        <script src=\"https://cdn.plot.ly/plotly-2.8.3.min.js\"></script>                <div id=\"be0833c1-b51f-42e0-afe9-fbae5d7f6171\" class=\"plotly-graph-div\" style=\"height:500px; width:100%;\"></div>            <script type=\"text/javascript\">                                    window.PLOTLYENV=window.PLOTLYENV || {};                                    if (document.getElementById(\"be0833c1-b51f-42e0-afe9-fbae5d7f6171\")) {                    Plotly.newPlot(                        \"be0833c1-b51f-42e0-afe9-fbae5d7f6171\",                        [{\"marker\":{\"color\":\"#316395\"},\"mode\":\"lines+markers\",\"name\":\"State 0\",\"visible\":true,\"x\":[0,1,2,3,4,5,6,7,8,9,10,11,12,13,14,15,16,17,18,19,20,21,22,23,24,25,26,27,28,29,30,31,32,33,34,35,36,37,38,39,40,41,42,43,44,45,46,47,48,49,50,51,52,53,54,55,56,57,58,59],\"y\":[0.03703313320875168,0.014745792374014854,-0.06907720863819122,0.043786611407995224,0.05246683210134506,-0.039924051612615585,-0.04524337500333786,0.04905223846435547,0.010919390246272087,-0.024800095707178116,-0.0025256408844143152,0.014987762086093426,0.02667440101504326,-0.005819367244839668,-0.03167521208524704,0.0065048267133533955,-0.03279712423682213,-0.0016302478034049273,-0.0009185401722788811,0.012473516166210175,0.025628434494137764,0.010054600425064564,-0.018257148563861847,-0.013862154446542263,0.027807826176285744,0.016629522666335106,0.005385063588619232,-0.04316319525241852,0.016169149428606033,0.008377640508115292,0.031095046550035477,-0.021034423261880875,-0.004555174615234137,0.020069468766450882,-0.06737864762544632,-0.01371861808001995,0.07955018430948257,-0.033630114048719406,-0.009518999606370926,0.028365381062030792,0.0065849460661411285,-0.010506322607398033,0.01860787160694599,0.008847261779010296,-0.0460137277841568,-0.00879368931055069,0.019973838701844215,0.002187385456636548,0.03852462023496628,-0.019633913412690163,0.0035356355365365744,-0.01636536233127117,0.004388314206153154,-0.00520841870456934,0.008002101443707943,0.008926007896661758,-0.0014154831878840923,0.0052440352737903595,-0.012578870169818401,0.007266645785421133],\"type\":\"scatter\"},{\"marker\":{\"color\":\"#35b779\"},\"mode\":\"lines+markers\",\"name\":\"State 1\",\"visible\":true,\"x\":[0,1,2,3,4,5,6,7,8,9,10,11,12,13,14,15,16,17,18,19,20,21,22,23,24,25,26,27,28,29,30,31,32,33,34,35,36,37,38,39,40,41,42,43,44,45,46,47,48,49,50,51,52,53,54,55,56,57,58,59],\"y\":[-0.017342517152428627,-0.002359366277232766,0.028014177456498146,0.0011672123800963163,-0.012430199421942234,-0.010912631638348103,0.020011797547340393,-0.0002852114266715944,-0.004214044660329819,-0.018764538690447807,0.02755378931760788,-0.026830634102225304,0.03563300892710686,-0.01125330664217472,-0.022413799539208412,-0.0032655359245836735,0.01050390675663948,-0.007605054881423712,0.013784524984657764,-0.001239956240169704,0.0013705369783565402,-0.005460294894874096,0.007650778163224459,-0.007678273133933544,0.019975338131189346,-0.004069212358444929,0.0157027430832386,-0.007299059070646763,-0.021255791187286377,0.0010415606666356325,0.005128289572894573,-0.007300721947103739,-0.008252615109086037,0.015885639935731888,-0.01053698267787695,0.030773362144827843,-0.027407411485910416,-0.014030901715159416,0.008485393598675728,0.02435416728258133,0.015000966377556324,-0.0017543815774843097,-0.026879150420427322,0.017156770452857018,-0.0019637637306004763,-0.013954119756817818,0.02657986432313919,0.017544712871313095,-0.026902902871370316,0.00924500823020935,-0.011307167820632458,-0.03904177248477936,0.009059438481926918,0.01888478733599186,-0.005579415708780289,0.034171201288700104,-0.039535120129585266,0.008682837709784508,0.004504243843257427,-0.02597309835255146],\"type\":\"scatter\"},{\"marker\":{\"color\":\"#316395\"},\"mode\":\"lines+markers\",\"name\":\"State 0\",\"visible\":false,\"x\":[0,1,2,3,4,5,6,7,8,9,10,11,12,13,14,15,16,17,18,19,20,21,22,23,24,25,26,27,28,29,30,31,32,33,34,35,36,37,38,39,40,41,42,43,44,45,46,47,48,49,50,51,52,53,54,55,56,57,58,59],\"y\":[0.0017007504357025027,-0.01567375659942627,-0.023902857676148415,-0.0003997644816990942,0.07727586477994919,-0.0279413890093565,-0.006400394719094038,-0.057724617421627045,0.06622552871704102,-0.006195159628987312,-0.03592860326170921,0.01688140630722046,-0.013483717106282711,0.052059855312108994,-0.045417413115501404,0.02238050103187561,-0.017304684966802597,-0.006447752006351948,-0.021327488124370575,0.015291097573935986,0.01047890167683363,0.009595930576324463,-0.021189555525779724,0.0013935868628323078,0.016370141878724098,0.003489478724077344,-0.010270343162119389,0.04468502476811409,-0.014253245666623116,-0.03013596683740616,0.03530097380280495,-0.008884540759027004,-0.04523975029587746,0.06856103986501694,-0.017428021878004074,-0.02330523356795311,-0.012201463803648949,-0.06605394929647446,0.041547223925590515,0.017753349617123604,-0.006283626426011324,0.02651211991906166,-0.002789444988593459,-0.036373455077409744,-0.017378559336066246,0.007626372389495373,-0.03074818290770054,0.023222362622618675,0.017459647729992867,0.03271247074007988,-0.00743784150108695,5.586984480032697e-05,-0.03206854686141014,-0.010629565455019474,-0.013743442483246326,0.0028506654780358076,0.06011113151907921,-0.008611596189439297,0.026381488889455795,0.025694264099001884],\"type\":\"scatter\"},{\"marker\":{\"color\":\"#35b779\"},\"mode\":\"lines+markers\",\"name\":\"State 1\",\"visible\":false,\"x\":[0,1,2,3,4,5,6,7,8,9,10,11,12,13,14,15,16,17,18,19,20,21,22,23,24,25,26,27,28,29,30,31,32,33,34,35,36,37,38,39,40,41,42,43,44,45,46,47,48,49,50,51,52,53,54,55,56,57,58,59],\"y\":[0.018782051280140877,0.014805001206696033,-0.0020767878741025925,0.05484792962670326,-0.05462725833058357,-0.0024061836302280426,0.041005611419677734,-0.06510022282600403,0.023419108241796494,0.0059714289382100105,-0.023646963760256767,-0.008915414102375507,-0.00542474864050746,0.059794120490550995,-0.03907136991620064,-0.03754868730902672,-0.0034386052284389734,-0.047996874898672104,0.09476389735937119,-0.010064385831356049,-0.03264398127794266,0.01183098740875721,-0.014677713625133038,-0.03849361091852188,-0.012766711413860321,-0.019406942650675774,0.04812222346663475,-0.02469286508858204,-0.06932523101568222,0.049928050488233566,0.020978378131985664,-0.004275212530046701,-0.01192647498100996,0.0007101299706846476,-0.02044130116701126,-0.0030760355293750763,0.008900887332856655,-0.0029697336722165346,0.04600564390420914,-0.08567946404218674,0.07551838457584381,0.023512817919254303,-0.03683105483651161,-0.004109503701329231,-0.022909071296453476,0.022375868633389473,0.06667875498533249,-0.08225022256374359,-0.03380126878619194,0.02476567029953003,0.06191183254122734,-0.037386126816272736,-0.06043144315481186,0.08983481675386429,-0.0054930346086621284,-0.04039476439356804,-0.02131681703031063,0.00987365934997797,-0.005814600735902786,-0.03712090104818344],\"type\":\"scatter\"},{\"marker\":{\"color\":\"#316395\"},\"mode\":\"lines+markers\",\"name\":\"State 0\",\"visible\":false,\"x\":[0,1,2,3,4,5,6,7,8,9,10,11,12,13,14,15,16,17,18,19,20,21,22,23,24,25,26,27,28,29,30,31,32,33,34,35,36,37,38,39,40,41,42,43,44,45,46,47,48,49,50,51,52,53,54,55,56,57,58,59],\"y\":[-0.41923102736473083,-0.41160544753074646,-0.40442147850990295,-0.4057736396789551,-0.4118024408817291,-0.4121672809123993,-0.40315884351730347,-0.39450109004974365,-0.3960801661014557,-0.3982260227203369,-0.3986979126930237,-0.4031960964202881,-0.3972281217575073,-0.39508724212646484,-0.398120641708374,-0.40010133385658264,-0.3928430378437042,-0.3960292339324951,-0.397921621799469,-0.4032467007637024,-0.40201327204704285,-0.405041366815567,-0.40185272693634033,-0.4006088078022003,-0.4001724123954773,-0.39929166436195374,-0.4033677875995636,-0.41098207235336304,-0.41522014141082764,-0.41118311882019043,-0.410241961479187,-0.41020944714546204,-0.4064345061779022,-0.4109417498111725,-0.40536078810691833,-0.4009885787963867,-0.39646103978157043,-0.4022832214832306,-0.40058955550193787,-0.4068775177001953,-0.399903804063797,-0.39705902338027954,-0.3989121615886688,-0.3967459797859192,-0.3947645127773285,-0.40216752886772156,-0.40429118275642395,-0.4025377035140991,-0.394338458776474,-0.3902848958969116,-0.38977593183517456,-0.3926053047180176,-0.3972950577735901,-0.3983568847179413,-0.4029702842235565,-0.40217989683151245,-0.4042941629886627,-0.40343594551086426,-0.40209466218948364,-0.39790868759155273],\"type\":\"scatter\"},{\"marker\":{\"color\":\"#35b779\"},\"mode\":\"lines+markers\",\"name\":\"State 1\",\"visible\":false,\"x\":[0,1,2,3,4,5,6,7,8,9,10,11,12,13,14,15,16,17,18,19,20,21,22,23,24,25,26,27,28,29,30,31,32,33,34,35,36,37,38,39,40,41,42,43,44,45,46,47,48,49,50,51,52,53,54,55,56,57,58,59],\"y\":[-0.039398081600666046,-0.04068531095981598,-0.03349475935101509,-0.03464113175868988,-0.034337472170591354,-0.03273336589336395,-0.023160455748438835,-0.031897902488708496,-0.028765488415956497,-0.031098829582333565,-0.0319097600877285,-0.024139614775776863,-0.029893118888139725,-0.030483504757285118,-0.027740174904465675,-0.027258573099970818,-0.02468869648873806,-0.0246711615473032,-0.023297952488064766,-0.027666287496685982,-0.02805470861494541,-0.03477723151445389,-0.03340461850166321,-0.0312780998647213,-0.029252009466290474,-0.03306428715586662,-0.0375392772257328,-0.03974339738488197,-0.04547155275940895,-0.04766440391540527,-0.05066404119133949,-0.04626063257455826,-0.04761447757482529,-0.03826778009533882,-0.03158467262983322,-0.03869904205203056,-0.04176469147205353,-0.04006846621632576,-0.0350930392742157,-0.035213224589824677,-0.03320847451686859,-0.03668209910392761,-0.0404525026679039,-0.034629225730895996,-0.040709950029850006,-0.03410765901207924,-0.04065415635704994,-0.04057955741882324,-0.043022215366363525,-0.04855002462863922,-0.043052736669778824,-0.04161849245429039,-0.03576154634356499,-0.035624850541353226,-0.03470221534371376,-0.03336053341627121,-0.029224157333374023,-0.021678602322936058,-0.02053149975836277,-0.020378712564706802],\"type\":\"scatter\"},{\"marker\":{\"color\":\"#316395\"},\"mode\":\"lines+markers\",\"name\":\"State 0\",\"visible\":false,\"x\":[0,1,2,3,4,5,6,7,8,9,10,11,12,13,14,15,16,17,18,19,20,21,22,23,24,25,26,27,28,29,30,31,32,33,34,35,36,37,38,39,40,41,42,43,44,45,46,47,48,49,50,51,52,53,54,55,56,57,58,59],\"y\":[-0.04641604423522949,0.018339844420552254,-0.042995162308216095,0.019730331376194954,-0.020688658580183983,-0.03912468999624252,0.10902615636587143,0.032739605754613876,-0.10227086395025253,-0.03352297842502594,0.0195737536996603,0.009448613971471786,0.021135782822966576,-0.029827188700437546,0.009114347398281097,0.034678395837545395,0.016971353441476822,-0.04651004821062088,-0.03963493928313255,0.03364286944270134,-0.0035138633102178574,-0.03470524027943611,-0.02154403366148472,0.03060455061495304,0.04635142162442207,-0.017586462199687958,-0.0265011265873909,-0.015439312905073166,-0.01679270900785923,0.03362422063946724,0.005511467810720205,-0.030039582401514053,0.05116921663284302,-0.02882411703467369,0.013129164464771748,-0.025238728150725365,-0.0235784612596035,0.040163490921258926,-0.005943493451923132,0.011339033953845501,-8.129622983688023e-06,-0.018780682235956192,0.004971505608409643,0.0007438159082084894,0.06428451836109161,-0.07734905183315277,-0.02288847789168358,-0.01342339999973774,-0.002675772411748767,0.022538840770721436,0.09418971836566925,-0.08000481128692627,0.0011001488892361522,-0.07461856305599213,0.0065485630184412,0.12090425938367844,-0.012521776370704174,-0.005987216252833605,-0.06211734935641289,0.033561576157808304],\"type\":\"scatter\"},{\"marker\":{\"color\":\"#35b779\"},\"mode\":\"lines+markers\",\"name\":\"State 1\",\"visible\":false,\"x\":[0,1,2,3,4,5,6,7,8,9,10,11,12,13,14,15,16,17,18,19,20,21,22,23,24,25,26,27,28,29,30,31,32,33,34,35,36,37,38,39,40,41,42,43,44,45,46,47,48,49,50,51,52,53,54,55,56,57,58,59],\"y\":[-0.008038041181862354,-0.0356694832444191,0.02265756018459797,-0.008274342864751816,-0.02764837257564068,-0.006526327691972256,-0.01156378909945488,0.023148387670516968,-0.00791298970580101,-0.05512334406375885,0.0345270112156868,-0.006211827043443918,0.02074369043111801,-0.04311109706759453,0.0027707391418516636,0.004375818185508251,-0.03329946845769882,0.021649116650223732,0.02951565943658352,-0.04395192116498947,0.016541477292776108,0.0065565877594053745,0.0021209970582276583,0.007014638278633356,0.04044949635863304,-0.051854778081178665,0.030067959800362587,0.01902688853442669,-0.04987338185310364,0.010766757652163506,-0.008230142295360565,0.0019599036313593388,-0.005943428725004196,-0.019351521506905556,0.0411529578268528,-0.047109782695770264,-0.01841454580426216,0.032835569232702255,0.0022375492844730616,-0.016455594450235367,-0.001912984298542142,-0.0021065124310553074,0.013861790299415588,-0.01524906512349844,0.004907580092549324,-0.006574606988579035,-0.03441215679049492,-0.014591841027140617,0.00438472768291831,0.0298846997320652,0.012613032944500446,-0.06503119319677353,-0.0014109385665506124,0.05676303803920746,0.0010351676028221846,-0.025959042832255363,0.03661135584115982,-0.02024470642209053,-0.0027834565844386816,0.02187236025929451],\"type\":\"scatter\"},{\"marker\":{\"color\":\"#316395\"},\"mode\":\"lines+markers\",\"name\":\"State 0\",\"visible\":false,\"x\":[0,1,2,3,4,5,6,7,8,9,10,11,12,13,14,15,16,17,18,19,20,21,22,23,24,25,26,27,28,29,30,31,32,33,34,35,36,37,38,39,40,41,42,43,44,45,46,47,48,49,50,51,52,53,54,55,56,57,58,59],\"y\":[-0.02735241875052452,-0.03204597905278206,-0.0018179741455242038,0.008946551941335201,-0.01840493455529213,-0.022118471562862396,0.006458396092057228,0.007648947183042765,-0.015131756663322449,-0.022126225754618645,-0.014018903486430645,-0.010026954114437103,-0.002230255166068673,-0.005408863537013531,-0.002002605702728033,0.0025744596496224403,-0.005838086828589439,-0.03964392468333244,-0.012982850894331932,0.017056455835700035,-0.0019163877004757524,-0.02158323861658573,-0.01441982015967369,0.0002729382540564984,-0.014220131561160088,-0.012132911942899227,0.0047487602569162846,0.009769908152520657,0.009601162746548653,-0.0010447673266753554,-0.022005341947078705,-0.02123216539621353,-0.018202664330601692,-0.01781127043068409,-0.0008722135098651052,0.01244474295526743,0.0009249977301806211,-0.014826309867203236,-0.015814872458577156,-0.007238532416522503,-0.0050680809654295444,0.000628327950835228,-0.02391902171075344,-0.035703908652067184,-0.019173000007867813,0.00042320467764511704,0.022473732009530067,0.015386837534606457,-0.016073374077677727,0.0027269767597317696,-0.019562827423214912,-0.0170985646545887,-0.013156510889530182,-0.004295332822948694,-0.024137813597917557,-0.005789397284388542,-0.012070870958268642,0.0022535647731274366,0.0017542941495776176,-0.009998561814427376],\"type\":\"scatter\"},{\"marker\":{\"color\":\"#35b779\"},\"mode\":\"lines+markers\",\"name\":\"State 1\",\"visible\":false,\"x\":[0,1,2,3,4,5,6,7,8,9,10,11,12,13,14,15,16,17,18,19,20,21,22,23,24,25,26,27,28,29,30,31,32,33,34,35,36,37,38,39,40,41,42,43,44,45,46,47,48,49,50,51,52,53,54,55,56,57,58,59],\"y\":[0.006813320331275463,0.016302304342389107,0.015805987641215324,0.003548146691173315,-0.0032747110817581415,-0.0033296020701527596,-0.01778373308479786,0.006142779253423214,0.029272915795445442,0.013015909120440483,-0.0016676797531545162,0.004185257479548454,0.015278519131243229,0.005867389962077141,-0.02890300378203392,-0.022645270451903343,0.004432041198015213,0.024609265848994255,0.026713188737630844,-0.0057451557368040085,-0.014418600127100945,-0.007569409441202879,0.01227658148854971,0.024986770004034042,-0.007713182829320431,-0.001176397199742496,0.015353702008724213,0.015362467616796494,0.029154371470212936,0.020552879199385643,-0.005817120894789696,0.012105952948331833,0.01938018389046192,0.004036117810755968,-0.006209649611264467,0.004377458244562149,0.013350102119147778,0.019182495772838593,-0.001404755050316453,0.005558213219046593,0.012117214500904083,0.002014381345361471,-0.016856607049703598,-0.0002659259189385921,0.011680249124765396,0.01730026677250862,0.03701607882976532,0.013493158854544163,-0.02122661843895912,-0.04355213791131973,0.009665774181485176,0.00165794778149575,0.0059828688390553,-0.010416065342724323,-0.014837087132036686,0.0004884031950496137,0.017152659595012665,0.002066137967631221,0.01563974842429161,-0.005944585893303156],\"type\":\"scatter\"},{\"marker\":{\"color\":\"#316395\"},\"mode\":\"lines+markers\",\"name\":\"State 0\",\"visible\":false,\"x\":[0,1,2,3,4,5,6,7,8,9,10,11,12,13,14,15,16,17,18,19,20,21,22,23,24,25,26,27,28,29,30,31,32,33,34,35,36,37,38,39,40,41,42,43,44,45,46,47,48,49,50,51,52,53,54,55,56,57,58,59],\"y\":[0.031544506549835205,-0.00285862828604877,-0.006532580126076937,0.01662611775100231,-0.02248702570796013,-0.005884523503482342,-0.0015350324101746082,0.010733048431575298,-0.0031634287443012,-0.018322471529245377,-0.0038100993260741234,-0.005862698890268803,-0.003326019737869501,-0.003217471530660987,0.021828114986419678,-0.006156471557915211,-0.013445192947983742,-0.003760675899684429,0.009376888163387775,-0.016035567969083786,0.009582840837538242,-0.002453708089888096,0.02601674757897854,-0.0109108816832304,-0.007250325288623571,0.028097061440348625,-0.018704699352383614,-0.008835071697831154,-0.03732215613126755,0.022953033447265625,-0.012393835932016373,0.03179965168237686,-0.010958400554955006,-0.00947533268481493,-0.012442970648407936,-0.027021972462534904,0.008865845389664173,-0.004659200087189674,0.013777535408735275,-0.029385551810264587,0.017104709520936012,0.0006739228847436607,0.016208264976739883,-0.030820004642009735,-0.00019232640624977648,0.0018185283988714218,0.02099587395787239,-0.013492539525032043,-0.00032616479438729584,0.0033979618456214666,-0.0020174947567284107,0.010829932056367397,-0.0041922698728740215,-0.01703253760933876,0.021452296525239944,0.006887959316372871,-0.02933814749121666,0.0172259621322155,-0.001714714220725,-0.013997460715472698],\"type\":\"scatter\"},{\"marker\":{\"color\":\"#35b779\"},\"mode\":\"lines+markers\",\"name\":\"State 1\",\"visible\":false,\"x\":[0,1,2,3,4,5,6,7,8,9,10,11,12,13,14,15,16,17,18,19,20,21,22,23,24,25,26,27,28,29,30,31,32,33,34,35,36,37,38,39,40,41,42,43,44,45,46,47,48,49,50,51,52,53,54,55,56,57,58,59],\"y\":[-0.017252348363399506,-0.001741522690281272,-0.00467904144898057,-0.02658502757549286,0.005791300442069769,-0.006525968201458454,0.021247470751404762,-0.023486357182264328,0.0047609396278858185,-0.003604599041864276,0.014423796907067299,-0.007159138564020395,0.009936310350894928,-0.004923297557979822,-0.011914732865989208,0.008012715727090836,-0.010438330471515656,-0.012090081349015236,0.01953163929283619,0.025307077914476395,-0.026841124519705772,0.00041311007225885987,-0.021779950708150864,-0.009102790616452694,0.013594243675470352,-0.0004286844050511718,0.009167446754872799,0.007374429609626532,-0.007264772895723581,0.003956903237849474,-0.008128752000629902,-0.01892254874110222,0.014580868184566498,0.010635574348270893,-0.03557511791586876,0.011737029068171978,0.011286849156022072,-0.00539784599095583,0.014602879993617535,-0.0018106624484062195,-0.019899632781744003,-0.018744558095932007,0.024143723770976067,-0.02546638809144497,0.0020347456447780132,0.005718541331589222,0.004820939619094133,-0.011414668522775173,0.014102241024374962,-0.0032907428685575724,-0.024745343253016472,0.008336858823895454,0.014547707512974739,-0.012234623543918133,0.005376466549932957,-0.015078980475664139,-0.008618646301329136,0.007569202687591314,-0.011720994487404823,-0.0007011607522144914],\"type\":\"scatter\"},{\"marker\":{\"color\":\"#316395\"},\"mode\":\"lines+markers\",\"name\":\"State 0\",\"visible\":false,\"x\":[0,1,2,3,4,5,6,7,8,9,10,11,12,13,14,15,16,17,18,19,20,21,22,23,24,25,26,27,28,29,30,31,32,33,34,35,36,37,38,39,40,41,42,43,44,45,46,47,48,49,50,51,52,53,54,55,56,57,58,59],\"y\":[0.06114208698272705,0.015103533864021301,-0.07428175956010818,0.030105547979474068,0.020531386137008667,-0.010370660573244095,-0.020149623975157738,0.02266848459839821,0.0036476978566497564,-0.016694987192749977,-0.014238557778298855,0.007805748376995325,0.028167203068733215,0.01780666783452034,-0.04362557455897331,-0.015072952955961227,0.002872712444514036,0.03257076442241669,-0.019073305651545525,-0.014248891733586788,0.034064698964357376,-0.004344011191278696,-0.0009745139395818114,-0.017688272520899773,0.050927016884088516,-0.0026116648223251104,-0.049571722745895386,0.010823855176568031,0.018234482035040855,-0.006904703564941883,0.022204885259270668,-0.004540516994893551,-0.026713130995631218,0.02930145338177681,-0.025923168286681175,-0.0396590381860733,0.07684941589832306,-0.001098112901672721,-0.02519022859632969,-0.0069090621545910835,0.000847682124003768,-0.013365565799176693,0.06956484168767929,-0.057929303497076035,-0.054612819105386734,0.029526222497224808,0.008102159947156906,0.02370268665254116,-0.0010823647025972605,0.019556870684027672,-0.03312140330672264,-0.0006749404710717499,-0.019573604688048363,-0.01656203716993332,-0.012107505463063717,0.07025089114904404,-0.001742608263157308,-0.0007877114112488925,0.011363241821527481,0.040648456662893295],\"type\":\"scatter\"},{\"marker\":{\"color\":\"#35b779\"},\"mode\":\"lines+markers\",\"name\":\"State 1\",\"visible\":false,\"x\":[0,1,2,3,4,5,6,7,8,9,10,11,12,13,14,15,16,17,18,19,20,21,22,23,24,25,26,27,28,29,30,31,32,33,34,35,36,37,38,39,40,41,42,43,44,45,46,47,48,49,50,51,52,53,54,55,56,57,58,59],\"y\":[-0.007067700382322073,-0.011616884730756283,0.03178663179278374,-0.011808497831225395,0.012791464105248451,-0.021354401484131813,-0.008062494918704033,0.022837113589048386,0.0180406104773283,-0.05023439601063728,0.004124745260924101,-0.014150516130030155,-0.0026407046243548393,0.027824806049466133,-0.0051795849576592445,-0.010665828362107277,-0.00020840647630393505,0.010769682936370373,-0.04023682698607445,0.04071032628417015,-0.014390905387699604,-0.03467927128076553,-0.009020059369504452,0.008888774551451206,0.011907801032066345,0.016589323058724403,-0.01424324233084917,-0.021035565063357353,0.0057078078389167786,0.013344604521989822,-0.036415595561265945,-0.013503111898899078,-0.026646725833415985,0.0407840870320797,0.01764199323952198,0.016837898641824722,-0.018665410578250885,-0.014963078312575817,-0.01959834434092045,0.02845730446279049,0.018071472644805908,-0.018063494935631752,0.027480073273181915,0.008943361230194569,-0.04207959398627281,-0.00480455020442605,0.03427610546350479,-0.021556930616497993,-0.05216604471206665,0.0040910132229328156,0.05754031613469124,-0.05554183945059776,0.008790378458797932,0.03627787157893181,-0.007203326560556889,0.0117046432569623,-0.06540539115667343,0.039495158940553665,-0.001978812739253044,-0.05634208396077156],\"type\":\"scatter\"},{\"marker\":{\"color\":\"#316395\"},\"mode\":\"lines+markers\",\"name\":\"State 0\",\"visible\":false,\"x\":[0,1,2,3,4,5,6,7,8,9,10,11,12,13,14,15,16,17,18,19,20,21,22,23,24,25,26,27,28,29,30,31,32,33,34,35,36,37,38,39,40,41,42,43,44,45,46,47,48,49,50,51,52,53,54,55,56,57,58,59],\"y\":[-0.01138544175773859,0.009937630034983158,-0.035388875752687454,0.05450766906142235,-0.001482283929362893,-0.02488706260919571,-0.01139563787728548,0.03984722122550011,-0.0568719357252121,-0.00040884496411308646,0.01991969160735607,0.0057694450952112675,-0.026043828576803207,0.03058939054608345,0.02147711254656315,-0.013391070067882538,-0.007994230836629868,-0.04029655084013939,0.01917572133243084,0.03040936402976513,-0.03194798529148102,0.047715697437524796,-0.010208938270807266,-0.0002642942126840353,0.026334287598729134,-0.023700421676039696,-0.005193538032472134,-0.01178303174674511,-0.011942434124648571,0.01813315786421299,0.0072263916954398155,-0.011441424489021301,-0.0013509930577129126,-0.013183939270675182,0.0302110705524683,-0.028274858370423317,0.014068160206079483,0.012420696206390858,-0.018725745379924774,3.058405127376318e-05,-0.01816091500222683,0.008000124245882034,0.03548940643668175,-0.021294139325618744,-0.008871439844369888,-0.014638586901128292,0.011742076836526394,0.0007330679218284786,0.036785949021577835,-0.013029782101511955,-0.00878233928233385,-0.0763682872056961,0.0726332888007164,-0.03371365740895271,0.033195558935403824,0.0699634775519371,-0.042627524584531784,-0.032590657472610474,0.029257137328386307,-0.04011782258749008],\"type\":\"scatter\"},{\"marker\":{\"color\":\"#35b779\"},\"mode\":\"lines+markers\",\"name\":\"State 1\",\"visible\":false,\"x\":[0,1,2,3,4,5,6,7,8,9,10,11,12,13,14,15,16,17,18,19,20,21,22,23,24,25,26,27,28,29,30,31,32,33,34,35,36,37,38,39,40,41,42,43,44,45,46,47,48,49,50,51,52,53,54,55,56,57,58,59],\"y\":[-0.0037761442363262177,0.01704365387558937,-0.0014408446149900556,-0.01922456920146942,-0.024629788473248482,-0.002877112478017807,0.015496992506086826,0.024646975100040436,-0.03913583233952522,-0.029991190880537033,0.04277753829956055,-0.02126394771039486,0.03429970517754555,-0.03130914643406868,0.010817945934832096,-0.011205431073904037,-0.010012762621045113,0.027263768017292023,-0.001791318180039525,-0.005865204147994518,0.00899589154869318,0.006865008268505335,0.0004358779697213322,0.00627486314624548,0.021434932947158813,-0.043567877262830734,0.026308193802833557,0.013088664971292019,-0.03449274227023125,0.01733347587287426,-0.015303073450922966,0.01896689087152481,-0.015622283332049847,0.023671042174100876,0.00733086047694087,-0.017261797562241554,-0.014996122568845749,0.020976176485419273,-0.0014332192949950695,-0.02969726175069809,-0.004373269621282816,0.013963822275400162,-0.012441327795386314,0.012888938188552856,0.023037375882267952,-0.02006353810429573,-0.036549072712659836,0.0068980311043560505,0.03388529270887375,-0.002135163638740778,0.010866161435842514,-0.02860184572637081,0.030501091852784157,0.0023540714755654335,0.002680436475202441,-0.012788048945367336,0.04100152850151062,-0.030133843421936035,-0.01068661268800497,0.029510498046875],\"type\":\"scatter\"},{\"marker\":{\"color\":\"#316395\"},\"mode\":\"lines+markers\",\"name\":\"State 0\",\"visible\":false,\"x\":[0,1,2,3,4,5,6,7,8,9,10,11,12,13,14,15,16,17,18,19,20,21,22,23,24,25,26,27,28,29,30,31,32,33,34,35,36,37,38,39,40,41,42,43,44,45,46,47,48,49,50,51,52,53,54,55,56,57,58,59],\"y\":[-0.05084143951535225,0.006993978749960661,-0.03383510932326317,0.06380268186330795,-0.02329782396554947,0.009240389801561832,-0.019106067717075348,0.025598270818591118,-0.02313571237027645,-0.031773969531059265,0.0136868916451931,0.022996757179498672,0.010174465365707874,-0.030623745173215866,-0.009417940862476826,-0.02571406587958336,-0.025274043902754784,0.07859348505735397,-0.029859503731131554,-0.0105836046859622,0.017616180703043938,-0.03234522044658661,0.011718387715518475,-0.02599197067320347,0.02276516892015934,-0.019329935312271118,-0.02796047553420067,0.07438629120588303,-0.05100354924798012,-0.025752663612365723,0.005781997460871935,-0.014343059621751308,0.047089703381061554,0.010946426540613174,-0.014119192026555538,-0.007997529581189156,-0.046804074198007584,-0.026238998398184776,0.07586073875427246,0.0598347969353199,-0.06263702362775803,0.03561834245920181,-0.010614482685923576,0.05756523087620735,-0.11354021728038788,0.015439245849847794,-0.031233593821525574,0.004446502309292555,0.03222942724823952,-0.03737841546535492,0.006507643032819033,0.02521228976547718,-0.0023930829484015703,0.031912922859191895,-0.021059131249785423,-0.002925738226622343,0.0273737870156765,-0.05191446468234062,0.03310946375131607,-0.01963871903717518],\"type\":\"scatter\"},{\"marker\":{\"color\":\"#35b779\"},\"mode\":\"lines+markers\",\"name\":\"State 1\",\"visible\":false,\"x\":[0,1,2,3,4,5,6,7,8,9,10,11,12,13,14,15,16,17,18,19,20,21,22,23,24,25,26,27,28,29,30,31,32,33,34,35,36,37,38,39,40,41,42,43,44,45,46,47,48,49,50,51,52,53,54,55,56,57,58,59],\"y\":[-0.014346088282763958,-0.009028738364577293,0.006293222773820162,0.0011679711751639843,0.027109267190098763,0.04180882126092911,-0.07939910888671875,0.032180726528167725,-0.014376823790371418,0.010242815129458904,-0.014092515222728252,0.03257261589169502,0.020670047029852867,-0.06363915652036667,0.027524204924702644,0.0488627627491951,-0.01612878404557705,-0.024465959519147873,0.043737512081861496,-0.008813586086034775,0.022422006353735924,-0.010335023514926434,-0.005601658020168543,0.05613185837864876,-0.07370524108409882,0.03174274042248726,-0.01717381365597248,0.020670047029852867,0.013715998269617558,-0.022183801978826523,-0.003088981844484806,0.047226063907146454,-0.05309666320681572,-0.038358692079782486,0.012578760273754597,-0.014192407950758934,0.036652836948633194,-0.03723682090640068,0.04883971065282822,-0.013009066693484783,0.04230828210711479,-0.014922389760613441,-0.016559090465307236,0.017219917848706245,-0.002919933060184121,0.048870448023080826,-0.023981867358088493,0.00217458070255816,0.00519440695643425,-0.005885968916118145,0.008636852726340294,-0.006462270859628916,-0.025787612423300743,0.04414476454257965,0.04317658022046089,-0.038120489567518234,-0.06038881093263626,0.03057476319372654,-0.04765636846423149,0.06653603911399841],\"type\":\"scatter\"},{\"marker\":{\"color\":\"#316395\"},\"mode\":\"lines+markers\",\"name\":\"State 0\",\"visible\":false,\"x\":[0,1,2,3,4,5,6,7,8,9,10,11,12,13,14,15,16,17,18,19,20,21,22,23,24,25,26,27,28,29,30,31,32,33,34,35,36,37,38,39,40,41,42,43,44,45,46,47,48,49,50,51,52,53,54,55,56,57,58,59],\"y\":[0.03894577920436859,0.0027725391555577517,-0.03747079521417618,0.006616454105824232,0.02516234666109085,0.025099260732531548,-0.04371839016675949,0.032671574503183365,0.03146839886903763,-0.025716328993439674,-0.004390813875943422,-0.0021815188229084015,-0.0013011251576244831,0.014027181081473827,-0.019080521538853645,0.0180659256875515,-0.03842063248157501,0.019774172455072403,0.002041907049715519,0.012125888839364052,-0.0008238912560045719,-0.0031462484039366245,-0.004926781635731459,-0.007095918525010347,0.042096544057130814,-0.010621955618262291,-0.009109433740377426,0.017486674711108208,-0.013514026999473572,0.004831179045140743,0.019080856814980507,-0.006557552609592676,-0.03820912539958954,0.011217940598726273,-0.015457039698958397,0.03328736126422882,0.03223026543855667,-0.017183635383844376,-0.012850328348577023,0.001992655685171485,0.005001355893909931,-0.0020169175695627928,0.031222697347402573,-0.019283106550574303,-0.015759076923131943,-0.004007789306342602,0.0117387929931283,0.00563638424500823,0.011151285842061043,-0.0071373614482581615,0.015825171023607254,0.007128492929041386,-0.04901960864663124,0.011383934877812862,-0.024329697713255882,0.041597165167331696,0.01941295526921749,0.020054064691066742,0.00385462399572134,-0.023113857954740524],\"type\":\"scatter\"},{\"marker\":{\"color\":\"#35b779\"},\"mode\":\"lines+markers\",\"name\":\"State 1\",\"visible\":false,\"x\":[0,1,2,3,4,5,6,7,8,9,10,11,12,13,14,15,16,17,18,19,20,21,22,23,24,25,26,27,28,29,30,31,32,33,34,35,36,37,38,39,40,41,42,43,44,45,46,47,48,49,50,51,52,53,54,55,56,57,58,59],\"y\":[0.003523995168507099,-0.00034583668457344174,0.007682477589696646,-0.019482797011733055,0.0016155901830643415,0.015052041970193386,0.003034916240721941,-0.011956498958170414,0.00658978009596467,-0.023156365379691124,0.006836290936917067,-0.0011355604510754347,0.04351894184947014,-0.004600870423018932,-0.045122481882572174,0.009150050580501556,0.02500280924141407,-0.012965360656380653,-0.007151479832828045,0.02958713471889496,-0.016264721751213074,-0.009424933232367039,-0.01620592549443245,0.003176214871928096,0.01732460781931877,0.023541787639260292,0.0027110087685287,-0.021172674372792244,-0.0012614805018529296,0.011522051878273487,-0.029484476894140244,0.015673372894525528,0.011982427909970284,-0.007347967475652695,0.010347461327910423,0.038343820720911026,-0.021231304854154587,-0.044272687286138535,0.01876908168196678,0.025187581777572632,0.03387437015771866,-0.01714077778160572,-0.02652779035270214,0.047110337764024734,-0.028082584962248802,-0.04181712865829468,0.06705262511968613,0.01399837527424097,-0.04052366688847542,-0.015095070004463196,0.01717575453221798,-0.011485573835670948,-0.0032560527324676514,0.03023666702210903,-0.024095771834254265,0.02093970961868763,-0.02569681406021118,0.014498558826744556,-0.014042125083506107,0.010767527855932713],\"type\":\"scatter\"},{\"marker\":{\"color\":\"#316395\"},\"mode\":\"lines+markers\",\"name\":\"State 0\",\"visible\":false,\"x\":[0,1,2,3,4,5,6,7,8,9,10,11,12,13,14,15,16,17,18,19,20,21,22,23,24,25,26,27,28,29,30,31,32,33,34,35,36,37,38,39,40,41,42,43,44,45,46,47,48,49,50,51,52,53,54,55,56,57,58,59],\"y\":[-0.0003202727239113301,-0.0033906670287251472,-0.017013749107718468,-0.01863134652376175,0.0010147163411602378,0.016063684597611427,0.002013383200392127,-0.017773598432540894,-0.006240136921405792,0.03430888429284096,0.01174998003989458,-0.0334673710167408,-0.026001963764429092,0.010202341713011265,-0.005342274438589811,-0.015569601207971573,-0.013633154332637787,-0.00785079039633274,0.016451532021164894,0.019986413419246674,0.022981049492955208,-0.01043797004967928,-0.013828988187015057,-0.01672598533332348,-0.020782064646482468,-0.003446895396336913,0.011094187386333942,-0.003926483914256096,0.0033508578781038523,0.011907055974006653,-0.0030754636973142624,-0.008722102269530296,0.001064706826582551,-0.026258200407028198,-0.014805375598371029,-0.0015840835403651,0.0353907011449337,0.003977732267230749,0.001988212577998638,0.0028515486046671867,-0.013052473776042461,-0.036967772990465164,-0.018502037972211838,-0.0015255609760060906,-0.023340603336691856,-0.04654349014163017,0.003109097247943282,0.03252715989947319,0.005562402307987213,0.005973658058792353,-0.0036310595460236073,-0.00198789918795228,0.013513448648154736,0.0065032439306378365,-0.004751360043883324,0.006314756814390421,-0.01992780528962612,-0.034589532762765884,-0.03692365437746048,-0.0026363548822700977],\"type\":\"scatter\"},{\"marker\":{\"color\":\"#35b779\"},\"mode\":\"lines+markers\",\"name\":\"State 1\",\"visible\":false,\"x\":[0,1,2,3,4,5,6,7,8,9,10,11,12,13,14,15,16,17,18,19,20,21,22,23,24,25,26,27,28,29,30,31,32,33,34,35,36,37,38,39,40,41,42,43,44,45,46,47,48,49,50,51,52,53,54,55,56,57,58,59],\"y\":[-0.00855469610542059,0.01283987332135439,0.013273485004901886,-0.005390160251408815,-0.0008155776304192841,0.0038979058153927326,-0.004843856208026409,0.007721187546849251,0.007402874995023012,0.000472914514830336,0.01830393262207508,0.0445554293692112,0.021101638674736023,-0.016376901417970657,-0.005318998359143734,0.012203323654830456,-0.008030007593333721,0.0018890147330239415,0.008416090160608292,0.002973781665787101,-0.0021805816795676947,0.0018452219665050507,-0.018004080280661583,0.010784188285470009,0.02710862271487713,0.027257755398750305,-0.0247288029640913,-0.02947375364601612,-0.010248526930809021,0.02101609855890274,0.019119344651699066,0.011981993913650513,0.009607394225895405,-0.008872359059751034,-0.011973160319030285,-0.00959658995270729,-0.010176660493016243,0.013656079769134521,0.041068729013204575,0.023831963539123535,0.03255119174718857,0.021690985187888145,0.007171727251261473,0.002829665318131447,-0.0059315357357263565,0.02038395032286644,0.0305092241615057,0.004283839371055365,-0.03445900231599808,-0.023649966344237328,0.0034896903671324253,0.016252940520644188,0.017914028838276863,0.02873176522552967,0.004340784624218941,0.01060433965176344,0.011304463259875774,-0.015751086175441742,-0.02941773645579815,0.0012440277496352792],\"type\":\"scatter\"},{\"marker\":{\"color\":\"#316395\"},\"mode\":\"lines+markers\",\"name\":\"State 0\",\"visible\":false,\"x\":[0,1,2,3,4,5,6,7,8,9,10,11,12,13,14,15,16,17,18,19,20,21,22,23,24,25,26,27,28,29,30,31,32,33,34,35,36,37,38,39,40,41,42,43,44,45,46,47,48,49,50,51,52,53,54,55,56,57,58,59],\"y\":[-0.03427504748106003,0.029952535405755043,0.042053282260894775,-0.035373982042074203,-0.06106102839112282,-0.07225686311721802,0.14168018102645874,0.028179006651043892,-0.08183396607637405,-0.008186770603060722,0.03936737775802612,-0.02235259860754013,-0.02592657506465912,0.04000925272703171,0.017575645819306374,-0.05072880536317825,0.0026520711835473776,-0.026418423280119896,-0.012392060831189156,0.009535878896713257,-0.008604125119745731,0.013292127288877964,-0.021040260791778564,0.02159906178712845,0.04845874384045601,-0.07311150431632996,0.049022626131772995,-0.036482445895671844,-0.036163415759801865,0.03741857036948204,0.021171147003769875,-0.01592625118792057,0.013535231351852417,-0.01709110476076603,0.020496394485235214,0.010080859065055847,-0.09485018998384476,-0.00222050491720438,-0.002842601155862212,0.026543907821178436,-0.017820578068494797,0.02211894653737545,-0.009130200371146202,0.004678234923630953,-0.06164174526929855,0.00042878935346379876,-0.032622080296278,0.02894541062414646,0.03857230395078659,0.049582138657569885,-0.043898846954107285,-0.03395975008606911,-0.02367136813700199,-0.014059244655072689,0.022342510521411896,0.051533330231904984,0.0019791461527347565,-0.03239867091178894,0.03246975317597389,-0.030882226303219795],\"type\":\"scatter\"},{\"marker\":{\"color\":\"#35b779\"},\"mode\":\"lines+markers\",\"name\":\"State 1\",\"visible\":false,\"x\":[0,1,2,3,4,5,6,7,8,9,10,11,12,13,14,15,16,17,18,19,20,21,22,23,24,25,26,27,28,29,30,31,32,33,34,35,36,37,38,39,40,41,42,43,44,45,46,47,48,49,50,51,52,53,54,55,56,57,58,59],\"y\":[0.04457474127411842,-0.02317233756184578,-0.02160944603383541,0.03475064039230347,-0.03148587793111801,-0.045318637043237686,0.03629661723971367,-0.02875235304236412,0.027541643008589745,-0.006700919009745121,-0.033761125057935715,0.002974875969812274,0.005132412072271109,-0.01126865018159151,-0.0027211119886487722,0.006461780983954668,-0.02368531934916973,0.0330035500228405,0.02065763622522354,-0.0028358178678900003,-0.02390643209218979,-0.0017155478708446026,0.023851962760090828,-0.04033176600933075,0.016343669965863228,-0.11123135685920715,0.03181766718626022,0.05424405261874199,-0.023267915472388268,-0.0009197125327773392,-0.03440169617533684,-0.0199712123721838,0.04081825911998749,0.0014066043077036738,-0.026008157059550285,-0.009253016673028469,-0.0536678284406662,-0.0036242231726646423,0.029922112822532654,-0.046014390885829926,0.041728172451257706,-0.02962273545563221,0.004116016440093517,-0.03471419960260391,-0.014593889936804771,0.039014097303152084,-0.029061375185847282,-0.07032091170549393,0.030105991289019585,0.06391502171754837,0.018950387835502625,-0.10107388347387314,-0.005123003385961056,0.0890263170003891,-0.004414049908518791,-0.10591474175453186,-0.012750434689223766,0.004604411777108908,0.019921010360121727,0.03821905329823494],\"type\":\"scatter\"},{\"marker\":{\"color\":\"#316395\"},\"mode\":\"lines+markers\",\"name\":\"State 0\",\"visible\":false,\"x\":[0,1,2,3,4,5,6,7,8,9,10,11,12,13,14,15,16,17,18,19,20,21,22,23,24,25,26,27,28,29,30,31,32,33,34,35,36,37,38,39,40,41,42,43,44,45,46,47,48,49,50,51,52,53,54,55,56,57,58,59],\"y\":[-0.6393780708312988,-0.953282356262207,-0.0307422187179327,0.6335347890853882,0.41601383686065674,-0.0074874344281852245,-0.1746935099363327,0.011023242957890034,-0.3357001543045044,-0.5306404829025269,0.18245093524456024,0.43542927503585815,-0.11764585226774216,-0.35061290860176086,0.27333199977874756,0.04925055801868439,-0.6402943134307861,-0.29101407527923584,0.5016650557518005,0.2738547921180725,-0.2630961239337921,-0.2240784466266632,0.22358015179634094,0.05796506255865097,-0.28430551290512085,-0.14563949406147003,0.1967989057302475,0.2733928859233856,0.165030837059021,0.0546441450715065,-0.19998306035995483,-0.45562130212783813,-0.11398341506719589,0.4161626100540161,0.26263824105262756,-0.268058180809021,-0.5413464903831482,-0.28219640254974365,0.04443890601396561,0.3991971015930176,0.28830769658088684,-0.38787972927093506,-0.4257811903953552,0.13849373161792755,0.4716598391532898,0.29832133650779724,-0.26215600967407227,-0.5458269715309143,0.08400453627109528,0.7257770895957947,-0.1161988228559494,-0.7710157036781311,0.1644408106803894,0.5498893857002258,-0.013862510211765766,-0.42610567808151245,-0.18734999001026154,0.37586724758148193,0.3903183937072754,-0.48531171679496765],\"type\":\"scatter\"},{\"marker\":{\"color\":\"#35b779\"},\"mode\":\"lines+markers\",\"name\":\"State 1\",\"visible\":false,\"x\":[0,1,2,3,4,5,6,7,8,9,10,11,12,13,14,15,16,17,18,19,20,21,22,23,24,25,26,27,28,29,30,31,32,33,34,35,36,37,38,39,40,41,42,43,44,45,46,47,48,49,50,51,52,53,54,55,56,57,58,59],\"y\":[-0.2251347303390503,0.20287048816680908,0.41007307171821594,-0.2826623022556305,-0.07642820477485657,0.40962255001068115,-0.08744014799594879,-0.2812235951423645,-0.13936111330986023,-0.06348547339439392,0.1050998792052269,0.09435351192951202,0.2644864022731781,0.032379910349845886,-0.04780339449644089,-0.011944612488150597,-0.1232159435749054,-0.1291990429162979,0.11362530291080475,0.07943429052829742,-0.08984681218862534,0.09395387768745422,0.6138474345207214,0.4157700538635254,-0.6340916752815247,-1.0358703136444092,0.44507962465286255,0.8584656119346619,-0.6350816488265991,-0.5429553389549255,0.7426502108573914,0.5152937769889832,-0.24182894825935364,-0.4275050163269043,-0.2056533694267273,-0.05861449986696243,0.23020616173744202,0.2629719078540802,-0.03947235643863678,0.11073246598243713,0.34030288457870483,0.10765215754508972,-0.10064296424388885,0.048272840678691864,0.5399036407470703,0.2626928687095642,-0.5603441596031189,-0.47564730048179626,0.7604029178619385,0.5355610847473145,-0.6505383849143982,-0.7800613045692444,0.28252559900283813,0.21290160715579987,-0.024609623476862907,0.00879135075956583,0.3698558807373047,0.3067876994609833,-0.5653970837593079,-0.5403308868408203],\"type\":\"scatter\"}],                        {\"template\":{\"data\":{\"bar\":[{\"error_x\":{\"color\":\"#2a3f5f\"},\"error_y\":{\"color\":\"#2a3f5f\"},\"marker\":{\"line\":{\"color\":\"#E5ECF6\",\"width\":0.5},\"pattern\":{\"fillmode\":\"overlay\",\"size\":10,\"solidity\":0.2}},\"type\":\"bar\"}],\"barpolar\":[{\"marker\":{\"line\":{\"color\":\"#E5ECF6\",\"width\":0.5},\"pattern\":{\"fillmode\":\"overlay\",\"size\":10,\"solidity\":0.2}},\"type\":\"barpolar\"}],\"carpet\":[{\"aaxis\":{\"endlinecolor\":\"#2a3f5f\",\"gridcolor\":\"white\",\"linecolor\":\"white\",\"minorgridcolor\":\"white\",\"startlinecolor\":\"#2a3f5f\"},\"baxis\":{\"endlinecolor\":\"#2a3f5f\",\"gridcolor\":\"white\",\"linecolor\":\"white\",\"minorgridcolor\":\"white\",\"startlinecolor\":\"#2a3f5f\"},\"type\":\"carpet\"}],\"choropleth\":[{\"colorbar\":{\"outlinewidth\":0,\"ticks\":\"\"},\"type\":\"choropleth\"}],\"contour\":[{\"colorbar\":{\"outlinewidth\":0,\"ticks\":\"\"},\"colorscale\":[[0.0,\"#0d0887\"],[0.1111111111111111,\"#46039f\"],[0.2222222222222222,\"#7201a8\"],[0.3333333333333333,\"#9c179e\"],[0.4444444444444444,\"#bd3786\"],[0.5555555555555556,\"#d8576b\"],[0.6666666666666666,\"#ed7953\"],[0.7777777777777778,\"#fb9f3a\"],[0.8888888888888888,\"#fdca26\"],[1.0,\"#f0f921\"]],\"type\":\"contour\"}],\"contourcarpet\":[{\"colorbar\":{\"outlinewidth\":0,\"ticks\":\"\"},\"type\":\"contourcarpet\"}],\"heatmap\":[{\"colorbar\":{\"outlinewidth\":0,\"ticks\":\"\"},\"colorscale\":[[0.0,\"#0d0887\"],[0.1111111111111111,\"#46039f\"],[0.2222222222222222,\"#7201a8\"],[0.3333333333333333,\"#9c179e\"],[0.4444444444444444,\"#bd3786\"],[0.5555555555555556,\"#d8576b\"],[0.6666666666666666,\"#ed7953\"],[0.7777777777777778,\"#fb9f3a\"],[0.8888888888888888,\"#fdca26\"],[1.0,\"#f0f921\"]],\"type\":\"heatmap\"}],\"heatmapgl\":[{\"colorbar\":{\"outlinewidth\":0,\"ticks\":\"\"},\"colorscale\":[[0.0,\"#0d0887\"],[0.1111111111111111,\"#46039f\"],[0.2222222222222222,\"#7201a8\"],[0.3333333333333333,\"#9c179e\"],[0.4444444444444444,\"#bd3786\"],[0.5555555555555556,\"#d8576b\"],[0.6666666666666666,\"#ed7953\"],[0.7777777777777778,\"#fb9f3a\"],[0.8888888888888888,\"#fdca26\"],[1.0,\"#f0f921\"]],\"type\":\"heatmapgl\"}],\"histogram\":[{\"marker\":{\"pattern\":{\"fillmode\":\"overlay\",\"size\":10,\"solidity\":0.2}},\"type\":\"histogram\"}],\"histogram2d\":[{\"colorbar\":{\"outlinewidth\":0,\"ticks\":\"\"},\"colorscale\":[[0.0,\"#0d0887\"],[0.1111111111111111,\"#46039f\"],[0.2222222222222222,\"#7201a8\"],[0.3333333333333333,\"#9c179e\"],[0.4444444444444444,\"#bd3786\"],[0.5555555555555556,\"#d8576b\"],[0.6666666666666666,\"#ed7953\"],[0.7777777777777778,\"#fb9f3a\"],[0.8888888888888888,\"#fdca26\"],[1.0,\"#f0f921\"]],\"type\":\"histogram2d\"}],\"histogram2dcontour\":[{\"colorbar\":{\"outlinewidth\":0,\"ticks\":\"\"},\"colorscale\":[[0.0,\"#0d0887\"],[0.1111111111111111,\"#46039f\"],[0.2222222222222222,\"#7201a8\"],[0.3333333333333333,\"#9c179e\"],[0.4444444444444444,\"#bd3786\"],[0.5555555555555556,\"#d8576b\"],[0.6666666666666666,\"#ed7953\"],[0.7777777777777778,\"#fb9f3a\"],[0.8888888888888888,\"#fdca26\"],[1.0,\"#f0f921\"]],\"type\":\"histogram2dcontour\"}],\"mesh3d\":[{\"colorbar\":{\"outlinewidth\":0,\"ticks\":\"\"},\"type\":\"mesh3d\"}],\"parcoords\":[{\"line\":{\"colorbar\":{\"outlinewidth\":0,\"ticks\":\"\"}},\"type\":\"parcoords\"}],\"pie\":[{\"automargin\":true,\"type\":\"pie\"}],\"scatter\":[{\"marker\":{\"colorbar\":{\"outlinewidth\":0,\"ticks\":\"\"}},\"type\":\"scatter\"}],\"scatter3d\":[{\"line\":{\"colorbar\":{\"outlinewidth\":0,\"ticks\":\"\"}},\"marker\":{\"colorbar\":{\"outlinewidth\":0,\"ticks\":\"\"}},\"type\":\"scatter3d\"}],\"scattercarpet\":[{\"marker\":{\"colorbar\":{\"outlinewidth\":0,\"ticks\":\"\"}},\"type\":\"scattercarpet\"}],\"scattergeo\":[{\"marker\":{\"colorbar\":{\"outlinewidth\":0,\"ticks\":\"\"}},\"type\":\"scattergeo\"}],\"scattergl\":[{\"marker\":{\"colorbar\":{\"outlinewidth\":0,\"ticks\":\"\"}},\"type\":\"scattergl\"}],\"scattermapbox\":[{\"marker\":{\"colorbar\":{\"outlinewidth\":0,\"ticks\":\"\"}},\"type\":\"scattermapbox\"}],\"scatterpolar\":[{\"marker\":{\"colorbar\":{\"outlinewidth\":0,\"ticks\":\"\"}},\"type\":\"scatterpolar\"}],\"scatterpolargl\":[{\"marker\":{\"colorbar\":{\"outlinewidth\":0,\"ticks\":\"\"}},\"type\":\"scatterpolargl\"}],\"scatterternary\":[{\"marker\":{\"colorbar\":{\"outlinewidth\":0,\"ticks\":\"\"}},\"type\":\"scatterternary\"}],\"surface\":[{\"colorbar\":{\"outlinewidth\":0,\"ticks\":\"\"},\"colorscale\":[[0.0,\"#0d0887\"],[0.1111111111111111,\"#46039f\"],[0.2222222222222222,\"#7201a8\"],[0.3333333333333333,\"#9c179e\"],[0.4444444444444444,\"#bd3786\"],[0.5555555555555556,\"#d8576b\"],[0.6666666666666666,\"#ed7953\"],[0.7777777777777778,\"#fb9f3a\"],[0.8888888888888888,\"#fdca26\"],[1.0,\"#f0f921\"]],\"type\":\"surface\"}],\"table\":[{\"cells\":{\"fill\":{\"color\":\"#EBF0F8\"},\"line\":{\"color\":\"white\"}},\"header\":{\"fill\":{\"color\":\"#C8D4E3\"},\"line\":{\"color\":\"white\"}},\"type\":\"table\"}]},\"layout\":{\"annotationdefaults\":{\"arrowcolor\":\"#2a3f5f\",\"arrowhead\":0,\"arrowwidth\":1},\"autotypenumbers\":\"strict\",\"coloraxis\":{\"colorbar\":{\"outlinewidth\":0,\"ticks\":\"\"}},\"colorscale\":{\"diverging\":[[0,\"#8e0152\"],[0.1,\"#c51b7d\"],[0.2,\"#de77ae\"],[0.3,\"#f1b6da\"],[0.4,\"#fde0ef\"],[0.5,\"#f7f7f7\"],[0.6,\"#e6f5d0\"],[0.7,\"#b8e186\"],[0.8,\"#7fbc41\"],[0.9,\"#4d9221\"],[1,\"#276419\"]],\"sequential\":[[0.0,\"#0d0887\"],[0.1111111111111111,\"#46039f\"],[0.2222222222222222,\"#7201a8\"],[0.3333333333333333,\"#9c179e\"],[0.4444444444444444,\"#bd3786\"],[0.5555555555555556,\"#d8576b\"],[0.6666666666666666,\"#ed7953\"],[0.7777777777777778,\"#fb9f3a\"],[0.8888888888888888,\"#fdca26\"],[1.0,\"#f0f921\"]],\"sequentialminus\":[[0.0,\"#0d0887\"],[0.1111111111111111,\"#46039f\"],[0.2222222222222222,\"#7201a8\"],[0.3333333333333333,\"#9c179e\"],[0.4444444444444444,\"#bd3786\"],[0.5555555555555556,\"#d8576b\"],[0.6666666666666666,\"#ed7953\"],[0.7777777777777778,\"#fb9f3a\"],[0.8888888888888888,\"#fdca26\"],[1.0,\"#f0f921\"]]},\"colorway\":[\"#636efa\",\"#EF553B\",\"#00cc96\",\"#ab63fa\",\"#FFA15A\",\"#19d3f3\",\"#FF6692\",\"#B6E880\",\"#FF97FF\",\"#FECB52\"],\"font\":{\"color\":\"#2a3f5f\"},\"geo\":{\"bgcolor\":\"white\",\"lakecolor\":\"white\",\"landcolor\":\"#E5ECF6\",\"showlakes\":true,\"showland\":true,\"subunitcolor\":\"white\"},\"hoverlabel\":{\"align\":\"left\"},\"hovermode\":\"closest\",\"mapbox\":{\"style\":\"light\"},\"paper_bgcolor\":\"white\",\"plot_bgcolor\":\"#E5ECF6\",\"polar\":{\"angularaxis\":{\"gridcolor\":\"white\",\"linecolor\":\"white\",\"ticks\":\"\"},\"bgcolor\":\"#E5ECF6\",\"radialaxis\":{\"gridcolor\":\"white\",\"linecolor\":\"white\",\"ticks\":\"\"}},\"scene\":{\"xaxis\":{\"backgroundcolor\":\"#E5ECF6\",\"gridcolor\":\"white\",\"gridwidth\":2,\"linecolor\":\"white\",\"showbackground\":true,\"ticks\":\"\",\"zerolinecolor\":\"white\"},\"yaxis\":{\"backgroundcolor\":\"#E5ECF6\",\"gridcolor\":\"white\",\"gridwidth\":2,\"linecolor\":\"white\",\"showbackground\":true,\"ticks\":\"\",\"zerolinecolor\":\"white\"},\"zaxis\":{\"backgroundcolor\":\"#E5ECF6\",\"gridcolor\":\"white\",\"gridwidth\":2,\"linecolor\":\"white\",\"showbackground\":true,\"ticks\":\"\",\"zerolinecolor\":\"white\"}},\"shapedefaults\":{\"line\":{\"color\":\"#2a3f5f\"}},\"ternary\":{\"aaxis\":{\"gridcolor\":\"white\",\"linecolor\":\"white\",\"ticks\":\"\"},\"baxis\":{\"gridcolor\":\"white\",\"linecolor\":\"white\",\"ticks\":\"\"},\"bgcolor\":\"#E5ECF6\",\"caxis\":{\"gridcolor\":\"white\",\"linecolor\":\"white\",\"ticks\":\"\"}},\"title\":{\"x\":0.05},\"xaxis\":{\"automargin\":true,\"gridcolor\":\"white\",\"linecolor\":\"white\",\"ticks\":\"\",\"title\":{\"standoff\":15},\"zerolinecolor\":\"white\",\"zerolinewidth\":2},\"yaxis\":{\"automargin\":true,\"gridcolor\":\"white\",\"linecolor\":\"white\",\"ticks\":\"\",\"title\":{\"standoff\":15},\"zerolinecolor\":\"white\",\"zerolinewidth\":2}}},\"xaxis\":{\"showgrid\":false,\"linecolor\":\"gray\",\"linewidth\":2,\"zeroline\":false},\"yaxis\":{\"showgrid\":false,\"linecolor\":\"gray\",\"linewidth\":2,\"zeroline\":false},\"margin\":{\"b\":50,\"r\":30,\"l\":100,\"t\":100},\"font\":{\"family\":\"Times New Roman\",\"size\":14},\"hoverlabel\":{\"font\":{\"color\":\"floralwhite\"}},\"height\":500,\"title\":{\"text\":\"<span style='font-size:36px; font-family:Times New Roman'>Time Steps Analysis</span>\"},\"plot_bgcolor\":\"rgb(242,242,242)\",\"paper_bgcolor\":\"rgb(242,242,242)\",\"showlegend\":true,\"updatemenus\":[{\"active\":0,\"buttons\":[{\"args\":[{\"visible\":[true,true,false,false,false,false,false,false,false,false,false,false,false,false,false,false,false,false,false,false,false,false,false,false,false,false]}],\"label\":\"sensor_00\",\"method\":\"update\"},{\"args\":[{\"visible\":[false,false,true,true,false,false,false,false,false,false,false,false,false,false,false,false,false,false,false,false,false,false,false,false,false,false]}],\"label\":\"sensor_01\",\"method\":\"update\"},{\"args\":[{\"visible\":[false,false,false,false,true,true,false,false,false,false,false,false,false,false,false,false,false,false,false,false,false,false,false,false,false,false]}],\"label\":\"sensor_02\",\"method\":\"update\"},{\"args\":[{\"visible\":[false,false,false,false,false,false,true,true,false,false,false,false,false,false,false,false,false,false,false,false,false,false,false,false,false,false]}],\"label\":\"sensor_03\",\"method\":\"update\"},{\"args\":[{\"visible\":[false,false,false,false,false,false,false,false,true,true,false,false,false,false,false,false,false,false,false,false,false,false,false,false,false,false]}],\"label\":\"sensor_04\",\"method\":\"update\"},{\"args\":[{\"visible\":[false,false,false,false,false,false,false,false,false,false,true,true,false,false,false,false,false,false,false,false,false,false,false,false,false,false]}],\"label\":\"sensor_05\",\"method\":\"update\"},{\"args\":[{\"visible\":[false,false,false,false,false,false,false,false,false,false,false,false,true,true,false,false,false,false,false,false,false,false,false,false,false,false]}],\"label\":\"sensor_06\",\"method\":\"update\"},{\"args\":[{\"visible\":[false,false,false,false,false,false,false,false,false,false,false,false,false,false,true,true,false,false,false,false,false,false,false,false,false,false]}],\"label\":\"sensor_07\",\"method\":\"update\"},{\"args\":[{\"visible\":[false,false,false,false,false,false,false,false,false,false,false,false,false,false,false,false,true,true,false,false,false,false,false,false,false,false]}],\"label\":\"sensor_08\",\"method\":\"update\"},{\"args\":[{\"visible\":[false,false,false,false,false,false,false,false,false,false,false,false,false,false,false,false,false,false,true,true,false,false,false,false,false,false]}],\"label\":\"sensor_09\",\"method\":\"update\"},{\"args\":[{\"visible\":[false,false,false,false,false,false,false,false,false,false,false,false,false,false,false,false,false,false,false,false,true,true,false,false,false,false]}],\"label\":\"sensor_10\",\"method\":\"update\"},{\"args\":[{\"visible\":[false,false,false,false,false,false,false,false,false,false,false,false,false,false,false,false,false,false,false,false,false,false,true,true,false,false]}],\"label\":\"sensor_11\",\"method\":\"update\"},{\"args\":[{\"visible\":[false,false,false,false,false,false,false,false,false,false,false,false,false,false,false,false,false,false,false,false,false,false,false,false,true,true]}],\"label\":\"sensor_12\",\"method\":\"update\"}],\"direction\":\"down\",\"showactive\":true,\"x\":0.5,\"y\":1.22}],\"legend\":{\"font\":{\"family\":\"Times New Roman\",\"size\":12},\"orientation\":\"h\",\"yanchor\":\"top\",\"y\":1.21,\"xanchor\":\"right\",\"x\":1}},                        {\"responsive\": true}                    ).then(function(){\n",
              "                            \n",
              "var gd = document.getElementById('be0833c1-b51f-42e0-afe9-fbae5d7f6171');\n",
              "var x = new MutationObserver(function (mutations, observer) {{\n",
              "        var display = window.getComputedStyle(gd).display;\n",
              "        if (!display || display === 'none') {{\n",
              "            console.log([gd, 'removed!']);\n",
              "            Plotly.purge(gd);\n",
              "            observer.disconnect();\n",
              "        }}\n",
              "}});\n",
              "\n",
              "// Listen for the removal of the full notebook cells\n",
              "var notebookContainer = gd.closest('#notebook-container');\n",
              "if (notebookContainer) {{\n",
              "    x.observe(notebookContainer, {childList: true});\n",
              "}}\n",
              "\n",
              "// Listen for the clearing of the current output cell\n",
              "var outputEl = gd.closest('.output');\n",
              "if (outputEl) {{\n",
              "    x.observe(outputEl, {childList: true});\n",
              "}}\n",
              "\n",
              "                        })                };                            </script>        </div>\n",
              "</body>\n",
              "</html>"
            ]
          },
          "metadata": {},
          "output_type": "display_data"
        }
      ],
      "source": [
        "sensors = df_data[df_data.state.isnull() == False].columns[df_data[df_data.state.isnull() == False].columns.str.contains('sensor')]\n",
        "\n",
        "steps_0 = df_data[df_data.state.isnull() == False][df_data[df_data.state.isnull() == False]['state']==0].pivot_table(\n",
        "    index=['step'],\n",
        "    values=sensors,\n",
        "    aggfunc='mean'\n",
        ")\n",
        "\n",
        "steps_1 = df_data[df_data.state.isnull() == False][df_data[df_data.state.isnull() == False]['state']==1].pivot_table(\n",
        "    index=['step'],\n",
        "    values=sensors,\n",
        "    aggfunc='mean'\n",
        ")\n",
        "\n",
        "def plot_steps0(fig, feature):\n",
        "    fig.add_trace(go.Scatter(x=steps_0.index, y=steps_0[feature], \n",
        "                  mode='lines+markers', marker = dict(color = px.colors.qualitative.G10[9]), name='State 0', visible=(feature==default_sensor)))\n",
        "\n",
        "    fig.update_xaxes(showgrid = False, linecolor='gray', linewidth = 2, zeroline = False)\n",
        "    fig.update_yaxes(showgrid = False, linecolor='gray', linewidth=2, zeroline = False)\n",
        "    \n",
        "def plot_steps1(fig, feature):\n",
        "    fig.add_trace(go.Scatter(x=steps_1.index, y=steps_1[feature], \n",
        "                  mode='lines+markers', marker = dict(color = px.colors.sequential.Viridis[6]), name='State 1', visible=(feature==default_sensor)))\n",
        "    \n",
        "    fig.update_xaxes(showgrid = False, linecolor='gray', linewidth = 2, zeroline = False)\n",
        "    fig.update_yaxes(showgrid = False, linecolor='gray', linewidth=2, zeroline = False)\n",
        "\n",
        "fig = go.Figure()\n",
        "\n",
        "sensor_plot_names = []\n",
        "buttons=[]\n",
        "default_sensor = \"sensor_00\"\n",
        "\n",
        "for sensor in range(13):\n",
        "    sensor_name = f\"sensor_{sensor:02d}\"\n",
        "    plot_steps0(fig, sensor_name)\n",
        "    plot_steps1(fig, sensor_name)\n",
        "    \n",
        "    sensor_plot_names.extend([sensor_name]*2)\n",
        "    \n",
        "for sensor in range(13):\n",
        "    sensor_name = f\"sensor_{sensor:02d}\"\n",
        "    buttons.append(dict(method='update',\n",
        "                        label=sensor_name,\n",
        "                        args = [{'visible': [sensor_name==r for r in sensor_plot_names]}]))\n",
        "\n",
        "# General Layout. Add dropdown menus to the figure\n",
        "fig.update_layout(height=500,\n",
        "              margin=dict(b=50,r=30,l=100,t=100),\n",
        "              title = \"<span style='font-size:36px; font-family:Times New Roman'>Time Steps Analysis</span>\",                  \n",
        "              plot_bgcolor='rgb(242,242,242)',\n",
        "              paper_bgcolor = 'rgb(242,242,242)',\n",
        "              font=dict(family=\"Times New Roman\", size= 14),\n",
        "              hoverlabel=dict(font_color=\"floralwhite\"),\n",
        "              showlegend=True, updatemenus=[{\"buttons\": buttons, \"direction\": \"down\", \"active\": 0, \"showactive\": True, \"x\": 0.5, \"y\": 1.22}])\n",
        "\n",
        "fig.update_layout(legend=dict(\n",
        "    orientation=\"h\",\n",
        "    yanchor=\"top\",\n",
        "    y=1.21,\n",
        "    xanchor=\"right\",\n",
        "    x=1,\n",
        "    #bgcolor=\"white\",\n",
        "    #bordercolor=\"Black\",\n",
        "    font=dict(\n",
        "        family=\"Times New Roman\",\n",
        "        size=12\n",
        "    #    color=\"black\"\n",
        "    ),\n",
        "))\n",
        "\n",
        "fig.show()"
      ]
    },
    {
      "cell_type": "markdown",
      "metadata": {
        "id": "IjLs1qDd7Ah0"
      },
      "source": [
        "📌 Интерпретация: на этой предыдущей диаграмме мы нанесли на график среднее значение каждого датчика за шаг, в зависимости от того, равно ли состояние 0 или 1. Мы можем оценить, что для большинства датчиков графики имеют пики и впадины. Однако давайте взглянем на случай датчика 2. Удивительно, но обе линии рассеяния не обрываются ни в одной точке. Действительно, обе строки кажутся почти постоянными функциями с очень разными значениями."
      ]
    },
    {
      "cell_type": "markdown",
      "metadata": {
        "id": "lFpzAd-N7L3z"
      },
      "source": [
        "2.3.2 | Дистрибутивы"
      ]
    },
    {
      "cell_type": "code",
      "execution_count": null,
      "metadata": {
        "id": "ydim5epF7FZV"
      },
      "outputs": [],
      "source": [
        "figure = plt.figure(figsize=(16, 8))\n",
        "for sensor in range(13):\n",
        "    sensor_name = f\"sensor_{sensor:02d}\"\n",
        "    plt.subplot(4, 4, sensor+1)\n",
        "    plt.hist(df_data[df_data.state.isnull() == False][f\"{sensor_name}\"], bins=100)\n",
        "    plt.title(f\"{sensor_name}\")\n",
        "figure.tight_layout(h_pad=1.0, w_pad=0.5)\n",
        "plt.suptitle('Sensor Normal Probability Plot', y=1.02)\n",
        "plt.show()"
      ]
    },
    {
      "cell_type": "markdown",
      "metadata": {
        "id": "0vhNsL_G7sKF"
      },
      "source": [
        "Интерпретация: мы можем сделать следующие выводы после анализа построенных гистограмм:\n",
        "\n",
        "Гистограммы показывают, что у каждого датчика есть выбросы.\n",
        "Большинство значений характеристик датчиков содержат большое количество нулей.\n",
        "Функции датчиков обычно не распределяются.\n",
        "2.3.2 | Асимметрия и Эксцесс\n",
        "Учебное пособие по асимметрии и эксцессу\n",
        "\n",
        "Давайте теперь проверим асимметрию. Асимметрия - это мера асимметрии распределения вероятностей вещественной случайной величины относительно ее среднего значения. Значение асимметрии может быть положительным, нулевым, отрицательным или неопределенным.\n",
        "\n",
        "Для унимодального распределения отрицательный перекос обычно указывает на то, что хвост находится в левой части распределения, а положительный перекос указывает на то, что хвост находится справа. В тех случаях, когда один хвост длинный, а другой толстый, асимметрия не подчиняется простому правилу. Например, нулевое значение означает, что хвосты по обе стороны от среднего значения в целом уравновешиваются; это относится к симметричному распределению, но также может быть верно для асимметричного распределения, где один хвост длинный и тонкий, а другой короткий, но толстый. Асимметрия, превышающая 1, обычно считается асимметричной, поэтому проверяйте в основном те, которые больше 1."
      ]
    },
    {
      "cell_type": "code",
      "execution_count": null,
      "metadata": {
        "colab": {
          "base_uri": "https://localhost:8080/",
          "height": 517
        },
        "id": "nqG6TPWp7d4y",
        "outputId": "62982adc-75fd-4b5a-acbf-c458d992b347"
      },
      "outputs": [
        {
          "data": {
            "text/html": [
              "<html>\n",
              "<head><meta charset=\"utf-8\" /></head>\n",
              "<body>\n",
              "    <div>            <script src=\"https://cdnjs.cloudflare.com/ajax/libs/mathjax/2.7.5/MathJax.js?config=TeX-AMS-MML_SVG\"></script><script type=\"text/javascript\">if (window.MathJax) {MathJax.Hub.Config({SVG: {font: \"STIX-Web\"}});}</script>                <script type=\"text/javascript\">window.PlotlyConfig = {MathJaxConfig: 'local'};</script>\n",
              "        <script src=\"https://cdn.plot.ly/plotly-2.8.3.min.js\"></script>                <div id=\"58f9d2f2-1d74-4f00-958a-f83ced3789b3\" class=\"plotly-graph-div\" style=\"height:500px; width:100%;\"></div>            <script type=\"text/javascript\">                                    window.PLOTLYENV=window.PLOTLYENV || {};                                    if (document.getElementById(\"58f9d2f2-1d74-4f00-958a-f83ced3789b3\")) {                    Plotly.newPlot(                        \"58f9d2f2-1d74-4f00-958a-f83ced3789b3\",                        [{\"alignmentgroup\":\"True\",\"hovertemplate\":\"sensor=%{x}<br>skewness=%{marker.color}<extra></extra>\",\"legendgroup\":\"\",\"marker\":{\"color\":[0.5043009519577026,-4.735172748565674,-11.956974983215332,-1.727626085281372,0.18426160514354706,-0.33635085821151733,-0.6579450368881226,0.25868794322013855,1.265045166015625,-0.8072627186775208,0.19270198047161102,-4.462070465087891,-0.0014170185895636678],\"coloraxis\":\"coloraxis\",\"pattern\":{\"shape\":\"\"}},\"name\":\"\",\"offsetgroup\":\"\",\"orientation\":\"v\",\"showlegend\":false,\"textposition\":\"auto\",\"x\":[\"sensor_00\",\"sensor_01\",\"sensor_02\",\"sensor_03\",\"sensor_04\",\"sensor_05\",\"sensor_06\",\"sensor_07\",\"sensor_08\",\"sensor_09\",\"sensor_10\",\"sensor_11\",\"sensor_12\"],\"xaxis\":\"x\",\"y\":[0.5043009519577026,-4.735172748565674,-11.956974983215332,-1.727626085281372,0.18426160514354706,-0.33635085821151733,-0.6579450368881226,0.25868794322013855,1.265045166015625,-0.8072627186775208,0.19270198047161102,-4.462070465087891,-0.0014170185895636678],\"yaxis\":\"y\",\"type\":\"bar\"}],                        {\"template\":{\"data\":{\"bar\":[{\"error_x\":{\"color\":\"#2a3f5f\"},\"error_y\":{\"color\":\"#2a3f5f\"},\"marker\":{\"line\":{\"color\":\"#E5ECF6\",\"width\":0.5},\"pattern\":{\"fillmode\":\"overlay\",\"size\":10,\"solidity\":0.2}},\"type\":\"bar\"}],\"barpolar\":[{\"marker\":{\"line\":{\"color\":\"#E5ECF6\",\"width\":0.5},\"pattern\":{\"fillmode\":\"overlay\",\"size\":10,\"solidity\":0.2}},\"type\":\"barpolar\"}],\"carpet\":[{\"aaxis\":{\"endlinecolor\":\"#2a3f5f\",\"gridcolor\":\"white\",\"linecolor\":\"white\",\"minorgridcolor\":\"white\",\"startlinecolor\":\"#2a3f5f\"},\"baxis\":{\"endlinecolor\":\"#2a3f5f\",\"gridcolor\":\"white\",\"linecolor\":\"white\",\"minorgridcolor\":\"white\",\"startlinecolor\":\"#2a3f5f\"},\"type\":\"carpet\"}],\"choropleth\":[{\"colorbar\":{\"outlinewidth\":0,\"ticks\":\"\"},\"type\":\"choropleth\"}],\"contour\":[{\"colorbar\":{\"outlinewidth\":0,\"ticks\":\"\"},\"colorscale\":[[0.0,\"#0d0887\"],[0.1111111111111111,\"#46039f\"],[0.2222222222222222,\"#7201a8\"],[0.3333333333333333,\"#9c179e\"],[0.4444444444444444,\"#bd3786\"],[0.5555555555555556,\"#d8576b\"],[0.6666666666666666,\"#ed7953\"],[0.7777777777777778,\"#fb9f3a\"],[0.8888888888888888,\"#fdca26\"],[1.0,\"#f0f921\"]],\"type\":\"contour\"}],\"contourcarpet\":[{\"colorbar\":{\"outlinewidth\":0,\"ticks\":\"\"},\"type\":\"contourcarpet\"}],\"heatmap\":[{\"colorbar\":{\"outlinewidth\":0,\"ticks\":\"\"},\"colorscale\":[[0.0,\"#0d0887\"],[0.1111111111111111,\"#46039f\"],[0.2222222222222222,\"#7201a8\"],[0.3333333333333333,\"#9c179e\"],[0.4444444444444444,\"#bd3786\"],[0.5555555555555556,\"#d8576b\"],[0.6666666666666666,\"#ed7953\"],[0.7777777777777778,\"#fb9f3a\"],[0.8888888888888888,\"#fdca26\"],[1.0,\"#f0f921\"]],\"type\":\"heatmap\"}],\"heatmapgl\":[{\"colorbar\":{\"outlinewidth\":0,\"ticks\":\"\"},\"colorscale\":[[0.0,\"#0d0887\"],[0.1111111111111111,\"#46039f\"],[0.2222222222222222,\"#7201a8\"],[0.3333333333333333,\"#9c179e\"],[0.4444444444444444,\"#bd3786\"],[0.5555555555555556,\"#d8576b\"],[0.6666666666666666,\"#ed7953\"],[0.7777777777777778,\"#fb9f3a\"],[0.8888888888888888,\"#fdca26\"],[1.0,\"#f0f921\"]],\"type\":\"heatmapgl\"}],\"histogram\":[{\"marker\":{\"pattern\":{\"fillmode\":\"overlay\",\"size\":10,\"solidity\":0.2}},\"type\":\"histogram\"}],\"histogram2d\":[{\"colorbar\":{\"outlinewidth\":0,\"ticks\":\"\"},\"colorscale\":[[0.0,\"#0d0887\"],[0.1111111111111111,\"#46039f\"],[0.2222222222222222,\"#7201a8\"],[0.3333333333333333,\"#9c179e\"],[0.4444444444444444,\"#bd3786\"],[0.5555555555555556,\"#d8576b\"],[0.6666666666666666,\"#ed7953\"],[0.7777777777777778,\"#fb9f3a\"],[0.8888888888888888,\"#fdca26\"],[1.0,\"#f0f921\"]],\"type\":\"histogram2d\"}],\"histogram2dcontour\":[{\"colorbar\":{\"outlinewidth\":0,\"ticks\":\"\"},\"colorscale\":[[0.0,\"#0d0887\"],[0.1111111111111111,\"#46039f\"],[0.2222222222222222,\"#7201a8\"],[0.3333333333333333,\"#9c179e\"],[0.4444444444444444,\"#bd3786\"],[0.5555555555555556,\"#d8576b\"],[0.6666666666666666,\"#ed7953\"],[0.7777777777777778,\"#fb9f3a\"],[0.8888888888888888,\"#fdca26\"],[1.0,\"#f0f921\"]],\"type\":\"histogram2dcontour\"}],\"mesh3d\":[{\"colorbar\":{\"outlinewidth\":0,\"ticks\":\"\"},\"type\":\"mesh3d\"}],\"parcoords\":[{\"line\":{\"colorbar\":{\"outlinewidth\":0,\"ticks\":\"\"}},\"type\":\"parcoords\"}],\"pie\":[{\"automargin\":true,\"type\":\"pie\"}],\"scatter\":[{\"marker\":{\"colorbar\":{\"outlinewidth\":0,\"ticks\":\"\"}},\"type\":\"scatter\"}],\"scatter3d\":[{\"line\":{\"colorbar\":{\"outlinewidth\":0,\"ticks\":\"\"}},\"marker\":{\"colorbar\":{\"outlinewidth\":0,\"ticks\":\"\"}},\"type\":\"scatter3d\"}],\"scattercarpet\":[{\"marker\":{\"colorbar\":{\"outlinewidth\":0,\"ticks\":\"\"}},\"type\":\"scattercarpet\"}],\"scattergeo\":[{\"marker\":{\"colorbar\":{\"outlinewidth\":0,\"ticks\":\"\"}},\"type\":\"scattergeo\"}],\"scattergl\":[{\"marker\":{\"colorbar\":{\"outlinewidth\":0,\"ticks\":\"\"}},\"type\":\"scattergl\"}],\"scattermapbox\":[{\"marker\":{\"colorbar\":{\"outlinewidth\":0,\"ticks\":\"\"}},\"type\":\"scattermapbox\"}],\"scatterpolar\":[{\"marker\":{\"colorbar\":{\"outlinewidth\":0,\"ticks\":\"\"}},\"type\":\"scatterpolar\"}],\"scatterpolargl\":[{\"marker\":{\"colorbar\":{\"outlinewidth\":0,\"ticks\":\"\"}},\"type\":\"scatterpolargl\"}],\"scatterternary\":[{\"marker\":{\"colorbar\":{\"outlinewidth\":0,\"ticks\":\"\"}},\"type\":\"scatterternary\"}],\"surface\":[{\"colorbar\":{\"outlinewidth\":0,\"ticks\":\"\"},\"colorscale\":[[0.0,\"#0d0887\"],[0.1111111111111111,\"#46039f\"],[0.2222222222222222,\"#7201a8\"],[0.3333333333333333,\"#9c179e\"],[0.4444444444444444,\"#bd3786\"],[0.5555555555555556,\"#d8576b\"],[0.6666666666666666,\"#ed7953\"],[0.7777777777777778,\"#fb9f3a\"],[0.8888888888888888,\"#fdca26\"],[1.0,\"#f0f921\"]],\"type\":\"surface\"}],\"table\":[{\"cells\":{\"fill\":{\"color\":\"#EBF0F8\"},\"line\":{\"color\":\"white\"}},\"header\":{\"fill\":{\"color\":\"#C8D4E3\"},\"line\":{\"color\":\"white\"}},\"type\":\"table\"}]},\"layout\":{\"annotationdefaults\":{\"arrowcolor\":\"#2a3f5f\",\"arrowhead\":0,\"arrowwidth\":1},\"autotypenumbers\":\"strict\",\"coloraxis\":{\"colorbar\":{\"outlinewidth\":0,\"ticks\":\"\"}},\"colorscale\":{\"diverging\":[[0,\"#8e0152\"],[0.1,\"#c51b7d\"],[0.2,\"#de77ae\"],[0.3,\"#f1b6da\"],[0.4,\"#fde0ef\"],[0.5,\"#f7f7f7\"],[0.6,\"#e6f5d0\"],[0.7,\"#b8e186\"],[0.8,\"#7fbc41\"],[0.9,\"#4d9221\"],[1,\"#276419\"]],\"sequential\":[[0.0,\"#0d0887\"],[0.1111111111111111,\"#46039f\"],[0.2222222222222222,\"#7201a8\"],[0.3333333333333333,\"#9c179e\"],[0.4444444444444444,\"#bd3786\"],[0.5555555555555556,\"#d8576b\"],[0.6666666666666666,\"#ed7953\"],[0.7777777777777778,\"#fb9f3a\"],[0.8888888888888888,\"#fdca26\"],[1.0,\"#f0f921\"]],\"sequentialminus\":[[0.0,\"#0d0887\"],[0.1111111111111111,\"#46039f\"],[0.2222222222222222,\"#7201a8\"],[0.3333333333333333,\"#9c179e\"],[0.4444444444444444,\"#bd3786\"],[0.5555555555555556,\"#d8576b\"],[0.6666666666666666,\"#ed7953\"],[0.7777777777777778,\"#fb9f3a\"],[0.8888888888888888,\"#fdca26\"],[1.0,\"#f0f921\"]]},\"colorway\":[\"#636efa\",\"#EF553B\",\"#00cc96\",\"#ab63fa\",\"#FFA15A\",\"#19d3f3\",\"#FF6692\",\"#B6E880\",\"#FF97FF\",\"#FECB52\"],\"font\":{\"color\":\"#2a3f5f\"},\"geo\":{\"bgcolor\":\"white\",\"lakecolor\":\"white\",\"landcolor\":\"#E5ECF6\",\"showlakes\":true,\"showland\":true,\"subunitcolor\":\"white\"},\"hoverlabel\":{\"align\":\"left\"},\"hovermode\":\"closest\",\"mapbox\":{\"style\":\"light\"},\"paper_bgcolor\":\"white\",\"plot_bgcolor\":\"#E5ECF6\",\"polar\":{\"angularaxis\":{\"gridcolor\":\"white\",\"linecolor\":\"white\",\"ticks\":\"\"},\"bgcolor\":\"#E5ECF6\",\"radialaxis\":{\"gridcolor\":\"white\",\"linecolor\":\"white\",\"ticks\":\"\"}},\"scene\":{\"xaxis\":{\"backgroundcolor\":\"#E5ECF6\",\"gridcolor\":\"white\",\"gridwidth\":2,\"linecolor\":\"white\",\"showbackground\":true,\"ticks\":\"\",\"zerolinecolor\":\"white\"},\"yaxis\":{\"backgroundcolor\":\"#E5ECF6\",\"gridcolor\":\"white\",\"gridwidth\":2,\"linecolor\":\"white\",\"showbackground\":true,\"ticks\":\"\",\"zerolinecolor\":\"white\"},\"zaxis\":{\"backgroundcolor\":\"#E5ECF6\",\"gridcolor\":\"white\",\"gridwidth\":2,\"linecolor\":\"white\",\"showbackground\":true,\"ticks\":\"\",\"zerolinecolor\":\"white\"}},\"shapedefaults\":{\"line\":{\"color\":\"#2a3f5f\"}},\"ternary\":{\"aaxis\":{\"gridcolor\":\"white\",\"linecolor\":\"white\",\"ticks\":\"\"},\"baxis\":{\"gridcolor\":\"white\",\"linecolor\":\"white\",\"ticks\":\"\"},\"bgcolor\":\"#E5ECF6\",\"caxis\":{\"gridcolor\":\"white\",\"linecolor\":\"white\",\"ticks\":\"\"}},\"title\":{\"x\":0.05},\"xaxis\":{\"automargin\":true,\"gridcolor\":\"white\",\"linecolor\":\"white\",\"ticks\":\"\",\"title\":{\"standoff\":15},\"zerolinecolor\":\"white\",\"zerolinewidth\":2},\"yaxis\":{\"automargin\":true,\"gridcolor\":\"white\",\"linecolor\":\"white\",\"ticks\":\"\",\"title\":{\"standoff\":15},\"zerolinecolor\":\"white\",\"zerolinewidth\":2}}},\"xaxis\":{\"anchor\":\"y\",\"domain\":[0.0,1.0],\"title\":{\"text\":\"sensor\"},\"showgrid\":false,\"showline\":true,\"gridwidth\":0.05,\"linecolor\":\"gray\",\"linewidth\":2},\"yaxis\":{\"anchor\":\"x\",\"domain\":[0.0,1.0],\"title\":{\"text\":\"skewness\"},\"range\":[-14,10],\"showline\":true,\"gridwidth\":0.05,\"linecolor\":\"gray\",\"linewidth\":2,\"zerolinecolor\":\"gray\",\"zerolinewidth\":0.5},\"coloraxis\":{\"colorbar\":{\"title\":{\"text\":\"skewness\"}},\"colorscale\":[[0.0,\"rgb(196, 230, 195)\"],[0.16666666666666666,\"rgb(150, 210, 164)\"],[0.3333333333333333,\"rgb(109, 188, 144)\"],[0.5,\"rgb(77, 162, 132)\"],[0.6666666666666666,\"rgb(54, 135, 122)\"],[0.8333333333333334,\"rgb(38, 107, 110)\"],[1.0,\"rgb(29, 79, 96)\"]]},\"legend\":{\"tracegroupgap\":0},\"margin\":{\"t\":100,\"b\":50,\"r\":30,\"l\":100},\"barmode\":\"relative\",\"font\":{\"family\":\"Times New Roman\",\"size\":14},\"hoverlabel\":{\"font\":{\"color\":\"floralwhite\"}},\"height\":500,\"title\":{\"text\":\"<span style='font-size:36px; font-family:Times New Roman'>Sensors' Skewness</span>\"},\"plot_bgcolor\":\"rgb(242,242,242)\",\"paper_bgcolor\":\"rgb(242,242,242)\",\"showlegend\":false},                        {\"responsive\": true}                    ).then(function(){\n",
              "                            \n",
              "var gd = document.getElementById('58f9d2f2-1d74-4f00-958a-f83ced3789b3');\n",
              "var x = new MutationObserver(function (mutations, observer) {{\n",
              "        var display = window.getComputedStyle(gd).display;\n",
              "        if (!display || display === 'none') {{\n",
              "            console.log([gd, 'removed!']);\n",
              "            Plotly.purge(gd);\n",
              "            observer.disconnect();\n",
              "        }}\n",
              "}});\n",
              "\n",
              "// Listen for the removal of the full notebook cells\n",
              "var notebookContainer = gd.closest('#notebook-container');\n",
              "if (notebookContainer) {{\n",
              "    x.observe(notebookContainer, {childList: true});\n",
              "}}\n",
              "\n",
              "// Listen for the clearing of the current output cell\n",
              "var outputEl = gd.closest('.output');\n",
              "if (outputEl) {{\n",
              "    x.observe(outputEl, {childList: true});\n",
              "}}\n",
              "\n",
              "                        })                };                            </script>        </div>\n",
              "</body>\n",
              "</html>"
            ]
          },
          "metadata": {},
          "output_type": "display_data"
        }
      ],
      "source": [
        "from scipy.stats import skew, kurtosis\n",
        "sensors = quantitative = [f for f in df_data.columns if df_data.dtypes[f] == 'float32']\n",
        "sensors.remove('state')\n",
        "skew_features = pd.DataFrame(df_data[sensors].apply(lambda x : skew(x))).reset_index()\n",
        "skew_features.columns = ['sensor','skewness']\n",
        "line = pd.DataFrame(dict(\n",
        "    x = ['sensor_00','sensor_12'],\n",
        "    y = [1, 1]\n",
        "))\n",
        "\n",
        "fig = px.bar(skew_features, x='sensor',y='skewness', color = 'skewness', color_continuous_scale = 'Blugrn', range_y=[-14,10])\n",
        "\n",
        "fig.update_xaxes(showgrid = False, showline = True, gridwidth = 0.05, linecolor = 'gray', linewidth = 2)\n",
        "fig.update_yaxes(showline = True, gridwidth = 0.05, linecolor = 'gray', linewidth = 2, zerolinecolor = 'gray', zerolinewidth = 0.5)\n",
        "\n",
        "# General Styling\n",
        "fig.update_layout(height=500,\n",
        "              margin=dict(b=50,r=30,l=100,t=100),\n",
        "              title = \"<span style='font-size:36px; font-family:Times New Roman'>Sensors' Skewness</span>\",                  \n",
        "              plot_bgcolor='rgb(242,242,242)',\n",
        "              paper_bgcolor = 'rgb(242,242,242)',\n",
        "              font=dict(family=\"Times New Roman\", size= 14),\n",
        "              hoverlabel=dict(font_color=\"floralwhite\"),\n",
        "              showlegend=False)\n",
        "fig.show()\n"
      ]
    },
    {
      "cell_type": "markdown",
      "metadata": {
        "id": "tBlUESBM8Ed0"
      },
      "source": [
        "Давайте теперь перейдем к эксцессу. В теории вероятностей и статистике эксцесс - это мера \"хвостовости\" распределения вероятностей вещественной случайной величины. Как и асимметрия, эксцесс описывает форму распределения вероятностей, и существуют различные способы его количественной оценки для теоретического распределения и соответствующие способы его оценки по выборке из совокупности. Различные показатели эксцесса могут иметь разную интерпретацию.\n",
        "\n",
        "Стандартная мера эксцесса распределения, разработанная Карлом Пирсоном, представляет собой масштабированную версию четвертого момента распределения. Это число связано с хвостами распределения, а не с его пиком; следовательно, иногда встречающаяся характеристика эксцесса как \"пиковости\" неверна. Для этого показателя более высокий эксцесс соответствует большей экстремальности отклонений (или выбросов), а не конфигурации данных вблизи среднего значения."
      ]
    },
    {
      "cell_type": "code",
      "execution_count": null,
      "metadata": {
        "colab": {
          "base_uri": "https://localhost:8080/",
          "height": 517
        },
        "id": "rvDIHXgp8Pud",
        "outputId": "0ec9ddc6-721f-4dba-b098-dc4f3b3d2f2a"
      },
      "outputs": [
        {
          "data": {
            "text/html": [
              "<html>\n",
              "<head><meta charset=\"utf-8\" /></head>\n",
              "<body>\n",
              "    <div>            <script src=\"https://cdnjs.cloudflare.com/ajax/libs/mathjax/2.7.5/MathJax.js?config=TeX-AMS-MML_SVG\"></script><script type=\"text/javascript\">if (window.MathJax) {MathJax.Hub.Config({SVG: {font: \"STIX-Web\"}});}</script>                <script type=\"text/javascript\">window.PlotlyConfig = {MathJaxConfig: 'local'};</script>\n",
              "        <script src=\"https://cdn.plot.ly/plotly-2.8.3.min.js\"></script>                <div id=\"d2c912d9-4234-4346-b505-2c5c6dfb3cc0\" class=\"plotly-graph-div\" style=\"height:500px; width:100%;\"></div>            <script type=\"text/javascript\">                                    window.PLOTLYENV=window.PLOTLYENV || {};                                    if (document.getElementById(\"d2c912d9-4234-4346-b505-2c5c6dfb3cc0\")) {                    Plotly.newPlot(                        \"d2c912d9-4234-4346-b505-2c5c6dfb3cc0\",                        [{\"alignmentgroup\":\"True\",\"hovertemplate\":\"sensor=%{x}<br>kurtosis=%{marker.color}<extra></extra>\",\"legendgroup\":\"\",\"marker\":{\"color\":[2975.843279454847,1552.4824843787048,159.12691207441506,2115.7625192822607,17.106071623599906,63.26737508044019,3270.713905576296,2181.6099432756605,3222.3549913766137,1870.6259892383407,37.89864725538591,1442.9962935543983,25.22436286272013],\"coloraxis\":\"coloraxis\",\"pattern\":{\"shape\":\"\"}},\"name\":\"\",\"offsetgroup\":\"\",\"orientation\":\"v\",\"showlegend\":false,\"textposition\":\"auto\",\"x\":[\"sensor_00\",\"sensor_01\",\"sensor_02\",\"sensor_03\",\"sensor_04\",\"sensor_05\",\"sensor_06\",\"sensor_07\",\"sensor_08\",\"sensor_09\",\"sensor_10\",\"sensor_11\",\"sensor_12\"],\"xaxis\":\"x\",\"y\":[2975.843279454847,1552.4824843787048,159.12691207441506,2115.7625192822607,17.106071623599906,63.26737508044019,3270.713905576296,2181.6099432756605,3222.3549913766137,1870.6259892383407,37.89864725538591,1442.9962935543983,25.22436286272013],\"yaxis\":\"y\",\"type\":\"bar\"}],                        {\"template\":{\"data\":{\"bar\":[{\"error_x\":{\"color\":\"#2a3f5f\"},\"error_y\":{\"color\":\"#2a3f5f\"},\"marker\":{\"line\":{\"color\":\"#E5ECF6\",\"width\":0.5},\"pattern\":{\"fillmode\":\"overlay\",\"size\":10,\"solidity\":0.2}},\"type\":\"bar\"}],\"barpolar\":[{\"marker\":{\"line\":{\"color\":\"#E5ECF6\",\"width\":0.5},\"pattern\":{\"fillmode\":\"overlay\",\"size\":10,\"solidity\":0.2}},\"type\":\"barpolar\"}],\"carpet\":[{\"aaxis\":{\"endlinecolor\":\"#2a3f5f\",\"gridcolor\":\"white\",\"linecolor\":\"white\",\"minorgridcolor\":\"white\",\"startlinecolor\":\"#2a3f5f\"},\"baxis\":{\"endlinecolor\":\"#2a3f5f\",\"gridcolor\":\"white\",\"linecolor\":\"white\",\"minorgridcolor\":\"white\",\"startlinecolor\":\"#2a3f5f\"},\"type\":\"carpet\"}],\"choropleth\":[{\"colorbar\":{\"outlinewidth\":0,\"ticks\":\"\"},\"type\":\"choropleth\"}],\"contour\":[{\"colorbar\":{\"outlinewidth\":0,\"ticks\":\"\"},\"colorscale\":[[0.0,\"#0d0887\"],[0.1111111111111111,\"#46039f\"],[0.2222222222222222,\"#7201a8\"],[0.3333333333333333,\"#9c179e\"],[0.4444444444444444,\"#bd3786\"],[0.5555555555555556,\"#d8576b\"],[0.6666666666666666,\"#ed7953\"],[0.7777777777777778,\"#fb9f3a\"],[0.8888888888888888,\"#fdca26\"],[1.0,\"#f0f921\"]],\"type\":\"contour\"}],\"contourcarpet\":[{\"colorbar\":{\"outlinewidth\":0,\"ticks\":\"\"},\"type\":\"contourcarpet\"}],\"heatmap\":[{\"colorbar\":{\"outlinewidth\":0,\"ticks\":\"\"},\"colorscale\":[[0.0,\"#0d0887\"],[0.1111111111111111,\"#46039f\"],[0.2222222222222222,\"#7201a8\"],[0.3333333333333333,\"#9c179e\"],[0.4444444444444444,\"#bd3786\"],[0.5555555555555556,\"#d8576b\"],[0.6666666666666666,\"#ed7953\"],[0.7777777777777778,\"#fb9f3a\"],[0.8888888888888888,\"#fdca26\"],[1.0,\"#f0f921\"]],\"type\":\"heatmap\"}],\"heatmapgl\":[{\"colorbar\":{\"outlinewidth\":0,\"ticks\":\"\"},\"colorscale\":[[0.0,\"#0d0887\"],[0.1111111111111111,\"#46039f\"],[0.2222222222222222,\"#7201a8\"],[0.3333333333333333,\"#9c179e\"],[0.4444444444444444,\"#bd3786\"],[0.5555555555555556,\"#d8576b\"],[0.6666666666666666,\"#ed7953\"],[0.7777777777777778,\"#fb9f3a\"],[0.8888888888888888,\"#fdca26\"],[1.0,\"#f0f921\"]],\"type\":\"heatmapgl\"}],\"histogram\":[{\"marker\":{\"pattern\":{\"fillmode\":\"overlay\",\"size\":10,\"solidity\":0.2}},\"type\":\"histogram\"}],\"histogram2d\":[{\"colorbar\":{\"outlinewidth\":0,\"ticks\":\"\"},\"colorscale\":[[0.0,\"#0d0887\"],[0.1111111111111111,\"#46039f\"],[0.2222222222222222,\"#7201a8\"],[0.3333333333333333,\"#9c179e\"],[0.4444444444444444,\"#bd3786\"],[0.5555555555555556,\"#d8576b\"],[0.6666666666666666,\"#ed7953\"],[0.7777777777777778,\"#fb9f3a\"],[0.8888888888888888,\"#fdca26\"],[1.0,\"#f0f921\"]],\"type\":\"histogram2d\"}],\"histogram2dcontour\":[{\"colorbar\":{\"outlinewidth\":0,\"ticks\":\"\"},\"colorscale\":[[0.0,\"#0d0887\"],[0.1111111111111111,\"#46039f\"],[0.2222222222222222,\"#7201a8\"],[0.3333333333333333,\"#9c179e\"],[0.4444444444444444,\"#bd3786\"],[0.5555555555555556,\"#d8576b\"],[0.6666666666666666,\"#ed7953\"],[0.7777777777777778,\"#fb9f3a\"],[0.8888888888888888,\"#fdca26\"],[1.0,\"#f0f921\"]],\"type\":\"histogram2dcontour\"}],\"mesh3d\":[{\"colorbar\":{\"outlinewidth\":0,\"ticks\":\"\"},\"type\":\"mesh3d\"}],\"parcoords\":[{\"line\":{\"colorbar\":{\"outlinewidth\":0,\"ticks\":\"\"}},\"type\":\"parcoords\"}],\"pie\":[{\"automargin\":true,\"type\":\"pie\"}],\"scatter\":[{\"marker\":{\"colorbar\":{\"outlinewidth\":0,\"ticks\":\"\"}},\"type\":\"scatter\"}],\"scatter3d\":[{\"line\":{\"colorbar\":{\"outlinewidth\":0,\"ticks\":\"\"}},\"marker\":{\"colorbar\":{\"outlinewidth\":0,\"ticks\":\"\"}},\"type\":\"scatter3d\"}],\"scattercarpet\":[{\"marker\":{\"colorbar\":{\"outlinewidth\":0,\"ticks\":\"\"}},\"type\":\"scattercarpet\"}],\"scattergeo\":[{\"marker\":{\"colorbar\":{\"outlinewidth\":0,\"ticks\":\"\"}},\"type\":\"scattergeo\"}],\"scattergl\":[{\"marker\":{\"colorbar\":{\"outlinewidth\":0,\"ticks\":\"\"}},\"type\":\"scattergl\"}],\"scattermapbox\":[{\"marker\":{\"colorbar\":{\"outlinewidth\":0,\"ticks\":\"\"}},\"type\":\"scattermapbox\"}],\"scatterpolar\":[{\"marker\":{\"colorbar\":{\"outlinewidth\":0,\"ticks\":\"\"}},\"type\":\"scatterpolar\"}],\"scatterpolargl\":[{\"marker\":{\"colorbar\":{\"outlinewidth\":0,\"ticks\":\"\"}},\"type\":\"scatterpolargl\"}],\"scatterternary\":[{\"marker\":{\"colorbar\":{\"outlinewidth\":0,\"ticks\":\"\"}},\"type\":\"scatterternary\"}],\"surface\":[{\"colorbar\":{\"outlinewidth\":0,\"ticks\":\"\"},\"colorscale\":[[0.0,\"#0d0887\"],[0.1111111111111111,\"#46039f\"],[0.2222222222222222,\"#7201a8\"],[0.3333333333333333,\"#9c179e\"],[0.4444444444444444,\"#bd3786\"],[0.5555555555555556,\"#d8576b\"],[0.6666666666666666,\"#ed7953\"],[0.7777777777777778,\"#fb9f3a\"],[0.8888888888888888,\"#fdca26\"],[1.0,\"#f0f921\"]],\"type\":\"surface\"}],\"table\":[{\"cells\":{\"fill\":{\"color\":\"#EBF0F8\"},\"line\":{\"color\":\"white\"}},\"header\":{\"fill\":{\"color\":\"#C8D4E3\"},\"line\":{\"color\":\"white\"}},\"type\":\"table\"}]},\"layout\":{\"annotationdefaults\":{\"arrowcolor\":\"#2a3f5f\",\"arrowhead\":0,\"arrowwidth\":1},\"autotypenumbers\":\"strict\",\"coloraxis\":{\"colorbar\":{\"outlinewidth\":0,\"ticks\":\"\"}},\"colorscale\":{\"diverging\":[[0,\"#8e0152\"],[0.1,\"#c51b7d\"],[0.2,\"#de77ae\"],[0.3,\"#f1b6da\"],[0.4,\"#fde0ef\"],[0.5,\"#f7f7f7\"],[0.6,\"#e6f5d0\"],[0.7,\"#b8e186\"],[0.8,\"#7fbc41\"],[0.9,\"#4d9221\"],[1,\"#276419\"]],\"sequential\":[[0.0,\"#0d0887\"],[0.1111111111111111,\"#46039f\"],[0.2222222222222222,\"#7201a8\"],[0.3333333333333333,\"#9c179e\"],[0.4444444444444444,\"#bd3786\"],[0.5555555555555556,\"#d8576b\"],[0.6666666666666666,\"#ed7953\"],[0.7777777777777778,\"#fb9f3a\"],[0.8888888888888888,\"#fdca26\"],[1.0,\"#f0f921\"]],\"sequentialminus\":[[0.0,\"#0d0887\"],[0.1111111111111111,\"#46039f\"],[0.2222222222222222,\"#7201a8\"],[0.3333333333333333,\"#9c179e\"],[0.4444444444444444,\"#bd3786\"],[0.5555555555555556,\"#d8576b\"],[0.6666666666666666,\"#ed7953\"],[0.7777777777777778,\"#fb9f3a\"],[0.8888888888888888,\"#fdca26\"],[1.0,\"#f0f921\"]]},\"colorway\":[\"#636efa\",\"#EF553B\",\"#00cc96\",\"#ab63fa\",\"#FFA15A\",\"#19d3f3\",\"#FF6692\",\"#B6E880\",\"#FF97FF\",\"#FECB52\"],\"font\":{\"color\":\"#2a3f5f\"},\"geo\":{\"bgcolor\":\"white\",\"lakecolor\":\"white\",\"landcolor\":\"#E5ECF6\",\"showlakes\":true,\"showland\":true,\"subunitcolor\":\"white\"},\"hoverlabel\":{\"align\":\"left\"},\"hovermode\":\"closest\",\"mapbox\":{\"style\":\"light\"},\"paper_bgcolor\":\"white\",\"plot_bgcolor\":\"#E5ECF6\",\"polar\":{\"angularaxis\":{\"gridcolor\":\"white\",\"linecolor\":\"white\",\"ticks\":\"\"},\"bgcolor\":\"#E5ECF6\",\"radialaxis\":{\"gridcolor\":\"white\",\"linecolor\":\"white\",\"ticks\":\"\"}},\"scene\":{\"xaxis\":{\"backgroundcolor\":\"#E5ECF6\",\"gridcolor\":\"white\",\"gridwidth\":2,\"linecolor\":\"white\",\"showbackground\":true,\"ticks\":\"\",\"zerolinecolor\":\"white\"},\"yaxis\":{\"backgroundcolor\":\"#E5ECF6\",\"gridcolor\":\"white\",\"gridwidth\":2,\"linecolor\":\"white\",\"showbackground\":true,\"ticks\":\"\",\"zerolinecolor\":\"white\"},\"zaxis\":{\"backgroundcolor\":\"#E5ECF6\",\"gridcolor\":\"white\",\"gridwidth\":2,\"linecolor\":\"white\",\"showbackground\":true,\"ticks\":\"\",\"zerolinecolor\":\"white\"}},\"shapedefaults\":{\"line\":{\"color\":\"#2a3f5f\"}},\"ternary\":{\"aaxis\":{\"gridcolor\":\"white\",\"linecolor\":\"white\",\"ticks\":\"\"},\"baxis\":{\"gridcolor\":\"white\",\"linecolor\":\"white\",\"ticks\":\"\"},\"bgcolor\":\"#E5ECF6\",\"caxis\":{\"gridcolor\":\"white\",\"linecolor\":\"white\",\"ticks\":\"\"}},\"title\":{\"x\":0.05},\"xaxis\":{\"automargin\":true,\"gridcolor\":\"white\",\"linecolor\":\"white\",\"ticks\":\"\",\"title\":{\"standoff\":15},\"zerolinecolor\":\"white\",\"zerolinewidth\":2},\"yaxis\":{\"automargin\":true,\"gridcolor\":\"white\",\"linecolor\":\"white\",\"ticks\":\"\",\"title\":{\"standoff\":15},\"zerolinecolor\":\"white\",\"zerolinewidth\":2}}},\"xaxis\":{\"anchor\":\"y\",\"domain\":[0.0,1.0],\"title\":{\"text\":\"sensor\"},\"showgrid\":false,\"showline\":true,\"gridwidth\":0.05,\"linecolor\":\"gray\",\"linewidth\":2},\"yaxis\":{\"anchor\":\"x\",\"domain\":[0.0,1.0],\"title\":{\"text\":\"kurtosis\"},\"showline\":true,\"gridwidth\":0.05,\"linecolor\":\"gray\",\"linewidth\":2,\"zerolinecolor\":\"gray\",\"zerolinewidth\":0.5},\"coloraxis\":{\"colorbar\":{\"title\":{\"text\":\"kurtosis\"}},\"colorscale\":[[0.0,\"rgb(196, 230, 195)\"],[0.16666666666666666,\"rgb(150, 210, 164)\"],[0.3333333333333333,\"rgb(109, 188, 144)\"],[0.5,\"rgb(77, 162, 132)\"],[0.6666666666666666,\"rgb(54, 135, 122)\"],[0.8333333333333334,\"rgb(38, 107, 110)\"],[1.0,\"rgb(29, 79, 96)\"]]},\"legend\":{\"tracegroupgap\":0},\"margin\":{\"t\":100,\"b\":50,\"r\":30,\"l\":100},\"barmode\":\"relative\",\"font\":{\"family\":\"Times New Roman\",\"size\":14},\"hoverlabel\":{\"font\":{\"color\":\"floralwhite\"}},\"height\":500,\"title\":{\"text\":\"<span style='font-size:36px; font-family:Times New Roman'>Sensors' Kurtosis</span>\"},\"plot_bgcolor\":\"rgb(242,242,242)\",\"paper_bgcolor\":\"rgb(242,242,242)\",\"showlegend\":false},                        {\"responsive\": true}                    ).then(function(){\n",
              "                            \n",
              "var gd = document.getElementById('d2c912d9-4234-4346-b505-2c5c6dfb3cc0');\n",
              "var x = new MutationObserver(function (mutations, observer) {{\n",
              "        var display = window.getComputedStyle(gd).display;\n",
              "        if (!display || display === 'none') {{\n",
              "            console.log([gd, 'removed!']);\n",
              "            Plotly.purge(gd);\n",
              "            observer.disconnect();\n",
              "        }}\n",
              "}});\n",
              "\n",
              "// Listen for the removal of the full notebook cells\n",
              "var notebookContainer = gd.closest('#notebook-container');\n",
              "if (notebookContainer) {{\n",
              "    x.observe(notebookContainer, {childList: true});\n",
              "}}\n",
              "\n",
              "// Listen for the clearing of the current output cell\n",
              "var outputEl = gd.closest('.output');\n",
              "if (outputEl) {{\n",
              "    x.observe(outputEl, {childList: true});\n",
              "}}\n",
              "\n",
              "                        })                };                            </script>        </div>\n",
              "</body>\n",
              "</html>"
            ]
          },
          "metadata": {},
          "output_type": "display_data"
        }
      ],
      "source": [
        "skew_features = pd.DataFrame(df_data[sensors].apply(lambda x : kurtosis(x))).reset_index()\n",
        "skew_features.columns = ['sensor','kurtosis']\n",
        "fig = px.bar(skew_features, x='sensor',y='kurtosis', color = 'kurtosis', color_continuous_scale = 'Blugrn')\n",
        "\n",
        "fig.update_xaxes(showgrid = False, showline = True, gridwidth = 0.05, linecolor = 'gray', linewidth = 2)\n",
        "fig.update_yaxes(showline = True, gridwidth = 0.05, linecolor = 'gray', linewidth = 2, zerolinecolor = 'gray', zerolinewidth = 0.5)\n",
        "\n",
        "# General Styling\n",
        "fig.update_layout(height=500,\n",
        "              margin=dict(b=50,r=30,l=100,t=100),\n",
        "              title = \"<span style='font-size:36px; font-family:Times New Roman'>Sensors' Kurtosis</span>\",                  \n",
        "              plot_bgcolor='rgb(242,242,242)',\n",
        "              paper_bgcolor = 'rgb(242,242,242)',\n",
        "              font=dict(family=\"Times New Roman\", size= 14),\n",
        "              hoverlabel=dict(font_color=\"floralwhite\"),\n",
        "              showlegend=False)\n",
        "fig.show()"
      ]
    },
    {
      "cell_type": "markdown",
      "metadata": {
        "id": "CyHR3gkJ8Z6E"
      },
      "source": [
        "Теперь давайте построим \"внутреннюю\" часть гистограммы после удаления 2 % выбросов с обеих сторон. Мы видим, что датчики отличаются по своим характеристикам:\n",
        "\n",
        "Большинство измерений sensor_02 возвращают значения, кратные 0,33 (но промежуточные значения встречаются с низкой вероятностью).\n",
        "Sensor_08 имеет дискретные значения (кратные 0,1).\n",
        "Некоторые датчики выглядят как обычные распределения, другие (в частности, sensor_12) имеют длинный хвост.\n",
        "Распределения выглядят симметричными с центром в 0. Эта следующая ячейка EDA была взята из раздела Ambrose EDU."
      ]
    },
    {
      "cell_type": "code",
      "execution_count": null,
      "metadata": {
        "id": "G4xUve5y8igO"
      },
      "outputs": [],
      "source": [
        "figure = plt.figure(figsize=(16, 8))\n",
        "for sensor in range(13):\n",
        "    sensor_name = f\"sensor_{sensor:02d}\"\n",
        "    plt.subplot(4, 4, sensor+1)\n",
        "    plt.hist(df_data[df_data.state.isnull() == False][sensor_name], bins=100,\n",
        "             range=(df_data[df_data.state.isnull() == False][sensor_name].quantile(0.02),\n",
        "                    df_data[df_data.state.isnull() == False][sensor_name].quantile(0.98)))\n",
        "    plt.title(f\"{sensor_name} histogram\")\n",
        "figure.tight_layout(h_pad=1.0, w_pad=0.5)\n",
        "plt.suptitle('Sensor Histograms After Outlier Removal', y=1.02)\n",
        "plt.show()"
      ]
    },
    {
      "cell_type": "markdown",
      "metadata": {
        "id": "tZgA2LGd86Qm"
      },
      "source": [
        "2.3.3 График Нормальной Вероятности\n",
        "График нормальной вероятности - это графический метод для оценки того, является ли набор данных приблизительно нормально распределенным. Данные сопоставляются с теоретическим нормальным распределением таким образом, чтобы точки образовывали приблизительную прямую линию."
      ]
    },
    {
      "cell_type": "code",
      "execution_count": null,
      "metadata": {
        "id": "LtJMoyqG9RQk"
      },
      "outputs": [],
      "source": [
        "from scipy import stats\n",
        "import matplotlib.pyplot as plt\n",
        "import seaborn as sns"
      ]
    },
    {
      "cell_type": "code",
      "execution_count": null,
      "metadata": {
        "id": "o4i4ZnP087bc"
      },
      "outputs": [],
      "source": [
        "from scipy import stats\n",
        "figure = plt.figure(figsize=(14, 8))\n",
        "for sensor in range(13):\n",
        "    sensor_name = f\"sensor_{sensor:02d}\"\n",
        "    plt.subplot(4, 4, sensor+1)\n",
        "    stats.probplot(df_data[df_data.state.isnull() == False][f\"{sensor_name}\"], plot=plt)\n",
        "    plt.title(f\"{sensor_name}\")\n",
        "figure.tight_layout(h_pad=1.0, w_pad=0.5)\n",
        "plt.suptitle('Sensor Normal Probability Plot', y=1.02)\n",
        "plt.show()"
      ]
    },
    {
      "cell_type": "markdown",
      "metadata": {
        "id": "sqNGHUAo_UwV"
      },
      "source": [
        "2.4.1 | Определение выбросов\n",
        "Выброс - это наблюдение, которое численно отличается от остальных данных, или, проще говоря, это значение, которое находится вне диапазона.давайте возьмем пример, чтобы проверить, что происходит с набором данных с выбросами и набором данных без них.\n",
        "\n",
        "2.4.2 | Обнаружение выбросов\n",
        "Выбросы могут быть двух типов: Одномерные и многомерные. Эти выбросы можно обнаружить, когда мы смотрим на распределение одной переменной. Многомерные выбросы - это выбросы в n-мерном пространстве. Мы начнем с определения того, есть ли выбросы в нашем наборе данных или нет."
      ]
    },
    {
      "cell_type": "code",
      "execution_count": null,
      "metadata": {
        "id": "4SeB_Q0b9fNs"
      },
      "outputs": [],
      "source": [
        "import scipy.stats as stats\n",
        "def grubbs_test(x):\n",
        "    n = len(x)\n",
        "    mean_x = np.mean(x)\n",
        "    sd_x = np.std(x)\n",
        "    numerator = max(abs(x-mean_x))\n",
        "    g_calculated = numerator/sd_x\n",
        "    print(\"Grubbs Calculated Value:\",g_calculated)\n",
        "    t_value = stats.t.ppf(1 - 0.05 / (2 * n), n - 2)\n",
        "    g_critical = ((n - 1) * np.sqrt(np.square(t_value))) / (np.sqrt(n) * np.sqrt(n - 2 + np.square(t_value)))\n",
        "    print(\"Grubbs Critical Value:\",g_critical)\n",
        "    if g_critical > g_calculated:\n",
        "        print(\"From grubbs_test we observe that calculated value is lesser than critical value, Accept null hypothesis and conclude that there is no outliers\\n\")\n",
        "    else:\n",
        "        print(\"From grubbs_test we observe that calculated value is greater than critical value, Reject null hypothesis and conclude that there is an outliers\\n\")"
      ]
    },
    {
      "cell_type": "markdown",
      "metadata": {
        "id": "yXav-jtA_vDb"
      },
      "source": [
        "2.4.2.2 | Метод Z-оценки\n",
        "Используя метод Z score, мы можем выяснить, на сколько стандартных отклонений значение отклоняется от среднего."
      ]
    },
    {
      "cell_type": "code",
      "execution_count": null,
      "metadata": {
        "id": "ZD87CnMp_vzT"
      },
      "outputs": [],
      "source": [
        "out=[]\n",
        "def Zscore_outlier(df):\n",
        "    m = np.mean(df)\n",
        "    sd = np.std(df)\n",
        "    row = 0\n",
        "    for i in df: \n",
        "        z = (i-m)/sd\n",
        "        if np.abs(z) > 3: \n",
        "            out.append(row)\n",
        "        row += 1\n",
        "    return out"
      ]
    },
    {
      "cell_type": "markdown",
      "metadata": {
        "id": "RoCsILyK_5-T"
      },
      "source": [
        "2.4.3 | Обнаружение выбросов Датчиков"
      ]
    },
    {
      "cell_type": "code",
      "execution_count": null,
      "metadata": {
        "colab": {
          "background_save": true,
          "base_uri": "https://localhost:8080/",
          "height": 712
        },
        "id": "1EXgqhXB_6rc",
        "outputId": "a0898183-51b8-4760-bb1d-b7d48895d0af"
      },
      "outputs": [],
      "source": [
        "def plot_outliers(feature):\n",
        "    grubbs_test(df_data[df_data.state.isnull() == False][feature])\n",
        "    outliers_index = Zscore_outlier(df_data[df_data.state.isnull() == False][feature])\n",
        "    print('Outlier %: ', len(outliers_index)/df_data[df_data.state.isnull() == False].shape[0])\n",
        "    print('\\n')\n",
        "\n",
        "    df_outlier = df_data[df_data.state.isnull() == False]\n",
        "    df_outlier['outlier'] = 0\n",
        "    df_outlier.loc[outliers_index,'outlier'] = 1\n",
        "\n",
        "    fig = px.scatter(df_outlier.loc[outliers_index,:], x=outliers_index, y=feature, color = feature, color_continuous_scale='Blugrn', color_continuous_midpoint=0)\n",
        "    fig.update_xaxes(showgrid = False, showline = True, gridwidth = 0.05, linecolor = 'gray', zeroline = False, linewidth = 2)\n",
        "    fig.update_yaxes(showline = True, gridwidth = 0.05, linecolor = 'gray', linewidth = 2, zeroline = False)\n",
        "\n",
        "    #General Styling\n",
        "    fig.update_layout(height=400, bargap=0.2,\n",
        "                      margin=dict(b=50,r=30,l=100, t=80),\n",
        "                      title = \"<span style='font-size:36px; font-family:Times New Roman'>Sensor Features Outliers Analysis</span>\",                  \n",
        "                      plot_bgcolor='rgb(242,242,242)',\n",
        "                      paper_bgcolor = 'rgb(242,242,242)',\n",
        "                      font=dict(family=\"Times New Roman\", size= 14),\n",
        "                      hoverlabel=dict(font_color=\"floralwhite\"),\n",
        "                      showlegend=False)\n",
        "    fig.show()\n",
        "\n",
        "sensors = quantitative = [f for f in df_data.columns if df_data.dtypes[f] == 'float32']\n",
        "sensors.remove('state')\n",
        "i = 0\n",
        "for sensor in sensors:\n",
        "    print('Sensor ', i)\n",
        "    print('\\n')\n",
        "    i+=1\n",
        "    plot_outliers(sensor)"
      ]
    },
    {
      "cell_type": "markdown",
      "metadata": {
        "id": "pwrd1EL7yGiz"
      },
      "source": [
        "3 | Разработка функциональных возможностей\n",
        "3.1 | Взаимная информация\n",
        "\n",
        "Взаимная информация описывает отношения в терминах неопределенности. Взаимная информация (MI) между двумя величинами является мерой степени, в которой знание одной величины уменьшает неопределенность в отношении другой. Если бы вы знали ценность функции, насколько увереннее вы были бы в отношении цели? Scikit-learn имеет две метрики взаимной информации в своем модуле feature_selection: одну для вещественных целей (mutual_info_regression) и одну для категориальных целей (mutual_info_classif). Следующая ячейка вычисляет оценки MI для наших функций и заключает их в красивый фрейм данных. В дальнейшем мы собираемся отказаться от неинформативных функций, поскольку они бесполезны."
      ]
    },
    {
      "cell_type": "code",
      "execution_count": null,
      "metadata": {
        "colab": {
          "background_save": true
        },
        "id": "QIkODwuGyHrB",
        "outputId": "090e3b7f-1a02-4b7b-d764-04e50e934a32"
      },
      "outputs": [
        {
          "name": "stdout",
          "output_type": "stream",
          "text": [
            "Uninformative features:\n",
            "sensor_05    0.0\n",
            "Name: MI Scores, dtype: float64\n"
          ]
        }
      ],
      "source": [
        "from sklearn.feature_selection import mutual_info_classif\n",
        "\n",
        "def make_mi_scores(X, y):\n",
        "    X = X.copy()\n",
        "    for colname in X.select_dtypes([\"object\",\"category\"]):\n",
        "        X[colname], _ = X[colname].factorize()\n",
        "    # All discrete features should now have integer dtypes\n",
        "    #discrete_features = [pd.api.types.is_integer_dtype(t) for t in X.dtypes]\n",
        "    mi_scores = mutual_info_classif(X, y, random_state=0)\n",
        "    mi_scores = pd.Series(mi_scores, name=\"MI Scores\", index=X.columns)\n",
        "    mi_scores = mi_scores.sort_values(ascending=False)\n",
        "    return mi_scores\n",
        "\n",
        "def uninformative_cols(df, mi_scores):\n",
        "    return df.loc[:, mi_scores == 0.0].columns\n",
        "    \n",
        "y = df_data[df_data.state.isnull() == False]['state']\n",
        "x = df_data[df_data.state.isnull() == False].drop(['state','sequence','subject'],axis=1)\n",
        "\n",
        "mi_scores = make_mi_scores(x, y)\n",
        "#col = uninformative_cols(x, mi_scores)\n",
        "#x = x.drop(col,axis=1)\n",
        "print('Uninformative features:\\n{}'.format(mi_scores[mi_scores == 0.0]))\n",
        "mi_scores = pd.DataFrame(mi_scores).reset_index().rename(columns={'index':'Feature'})"
      ]
    },
    {
      "cell_type": "markdown",
      "metadata": {
        "id": "ZTFXfCyJyXUp"
      },
      "source": [
        "Далее мы собираемся отобразить результаты, полученные ранее, чтобы определить, какие функции являются наиболее информативными, а какие требуют дополнительного анализа. Вы можете видеть, что у нас есть ряд функций, которые очень информативны, а также некоторые, которые вообще не кажутся информативными (по крайней мере, сами по себе). Функции с наивысшим рейтингом обычно приносят наибольшую отдачу во время разработки функций, поэтому было бы неплохо сосредоточить свои усилия на них. С другой стороны, обучение неинформативным функциям может привести к переобучению."
      ]
    },
    {
      "cell_type": "code",
      "execution_count": null,
      "metadata": {
        "colab": {
          "background_save": true
        },
        "id": "5fiu6JZIyYVq",
        "outputId": "e0299888-08f8-4747-dc93-74b8e96c0681"
      },
      "outputs": [
        {
          "data": {
            "text/html": [
              "<html>\n",
              "<head><meta charset=\"utf-8\" /></head>\n",
              "<body>\n",
              "    <div>            <script src=\"https://cdnjs.cloudflare.com/ajax/libs/mathjax/2.7.5/MathJax.js?config=TeX-AMS-MML_SVG\"></script><script type=\"text/javascript\">if (window.MathJax) {MathJax.Hub.Config({SVG: {font: \"STIX-Web\"}});}</script>                <script type=\"text/javascript\">window.PlotlyConfig = {MathJaxConfig: 'local'};</script>\n",
              "        <script src=\"https://cdn.plot.ly/plotly-2.8.3.min.js\"></script>                <div id=\"b234cd4a-af7e-4df9-a256-059af1ef5742\" class=\"plotly-graph-div\" style=\"height:750px; width:100%;\"></div>            <script type=\"text/javascript\">                                    window.PLOTLYENV=window.PLOTLYENV || {};                                    if (document.getElementById(\"b234cd4a-af7e-4df9-a256-059af1ef5742\")) {                    Plotly.newPlot(                        \"b234cd4a-af7e-4df9-a256-059af1ef5742\",                        [{\"alignmentgroup\":\"True\",\"hovertemplate\":\"MI Scores=%{marker.color}<br>Feature=%{y}<extra></extra>\",\"legendgroup\":\"\",\"marker\":{\"color\":[0.016400862516386727,0.006638334600648221,0.0035583374728309636,0.0027489908022158005,0.0027020937018826796,0.002499693231580613,0.0021394916098746997,0.002016899408420203,0.0016443509159207448,0.001619786714899929,0.0014172819062361341,0.0012804151708178946,0.0007673839933513005,0.0],\"coloraxis\":\"coloraxis\",\"pattern\":{\"shape\":\"\"}},\"name\":\"\",\"offsetgroup\":\"\",\"orientation\":\"h\",\"showlegend\":false,\"textposition\":\"auto\",\"x\":[0.016400862516386727,0.006638334600648221,0.0035583374728309636,0.0027489908022158005,0.0027020937018826796,0.002499693231580613,0.0021394916098746997,0.002016899408420203,0.0016443509159207448,0.001619786714899929,0.0014172819062361341,0.0012804151708178946,0.0007673839933513005,0.0],\"xaxis\":\"x\",\"y\":[\"sensor_02\",\"sensor_12\",\"sensor_08\",\"sensor_11\",\"sensor_04\",\"step\",\"sensor_07\",\"sensor_10\",\"sensor_01\",\"sensor_03\",\"sensor_06\",\"sensor_00\",\"sensor_09\",\"sensor_05\"],\"yaxis\":\"y\",\"type\":\"bar\"}],                        {\"template\":{\"data\":{\"bar\":[{\"error_x\":{\"color\":\"#2a3f5f\"},\"error_y\":{\"color\":\"#2a3f5f\"},\"marker\":{\"line\":{\"color\":\"#E5ECF6\",\"width\":0.5},\"pattern\":{\"fillmode\":\"overlay\",\"size\":10,\"solidity\":0.2}},\"type\":\"bar\"}],\"barpolar\":[{\"marker\":{\"line\":{\"color\":\"#E5ECF6\",\"width\":0.5},\"pattern\":{\"fillmode\":\"overlay\",\"size\":10,\"solidity\":0.2}},\"type\":\"barpolar\"}],\"carpet\":[{\"aaxis\":{\"endlinecolor\":\"#2a3f5f\",\"gridcolor\":\"white\",\"linecolor\":\"white\",\"minorgridcolor\":\"white\",\"startlinecolor\":\"#2a3f5f\"},\"baxis\":{\"endlinecolor\":\"#2a3f5f\",\"gridcolor\":\"white\",\"linecolor\":\"white\",\"minorgridcolor\":\"white\",\"startlinecolor\":\"#2a3f5f\"},\"type\":\"carpet\"}],\"choropleth\":[{\"colorbar\":{\"outlinewidth\":0,\"ticks\":\"\"},\"type\":\"choropleth\"}],\"contour\":[{\"colorbar\":{\"outlinewidth\":0,\"ticks\":\"\"},\"colorscale\":[[0.0,\"#0d0887\"],[0.1111111111111111,\"#46039f\"],[0.2222222222222222,\"#7201a8\"],[0.3333333333333333,\"#9c179e\"],[0.4444444444444444,\"#bd3786\"],[0.5555555555555556,\"#d8576b\"],[0.6666666666666666,\"#ed7953\"],[0.7777777777777778,\"#fb9f3a\"],[0.8888888888888888,\"#fdca26\"],[1.0,\"#f0f921\"]],\"type\":\"contour\"}],\"contourcarpet\":[{\"colorbar\":{\"outlinewidth\":0,\"ticks\":\"\"},\"type\":\"contourcarpet\"}],\"heatmap\":[{\"colorbar\":{\"outlinewidth\":0,\"ticks\":\"\"},\"colorscale\":[[0.0,\"#0d0887\"],[0.1111111111111111,\"#46039f\"],[0.2222222222222222,\"#7201a8\"],[0.3333333333333333,\"#9c179e\"],[0.4444444444444444,\"#bd3786\"],[0.5555555555555556,\"#d8576b\"],[0.6666666666666666,\"#ed7953\"],[0.7777777777777778,\"#fb9f3a\"],[0.8888888888888888,\"#fdca26\"],[1.0,\"#f0f921\"]],\"type\":\"heatmap\"}],\"heatmapgl\":[{\"colorbar\":{\"outlinewidth\":0,\"ticks\":\"\"},\"colorscale\":[[0.0,\"#0d0887\"],[0.1111111111111111,\"#46039f\"],[0.2222222222222222,\"#7201a8\"],[0.3333333333333333,\"#9c179e\"],[0.4444444444444444,\"#bd3786\"],[0.5555555555555556,\"#d8576b\"],[0.6666666666666666,\"#ed7953\"],[0.7777777777777778,\"#fb9f3a\"],[0.8888888888888888,\"#fdca26\"],[1.0,\"#f0f921\"]],\"type\":\"heatmapgl\"}],\"histogram\":[{\"marker\":{\"pattern\":{\"fillmode\":\"overlay\",\"size\":10,\"solidity\":0.2}},\"type\":\"histogram\"}],\"histogram2d\":[{\"colorbar\":{\"outlinewidth\":0,\"ticks\":\"\"},\"colorscale\":[[0.0,\"#0d0887\"],[0.1111111111111111,\"#46039f\"],[0.2222222222222222,\"#7201a8\"],[0.3333333333333333,\"#9c179e\"],[0.4444444444444444,\"#bd3786\"],[0.5555555555555556,\"#d8576b\"],[0.6666666666666666,\"#ed7953\"],[0.7777777777777778,\"#fb9f3a\"],[0.8888888888888888,\"#fdca26\"],[1.0,\"#f0f921\"]],\"type\":\"histogram2d\"}],\"histogram2dcontour\":[{\"colorbar\":{\"outlinewidth\":0,\"ticks\":\"\"},\"colorscale\":[[0.0,\"#0d0887\"],[0.1111111111111111,\"#46039f\"],[0.2222222222222222,\"#7201a8\"],[0.3333333333333333,\"#9c179e\"],[0.4444444444444444,\"#bd3786\"],[0.5555555555555556,\"#d8576b\"],[0.6666666666666666,\"#ed7953\"],[0.7777777777777778,\"#fb9f3a\"],[0.8888888888888888,\"#fdca26\"],[1.0,\"#f0f921\"]],\"type\":\"histogram2dcontour\"}],\"mesh3d\":[{\"colorbar\":{\"outlinewidth\":0,\"ticks\":\"\"},\"type\":\"mesh3d\"}],\"parcoords\":[{\"line\":{\"colorbar\":{\"outlinewidth\":0,\"ticks\":\"\"}},\"type\":\"parcoords\"}],\"pie\":[{\"automargin\":true,\"type\":\"pie\"}],\"scatter\":[{\"marker\":{\"colorbar\":{\"outlinewidth\":0,\"ticks\":\"\"}},\"type\":\"scatter\"}],\"scatter3d\":[{\"line\":{\"colorbar\":{\"outlinewidth\":0,\"ticks\":\"\"}},\"marker\":{\"colorbar\":{\"outlinewidth\":0,\"ticks\":\"\"}},\"type\":\"scatter3d\"}],\"scattercarpet\":[{\"marker\":{\"colorbar\":{\"outlinewidth\":0,\"ticks\":\"\"}},\"type\":\"scattercarpet\"}],\"scattergeo\":[{\"marker\":{\"colorbar\":{\"outlinewidth\":0,\"ticks\":\"\"}},\"type\":\"scattergeo\"}],\"scattergl\":[{\"marker\":{\"colorbar\":{\"outlinewidth\":0,\"ticks\":\"\"}},\"type\":\"scattergl\"}],\"scattermapbox\":[{\"marker\":{\"colorbar\":{\"outlinewidth\":0,\"ticks\":\"\"}},\"type\":\"scattermapbox\"}],\"scatterpolar\":[{\"marker\":{\"colorbar\":{\"outlinewidth\":0,\"ticks\":\"\"}},\"type\":\"scatterpolar\"}],\"scatterpolargl\":[{\"marker\":{\"colorbar\":{\"outlinewidth\":0,\"ticks\":\"\"}},\"type\":\"scatterpolargl\"}],\"scatterternary\":[{\"marker\":{\"colorbar\":{\"outlinewidth\":0,\"ticks\":\"\"}},\"type\":\"scatterternary\"}],\"surface\":[{\"colorbar\":{\"outlinewidth\":0,\"ticks\":\"\"},\"colorscale\":[[0.0,\"#0d0887\"],[0.1111111111111111,\"#46039f\"],[0.2222222222222222,\"#7201a8\"],[0.3333333333333333,\"#9c179e\"],[0.4444444444444444,\"#bd3786\"],[0.5555555555555556,\"#d8576b\"],[0.6666666666666666,\"#ed7953\"],[0.7777777777777778,\"#fb9f3a\"],[0.8888888888888888,\"#fdca26\"],[1.0,\"#f0f921\"]],\"type\":\"surface\"}],\"table\":[{\"cells\":{\"fill\":{\"color\":\"#EBF0F8\"},\"line\":{\"color\":\"white\"}},\"header\":{\"fill\":{\"color\":\"#C8D4E3\"},\"line\":{\"color\":\"white\"}},\"type\":\"table\"}]},\"layout\":{\"annotationdefaults\":{\"arrowcolor\":\"#2a3f5f\",\"arrowhead\":0,\"arrowwidth\":1},\"autotypenumbers\":\"strict\",\"coloraxis\":{\"colorbar\":{\"outlinewidth\":0,\"ticks\":\"\"}},\"colorscale\":{\"diverging\":[[0,\"#8e0152\"],[0.1,\"#c51b7d\"],[0.2,\"#de77ae\"],[0.3,\"#f1b6da\"],[0.4,\"#fde0ef\"],[0.5,\"#f7f7f7\"],[0.6,\"#e6f5d0\"],[0.7,\"#b8e186\"],[0.8,\"#7fbc41\"],[0.9,\"#4d9221\"],[1,\"#276419\"]],\"sequential\":[[0.0,\"#0d0887\"],[0.1111111111111111,\"#46039f\"],[0.2222222222222222,\"#7201a8\"],[0.3333333333333333,\"#9c179e\"],[0.4444444444444444,\"#bd3786\"],[0.5555555555555556,\"#d8576b\"],[0.6666666666666666,\"#ed7953\"],[0.7777777777777778,\"#fb9f3a\"],[0.8888888888888888,\"#fdca26\"],[1.0,\"#f0f921\"]],\"sequentialminus\":[[0.0,\"#0d0887\"],[0.1111111111111111,\"#46039f\"],[0.2222222222222222,\"#7201a8\"],[0.3333333333333333,\"#9c179e\"],[0.4444444444444444,\"#bd3786\"],[0.5555555555555556,\"#d8576b\"],[0.6666666666666666,\"#ed7953\"],[0.7777777777777778,\"#fb9f3a\"],[0.8888888888888888,\"#fdca26\"],[1.0,\"#f0f921\"]]},\"colorway\":[\"#636efa\",\"#EF553B\",\"#00cc96\",\"#ab63fa\",\"#FFA15A\",\"#19d3f3\",\"#FF6692\",\"#B6E880\",\"#FF97FF\",\"#FECB52\"],\"font\":{\"color\":\"#2a3f5f\"},\"geo\":{\"bgcolor\":\"white\",\"lakecolor\":\"white\",\"landcolor\":\"#E5ECF6\",\"showlakes\":true,\"showland\":true,\"subunitcolor\":\"white\"},\"hoverlabel\":{\"align\":\"left\"},\"hovermode\":\"closest\",\"mapbox\":{\"style\":\"light\"},\"paper_bgcolor\":\"white\",\"plot_bgcolor\":\"#E5ECF6\",\"polar\":{\"angularaxis\":{\"gridcolor\":\"white\",\"linecolor\":\"white\",\"ticks\":\"\"},\"bgcolor\":\"#E5ECF6\",\"radialaxis\":{\"gridcolor\":\"white\",\"linecolor\":\"white\",\"ticks\":\"\"}},\"scene\":{\"xaxis\":{\"backgroundcolor\":\"#E5ECF6\",\"gridcolor\":\"white\",\"gridwidth\":2,\"linecolor\":\"white\",\"showbackground\":true,\"ticks\":\"\",\"zerolinecolor\":\"white\"},\"yaxis\":{\"backgroundcolor\":\"#E5ECF6\",\"gridcolor\":\"white\",\"gridwidth\":2,\"linecolor\":\"white\",\"showbackground\":true,\"ticks\":\"\",\"zerolinecolor\":\"white\"},\"zaxis\":{\"backgroundcolor\":\"#E5ECF6\",\"gridcolor\":\"white\",\"gridwidth\":2,\"linecolor\":\"white\",\"showbackground\":true,\"ticks\":\"\",\"zerolinecolor\":\"white\"}},\"shapedefaults\":{\"line\":{\"color\":\"#2a3f5f\"}},\"ternary\":{\"aaxis\":{\"gridcolor\":\"white\",\"linecolor\":\"white\",\"ticks\":\"\"},\"baxis\":{\"gridcolor\":\"white\",\"linecolor\":\"white\",\"ticks\":\"\"},\"bgcolor\":\"#E5ECF6\",\"caxis\":{\"gridcolor\":\"white\",\"linecolor\":\"white\",\"ticks\":\"\"}},\"title\":{\"x\":0.05},\"xaxis\":{\"automargin\":true,\"gridcolor\":\"white\",\"linecolor\":\"white\",\"ticks\":\"\",\"title\":{\"standoff\":15},\"zerolinecolor\":\"white\",\"zerolinewidth\":2},\"yaxis\":{\"automargin\":true,\"gridcolor\":\"white\",\"linecolor\":\"white\",\"ticks\":\"\",\"title\":{\"standoff\":15},\"zerolinecolor\":\"white\",\"zerolinewidth\":2}}},\"xaxis\":{\"anchor\":\"y\",\"domain\":[0.0,1.0],\"title\":{\"text\":\"MI Scores\"},\"showgrid\":false,\"showline\":true,\"gridwidth\":0.05,\"linecolor\":\"gray\",\"zeroline\":false,\"linewidth\":2,\"categoryorder\":\"category ascending\"},\"yaxis\":{\"anchor\":\"x\",\"domain\":[0.0,1.0],\"title\":{\"text\":\"Feature\"},\"showline\":true,\"gridwidth\":0.05,\"linecolor\":\"gray\",\"linewidth\":2,\"zeroline\":false},\"coloraxis\":{\"colorbar\":{\"title\":{\"text\":\"MI Scores\"}},\"colorscale\":[[0.0,\"rgb(210, 251, 212)\"],[0.16666666666666666,\"rgb(165, 219, 194)\"],[0.3333333333333333,\"rgb(123, 188, 176)\"],[0.5,\"rgb(85, 156, 158)\"],[0.6666666666666666,\"rgb(58, 124, 137)\"],[0.8333333333333334,\"rgb(35, 93, 114)\"],[1.0,\"rgb(18, 63, 90)\"]]},\"legend\":{\"tracegroupgap\":0},\"margin\":{\"t\":80},\"barmode\":\"relative\",\"title\":{\"font\":{\"size\":29,\"family\":\"Lato, sans-serif\"},\"text\":\"Mutual Information Scores\"},\"height\":750,\"plot_bgcolor\":\"rgb(242, 242, 242)\",\"paper_bgcolor\":\"rgb(242, 242, 242)\"},                        {\"responsive\": true}                    ).then(function(){\n",
              "                            \n",
              "var gd = document.getElementById('b234cd4a-af7e-4df9-a256-059af1ef5742');\n",
              "var x = new MutationObserver(function (mutations, observer) {{\n",
              "        var display = window.getComputedStyle(gd).display;\n",
              "        if (!display || display === 'none') {{\n",
              "            console.log([gd, 'removed!']);\n",
              "            Plotly.purge(gd);\n",
              "            observer.disconnect();\n",
              "        }}\n",
              "}});\n",
              "\n",
              "// Listen for the removal of the full notebook cells\n",
              "var notebookContainer = gd.closest('#notebook-container');\n",
              "if (notebookContainer) {{\n",
              "    x.observe(notebookContainer, {childList: true});\n",
              "}}\n",
              "\n",
              "// Listen for the clearing of the current output cell\n",
              "var outputEl = gd.closest('.output');\n",
              "if (outputEl) {{\n",
              "    x.observe(outputEl, {childList: true});\n",
              "}}\n",
              "\n",
              "                        })                };                            </script>        </div>\n",
              "</body>\n",
              "</html>"
            ]
          },
          "metadata": {},
          "output_type": "display_data"
        }
      ],
      "source": [
        "fig = px.bar(mi_scores, x='MI Scores', y='Feature', color=\"MI Scores\", color_continuous_scale='darkmint')\n",
        "\n",
        "fig.update_xaxes(showgrid = False, showline = True, gridwidth = 0.05, linecolor = 'gray', zeroline = False, linewidth = 2)\n",
        "fig.update_yaxes(showline = True, gridwidth = 0.05, linecolor = 'gray', linewidth = 2, zeroline = False)\n",
        "\n",
        "fig.update_layout(height = 750, title_text=\"Mutual Information Scores\", plot_bgcolor='rgb(242, 242, 242)', paper_bgcolor = 'rgb(242, 242, 242)',\n",
        "                  title_font=dict(size=29, family=\"Lato, sans-serif\"), xaxis={'categoryorder':'category ascending'}, margin=dict(t=80))"
      ]
    },
    {
      "cell_type": "markdown",
      "metadata": {
        "id": "8iufpyvZydB5"
      },
      "source": [
        "📌 Интерпретация: мы можем оценить, что каждая функция датчика имеет очень низкое значение взаимной информации. Это означает, что они не кажутся такими информативными, по крайней мере, сами по себе. Поэтому в следующих разделах мы сосредоточимся на создании функций, связанных с этими датчиками, чтобы получить функции с лучшими показателями MI.\n",
        "\n",
        "3.2 | Функции статистики\n",
        "\n",
        "В этом разделе мы создадим некоторые новые функции, связанные с сенсорными. Мы собираемся начать с некоторых статистических характеристик. Процедура будет группироваться по каждой отдельной последовательности, а затем добавляться функции для: максимального, минимального, среднего, медианного, std и эксцесса. Далее мы проведем исчерпывающий анализ, чтобы изучить, какие статистические функции работают лучше."
      ]
    },
    {
      "cell_type": "code",
      "execution_count": null,
      "metadata": {
        "colab": {
          "background_save": true
        },
        "id": "OZsq7oxZyn9x",
        "outputId": "fcc8d89e-9824-4df6-e836-d0299506d694"
      },
      "outputs": [
        {
          "ename": "KeyboardInterrupt",
          "evalue": "ignored",
          "output_type": "error",
          "traceback": [
            "\u001b[0;31m---------------------------------------------------------------------------\u001b[0m",
            "\u001b[0;31mKeyboardInterrupt\u001b[0m                         Traceback (most recent call last)",
            "\u001b[0;32m<ipython-input-22-2acfa1f0db52>\u001b[0m in \u001b[0;36m<module>\u001b[0;34m()\u001b[0m\n\u001b[1;32m     16\u001b[0m     \u001b[0msensor_name\u001b[0m \u001b[0;34m=\u001b[0m \u001b[0;34mf\"sensor_{sensor:02d}\"\u001b[0m\u001b[0;34m\u001b[0m\u001b[0;34m\u001b[0m\u001b[0m\n\u001b[1;32m     17\u001b[0m     \u001b[0;32mfor\u001b[0m \u001b[0mi\u001b[0m \u001b[0;32min\u001b[0m \u001b[0msequence\u001b[0m\u001b[0;34m:\u001b[0m\u001b[0;34m\u001b[0m\u001b[0;34m\u001b[0m\u001b[0m\n\u001b[0;32m---> 18\u001b[0;31m         \u001b[0mkurt\u001b[0m \u001b[0;34m=\u001b[0m \u001b[0mscipy\u001b[0m\u001b[0;34m.\u001b[0m\u001b[0mstats\u001b[0m\u001b[0;34m.\u001b[0m\u001b[0mkurtosis\u001b[0m\u001b[0;34m(\u001b[0m\u001b[0mdf_data\u001b[0m\u001b[0;34m[\u001b[0m\u001b[0mdf_data\u001b[0m\u001b[0;34m.\u001b[0m\u001b[0msequence\u001b[0m \u001b[0;34m==\u001b[0m \u001b[0mi\u001b[0m\u001b[0;34m]\u001b[0m\u001b[0;34m[\u001b[0m\u001b[0msensor_name\u001b[0m\u001b[0;34m]\u001b[0m\u001b[0;34m)\u001b[0m\u001b[0;34m\u001b[0m\u001b[0;34m\u001b[0m\u001b[0m\n\u001b[0m\u001b[1;32m     19\u001b[0m         \u001b[0;32mfor\u001b[0m \u001b[0mj\u001b[0m \u001b[0;32min\u001b[0m \u001b[0mlength\u001b[0m\u001b[0;34m:\u001b[0m\u001b[0;34m\u001b[0m\u001b[0;34m\u001b[0m\u001b[0m\n\u001b[1;32m     20\u001b[0m             \u001b[0mkurtosis\u001b[0m\u001b[0;34m.\u001b[0m\u001b[0mappend\u001b[0m\u001b[0;34m(\u001b[0m\u001b[0mkurt\u001b[0m\u001b[0;34m)\u001b[0m\u001b[0;34m\u001b[0m\u001b[0;34m\u001b[0m\u001b[0m\n",
            "\u001b[0;32m/usr/local/lib/python3.7/dist-packages/pandas/core/ops/common.py\u001b[0m in \u001b[0;36mnew_method\u001b[0;34m(self, other)\u001b[0m\n\u001b[1;32m     67\u001b[0m         \u001b[0mother\u001b[0m \u001b[0;34m=\u001b[0m \u001b[0mitem_from_zerodim\u001b[0m\u001b[0;34m(\u001b[0m\u001b[0mother\u001b[0m\u001b[0;34m)\u001b[0m\u001b[0;34m\u001b[0m\u001b[0;34m\u001b[0m\u001b[0m\n\u001b[1;32m     68\u001b[0m \u001b[0;34m\u001b[0m\u001b[0m\n\u001b[0;32m---> 69\u001b[0;31m         \u001b[0;32mreturn\u001b[0m \u001b[0mmethod\u001b[0m\u001b[0;34m(\u001b[0m\u001b[0mself\u001b[0m\u001b[0;34m,\u001b[0m \u001b[0mother\u001b[0m\u001b[0;34m)\u001b[0m\u001b[0;34m\u001b[0m\u001b[0;34m\u001b[0m\u001b[0m\n\u001b[0m\u001b[1;32m     70\u001b[0m \u001b[0;34m\u001b[0m\u001b[0m\n\u001b[1;32m     71\u001b[0m     \u001b[0;32mreturn\u001b[0m \u001b[0mnew_method\u001b[0m\u001b[0;34m\u001b[0m\u001b[0;34m\u001b[0m\u001b[0m\n",
            "\u001b[0;32m/usr/local/lib/python3.7/dist-packages/pandas/core/arraylike.py\u001b[0m in \u001b[0;36m__eq__\u001b[0;34m(self, other)\u001b[0m\n\u001b[1;32m     30\u001b[0m     \u001b[0;34m@\u001b[0m\u001b[0munpack_zerodim_and_defer\u001b[0m\u001b[0;34m(\u001b[0m\u001b[0;34m\"__eq__\"\u001b[0m\u001b[0;34m)\u001b[0m\u001b[0;34m\u001b[0m\u001b[0;34m\u001b[0m\u001b[0m\n\u001b[1;32m     31\u001b[0m     \u001b[0;32mdef\u001b[0m \u001b[0m__eq__\u001b[0m\u001b[0;34m(\u001b[0m\u001b[0mself\u001b[0m\u001b[0;34m,\u001b[0m \u001b[0mother\u001b[0m\u001b[0;34m)\u001b[0m\u001b[0;34m:\u001b[0m\u001b[0;34m\u001b[0m\u001b[0;34m\u001b[0m\u001b[0m\n\u001b[0;32m---> 32\u001b[0;31m         \u001b[0;32mreturn\u001b[0m \u001b[0mself\u001b[0m\u001b[0;34m.\u001b[0m\u001b[0m_cmp_method\u001b[0m\u001b[0;34m(\u001b[0m\u001b[0mother\u001b[0m\u001b[0;34m,\u001b[0m \u001b[0moperator\u001b[0m\u001b[0;34m.\u001b[0m\u001b[0meq\u001b[0m\u001b[0;34m)\u001b[0m\u001b[0;34m\u001b[0m\u001b[0;34m\u001b[0m\u001b[0m\n\u001b[0m\u001b[1;32m     33\u001b[0m \u001b[0;34m\u001b[0m\u001b[0m\n\u001b[1;32m     34\u001b[0m     \u001b[0;34m@\u001b[0m\u001b[0munpack_zerodim_and_defer\u001b[0m\u001b[0;34m(\u001b[0m\u001b[0;34m\"__ne__\"\u001b[0m\u001b[0;34m)\u001b[0m\u001b[0;34m\u001b[0m\u001b[0;34m\u001b[0m\u001b[0m\n",
            "\u001b[0;32m/usr/local/lib/python3.7/dist-packages/pandas/core/series.py\u001b[0m in \u001b[0;36m_cmp_method\u001b[0;34m(self, other, op)\u001b[0m\n\u001b[1;32m   5500\u001b[0m \u001b[0;34m\u001b[0m\u001b[0m\n\u001b[1;32m   5501\u001b[0m         \u001b[0;32mwith\u001b[0m \u001b[0mnp\u001b[0m\u001b[0;34m.\u001b[0m\u001b[0merrstate\u001b[0m\u001b[0;34m(\u001b[0m\u001b[0mall\u001b[0m\u001b[0;34m=\u001b[0m\u001b[0;34m\"ignore\"\u001b[0m\u001b[0;34m)\u001b[0m\u001b[0;34m:\u001b[0m\u001b[0;34m\u001b[0m\u001b[0;34m\u001b[0m\u001b[0m\n\u001b[0;32m-> 5502\u001b[0;31m             \u001b[0mres_values\u001b[0m \u001b[0;34m=\u001b[0m \u001b[0mops\u001b[0m\u001b[0;34m.\u001b[0m\u001b[0mcomparison_op\u001b[0m\u001b[0;34m(\u001b[0m\u001b[0mlvalues\u001b[0m\u001b[0;34m,\u001b[0m \u001b[0mrvalues\u001b[0m\u001b[0;34m,\u001b[0m \u001b[0mop\u001b[0m\u001b[0;34m)\u001b[0m\u001b[0;34m\u001b[0m\u001b[0;34m\u001b[0m\u001b[0m\n\u001b[0m\u001b[1;32m   5503\u001b[0m \u001b[0;34m\u001b[0m\u001b[0m\n\u001b[1;32m   5504\u001b[0m         \u001b[0;32mreturn\u001b[0m \u001b[0mself\u001b[0m\u001b[0;34m.\u001b[0m\u001b[0m_construct_result\u001b[0m\u001b[0;34m(\u001b[0m\u001b[0mres_values\u001b[0m\u001b[0;34m,\u001b[0m \u001b[0mname\u001b[0m\u001b[0;34m=\u001b[0m\u001b[0mres_name\u001b[0m\u001b[0;34m)\u001b[0m\u001b[0;34m\u001b[0m\u001b[0;34m\u001b[0m\u001b[0m\n",
            "\u001b[0;32m/usr/local/lib/python3.7/dist-packages/pandas/core/ops/array_ops.py\u001b[0m in \u001b[0;36mcomparison_op\u001b[0;34m(left, right, op)\u001b[0m\n\u001b[1;32m    285\u001b[0m \u001b[0;34m\u001b[0m\u001b[0m\n\u001b[1;32m    286\u001b[0m     \u001b[0;32melse\u001b[0m\u001b[0;34m:\u001b[0m\u001b[0;34m\u001b[0m\u001b[0;34m\u001b[0m\u001b[0m\n\u001b[0;32m--> 287\u001b[0;31m         \u001b[0mres_values\u001b[0m \u001b[0;34m=\u001b[0m \u001b[0m_na_arithmetic_op\u001b[0m\u001b[0;34m(\u001b[0m\u001b[0mlvalues\u001b[0m\u001b[0;34m,\u001b[0m \u001b[0mrvalues\u001b[0m\u001b[0;34m,\u001b[0m \u001b[0mop\u001b[0m\u001b[0;34m,\u001b[0m \u001b[0mis_cmp\u001b[0m\u001b[0;34m=\u001b[0m\u001b[0;32mTrue\u001b[0m\u001b[0;34m)\u001b[0m\u001b[0;34m\u001b[0m\u001b[0;34m\u001b[0m\u001b[0m\n\u001b[0m\u001b[1;32m    288\u001b[0m \u001b[0;34m\u001b[0m\u001b[0m\n\u001b[1;32m    289\u001b[0m     \u001b[0;32mreturn\u001b[0m \u001b[0mres_values\u001b[0m\u001b[0;34m\u001b[0m\u001b[0;34m\u001b[0m\u001b[0m\n",
            "\u001b[0;32m/usr/local/lib/python3.7/dist-packages/pandas/core/ops/array_ops.py\u001b[0m in \u001b[0;36m_na_arithmetic_op\u001b[0;34m(left, right, op, is_cmp)\u001b[0m\n\u001b[1;32m    164\u001b[0m \u001b[0;34m\u001b[0m\u001b[0m\n\u001b[1;32m    165\u001b[0m     \u001b[0;32mtry\u001b[0m\u001b[0;34m:\u001b[0m\u001b[0;34m\u001b[0m\u001b[0;34m\u001b[0m\u001b[0m\n\u001b[0;32m--> 166\u001b[0;31m         \u001b[0mresult\u001b[0m \u001b[0;34m=\u001b[0m \u001b[0mfunc\u001b[0m\u001b[0;34m(\u001b[0m\u001b[0mleft\u001b[0m\u001b[0;34m,\u001b[0m \u001b[0mright\u001b[0m\u001b[0;34m)\u001b[0m\u001b[0;34m\u001b[0m\u001b[0;34m\u001b[0m\u001b[0m\n\u001b[0m\u001b[1;32m    167\u001b[0m     \u001b[0;32mexcept\u001b[0m \u001b[0mTypeError\u001b[0m\u001b[0;34m:\u001b[0m\u001b[0;34m\u001b[0m\u001b[0;34m\u001b[0m\u001b[0m\n\u001b[1;32m    168\u001b[0m         \u001b[0;32mif\u001b[0m \u001b[0mis_object_dtype\u001b[0m\u001b[0;34m(\u001b[0m\u001b[0mleft\u001b[0m\u001b[0;34m)\u001b[0m \u001b[0;32mor\u001b[0m \u001b[0mis_object_dtype\u001b[0m\u001b[0;34m(\u001b[0m\u001b[0mright\u001b[0m\u001b[0;34m)\u001b[0m \u001b[0;32mand\u001b[0m \u001b[0;32mnot\u001b[0m \u001b[0mis_cmp\u001b[0m\u001b[0;34m:\u001b[0m\u001b[0;34m\u001b[0m\u001b[0;34m\u001b[0m\u001b[0m\n",
            "\u001b[0;32m/usr/local/lib/python3.7/dist-packages/pandas/core/computation/expressions.py\u001b[0m in \u001b[0;36mevaluate\u001b[0;34m(op, a, b, use_numexpr)\u001b[0m\n\u001b[1;32m    237\u001b[0m         \u001b[0;32mif\u001b[0m \u001b[0muse_numexpr\u001b[0m\u001b[0;34m:\u001b[0m\u001b[0;34m\u001b[0m\u001b[0;34m\u001b[0m\u001b[0m\n\u001b[1;32m    238\u001b[0m             \u001b[0;31m# error: \"None\" not callable\u001b[0m\u001b[0;34m\u001b[0m\u001b[0;34m\u001b[0m\u001b[0;34m\u001b[0m\u001b[0m\n\u001b[0;32m--> 239\u001b[0;31m             \u001b[0;32mreturn\u001b[0m \u001b[0m_evaluate\u001b[0m\u001b[0;34m(\u001b[0m\u001b[0mop\u001b[0m\u001b[0;34m,\u001b[0m \u001b[0mop_str\u001b[0m\u001b[0;34m,\u001b[0m \u001b[0ma\u001b[0m\u001b[0;34m,\u001b[0m \u001b[0mb\u001b[0m\u001b[0;34m)\u001b[0m  \u001b[0;31m# type: ignore[misc]\u001b[0m\u001b[0;34m\u001b[0m\u001b[0;34m\u001b[0m\u001b[0m\n\u001b[0m\u001b[1;32m    240\u001b[0m     \u001b[0;32mreturn\u001b[0m \u001b[0m_evaluate_standard\u001b[0m\u001b[0;34m(\u001b[0m\u001b[0mop\u001b[0m\u001b[0;34m,\u001b[0m \u001b[0mop_str\u001b[0m\u001b[0;34m,\u001b[0m \u001b[0ma\u001b[0m\u001b[0;34m,\u001b[0m \u001b[0mb\u001b[0m\u001b[0;34m)\u001b[0m\u001b[0;34m\u001b[0m\u001b[0;34m\u001b[0m\u001b[0m\n\u001b[1;32m    241\u001b[0m \u001b[0;34m\u001b[0m\u001b[0m\n",
            "\u001b[0;32m/usr/local/lib/python3.7/dist-packages/pandas/core/computation/expressions.py\u001b[0m in \u001b[0;36m_evaluate_numexpr\u001b[0;34m(op, op_str, a, b)\u001b[0m\n\u001b[1;32m    106\u001b[0m                 \u001b[0;34mf\"a_value {op_str} b_value\"\u001b[0m\u001b[0;34m,\u001b[0m\u001b[0;34m\u001b[0m\u001b[0;34m\u001b[0m\u001b[0m\n\u001b[1;32m    107\u001b[0m                 \u001b[0mlocal_dict\u001b[0m\u001b[0;34m=\u001b[0m\u001b[0;34m{\u001b[0m\u001b[0;34m\"a_value\"\u001b[0m\u001b[0;34m:\u001b[0m \u001b[0ma_value\u001b[0m\u001b[0;34m,\u001b[0m \u001b[0;34m\"b_value\"\u001b[0m\u001b[0;34m:\u001b[0m \u001b[0mb_value\u001b[0m\u001b[0;34m}\u001b[0m\u001b[0;34m,\u001b[0m\u001b[0;34m\u001b[0m\u001b[0;34m\u001b[0m\u001b[0m\n\u001b[0;32m--> 108\u001b[0;31m                 \u001b[0mcasting\u001b[0m\u001b[0;34m=\u001b[0m\u001b[0;34m\"safe\"\u001b[0m\u001b[0;34m,\u001b[0m\u001b[0;34m\u001b[0m\u001b[0;34m\u001b[0m\u001b[0m\n\u001b[0m\u001b[1;32m    109\u001b[0m             )\n\u001b[1;32m    110\u001b[0m         \u001b[0;32mexcept\u001b[0m \u001b[0mTypeError\u001b[0m\u001b[0;34m:\u001b[0m\u001b[0;34m\u001b[0m\u001b[0;34m\u001b[0m\u001b[0m\n",
            "\u001b[0;32m/usr/local/lib/python3.7/dist-packages/numexpr/necompiler.py\u001b[0m in \u001b[0;36mevaluate\u001b[0;34m(ex, local_dict, global_dict, out, order, casting, **kwargs)\u001b[0m\n\u001b[1;32m    825\u001b[0m     \u001b[0m_numexpr_last\u001b[0m \u001b[0;34m=\u001b[0m \u001b[0mdict\u001b[0m\u001b[0;34m(\u001b[0m\u001b[0mex\u001b[0m\u001b[0;34m=\u001b[0m\u001b[0mcompiled_ex\u001b[0m\u001b[0;34m,\u001b[0m \u001b[0margnames\u001b[0m\u001b[0;34m=\u001b[0m\u001b[0mnames\u001b[0m\u001b[0;34m,\u001b[0m \u001b[0mkwargs\u001b[0m\u001b[0;34m=\u001b[0m\u001b[0mkwargs\u001b[0m\u001b[0;34m)\u001b[0m\u001b[0;34m\u001b[0m\u001b[0;34m\u001b[0m\u001b[0m\n\u001b[1;32m    826\u001b[0m     \u001b[0;32mwith\u001b[0m \u001b[0mevaluate_lock\u001b[0m\u001b[0;34m:\u001b[0m\u001b[0;34m\u001b[0m\u001b[0;34m\u001b[0m\u001b[0m\n\u001b[0;32m--> 827\u001b[0;31m         \u001b[0;32mreturn\u001b[0m \u001b[0mcompiled_ex\u001b[0m\u001b[0;34m(\u001b[0m\u001b[0;34m*\u001b[0m\u001b[0marguments\u001b[0m\u001b[0;34m,\u001b[0m \u001b[0;34m**\u001b[0m\u001b[0mkwargs\u001b[0m\u001b[0;34m)\u001b[0m\u001b[0;34m\u001b[0m\u001b[0;34m\u001b[0m\u001b[0m\n\u001b[0m\u001b[1;32m    828\u001b[0m \u001b[0;34m\u001b[0m\u001b[0m\n\u001b[1;32m    829\u001b[0m \u001b[0;34m\u001b[0m\u001b[0m\n",
            "\u001b[0;31mKeyboardInterrupt\u001b[0m: "
          ]
        }
      ],
      "source": [
        "import scipy.stats\n",
        "sensors = [col for col in df_data.columns if 'sensor_' in col]\n",
        "for sensor in range(13):\n",
        "    sensor_name = f\"sensor_{sensor:02d}\"    \n",
        "    df_data[f'{sensor_name}''_max'] = df_data.groupby('sequence')[f'{sensor_name}'].transform('max') \n",
        "    df_data[f'{sensor_name}''_min'] = df_data.groupby('sequence')[f'{sensor_name}'].transform('min') \n",
        "    df_data[f'{sensor_name}''_mean'] = df_data.groupby('sequence')[f'{sensor_name}'].transform('mean')  \n",
        "    df_data[f'{sensor_name}''_std'] = df_data.groupby('sequence')[f'{sensor_name}'].transform('std')  \n",
        "    df_data[f'{sensor_name}''_median'] = df_data.groupby('sequence')[f'{sensor_name}'].transform('median')\n",
        "    df_data[f'{sensor_name}''_flip'] = df_data[f'{sensor_name}'] * -1\n",
        "# Kurtosis\n",
        "sequence = df_data.sequence.unique()\n",
        "length = range(60)\n",
        "for sensor in range(13):\n",
        "    kurtosis = []\n",
        "    sensor_name = f\"sensor_{sensor:02d}\"\n",
        "    for i in sequence: \n",
        "        kurt = scipy.stats.kurtosis(df_data[df_data.sequence == i][sensor_name])\n",
        "        for j in length:\n",
        "            kurtosis.append(kurt)\n",
        "    df_data[sensor_name + '_kurtosis'] = kurtosis"
      ]
    },
    {
      "cell_type": "markdown",
      "metadata": {
        "id": "m7N0kMQ9yrsB"
      },
      "source": [
        "3.2.1 | Выбор функции\n",
        "В этом разделе мы проанализируем полезность функций, которые мы только что создали. Мы построим график зависимости цели от каждой функции, то есть диаграмму 푃(푦=1|푥) . Чтобы получить осмысленный график, мы применяем два преобразования:ns:\n",
        "\n",
        "Ось x - это не значение объекта, а его индекс (при сортировке по значению объекта).\n",
        "Ось y - это не целевое значение (которое может быть только 0 или 1), а скользящее среднее значение по 1000 целям.\n",
        "Объекты с горизонтальной линией в виде диаграммы (вероятность положительной цели равна 0,5 независимо от значения объекта) будут считаться плохими, а не полезными. С другой стороны, хорошие характеристики будут иметь кривую с высокой 𝑦𝑚𝑎𝑥−𝑦𝑚𝑖𝑛 .\n",
        "\n",
        "3.2.1.1 | Максимальные характеристики\n",
        "Мы можем заметить, что почти каждый из них представляет \"нормальное\" (недостаточно высокое, чтобы быть выбранным напрямую) значение разницы между максимальным и минимальным значением на их соответствующей диаграмме. Таким образом, они могли бы быть полезны для нас. Мы пока не отказываемся ни от одного из них."
      ]
    },
    {
      "cell_type": "code",
      "execution_count": null,
      "metadata": {
        "colab": {
          "background_save": true
        },
        "id": "RfWaEEGyy1ST"
      },
      "outputs": [],
      "source": [
        "state = []\n",
        "length = range(int(df_data[df_data.state.isnull() == False].shape[0] / 60))\n",
        "df_train = df_data[df_data.state.isnull() == False]\n",
        "for j in length:\n",
        "    state.append(df_train.at[60*j,'state'])\n",
        "\n",
        "max_df = pd.DataFrame({'state':state})\n",
        "max_cols = [col for col in df_data.columns if '_max' in col]\n",
        "for col in max_cols:\n",
        "    values=[]\n",
        "    for i in length:\n",
        "         values.append(df_train.at[60*i,col])\n",
        "    max_df[col] = values\n",
        "            \n",
        "plt.subplots(1, 4, sharey=True, sharex=True, figsize=(20, 25))\n",
        "counter = 1\n",
        "for col in max_df.drop('state',axis=1).columns:\n",
        "    temp = pd.DataFrame({col: max_df[col].values,\n",
        "                        'state': max_df['state']})\n",
        "    \n",
        "    temp = temp.sort_values(col)\n",
        "    temp.reset_index(inplace=True)\n",
        "    plt.subplot(15, 4, counter)\n",
        "    plt.scatter(temp.index, temp.state.rolling(1000).mean(), s=2)\n",
        "    plt.xlabel(col)\n",
        "    plt.xticks([])\n",
        "    counter = counter +1\n",
        "plt.show()"
      ]
    },
    {
      "cell_type": "markdown",
      "metadata": {
        "id": "u3c-Zf4ky6qh"
      },
      "source": [
        "3.2.1.2 | Минимальные характеристики\n",
        "В этом случае мы можем заметить, что есть некоторые функции (например, sensor_06_min), которые представляют собой почти горизонтальную линейную диаграмму. Эти функции, как отмечалось ранее, будут не очень полезны."
      ]
    },
    {
      "cell_type": "code",
      "execution_count": null,
      "metadata": {
        "colab": {
          "background_save": true
        },
        "id": "543o6Qh4zSoC"
      },
      "outputs": [],
      "source": [
        "max_df = pd.DataFrame({'state':state})\n",
        "max_cols = [col for col in df_data.columns if '_min' in col]\n",
        "for col in max_cols:\n",
        "    values=[]\n",
        "    for i in length:\n",
        "         values.append(df_train.at[60*i,col])\n",
        "    max_df[col] = values\n",
        "            \n",
        "plt.subplots(1, 4, sharey=True, sharex=True, figsize=(20, 25))\n",
        "counter = 1\n",
        "for col in max_df.drop('state',axis=1).columns:\n",
        "    temp = pd.DataFrame({col: max_df[col].values,\n",
        "                        'state': max_df['state']})\n",
        "    \n",
        "    temp = temp.sort_values(col)\n",
        "    temp.reset_index(inplace=True)\n",
        "    plt.subplot(15, 4, counter)\n",
        "    plt.scatter(temp.index, temp.state.rolling(1000).mean(), s=2)\n",
        "    plt.xlabel(col)\n",
        "    plt.xticks([])\n",
        "    counter = counter +1\n",
        "plt.show()"
      ]
    },
    {
      "cell_type": "markdown",
      "metadata": {
        "id": "-0gDBNzpzexd"
      },
      "source": [
        "3.2.1.3 | Средние характеристики\n",
        "Теперь, что касается диаграмм средних характеристик, мы можем заметить, что большая их часть представляет собой выпуклые кривые. Но, внимательно присмотревшись, мы можем заметить, что некоторые из них имеют низкое значение разницы между максимальным и минимальным значением. Некоторые из них: sensor_00, sensor_03, sensor_05, sensor_09, sensor_10."
      ]
    },
    {
      "cell_type": "code",
      "execution_count": null,
      "metadata": {
        "colab": {
          "background_save": true
        },
        "id": "sVsbsCgGzfnb"
      },
      "outputs": [],
      "source": [
        "max_df = pd.DataFrame({'state':state})\n",
        "max_cols = [col for col in df_data.columns if '_mean' in col]\n",
        "for col in max_cols:\n",
        "    values=[]\n",
        "    for i in length:\n",
        "         values.append(df_train.at[60*i,col])\n",
        "    max_df[col] = values\n",
        "            \n",
        "plt.subplots(1, 4, sharey=True, sharex=True, figsize=(20, 25))\n",
        "counter = 1\n",
        "for col in max_df.drop('state',axis=1).columns:\n",
        "    temp = pd.DataFrame({col: max_df[col].values,\n",
        "                        'state': max_df['state']})\n",
        "    \n",
        "    temp = temp.sort_values(col)\n",
        "    temp.reset_index(inplace=True)\n",
        "    plt.subplot(15, 4, counter)\n",
        "    plt.scatter(temp.index, temp.state.rolling(1000).mean(), s=2)\n",
        "    plt.xlabel(col)\n",
        "    plt.xticks([])\n",
        "    counter = counter +1\n",
        "plt.show()"
      ]
    },
    {
      "cell_type": "markdown",
      "metadata": {
        "id": "LJv2MkgezjWN"
      },
      "source": [
        "3.2.1.4 | Средние характеристики\n",
        "Медианные функции будут не очень полезны. Это те, у которых наименьшее значение разницы между максимальными и минимальными значениями."
      ]
    },
    {
      "cell_type": "code",
      "execution_count": null,
      "metadata": {
        "colab": {
          "background_save": true
        },
        "id": "eaOWEsGczuF8"
      },
      "outputs": [],
      "source": [
        "max_df = pd.DataFrame({'state':state})\n",
        "max_cols = [col for col in df_data.columns if '_median' in col]\n",
        "for col in max_cols:\n",
        "    values=[]\n",
        "    for i in length:\n",
        "         values.append(df_train.at[60*i,col])\n",
        "    max_df[col] = values\n",
        "            \n",
        "plt.subplots(1, 4, sharey=True, sharex=True, figsize=(20, 25))\n",
        "counter = 1\n",
        "for col in max_df.drop('state',axis=1).columns:\n",
        "    temp = pd.DataFrame({col: max_df[col].values,\n",
        "                        'state': max_df['state']})\n",
        "    \n",
        "    temp = temp.sort_values(col)\n",
        "    temp.reset_index(inplace=True)\n",
        "    plt.subplot(15, 4, counter)\n",
        "    plt.scatter(temp.index, temp.state.rolling(1000).mean(), s=2)\n",
        "    plt.xlabel(col)\n",
        "    plt.xticks([])\n",
        "    counter = counter +1\n",
        "plt.show()"
      ]
    },
    {
      "cell_type": "markdown",
      "metadata": {
        "id": "HDhx6KSizyki"
      },
      "source": [
        "3.2.1.5 | Особенности Std\n",
        "В этом случае мы можем наблюдать одну потенциальную особенность. Это случай sensor_02_std. Глядя на оси y, мы можем оценить, что значение разницы довольно велико."
      ]
    },
    {
      "cell_type": "code",
      "execution_count": null,
      "metadata": {
        "colab": {
          "background_save": true
        },
        "id": "KZsSbK8qz6Sr"
      },
      "outputs": [],
      "source": [
        "max_df = pd.DataFrame({'state':state})\n",
        "max_cols = [col for col in df_data.columns if '_std' in col]\n",
        "for col in max_cols:\n",
        "    values=[]\n",
        "    for i in length:\n",
        "         values.append(df_train.at[60*i,col])\n",
        "    max_df[col] = values\n",
        "            \n",
        "plt.subplots(1, 4, sharey=True, sharex=True, figsize=(20, 25))\n",
        "counter = 1\n",
        "for col in max_df.drop('state',axis=1).columns:\n",
        "    temp = pd.DataFrame({col: max_df[col].values,\n",
        "                        'state': max_df['state']})\n",
        "    \n",
        "    temp = temp.sort_values(col)\n",
        "    temp.reset_index(inplace=True)\n",
        "    plt.subplot(15, 4, counter)\n",
        "    plt.scatter(temp.index, temp.state.rolling(1000).mean(), s=2)\n",
        "    plt.xlabel(col)\n",
        "    plt.xticks([])\n",
        "    counter = counter +1\n",
        "plt.show()"
      ]
    },
    {
      "cell_type": "markdown",
      "metadata": {
        "id": "c49JmQtHz-LK"
      },
      "source": [
        "3.2.1.6 | Особенности эксцесса\n",
        "Безусловно, функции эксцесса являются лучшими. Мы можем наблюдать множество потенциальных возможностей. Это, например, случай sensor_04_kurtosis. Глядя на оси y, мы можем оценить, что значение разницы невероятно велико."
      ]
    },
    {
      "cell_type": "code",
      "execution_count": null,
      "metadata": {
        "colab": {
          "background_save": true
        },
        "id": "XmEzMYnb0Gpa"
      },
      "outputs": [],
      "source": [
        "max_df = pd.DataFrame({'state':state})\n",
        "max_cols = [col for col in df_data.columns if '_kurtosis' in col]\n",
        "for col in max_cols:\n",
        "    values=[]\n",
        "    for i in length:\n",
        "         values.append(df_train.at[60*i,col])\n",
        "    max_df[col] = values\n",
        "            \n",
        "plt.subplots(1, 4, sharey=True, sharex=True, figsize=(20, 25))\n",
        "counter = 1\n",
        "for col in max_df.drop('state',axis=1).columns:\n",
        "    temp = pd.DataFrame({col: max_df[col].values,\n",
        "                        'state': max_df['state']})\n",
        "    \n",
        "    temp = temp.sort_values(col)\n",
        "    temp.reset_index(inplace=True)\n",
        "    plt.subplot(15, 4, counter)\n",
        "    plt.scatter(temp.index, temp.state.rolling(1000).mean(), s=2)\n",
        "    plt.xlabel(col)\n",
        "    plt.xticks([])\n",
        "    counter = counter +1\n",
        "plt.show()"
      ]
    },
    {
      "cell_type": "markdown",
      "metadata": {
        "id": "2mPqydzY0KXh"
      },
      "source": [
        "3.2.1.7 | Функции переворота\n",
        "Мы можем заметить, что функции flip для нас совершенно бесполезны. Они получают на сегодняшний день наименьшее значение разницы между 𝑦𝑚𝑎𝑥−𝑦𝑚𝑖𝑛 ."
      ]
    },
    {
      "cell_type": "code",
      "execution_count": null,
      "metadata": {
        "colab": {
          "background_save": true
        },
        "id": "nbsIUhEs0Spa"
      },
      "outputs": [],
      "source": [
        "max_df = pd.DataFrame({'state':state})\n",
        "max_cols = [col for col in df_data.columns if '_flip' in col]\n",
        "for col in max_cols:\n",
        "    values=[]\n",
        "    for i in length:\n",
        "         values.append(df_train.at[60*i,col])\n",
        "    max_df[col] = values\n",
        "            \n",
        "plt.subplots(1, 4, sharey=True, sharex=True, figsize=(20, 25))\n",
        "counter = 1\n",
        "for col in max_df.drop('state',axis=1).columns:\n",
        "    temp = pd.DataFrame({col: max_df[col].values,\n",
        "                        'state': max_df['state']})\n",
        "    \n",
        "    temp = temp.sort_values(col)\n",
        "    temp.reset_index(inplace=True)\n",
        "    plt.subplot(15, 4, counter)\n",
        "    plt.scatter(temp.index, temp.state.rolling(1000).mean(), s=2)\n",
        "    plt.xlabel(col)\n",
        "    plt.xticks([])\n",
        "    counter = counter +1\n",
        "plt.show()"
      ]
    },
    {
      "cell_type": "markdown",
      "metadata": {
        "id": "pglQyrZF0WaZ"
      },
      "source": [
        "📌 Интерпретация: мы можем сделать следующие выводы после анализа предыдущего графика, построенного:\n",
        "\n",
        "Функции эксцесса, по-видимому, работают лучше, так как они получили самые высокие значения разницы между максимальными и минимальными значениями.\n",
        "Функция стандартного отклонения для датчика 2 является одной из лучших.\n",
        "Среднее и медианное значения кажутся бесполезными функциями.\n",
        "Принимая во внимание все вышесказанное, мы собираемся отказаться от следующих функций:"
      ]
    },
    {
      "cell_type": "code",
      "execution_count": null,
      "metadata": {
        "colab": {
          "background_save": true
        },
        "id": "ZRG6ghM70fcK"
      },
      "outputs": [],
      "source": [
        "max_col = [col for col in df_data.columns if '_max' in col]\n",
        "min_col = [col for col in df_data.columns if '_min' in col]\n",
        "mean_col = [col for col in df_data.columns if '_mean' in col]\n",
        "mean_col.remove('sensor_04_mean')\n",
        "median_col = [col for col in df_data.columns if '_median' in col]\n",
        "std_col = [col for col in df_data.columns if '_std' in col]\n",
        "std_col.remove('sensor_02_std')\n",
        "kurtosis_col = [col for col in df_data.columns if '_kurtosis' in col]\n",
        "kurtosis_col.remove('sensor_10_kurtosis')\n",
        "kurtosis_col.remove('sensor_04_kurtosis')\n",
        "flip_col = [col for col in df_data.columns if '_flip' in col]\n",
        "\n",
        "# Drop useless features\n",
        "df_data = df_data.drop(max_col, axis=1)\n",
        "df_data = df_data.drop(min_col, axis=1)\n",
        "df_data = df_data.drop(mean_col, axis=1)\n",
        "df_data = df_data.drop(std_col, axis=1)\n",
        "df_data = df_data.drop(median_col, axis=1)\n",
        "df_data = df_data.drop(kurtosis_col, axis=1)\n",
        "df_data = df_data.drop(flip_col, axis=1)"
      ]
    },
    {
      "cell_type": "markdown",
      "metadata": {
        "id": "QoRXTt5-0kj5"
      },
      "source": [
        "3.3 | Особенности временных рядов\n",
        "\n",
        "3.3.1 | Особенности задержки. Автокорреляция (ACF). Частичная автокорреляция (PACF)\n",
        "Автокорреляция - Функция автокорреляции (ACF) измеряет, как ряд коррелирует сам с собой с различными задержками.\n",
        "Частичная автокорреляция - функция частичной автокорреляции может быть интерпретирована как регрессия ряда относительно его прошлых лагов. Эти термины можно интерпретировать так же, как стандартную линейную регрессию, то есть вклад изменения в этом конкретном лаге при сохранении других постоянными.\n",
        "Запаздывание временного ряда означает смещение его значений вперед на один или несколько временных шагов или, что эквивалентно, смещение времени в его индексе назад на один или несколько шагов. В любом случае эффект заключается в том, что наблюдения в запаздывающих рядах, по-видимому, произошли позже по времени. Здесь мы создали функцию задержки на 1 шаг, хотя возможен сдвиг на несколько шагов."
      ]
    },
    {
      "cell_type": "code",
      "execution_count": null,
      "metadata": {
        "colab": {
          "background_save": true
        },
        "id": "HXUUHUqS0ujR"
      },
      "outputs": [],
      "source": [
        "from statsmodels.graphics.tsaplots import plot_acf, plot_pacf\n",
        "#plot_acf(df_data['sensor_02'],lags=2,title=\"Sensor 2\")\n",
        "#plot_pacf(df_data['sensor_03'],lags=2,title=\"Sensor 2\")"
      ]
    },
    {
      "cell_type": "code",
      "execution_count": null,
      "metadata": {
        "colab": {
          "background_save": true
        },
        "id": "pGOHqV-S03Wa"
      },
      "outputs": [],
      "source": [
        "for sensor in range(13):\n",
        "    sensor_name = f\"sensor_{sensor:02d}\"    \n",
        "    df_data[f\"{sensor_name}\" + '_lag1'] = df_data.groupby('sequence')[f\"{sensor_name}\"].shift(1)  \n",
        "    df_data[f\"{sensor_name}\" + '_lag1'].fillna(0, inplace=True)\n",
        "    df_data[f\"{sensor_name}\" + '_diff1'] = df_data[f\"{sensor_name}\"] - df_data[f\"{sensor_name}\" + '_lag1']\n",
        "    #df_data[f\"{sensor_name}\" + '_flip'] = df_data[f\"{sensor_name}\"] * -1"
      ]
    },
    {
      "cell_type": "markdown",
      "metadata": {
        "id": "aN4j2h-G0zCQ"
      },
      "source": [
        "4 | Modeling"
      ]
    },
    {
      "cell_type": "code",
      "execution_count": null,
      "metadata": {
        "colab": {
          "background_save": true
        },
        "id": "tuL2meYjzWMJ"
      },
      "outputs": [],
      "source": [
        "features = df_data.columns.tolist()[3:]\n",
        "sc = StandardScaler()\n",
        "\n",
        "train_df = df_data[df_data.state.isnull() == False]\n",
        "test_df = df_data[df_data.state.isnull() == True]\n",
        "\n",
        "train_df[features] = sc.fit_transform(train_df[features])\n",
        "test_df[features] = sc.transform(test_df[features])\n",
        "\n",
        "groups = train_df[\"sequence\"]\n",
        "train_labels = pd.read_csv('/content/drive/MyDrive/my_databases/tabular-playground-series-apr-2022/train_labels.csv')\n",
        "labels = train_labels[\"state\"]\n",
        "\n",
        "train_df = train_df.drop([\"sequence\", \"subject\", \"step\",'state'], axis=1).values\n",
        "train_df = train_df.reshape(-1, 60, train_df.shape[-1])\n",
        "\n",
        "test_df = test_df.drop([\"sequence\", \"subject\", \"step\",'state'], axis=1).values\n",
        "test_df = test_df.reshape(-1, 60, test_df.shape[-1])"
      ]
    },
    {
      "cell_type": "code",
      "execution_count": null,
      "metadata": {
        "colab": {
          "background_save": true
        },
        "id": "uxdYHLay2Oni"
      },
      "outputs": [],
      "source": [
        "try:\n",
        "    tpu = tf.distribute.cluster_resolver.TPUClusterResolver()\n",
        "    tf.config.experimental_connect_to_cluster(tpu)\n",
        "    tf.tpu.experimental.initialize_tpu_system(tpu)\n",
        "    tpu_strategy = tf.distribute.experimental.TPUStrategy(tpu)\n",
        "    BATCH_SIZE = tpu_strategy.num_replicas_in_sync * 64\n",
        "    print(\"Running on TPU:\", tpu.master())\n",
        "    print(f\"Batch Size: {BATCH_SIZE}\")\n",
        "    \n",
        "except ValueError:\n",
        "    strategy = tf.distribute.get_strategy()\n",
        "    BATCH_SIZE = 256\n",
        "    print(f\"Running on {strategy.num_replicas_in_sync} replicas\")\n",
        "    print(f\"Batch Size: {BATCH_SIZE}\")\n",
        "    \n",
        "def dnn_model():\n",
        "    \n",
        "    x_input = Input(shape=(train_df.shape[-2:]))\n",
        "    \n",
        "    x1 = Bidirectional(LSTM(units=512, return_sequences=True))(x_input)\n",
        "    x2 = Bidirectional(LSTM(units=256, return_sequences=True))(x1)\n",
        "    z1 = Bidirectional(GRU(units=256, return_sequences=True))(x1)\n",
        "    \n",
        "    c = Concatenate(axis=2)([x2, z1])\n",
        "    \n",
        "    x3 = Bidirectional(LSTM(units=128, return_sequences=True))(c)\n",
        "    \n",
        "    x4 = GlobalMaxPooling1D()(x3)\n",
        "    x5 = Dense(units=128, activation='selu')(x4)\n",
        "    x_output = Dense(1, activation='sigmoid')(x5)\n",
        "\n",
        "    model = Model(inputs=x_input, outputs=x_output, name='lstm_model')\n",
        "    \n",
        "    return model\n",
        "\n",
        "model = dnn_model()\n",
        "clear_output()\n",
        "plot_model(model, show_shapes=True)"
      ]
    },
    {
      "cell_type": "code",
      "execution_count": null,
      "metadata": {
        "colab": {
          "background_save": true
        },
        "id": "NJpsMXh32fee"
      },
      "outputs": [],
      "source": [
        "def plotHist(hist):\n",
        "    plt.plot(hist.history[\"auc\"])\n",
        "    plt.plot(hist.history[\"val_auc\"])\n",
        "    plt.title(\"model performance\")\n",
        "    plt.ylabel(\"area_under_curve\")\n",
        "    plt.xlabel(\"epoch\")\n",
        "    plt.legend([\"train\", \"validation\"], loc=\"upper left\")\n",
        "    plt.show()\n",
        "    return"
      ]
    },
    {
      "cell_type": "code",
      "execution_count": null,
      "metadata": {
        "colab": {
          "background_save": true
        },
        "id": "hY7XD1pE2kIl"
      },
      "outputs": [],
      "source": [
        "with tpu_strategy.scope():\n",
        "    VERBOSE = True\n",
        "    predictions, scores = [], []\n",
        "    k = GroupKFold(n_splits = 10)\n",
        "\n",
        "    for fold, (train_idx, val_idx) in enumerate(k.split(train_df, labels, groups.unique())):\n",
        "        print('-'*15, '>', f'Fold {fold+1}', '<', '-'*15)\n",
        "    \n",
        "        X_train, X_val = train_df[train_idx], train_df[val_idx]\n",
        "        y_train, y_val = labels.iloc[train_idx].values, labels.iloc[val_idx].values\n",
        "        \n",
        "        model = dnn_model()\n",
        "        model.compile(optimizer=\"adam\", loss=\"binary_crossentropy\", metrics='AUC')\n",
        "\n",
        "        lr = ReduceLROnPlateau(monitor=\"val_auc\", factor=0.6, \n",
        "                               patience=4, verbose=VERBOSE)\n",
        "\n",
        "        es = EarlyStopping(monitor=\"val_auc\", patience=2, \n",
        "                           verbose=VERBOSE, mode=\"max\", \n",
        "                           restore_best_weights=True)\n",
        "        \n",
        "        save_locally = tf.saved_model.SaveOptions(experimental_io_device='/job:localhost')\n",
        "        chk_point = ModelCheckpoint(f'./TPS_model_2022_{fold+1}C.h5', options=save_locally, \n",
        "                                    monitor='val_auc', verbose=VERBOSE, \n",
        "                                    save_best_only=True, mode='max')\n",
        "        \n",
        "        history = model.fit(X_train, y_train, \n",
        "                  validation_data=(X_val, y_val), \n",
        "                  epochs=15,\n",
        "                  verbose=VERBOSE,\n",
        "                  batch_size=BATCH_SIZE, \n",
        "                  callbacks=[lr, chk_point, es])\n",
        "        \n",
        "        load_locally = tf.saved_model.LoadOptions(experimental_io_device='/job:localhost')\n",
        "        model = load_model(f'./TPS_model_2022_{fold+1}C.h5', options=load_locally)\n",
        "        \n",
        "        y_pred = model.predict(X_val, batch_size=BATCH_SIZE).squeeze()\n",
        "        score = roc_auc_score(y_val, y_pred)\n",
        "        scores.append(score)\n",
        "        predictions.append(model.predict(test_df, batch_size=BATCH_SIZE).squeeze())\n",
        "        print(f\"Fold-{fold+1} | OOF Score: {score}\")\n",
        "        \n",
        "        history_df = pd.DataFrame(history.history)\n",
        "        history_df.loc[:, ['loss', 'val_loss']].plot();\n",
        "        plt.title(f\"{fold+1}\")\n",
        "        print(\"Minimum validation loss: {}\".format(history_df['val_loss'].min()))\n",
        "    \n",
        "    print(f'Mean accuracy on {k.n_splits} folds - {np.mean(scores)}')"
      ]
    },
    {
      "cell_type": "code",
      "execution_count": null,
      "metadata": {
        "colab": {
          "background_save": true
        },
        "id": "I7zieA1z2v6B"
      },
      "outputs": [],
      "source": [
        "ssub = pd.read_csv('/content/drive/MyDrive/my_databases/tabular-playground-series-apr-2022/sample_submission.csv')\n",
        "ssub[\"state\"] = sum(predictions)/k.n_splits \n",
        "ssub.to_csv('submission.csv', index=False)\n",
        "ssub.head(3)"
      ]
    },
    {
      "cell_type": "code",
      "execution_count": null,
      "metadata": {
        "colab": {
          "background_save": true
        },
        "id": "XtF_bQ1m2ShJ"
      },
      "outputs": [],
      "source": [
        ""
      ]
    }
  ],
  "metadata": {
    "accelerator": "GPU",
    "colab": {
      "collapsed_sections": [],
      "name": "Временные ряды апрель 2022 вариант 2",
      "provenance": [],
      "authorship_tag": "ABX9TyNw1/RxMzKTcp4EzKI+gHab",
      "include_colab_link": true
    },
    "kernelspec": {
      "display_name": "Python 3",
      "name": "python3"
    },
    "language_info": {
      "name": "python"
    }
  },
  "nbformat": 4,
  "nbformat_minor": 0
}